{
 "cells": [
  {
   "cell_type": "markdown",
   "id": "6e3bff09-bcb5-4faf-a8cf-83b8f4a20fad",
   "metadata": {},
   "source": [
    "# 8.2 Tensorflow and Keras"
   ]
  },
  {
   "cell_type": "code",
   "execution_count": 3,
   "id": "58fb9b2c-c53e-47e5-9f9d-a1002da0c56a",
   "metadata": {},
   "outputs": [],
   "source": [
    "import tensorflow as tf\n",
    "from tensorflow import keras\n",
    "\n",
    "import numpy as np\n",
    "import matplotlib.pyplot as plt\n",
    "\n",
    "%matplotlib inline"
   ]
  },
  {
   "cell_type": "code",
   "execution_count": 4,
   "id": "dd32095c-6123-4243-abb0-13d88df61e8f",
   "metadata": {},
   "outputs": [
    {
     "name": "stdout",
     "output_type": "stream",
     "text": [
      "[PhysicalDevice(name='/physical_device:GPU:0', device_type='GPU')]\n"
     ]
    }
   ],
   "source": [
    "print(tf.config.list_physical_devices('GPU'))"
   ]
  },
  {
   "cell_type": "code",
   "execution_count": 5,
   "id": "bb307196-8b28-464a-af10-3e54239f4243",
   "metadata": {},
   "outputs": [],
   "source": [
    "# for loading images\n",
    "from tensorflow.keras.preprocessing.image import load_img"
   ]
  },
  {
   "cell_type": "code",
   "execution_count": 6,
   "id": "c1d8f3c8-43b8-4126-b35f-c5a50d7b6b37",
   "metadata": {},
   "outputs": [],
   "source": [
    "path = \"clothing-dataset-small/train/t-shirt\"\n",
    "name = \"00003aeb-ace5-43bf-9a0c-dc31a03e9cd2.jpg\"\n",
    "fullname = f'{path}/{name}'\n",
    "img = load_img(fullname, target_size=(299, 299))"
   ]
  },
  {
   "cell_type": "code",
   "execution_count": 7,
   "id": "579396c3-2076-4ef3-abfd-c1657b37d275",
   "metadata": {},
   "outputs": [
    {
     "name": "stdout",
     "output_type": "stream",
     "text": [
      "<PIL.Image.Image image mode=RGB size=299x299 at 0x7916F258DD60>\n"
     ]
    }
   ],
   "source": [
    "print(img)"
   ]
  },
  {
   "cell_type": "code",
   "execution_count": 8,
   "id": "a1f2187b-b829-4181-8070-6b9474d06641",
   "metadata": {},
   "outputs": [
    {
     "data": {
      "text/plain": [
       "(299, 299, 3)"
      ]
     },
     "execution_count": 8,
     "metadata": {},
     "output_type": "execute_result"
    }
   ],
   "source": [
    "# we can see this image as a numpy array due to how theyre represented internally (matrices of RGB)\n",
    "x = np.array(img)\n",
    "x.shape"
   ]
  },
  {
   "cell_type": "markdown",
   "id": "116498fc-5b1b-4bc3-8b6e-f1ed4e6627c9",
   "metadata": {},
   "source": [
    "# 8.3 Pre-trained Convolutional Neural Networks"
   ]
  },
  {
   "cell_type": "code",
   "execution_count": 9,
   "id": "ee33d208-5a9b-4b1b-96a1-f907959dfd6d",
   "metadata": {},
   "outputs": [],
   "source": [
    "from tensorflow.keras.applications.xception import Xception\n",
    "from tensorflow.keras.applications.xception import preprocess_input\n",
    "from tensorflow.keras.applications.xception import decode_predictions"
   ]
  },
  {
   "cell_type": "code",
   "execution_count": 13,
   "id": "48a99d0d-8ac4-4e9b-9e14-bfb303caf813",
   "metadata": {},
   "outputs": [
    {
     "data": {
      "text/plain": [
       "(1, 299, 299, 3)"
      ]
     },
     "execution_count": 13,
     "metadata": {},
     "output_type": "execute_result"
    }
   ],
   "source": [
    "# xception mdoel from keras\n",
    "model = Xception(\n",
    "    weights=\"imagenet\",\n",
    "    input_shape=(299,299,3)\n",
    ")\n",
    "\n",
    "# array of images\n",
    "X = np.array([x])\n",
    "X.shape"
   ]
  },
  {
   "cell_type": "code",
   "execution_count": 14,
   "id": "575ee15b-99ca-441e-aeb3-80d0e9e0cb99",
   "metadata": {},
   "outputs": [
    {
     "data": {
      "text/plain": [
       "array([[[-0.18431371, -0.84313726, -0.92156863],\n",
       "        [-0.17647058, -0.8352941 , -0.9137255 ],\n",
       "        [-0.17647058, -0.8352941 , -0.9137255 ],\n",
       "        ...,\n",
       "        [-0.6627451 , -0.7254902 , -0.7411765 ],\n",
       "        [-0.67058825, -0.73333335, -0.7490196 ],\n",
       "        [-0.69411767, -0.75686276, -0.77254903]],\n",
       "\n",
       "       [[-0.17647058, -0.8352941 , -0.9137255 ],\n",
       "        [-0.17647058, -0.8352941 , -0.9137255 ],\n",
       "        [-0.16862744, -0.827451  , -0.90588236],\n",
       "        ...,\n",
       "        [-0.6784314 , -0.7411765 , -0.75686276],\n",
       "        [-0.6784314 , -0.7411765 , -0.75686276],\n",
       "        [-0.6862745 , -0.7490196 , -0.7647059 ]],\n",
       "\n",
       "       [[-0.16862744, -0.827451  , -0.90588236],\n",
       "        [-0.16862744, -0.827451  , -0.90588236],\n",
       "        [-0.1607843 , -0.81960785, -0.8980392 ],\n",
       "        ...,\n",
       "        [-0.67058825, -0.73333335, -0.7490196 ],\n",
       "        [-0.6784314 , -0.7411765 , -0.75686276],\n",
       "        [-0.7019608 , -0.7647059 , -0.78039217]],\n",
       "\n",
       "       ...,\n",
       "\n",
       "       [[-0.3098039 , -0.47450978, -0.6862745 ],\n",
       "        [-0.27843136, -0.44313723, -0.654902  ],\n",
       "        [-0.30196077, -0.46666664, -0.6784314 ],\n",
       "        ...,\n",
       "        [-0.8509804 , -0.94509804, -0.94509804],\n",
       "        [-0.8509804 , -0.94509804, -0.94509804],\n",
       "        [-0.8509804 , -0.94509804, -0.94509804]],\n",
       "\n",
       "       [[-0.3098039 , -0.47450978, -0.6862745 ],\n",
       "        [-0.30196077, -0.46666664, -0.6784314 ],\n",
       "        [-0.3333333 , -0.4980392 , -0.70980394],\n",
       "        ...,\n",
       "        [-0.827451  , -0.92156863, -0.92156863],\n",
       "        [-0.827451  , -0.92156863, -0.92156863],\n",
       "        [-0.827451  , -0.92156863, -0.92156863]],\n",
       "\n",
       "       [[-0.32549018, -0.49019605, -0.7019608 ],\n",
       "        [-0.2862745 , -0.45098037, -0.6627451 ],\n",
       "        [-0.3098039 , -0.47450978, -0.6862745 ],\n",
       "        ...,\n",
       "        [-0.827451  , -0.92156863, -0.92156863],\n",
       "        [-0.827451  , -0.92156863, -0.92156863],\n",
       "        [-0.827451  , -0.92156863, -0.92156863]]], dtype=float32)"
      ]
     },
     "execution_count": 14,
     "metadata": {},
     "output_type": "execute_result"
    }
   ],
   "source": [
    "X = preprocess_input(X)\n",
    "X[0]"
   ]
  },
  {
   "cell_type": "code",
   "execution_count": 17,
   "id": "1263007d-e6fa-4528-81f6-4d191e276bc8",
   "metadata": {},
   "outputs": [
    {
     "name": "stdout",
     "output_type": "stream",
     "text": [
      "\u001b[1m1/1\u001b[0m \u001b[32m━━━━━━━━━━━━━━━━━━━━\u001b[0m\u001b[37m\u001b[0m \u001b[1m0s\u001b[0m 24ms/step\n"
     ]
    },
    {
     "data": {
      "text/plain": [
       "(1, 1000)"
      ]
     },
     "execution_count": 17,
     "metadata": {},
     "output_type": "execute_result"
    }
   ],
   "source": [
    "pred = model.predict(X)\n",
    "pred.shape"
   ]
  },
  {
   "cell_type": "code",
   "execution_count": 18,
   "id": "b2efbd6f-d61f-495a-add2-dc0bed36a70a",
   "metadata": {},
   "outputs": [
    {
     "data": {
      "text/plain": [
       "[[('n03595614', 'jersey', 0.88808084),\n",
       "  ('n03710637', 'maillot', 0.0068297414),\n",
       "  ('n04456115', 'torch', 0.0064490745),\n",
       "  ('n02730930', 'apron', 0.00592232),\n",
       "  ('n04235860', 'sleeping_bag', 0.005410174)]]"
      ]
     },
     "execution_count": 18,
     "metadata": {},
     "output_type": "execute_result"
    }
   ],
   "source": [
    "decode_predictions(pred)"
   ]
  },
  {
   "cell_type": "markdown",
   "id": "03c7fa4a-daef-4de8-b598-66628efe19a1",
   "metadata": {},
   "source": [
    "# 8.4 Convolutional Neural Networks"
   ]
  },
  {
   "cell_type": "markdown",
   "id": "171bf4bf-7730-4596-bef7-cbeb825b9c0b",
   "metadata": {},
   "source": [
    "Convolutional Layers consist of filters(like small images). These images contain simple shapes(like lines).\n",
    "\n",
    "Sliding a filter onto an image gets us a feature map that represents the filter's similarity to the parts(pixels) of the image. This means that there is one(1) feature map per filter.\n",
    "\n",
    "Passing an image to a CNN layer will produce a vector representation of the image.\n",
    "\n",
    "After turning the image into a vector by using the convolutional layers, we can use the dense layers to make the final prediction. Basically, the role of dense layers is to make the prediction. It is called the dense layer because of how dense the connections are in this phase of the neural network. For example, the input(features from vector) is connected to every output(in a multiclass classification). *You can have multiple dense layers*\n",
    "\n",
    "In the case of identifying whether the object in the image is a t-shirt, the dense layer will make use of binary classification techniques.\n",
    "\n",
    "Sidenote: Sigmoid for multiple classes is called **SOFTMAX**"
   ]
  },
  {
   "cell_type": "markdown",
   "id": "ec451c60-47fb-46c9-acbe-8414e8e67bf5",
   "metadata": {},
   "source": [
    "# 8.5 Transfer Learning"
   ]
  },
  {
   "cell_type": "markdown",
   "id": "4c3b25be-8b0d-44d9-b63d-6c406c13abe2",
   "metadata": {},
   "source": [
    "Remember, **convolutional layers** are generic while the **dense layers** are specific to the dataset. That said, we would like to train here the dense layers to achieve what we want. That is, predicting the type of clothing the object in an image is."
   ]
  },
  {
   "cell_type": "code",
   "execution_count": 19,
   "id": "1a48ceb6-2529-45da-9ad2-07421fca27aa",
   "metadata": {},
   "outputs": [],
   "source": [
    "from tensorflow.keras.preprocessing.image import ImageDataGenerator"
   ]
  },
  {
   "cell_type": "code",
   "execution_count": 20,
   "id": "ab635c12-a5d0-4d0b-b6c7-70bcedde0217",
   "metadata": {},
   "outputs": [
    {
     "name": "stdout",
     "output_type": "stream",
     "text": [
      "Found 3070 images belonging to 10 classes.\n"
     ]
    }
   ],
   "source": [
    "train_gen = ImageDataGenerator(preprocessing_function=preprocess_input)\n",
    "train_ds = train_gen.flow_from_directory('clothing-dataset-small/train', \n",
    "                              target_size=(150, 150), \n",
    "                              batch_size=32)"
   ]
  },
  {
   "cell_type": "code",
   "execution_count": 21,
   "id": "adb7b16c-0599-4394-bc66-5ad6d08192cc",
   "metadata": {},
   "outputs": [
    {
     "data": {
      "text/plain": [
       "{'dress': 0,\n",
       " 'hat': 1,\n",
       " 'longsleeve': 2,\n",
       " 'outwear': 3,\n",
       " 'pants': 4,\n",
       " 'shirt': 5,\n",
       " 'shoes': 6,\n",
       " 'shorts': 7,\n",
       " 'skirt': 8,\n",
       " 't-shirt': 9}"
      ]
     },
     "execution_count": 21,
     "metadata": {},
     "output_type": "execute_result"
    }
   ],
   "source": [
    "train_ds.class_indices"
   ]
  },
  {
   "cell_type": "code",
   "execution_count": 22,
   "id": "19c40374-f1e6-40c3-a5d6-0df251fed152",
   "metadata": {},
   "outputs": [],
   "source": [
    "X, y = next(train_ds)"
   ]
  },
  {
   "cell_type": "code",
   "execution_count": 23,
   "id": "d82cd12d-7d03-4e08-8a18-5a60908fe117",
   "metadata": {},
   "outputs": [
    {
     "data": {
      "text/plain": [
       "array([[0., 0., 0., 0., 1., 0., 0., 0., 0., 0.],\n",
       "       [0., 0., 0., 0., 0., 0., 0., 1., 0., 0.],\n",
       "       [0., 0., 0., 0., 1., 0., 0., 0., 0., 0.],\n",
       "       [0., 0., 0., 0., 0., 0., 1., 0., 0., 0.],\n",
       "       [1., 0., 0., 0., 0., 0., 0., 0., 0., 0.]], dtype=float32)"
      ]
     },
     "execution_count": 23,
     "metadata": {},
     "output_type": "execute_result"
    }
   ],
   "source": [
    "y[:5]"
   ]
  },
  {
   "cell_type": "markdown",
   "id": "1df2fb0d-c560-43b6-b718-a1870d973634",
   "metadata": {},
   "source": [
    "It can be seen that it uses *one-hot encoding* for the label"
   ]
  },
  {
   "cell_type": "code",
   "execution_count": 24,
   "id": "5e12120b-cc27-4b85-9b29-9aa500ac43ae",
   "metadata": {},
   "outputs": [
    {
     "name": "stdout",
     "output_type": "stream",
     "text": [
      "Found 341 images belonging to 10 classes.\n"
     ]
    }
   ],
   "source": [
    "val_gen = ImageDataGenerator(preprocessing_function=preprocess_input)\n",
    "val_ds = val_gen.flow_from_directory('clothing-dataset-small/validation', \n",
    "                              target_size=(150, 150), \n",
    "                              batch_size=32, \n",
    "                              shuffle=False)"
   ]
  },
  {
   "cell_type": "code",
   "execution_count": 25,
   "id": "bd563721-8670-46d6-8fc6-a129798f87b7",
   "metadata": {},
   "outputs": [],
   "source": [
    "# set include_top false to not include the dense layers in training\n",
    "base_model = Xception(weights=\"imagenet\", \n",
    "                      include_top=False, \n",
    "                      input_shape=(150, 150, 3))\n",
    "base_model.trainable = False\n",
    "\n",
    "inputs = keras.Input(shape=(150, 150, 3))\n",
    "\n",
    "base = base_model(inputs, training=False)\n",
    "\n",
    "vectors = keras.layers.GlobalAveragePooling2D()(base)\n",
    "\n",
    "outputs = keras.layers.Dense(10)(vectors)\n",
    "\n",
    "model = keras.Model(inputs, outputs)"
   ]
  },
  {
   "cell_type": "code",
   "execution_count": 26,
   "id": "f9070a3c-d3a3-4b13-b2b5-5eeb543a46ba",
   "metadata": {},
   "outputs": [
    {
     "data": {
      "text/plain": [
       "<Functional name=functional, built=True>"
      ]
     },
     "execution_count": 26,
     "metadata": {},
     "output_type": "execute_result"
    }
   ],
   "source": [
    "model"
   ]
  },
  {
   "cell_type": "code",
   "execution_count": 28,
   "id": "776483f9-0f96-4d3e-bde3-09b36fd4434d",
   "metadata": {},
   "outputs": [
    {
     "name": "stdout",
     "output_type": "stream",
     "text": [
      "<class 'keras.src.models.functional.Functional'>\n"
     ]
    }
   ],
   "source": [
    "print(type(model))"
   ]
  },
  {
   "cell_type": "code",
   "execution_count": 29,
   "id": "fe41f99b-416c-4b15-9c82-d5c1768443bc",
   "metadata": {},
   "outputs": [],
   "source": [
    "learning_rate = 0.01\n",
    "optimizer = keras.optimizers.Adam(learning_rate=learning_rate)\n",
    "\n",
    "loss = keras.losses.CategoricalCrossentropy(from_logits=True)"
   ]
  },
  {
   "cell_type": "code",
   "execution_count": 30,
   "id": "10e7eada-9f1a-4a04-88a7-2594e00a5fdf",
   "metadata": {},
   "outputs": [],
   "source": [
    "model.compile(optimizer=optimizer, \n",
    "              loss=loss, \n",
    "              metrics=['accuracy'])"
   ]
  },
  {
   "cell_type": "code",
   "execution_count": 31,
   "id": "1e810630-6e0c-4def-8bcd-48f56e45a892",
   "metadata": {},
   "outputs": [
    {
     "name": "stdout",
     "output_type": "stream",
     "text": [
      "Epoch 1/10\n"
     ]
    },
    {
     "name": "stderr",
     "output_type": "stream",
     "text": [
      "/home/kabs/miniconda3/envs/tf/lib/python3.9/site-packages/keras/src/trainers/data_adapters/py_dataset_adapter.py:121: UserWarning: Your `PyDataset` class should call `super().__init__(**kwargs)` in its constructor. `**kwargs` can include `workers`, `use_multiprocessing`, `max_queue_size`. Do not pass these arguments to `fit()`, as they will be ignored.\n",
      "  self._warn_if_super_not_called()\n",
      "WARNING: All log messages before absl::InitializeLog() is called are written to STDERR\n",
      "I0000 00:00:1733409503.114859   31476 asm_compiler.cc:369] ptxas warning : Registers are spilled to local memory in function 'triton_gemm_dot_3717', 52 bytes spill stores, 52 bytes spill loads\n",
      "\n",
      "I0000 00:00:1733409503.135597   31475 asm_compiler.cc:369] ptxas warning : Registers are spilled to local memory in function 'triton_gemm_dot_3717', 352 bytes spill stores, 352 bytes spill loads\n",
      "\n"
     ]
    },
    {
     "name": "stdout",
     "output_type": "stream",
     "text": [
      "\u001b[1m95/96\u001b[0m \u001b[32m━━━━━━━━━━━━━━━━━━━\u001b[0m\u001b[37m━\u001b[0m \u001b[1m0s\u001b[0m 27ms/step - accuracy: 0.5761 - loss: 1.7553"
     ]
    },
    {
     "name": "stderr",
     "output_type": "stream",
     "text": [
      "I0000 00:00:1733409510.947017   31526 asm_compiler.cc:369] ptxas warning : Registers are spilled to local memory in function 'triton_gemm_dot_3717', 116 bytes spill stores, 116 bytes spill loads\n",
      "\n",
      "I0000 00:00:1733409511.108378   31523 asm_compiler.cc:369] ptxas warning : Registers are spilled to local memory in function 'triton_gemm_dot_3717', 424 bytes spill stores, 348 bytes spill loads\n",
      "\n"
     ]
    },
    {
     "name": "stdout",
     "output_type": "stream",
     "text": [
      "\u001b[1m96/96\u001b[0m \u001b[32m━━━━━━━━━━━━━━━━━━━━\u001b[0m\u001b[37m\u001b[0m \u001b[1m0s\u001b[0m 82ms/step - accuracy: 0.5771 - loss: 1.7503"
     ]
    },
    {
     "name": "stderr",
     "output_type": "stream",
     "text": [
      "I0000 00:00:1733409517.555159   31622 asm_compiler.cc:369] ptxas warning : Registers are spilled to local memory in function 'triton_gemm_dot_1042', 116 bytes spill stores, 116 bytes spill loads\n",
      "\n",
      "I0000 00:00:1733409517.658389   31617 asm_compiler.cc:369] ptxas warning : Registers are spilled to local memory in function 'triton_gemm_dot_1042', 424 bytes spill stores, 348 bytes spill loads\n",
      "\n"
     ]
    },
    {
     "name": "stdout",
     "output_type": "stream",
     "text": [
      "\u001b[1m96/96\u001b[0m \u001b[32m━━━━━━━━━━━━━━━━━━━━\u001b[0m\u001b[37m\u001b[0m \u001b[1m21s\u001b[0m 143ms/step - accuracy: 0.5781 - loss: 1.7453 - val_accuracy: 0.7449 - val_loss: 0.9210\n",
      "Epoch 2/10\n",
      "\u001b[1m96/96\u001b[0m \u001b[32m━━━━━━━━━━━━━━━━━━━━\u001b[0m\u001b[37m\u001b[0m \u001b[1m3s\u001b[0m 31ms/step - accuracy: 0.8167 - loss: 0.5713 - val_accuracy: 0.7566 - val_loss: 1.1106\n",
      "Epoch 3/10\n",
      "\u001b[1m96/96\u001b[0m \u001b[32m━━━━━━━━━━━━━━━━━━━━\u001b[0m\u001b[37m\u001b[0m \u001b[1m3s\u001b[0m 31ms/step - accuracy: 0.8772 - loss: 0.3610 - val_accuracy: 0.7977 - val_loss: 0.8800\n",
      "Epoch 4/10\n",
      "\u001b[1m96/96\u001b[0m \u001b[32m━━━━━━━━━━━━━━━━━━━━\u001b[0m\u001b[37m\u001b[0m \u001b[1m3s\u001b[0m 30ms/step - accuracy: 0.9143 - loss: 0.2302 - val_accuracy: 0.7771 - val_loss: 1.0471\n",
      "Epoch 5/10\n",
      "\u001b[1m96/96\u001b[0m \u001b[32m━━━━━━━━━━━━━━━━━━━━\u001b[0m\u001b[37m\u001b[0m \u001b[1m3s\u001b[0m 31ms/step - accuracy: 0.9362 - loss: 0.1659 - val_accuracy: 0.7977 - val_loss: 0.9025\n",
      "Epoch 6/10\n",
      "\u001b[1m96/96\u001b[0m \u001b[32m━━━━━━━━━━━━━━━━━━━━\u001b[0m\u001b[37m\u001b[0m \u001b[1m3s\u001b[0m 30ms/step - accuracy: 0.9707 - loss: 0.0923 - val_accuracy: 0.8006 - val_loss: 0.8839\n",
      "Epoch 7/10\n",
      "\u001b[1m96/96\u001b[0m \u001b[32m━━━━━━━━━━━━━━━━━━━━\u001b[0m\u001b[37m\u001b[0m \u001b[1m3s\u001b[0m 31ms/step - accuracy: 0.9804 - loss: 0.0625 - val_accuracy: 0.7889 - val_loss: 1.0643\n",
      "Epoch 8/10\n",
      "\u001b[1m96/96\u001b[0m \u001b[32m━━━━━━━━━━━━━━━━━━━━\u001b[0m\u001b[37m\u001b[0m \u001b[1m3s\u001b[0m 32ms/step - accuracy: 0.9701 - loss: 0.0885 - val_accuracy: 0.7918 - val_loss: 0.9776\n",
      "Epoch 9/10\n",
      "\u001b[1m96/96\u001b[0m \u001b[32m━━━━━━━━━━━━━━━━━━━━\u001b[0m\u001b[37m\u001b[0m \u001b[1m3s\u001b[0m 30ms/step - accuracy: 0.9829 - loss: 0.0587 - val_accuracy: 0.8182 - val_loss: 0.8609\n",
      "Epoch 10/10\n",
      "\u001b[1m96/96\u001b[0m \u001b[32m━━━━━━━━━━━━━━━━━━━━\u001b[0m\u001b[37m\u001b[0m \u001b[1m3s\u001b[0m 30ms/step - accuracy: 0.9927 - loss: 0.0341 - val_accuracy: 0.8182 - val_loss: 0.8784\n"
     ]
    }
   ],
   "source": [
    "history = model.fit(train_ds, epochs=10, validation_data=val_ds)"
   ]
  },
  {
   "cell_type": "code",
   "execution_count": 32,
   "id": "a5a468d2-2055-4324-bf96-03223514e209",
   "metadata": {},
   "outputs": [
    {
     "data": {
      "image/png": "[encoded data removed]",
      "text/plain": [
       "<Figure size 640x480 with 1 Axes>"
      ]
     },
     "metadata": {},
     "output_type": "display_data"
    }
   ],
   "source": [
    "# plt.plot(history.history['accuracy'], label='train')\n",
    "plt.plot(history.history['val_accuracy'], label='validation')\n",
    "plt.legend();"
   ]
  },
  {
   "cell_type": "markdown",
   "id": "1d17b597-3233-4558-96eb-30ea85b49cff",
   "metadata": {},
   "source": [
    "# 8.6 Learning Rate"
   ]
  },
  {
   "cell_type": "code",
   "execution_count": 33,
   "id": "0d661a74-b1d8-4a21-ba5b-e4972adbd9d1",
   "metadata": {},
   "outputs": [],
   "source": [
    "def make_model(learning_rate=0.01):\n",
    "    # set include_top false to not include the dense layers in training\n",
    "    base_model = Xception(weights=\"imagenet\", \n",
    "                          include_top=False, \n",
    "                          input_shape=(150, 150, 3))\n",
    "    base_model.trainable = False\n",
    "    \n",
    "    ###################################\n",
    "    ### architecture here(flow of data\n",
    "    inputs = keras.Input(shape=(150, 150, 3))\n",
    "    \n",
    "    base = base_model(inputs, training=False)\n",
    "    \n",
    "    vectors = keras.layers.GlobalAveragePooling2D()(base)\n",
    "    \n",
    "    outputs = keras.layers.Dense(10)(vectors)\n",
    "    \n",
    "    model = keras.Model(inputs, outputs)\n",
    "\n",
    "    ###################################\n",
    "    \n",
    "    optimizer = keras.optimizers.Adam(learning_rate=learning_rate)\n",
    "    loss = keras.losses.CategoricalCrossentropy(from_logits=True)\n",
    "\n",
    "    model.compile(optimizer=optimizer, \n",
    "              loss=loss, \n",
    "              metrics=['accuracy'])\n",
    "    \n",
    "    return model"
   ]
  },
  {
   "cell_type": "code",
   "execution_count": 34,
   "id": "577067fe-cf59-488c-9c71-d57517e85bea",
   "metadata": {},
   "outputs": [
    {
     "name": "stdout",
     "output_type": "stream",
     "text": [
      "0.0001\n",
      "Epoch 1/10\n",
      "\u001b[1m96/96\u001b[0m \u001b[32m━━━━━━━━━━━━━━━━━━━━\u001b[0m\u001b[37m\u001b[0m \u001b[1m8s\u001b[0m 56ms/step - accuracy: 0.2697 - loss: 2.1066 - val_accuracy: 0.4604 - val_loss: 1.6229\n",
      "Epoch 2/10\n",
      "\u001b[1m96/96\u001b[0m \u001b[32m━━━━━━━━━━━━━━━━━━━━\u001b[0m\u001b[37m\u001b[0m \u001b[1m3s\u001b[0m 30ms/step - accuracy: 0.5393 - loss: 1.4406 - val_accuracy: 0.6129 - val_loss: 1.2692\n",
      "Epoch 3/10\n",
      "\u001b[1m96/96\u001b[0m \u001b[32m━━━━━━━━━━━━━━━━━━━━\u001b[0m\u001b[37m\u001b[0m \u001b[1m3s\u001b[0m 30ms/step - accuracy: 0.6258 - loss: 1.1609 - val_accuracy: 0.6745 - val_loss: 1.0886\n",
      "Epoch 4/10\n",
      "\u001b[1m96/96\u001b[0m \u001b[32m━━━━━━━━━━━━━━━━━━━━\u001b[0m\u001b[37m\u001b[0m \u001b[1m3s\u001b[0m 30ms/step - accuracy: 0.6832 - loss: 1.0089 - val_accuracy: 0.7155 - val_loss: 0.9758\n",
      "Epoch 5/10\n",
      "\u001b[1m96/96\u001b[0m \u001b[32m━━━━━━━━━━━━━━━━━━━━\u001b[0m\u001b[37m\u001b[0m \u001b[1m3s\u001b[0m 30ms/step - accuracy: 0.7139 - loss: 0.8929 - val_accuracy: 0.7273 - val_loss: 0.9005\n",
      "Epoch 6/10\n",
      "\u001b[1m96/96\u001b[0m \u001b[32m━━━━━━━━━━━━━━━━━━━━\u001b[0m\u001b[37m\u001b[0m \u001b[1m3s\u001b[0m 31ms/step - accuracy: 0.7393 - loss: 0.8317 - val_accuracy: 0.7419 - val_loss: 0.8503\n",
      "Epoch 7/10\n",
      "\u001b[1m96/96\u001b[0m \u001b[32m━━━━━━━━━━━━━━━━━━━━\u001b[0m\u001b[37m\u001b[0m \u001b[1m3s\u001b[0m 31ms/step - accuracy: 0.7484 - loss: 0.7824 - val_accuracy: 0.7449 - val_loss: 0.8086\n",
      "Epoch 8/10\n",
      "\u001b[1m96/96\u001b[0m \u001b[32m━━━━━━━━━━━━━━━━━━━━\u001b[0m\u001b[37m\u001b[0m \u001b[1m3s\u001b[0m 30ms/step - accuracy: 0.7642 - loss: 0.7478 - val_accuracy: 0.7566 - val_loss: 0.7777\n",
      "Epoch 9/10\n",
      "\u001b[1m96/96\u001b[0m \u001b[32m━━━━━━━━━━━━━━━━━━━━\u001b[0m\u001b[37m\u001b[0m \u001b[1m3s\u001b[0m 31ms/step - accuracy: 0.7795 - loss: 0.7176 - val_accuracy: 0.7625 - val_loss: 0.7503\n",
      "Epoch 10/10\n",
      "\u001b[1m96/96\u001b[0m \u001b[32m━━━━━━━━━━━━━━━━━━━━\u001b[0m\u001b[37m\u001b[0m \u001b[1m3s\u001b[0m 30ms/step - accuracy: 0.7731 - loss: 0.6982 - val_accuracy: 0.7742 - val_loss: 0.7283\n",
      "\n",
      "\n",
      "\n",
      "0.001\n",
      "Epoch 1/10\n",
      "\u001b[1m96/96\u001b[0m \u001b[32m━━━━━━━━━━━━━━━━━━━━\u001b[0m\u001b[37m\u001b[0m \u001b[1m8s\u001b[0m 60ms/step - accuracy: 0.5136 - loss: 1.4202 - val_accuracy: 0.7595 - val_loss: 0.7460\n",
      "Epoch 2/10\n",
      "\u001b[1m96/96\u001b[0m \u001b[32m━━━━━━━━━━━━━━━━━━━━\u001b[0m\u001b[37m\u001b[0m \u001b[1m3s\u001b[0m 31ms/step - accuracy: 0.7888 - loss: 0.6343 - val_accuracy: 0.8065 - val_loss: 0.6248\n",
      "Epoch 3/10\n",
      "\u001b[1m96/96\u001b[0m \u001b[32m━━━━━━━━━━━━━━━━━━━━\u001b[0m\u001b[37m\u001b[0m \u001b[1m3s\u001b[0m 31ms/step - accuracy: 0.8385 - loss: 0.4936 - val_accuracy: 0.8123 - val_loss: 0.5889\n",
      "Epoch 4/10\n",
      "\u001b[1m96/96\u001b[0m \u001b[32m━━━━━━━━━━━━━━━━━━━━\u001b[0m\u001b[37m\u001b[0m \u001b[1m3s\u001b[0m 32ms/step - accuracy: 0.8709 - loss: 0.4118 - val_accuracy: 0.8211 - val_loss: 0.5638\n",
      "Epoch 5/10\n",
      "\u001b[1m96/96\u001b[0m \u001b[32m━━━━━━━━━━━━━━━━━━━━\u001b[0m\u001b[37m\u001b[0m \u001b[1m3s\u001b[0m 32ms/step - accuracy: 0.8853 - loss: 0.3738 - val_accuracy: 0.8065 - val_loss: 0.5587\n",
      "Epoch 6/10\n",
      "\u001b[1m96/96\u001b[0m \u001b[32m━━━━━━━━━━━━━━━━━━━━\u001b[0m\u001b[37m\u001b[0m \u001b[1m3s\u001b[0m 32ms/step - accuracy: 0.9066 - loss: 0.3191 - val_accuracy: 0.8094 - val_loss: 0.5544\n",
      "Epoch 7/10\n",
      "\u001b[1m96/96\u001b[0m \u001b[32m━━━━━━━━━━━━━━━━━━━━\u001b[0m\u001b[37m\u001b[0m \u001b[1m3s\u001b[0m 33ms/step - accuracy: 0.9295 - loss: 0.2759 - val_accuracy: 0.8094 - val_loss: 0.5593\n",
      "Epoch 8/10\n",
      "\u001b[1m96/96\u001b[0m \u001b[32m━━━━━━━━━━━━━━━━━━━━\u001b[0m\u001b[37m\u001b[0m \u001b[1m3s\u001b[0m 32ms/step - accuracy: 0.9457 - loss: 0.2332 - val_accuracy: 0.8328 - val_loss: 0.5378\n",
      "Epoch 9/10\n",
      "\u001b[1m96/96\u001b[0m \u001b[32m━━━━━━━━━━━━━━━━━━━━\u001b[0m\u001b[37m\u001b[0m \u001b[1m3s\u001b[0m 31ms/step - accuracy: 0.9489 - loss: 0.2209 - val_accuracy: 0.8182 - val_loss: 0.5505\n",
      "Epoch 10/10\n",
      "\u001b[1m96/96\u001b[0m \u001b[32m━━━━━━━━━━━━━━━━━━━━\u001b[0m\u001b[37m\u001b[0m \u001b[1m3s\u001b[0m 31ms/step - accuracy: 0.9598 - loss: 0.2030 - val_accuracy: 0.8182 - val_loss: 0.5546\n",
      "\n",
      "\n",
      "\n",
      "0.01\n",
      "Epoch 1/10\n",
      "\u001b[1m96/96\u001b[0m \u001b[32m━━━━━━━━━━━━━━━━━━━━\u001b[0m\u001b[37m\u001b[0m \u001b[1m8s\u001b[0m 59ms/step - accuracy: 0.5806 - loss: 1.5204 - val_accuracy: 0.8065 - val_loss: 0.7542\n",
      "Epoch 2/10\n",
      "\u001b[1m96/96\u001b[0m \u001b[32m━━━━━━━━━━━━━━━━━━━━\u001b[0m\u001b[37m\u001b[0m \u001b[1m3s\u001b[0m 31ms/step - accuracy: 0.8185 - loss: 0.5697 - val_accuracy: 0.7947 - val_loss: 0.8174\n",
      "Epoch 3/10\n",
      "\u001b[1m96/96\u001b[0m \u001b[32m━━━━━━━━━━━━━━━━━━━━\u001b[0m\u001b[37m\u001b[0m \u001b[1m3s\u001b[0m 31ms/step - accuracy: 0.8842 - loss: 0.3593 - val_accuracy: 0.7889 - val_loss: 0.8361\n",
      "Epoch 4/10\n",
      "\u001b[1m96/96\u001b[0m \u001b[32m━━━━━━━━━━━━━━━━━━━━\u001b[0m\u001b[37m\u001b[0m \u001b[1m3s\u001b[0m 33ms/step - accuracy: 0.9270 - loss: 0.1981 - val_accuracy: 0.7742 - val_loss: 1.0153\n",
      "Epoch 5/10\n",
      "\u001b[1m96/96\u001b[0m \u001b[32m━━━━━━━━━━━━━━━━━━━━\u001b[0m\u001b[37m\u001b[0m \u001b[1m3s\u001b[0m 30ms/step - accuracy: 0.9333 - loss: 0.1714 - val_accuracy: 0.8006 - val_loss: 0.9267\n",
      "Epoch 6/10\n",
      "\u001b[1m96/96\u001b[0m \u001b[32m━━━━━━━━━━━━━━━━━━━━\u001b[0m\u001b[37m\u001b[0m \u001b[1m3s\u001b[0m 31ms/step - accuracy: 0.9731 - loss: 0.0857 - val_accuracy: 0.7918 - val_loss: 0.9219\n",
      "Epoch 7/10\n",
      "\u001b[1m96/96\u001b[0m \u001b[32m━━━━━━━━━━━━━━━━━━━━\u001b[0m\u001b[37m\u001b[0m \u001b[1m3s\u001b[0m 30ms/step - accuracy: 0.9770 - loss: 0.0687 - val_accuracy: 0.8182 - val_loss: 0.8508\n",
      "Epoch 8/10\n",
      "\u001b[1m96/96\u001b[0m \u001b[32m━━━━━━━━━━━━━━━━━━━━\u001b[0m\u001b[37m\u001b[0m \u001b[1m3s\u001b[0m 30ms/step - accuracy: 0.9924 - loss: 0.0362 - val_accuracy: 0.8152 - val_loss: 0.8666\n",
      "Epoch 9/10\n",
      "\u001b[1m96/96\u001b[0m \u001b[32m━━━━━━━━━━━━━━━━━━━━\u001b[0m\u001b[37m\u001b[0m \u001b[1m3s\u001b[0m 30ms/step - accuracy: 0.9915 - loss: 0.0363 - val_accuracy: 0.8123 - val_loss: 0.9622\n",
      "Epoch 10/10\n",
      "\u001b[1m96/96\u001b[0m \u001b[32m━━━━━━━━━━━━━━━━━━━━\u001b[0m\u001b[37m\u001b[0m \u001b[1m3s\u001b[0m 31ms/step - accuracy: 0.9860 - loss: 0.0474 - val_accuracy: 0.8211 - val_loss: 0.9758\n",
      "\n",
      "\n",
      "\n",
      "0.1\n",
      "Epoch 1/10\n",
      "\u001b[1m96/96\u001b[0m \u001b[32m━━━━━━━━━━━━━━━━━━━━\u001b[0m\u001b[37m\u001b[0m \u001b[1m8s\u001b[0m 59ms/step - accuracy: 0.5707 - loss: 13.5269 - val_accuracy: 0.6891 - val_loss: 8.8744\n",
      "Epoch 2/10\n",
      "\u001b[1m96/96\u001b[0m \u001b[32m━━━━━━━━━━━━━━━━━━━━\u001b[0m\u001b[37m\u001b[0m \u001b[1m3s\u001b[0m 31ms/step - accuracy: 0.7850 - loss: 4.2732 - val_accuracy: 0.7947 - val_loss: 7.1133\n",
      "Epoch 3/10\n",
      "\u001b[1m96/96\u001b[0m \u001b[32m━━━━━━━━━━━━━━━━━━━━\u001b[0m\u001b[37m\u001b[0m \u001b[1m3s\u001b[0m 30ms/step - accuracy: 0.8389 - loss: 3.1510 - val_accuracy: 0.7771 - val_loss: 7.4052\n",
      "Epoch 4/10\n",
      "\u001b[1m96/96\u001b[0m \u001b[32m━━━━━━━━━━━━━━━━━━━━\u001b[0m\u001b[37m\u001b[0m \u001b[1m3s\u001b[0m 30ms/step - accuracy: 0.8680 - loss: 2.5164 - val_accuracy: 0.7947 - val_loss: 8.2503\n",
      "Epoch 5/10\n",
      "\u001b[1m96/96\u001b[0m \u001b[32m━━━━━━━━━━━━━━━━━━━━\u001b[0m\u001b[37m\u001b[0m \u001b[1m3s\u001b[0m 30ms/step - accuracy: 0.8979 - loss: 1.9637 - val_accuracy: 0.7683 - val_loss: 9.7598\n",
      "Epoch 6/10\n",
      "\u001b[1m96/96\u001b[0m \u001b[32m━━━━━━━━━━━━━━━━━━━━\u001b[0m\u001b[37m\u001b[0m \u001b[1m3s\u001b[0m 30ms/step - accuracy: 0.9103 - loss: 1.8886 - val_accuracy: 0.7155 - val_loss: 11.7375\n",
      "Epoch 7/10\n",
      "\u001b[1m96/96\u001b[0m \u001b[32m━━━━━━━━━━━━━━━━━━━━\u001b[0m\u001b[37m\u001b[0m \u001b[1m3s\u001b[0m 30ms/step - accuracy: 0.9197 - loss: 1.3162 - val_accuracy: 0.7859 - val_loss: 9.4988\n",
      "Epoch 8/10\n",
      "\u001b[1m96/96\u001b[0m \u001b[32m━━━━━━━━━━━━━━━━━━━━\u001b[0m\u001b[37m\u001b[0m \u001b[1m3s\u001b[0m 30ms/step - accuracy: 0.9358 - loss: 1.2805 - val_accuracy: 0.7683 - val_loss: 10.8323\n",
      "Epoch 9/10\n",
      "\u001b[1m96/96\u001b[0m \u001b[32m━━━━━━━━━━━━━━━━━━━━\u001b[0m\u001b[37m\u001b[0m \u001b[1m3s\u001b[0m 31ms/step - accuracy: 0.9278 - loss: 1.3475 - val_accuracy: 0.7947 - val_loss: 10.5018\n",
      "Epoch 10/10\n",
      "\u001b[1m96/96\u001b[0m \u001b[32m━━━━━━━━━━━━━━━━━━━━\u001b[0m\u001b[37m\u001b[0m \u001b[1m3s\u001b[0m 30ms/step - accuracy: 0.9378 - loss: 1.2602 - val_accuracy: 0.8006 - val_loss: 9.6891\n",
      "\n",
      "\n",
      "\n"
     ]
    }
   ],
   "source": [
    "scores = {}\n",
    "\n",
    "for lr in [0.0001, 0.001, 0.01, 0.1]:\n",
    "    print(lr)\n",
    "    \n",
    "    model = make_model(lr)\n",
    "    history = model.fit(train_ds, epochs=10, validation_data=val_ds)\n",
    "    scores[lr] = history.history\n",
    "    \n",
    "    print(\"\\n\\n\")"
   ]
  },
  {
   "cell_type": "code",
   "execution_count": 35,
   "id": "809c9dd5-5077-486a-8222-b4e114ea8919",
   "metadata": {},
   "outputs": [
    {
     "data": {
      "image/png": "[encoded data removed]",
      "text/plain": [
       "<Figure size 640x480 with 1 Axes>"
      ]
     },
     "metadata": {},
     "output_type": "display_data"
    }
   ],
   "source": [
    "for lr, hst in scores.items():\n",
    "    plt.plot(hst['accuracy'], label=lr)\n",
    "plt.legend();"
   ]
  },
  {
   "cell_type": "code",
   "execution_count": 36,
   "id": "84baa2c8-0bc6-4416-9856-9e9622e9f079",
   "metadata": {},
   "outputs": [
    {
     "data": {
      "image/png": "[encoded data removed]",
      "text/plain": [
       "<Figure size 640x480 with 1 Axes>"
      ]
     },
     "metadata": {},
     "output_type": "display_data"
    }
   ],
   "source": [
    "for lr, hst in scores.items():\n",
    "    plt.plot(hst['val_accuracy'], label=lr)\n",
    "plt.xticks(np.arange(10))\n",
    "plt.legend();"
   ]
  },
  {
   "cell_type": "code",
   "execution_count": 37,
   "id": "c137faf1-04be-407e-bf09-775222462c64",
   "metadata": {},
   "outputs": [],
   "source": [
    "del scores[0.1]\n",
    "del scores[0.0001]"
   ]
  },
  {
   "cell_type": "code",
   "execution_count": 38,
   "id": "cc4d1539-3bb6-47da-904f-9ae20baedb0e",
   "metadata": {},
   "outputs": [],
   "source": [
    "learning_rate = 0.001"
   ]
  },
  {
   "cell_type": "markdown",
   "id": "2ae4cfec-8a0f-43b5-8dcf-ea080b0d025f",
   "metadata": {},
   "source": [
    "# 8.7 Checkpointing"
   ]
  },
  {
   "cell_type": "code",
   "execution_count": 39,
   "id": "fb462c18-21b6-4ca2-a8bf-a0da779f2f82",
   "metadata": {},
   "outputs": [
    {
     "data": {
      "text/plain": [
       "<Functional name=functional_4, built=True>"
      ]
     },
     "execution_count": 39,
     "metadata": {},
     "output_type": "execute_result"
    }
   ],
   "source": [
    "model"
   ]
  },
  {
   "cell_type": "code",
   "execution_count": 41,
   "id": "344ed73f-f46a-43ab-922d-5123a40eec33",
   "metadata": {},
   "outputs": [
    {
     "name": "stderr",
     "output_type": "stream",
     "text": [
      "WARNING:absl:You are saving your model as an HDF5 file via `model.save()` or `keras.saving.save_model(model)`. This file format is considered legacy. We recommend using instead the native Keras format, e.g. `model.save('my_model.keras')` or `keras.saving.save_model(model, 'my_model.keras')`. \n"
     ]
    }
   ],
   "source": [
    "model.save('model_v1.h5')"
   ]
  },
  {
   "cell_type": "code",
   "execution_count": null,
   "id": "f3bd9b7a-1352-4708-acb6-923fcd16f557",
   "metadata": {},
   "outputs": [],
   "source": [
    "keras.callbacks.ModelCheckpoint('xception_v1_{epoch:02d}_{val_accuracy:.3f}.h5')"
   ]
  },
  {
   "cell_type": "code",
   "execution_count": null,
   "id": "6bf46fc8-f888-4268-96ba-a899eb48fb2b",
   "metadata": {},
   "outputs": [],
   "source": []
  }
 ],
 "metadata": {
  "kernelspec": {
   "display_name": "Python 3 (ipykernel)",
   "language": "python",
   "name": "python3"
  },
  "language_info": {
   "codemirror_mode": {
    "name": "ipython",
    "version": 3
   },
   "file_extension": ".py",
   "mimetype": "text/x-python",
   "name": "python",
   "nbconvert_exporter": "python",
   "pygments_lexer": "ipython3",
   "version": "3.9.20"
  }
 },
 "nbformat": 4,
 "nbformat_minor": 5
}
