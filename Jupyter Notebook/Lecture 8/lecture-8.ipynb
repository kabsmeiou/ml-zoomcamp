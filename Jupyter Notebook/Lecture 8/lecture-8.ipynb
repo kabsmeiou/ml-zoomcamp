{
 "cells": [
  {
   "cell_type": "markdown",
   "id": "6e3bff09-bcb5-4faf-a8cf-83b8f4a20fad",
   "metadata": {},
   "source": [
    "# 8.2 Tensorflow and Keras"
   ]
  },
  {
   "cell_type": "code",
   "execution_count": 1,
   "id": "58fb9b2c-c53e-47e5-9f9d-a1002da0c56a",
   "metadata": {},
   "outputs": [
    {
     "name": "stderr",
     "output_type": "stream",
     "text": [
      "2024-12-12 19:40:26.772675: I tensorflow/core/platform/cpu_feature_guard.cc:210] This TensorFlow binary is optimized to use available CPU instructions in performance-critical operations.\n",
      "To enable the following instructions: AVX2 FMA, in other operations, rebuild TensorFlow with the appropriate compiler flags.\n"
     ]
    }
   ],
   "source": [
    "import tensorflow as tf\n",
    "from tensorflow import keras\n",
    "\n",
    "import numpy as np\n",
    "import matplotlib.pyplot as plt\n",
    "\n",
    "%matplotlib inline"
   ]
  },
  {
   "cell_type": "code",
   "execution_count": 2,
   "id": "dd32095c-6123-4243-abb0-13d88df61e8f",
   "metadata": {},
   "outputs": [
    {
     "name": "stdout",
     "output_type": "stream",
     "text": [
      "[PhysicalDevice(name='/physical_device:GPU:0', device_type='GPU')]\n"
     ]
    },
    {
     "name": "stderr",
     "output_type": "stream",
     "text": [
      "2024-12-12 19:40:28.090235: I external/local_xla/xla/stream_executor/cuda/cuda_executor.cc:998] successful NUMA node read from SysFS had negative value (-1), but there must be at least one NUMA node, so returning NUMA node zero. See more at https://github.com/torvalds/linux/blob/v6.0/Documentation/ABI/testing/sysfs-bus-pci#L344-L355\n",
      "2024-12-12 19:40:28.130720: I external/local_xla/xla/stream_executor/cuda/cuda_executor.cc:998] successful NUMA node read from SysFS had negative value (-1), but there must be at least one NUMA node, so returning NUMA node zero. See more at https://github.com/torvalds/linux/blob/v6.0/Documentation/ABI/testing/sysfs-bus-pci#L344-L355\n",
      "2024-12-12 19:40:28.130886: I external/local_xla/xla/stream_executor/cuda/cuda_executor.cc:998] successful NUMA node read from SysFS had negative value (-1), but there must be at least one NUMA node, so returning NUMA node zero. See more at https://github.com/torvalds/linux/blob/v6.0/Documentation/ABI/testing/sysfs-bus-pci#L344-L355\n"
     ]
    }
   ],
   "source": [
    "print(tf.config.list_physical_devices('GPU'))"
   ]
  },
  {
   "cell_type": "code",
   "execution_count": 3,
   "id": "bb307196-8b28-464a-af10-3e54239f4243",
   "metadata": {},
   "outputs": [],
   "source": [
    "# for loading images\n",
    "from tensorflow.keras.preprocessing.image import load_img"
   ]
  },
  {
   "cell_type": "code",
   "execution_count": 53,
   "id": "c1d8f3c8-43b8-4126-b35f-c5a50d7b6b37",
   "metadata": {},
   "outputs": [],
   "source": [
    "path = \"clothing-dataset-small/train/t-shirt\"\n",
    "name = \"00003aeb-ace5-43bf-9a0c-dc31a03e9cd2.jpg\"\n",
    "fullname = f'{path}/{name}'\n",
    "img = load_img(fullname, target_size=(299, 299))"
   ]
  },
  {
   "cell_type": "code",
   "execution_count": 7,
   "id": "579396c3-2076-4ef3-abfd-c1657b37d275",
   "metadata": {},
   "outputs": [
    {
     "name": "stdout",
     "output_type": "stream",
     "text": [
      "<PIL.Image.Image image mode=RGB size=299x299 at 0x723A1D1BD0D0>\n"
     ]
    }
   ],
   "source": [
    "print(img)"
   ]
  },
  {
   "cell_type": "code",
   "execution_count": 8,
   "id": "a1f2187b-b829-4181-8070-6b9474d06641",
   "metadata": {},
   "outputs": [
    {
     "data": {
      "text/plain": [
       "(299, 299, 3)"
      ]
     },
     "execution_count": 8,
     "metadata": {},
     "output_type": "execute_result"
    }
   ],
   "source": [
    "# we can see this image as a numpy array due to how theyre represented internally (matrices of RGB)\n",
    "x = np.array(img)\n",
    "x.shape"
   ]
  },
  {
   "cell_type": "markdown",
   "id": "116498fc-5b1b-4bc3-8b6e-f1ed4e6627c9",
   "metadata": {},
   "source": [
    "# 8.3 Pre-trained Convolutional Neural Networks"
   ]
  },
  {
   "cell_type": "code",
   "execution_count": 4,
   "id": "ee33d208-5a9b-4b1b-96a1-f907959dfd6d",
   "metadata": {},
   "outputs": [],
   "source": [
    "from tensorflow.keras.applications.xception import Xception\n",
    "from tensorflow.keras.applications.xception import preprocess_input\n",
    "from tensorflow.keras.applications.xception import decode_predictions"
   ]
  },
  {
   "cell_type": "code",
   "execution_count": 13,
   "id": "48a99d0d-8ac4-4e9b-9e14-bfb303caf813",
   "metadata": {},
   "outputs": [
    {
     "data": {
      "text/plain": [
       "(1, 299, 299, 3)"
      ]
     },
     "execution_count": 13,
     "metadata": {},
     "output_type": "execute_result"
    }
   ],
   "source": [
    "# xception mdoel from keras\n",
    "model = Xception(\n",
    "    weights=\"imagenet\",\n",
    "    input_shape=(299,299,3)\n",
    ")\n",
    "\n",
    "# array of images\n",
    "X = np.array([x])\n",
    "X.shape"
   ]
  },
  {
   "cell_type": "code",
   "execution_count": 14,
   "id": "575ee15b-99ca-441e-aeb3-80d0e9e0cb99",
   "metadata": {},
   "outputs": [
    {
     "data": {
      "text/plain": [
       "array([[[-0.18431371, -0.84313726, -0.92156863],\n",
       "        [-0.17647058, -0.8352941 , -0.9137255 ],\n",
       "        [-0.17647058, -0.8352941 , -0.9137255 ],\n",
       "        ...,\n",
       "        [-0.6627451 , -0.7254902 , -0.7411765 ],\n",
       "        [-0.67058825, -0.73333335, -0.7490196 ],\n",
       "        [-0.69411767, -0.75686276, -0.77254903]],\n",
       "\n",
       "       [[-0.17647058, -0.8352941 , -0.9137255 ],\n",
       "        [-0.17647058, -0.8352941 , -0.9137255 ],\n",
       "        [-0.16862744, -0.827451  , -0.90588236],\n",
       "        ...,\n",
       "        [-0.6784314 , -0.7411765 , -0.75686276],\n",
       "        [-0.6784314 , -0.7411765 , -0.75686276],\n",
       "        [-0.6862745 , -0.7490196 , -0.7647059 ]],\n",
       "\n",
       "       [[-0.16862744, -0.827451  , -0.90588236],\n",
       "        [-0.16862744, -0.827451  , -0.90588236],\n",
       "        [-0.1607843 , -0.81960785, -0.8980392 ],\n",
       "        ...,\n",
       "        [-0.67058825, -0.73333335, -0.7490196 ],\n",
       "        [-0.6784314 , -0.7411765 , -0.75686276],\n",
       "        [-0.7019608 , -0.7647059 , -0.78039217]],\n",
       "\n",
       "       ...,\n",
       "\n",
       "       [[-0.3098039 , -0.47450978, -0.6862745 ],\n",
       "        [-0.27843136, -0.44313723, -0.654902  ],\n",
       "        [-0.30196077, -0.46666664, -0.6784314 ],\n",
       "        ...,\n",
       "        [-0.8509804 , -0.94509804, -0.94509804],\n",
       "        [-0.8509804 , -0.94509804, -0.94509804],\n",
       "        [-0.8509804 , -0.94509804, -0.94509804]],\n",
       "\n",
       "       [[-0.3098039 , -0.47450978, -0.6862745 ],\n",
       "        [-0.30196077, -0.46666664, -0.6784314 ],\n",
       "        [-0.3333333 , -0.4980392 , -0.70980394],\n",
       "        ...,\n",
       "        [-0.827451  , -0.92156863, -0.92156863],\n",
       "        [-0.827451  , -0.92156863, -0.92156863],\n",
       "        [-0.827451  , -0.92156863, -0.92156863]],\n",
       "\n",
       "       [[-0.32549018, -0.49019605, -0.7019608 ],\n",
       "        [-0.2862745 , -0.45098037, -0.6627451 ],\n",
       "        [-0.3098039 , -0.47450978, -0.6862745 ],\n",
       "        ...,\n",
       "        [-0.827451  , -0.92156863, -0.92156863],\n",
       "        [-0.827451  , -0.92156863, -0.92156863],\n",
       "        [-0.827451  , -0.92156863, -0.92156863]]], dtype=float32)"
      ]
     },
     "execution_count": 14,
     "metadata": {},
     "output_type": "execute_result"
    }
   ],
   "source": [
    "X = preprocess_input(X)\n",
    "X[0]"
   ]
  },
  {
   "cell_type": "code",
   "execution_count": 17,
   "id": "1263007d-e6fa-4528-81f6-4d191e276bc8",
   "metadata": {},
   "outputs": [
    {
     "name": "stdout",
     "output_type": "stream",
     "text": [
      "\u001b[1m1/1\u001b[0m \u001b[32m━━━━━━━━━━━━━━━━━━━━\u001b[0m\u001b[37m\u001b[0m \u001b[1m0s\u001b[0m 24ms/step\n"
     ]
    },
    {
     "data": {
      "text/plain": [
       "(1, 1000)"
      ]
     },
     "execution_count": 17,
     "metadata": {},
     "output_type": "execute_result"
    }
   ],
   "source": [
    "pred = model.predict(X)\n",
    "pred.shape"
   ]
  },
  {
   "cell_type": "code",
   "execution_count": 18,
   "id": "b2efbd6f-d61f-495a-add2-dc0bed36a70a",
   "metadata": {},
   "outputs": [
    {
     "data": {
      "text/plain": [
       "[[('n03595614', 'jersey', 0.88808084),\n",
       "  ('n03710637', 'maillot', 0.0068297414),\n",
       "  ('n04456115', 'torch', 0.0064490745),\n",
       "  ('n02730930', 'apron', 0.00592232),\n",
       "  ('n04235860', 'sleeping_bag', 0.005410174)]]"
      ]
     },
     "execution_count": 18,
     "metadata": {},
     "output_type": "execute_result"
    }
   ],
   "source": [
    "decode_predictions(pred)"
   ]
  },
  {
   "cell_type": "markdown",
   "id": "03c7fa4a-daef-4de8-b598-66628efe19a1",
   "metadata": {},
   "source": [
    "# 8.4 Convolutional Neural Networks"
   ]
  },
  {
   "cell_type": "markdown",
   "id": "171bf4bf-7730-4596-bef7-cbeb825b9c0b",
   "metadata": {},
   "source": [
    "Convolutional Layers consist of filters(like small images). These images contain simple shapes(like lines).\n",
    "\n",
    "Sliding a filter onto an image gets us a feature map that represents the filter's similarity to the parts(pixels) of the image. This means that there is one(1) feature map per filter.\n",
    "\n",
    "Passing an image to a CNN layer will produce a vector representation of the image.\n",
    "\n",
    "After turning the image into a vector by using the convolutional layers, we can use the dense layers to make the final prediction. Basically, the role of dense layers is to make the prediction. It is called the dense layer because of how dense the connections are in this phase of the neural network. For example, the input(features from vector) is connected to every output(in a multiclass classification). *You can have multiple dense layers*\n",
    "\n",
    "In the case of identifying whether the object in the image is a t-shirt, the dense layer will make use of binary classification techniques.\n",
    "\n",
    "Sidenote: Sigmoid for multiple classes is called **SOFTMAX**"
   ]
  },
  {
   "cell_type": "markdown",
   "id": "ec451c60-47fb-46c9-acbe-8414e8e67bf5",
   "metadata": {},
   "source": [
    "# 8.5 Transfer Learning"
   ]
  },
  {
   "cell_type": "markdown",
   "id": "4c3b25be-8b0d-44d9-b63d-6c406c13abe2",
   "metadata": {},
   "source": [
    "Remember, **convolutional layers** are generic while the **dense layers** are specific to the dataset. That said, we would like to train here the dense layers to achieve what we want. That is, predicting the type of clothing the object in an image is."
   ]
  },
  {
   "cell_type": "code",
   "execution_count": 5,
   "id": "1a48ceb6-2529-45da-9ad2-07421fca27aa",
   "metadata": {},
   "outputs": [],
   "source": [
    "from tensorflow.keras.preprocessing.image import ImageDataGenerator"
   ]
  },
  {
   "cell_type": "code",
   "execution_count": 11,
   "id": "ab635c12-a5d0-4d0b-b6c7-70bcedde0217",
   "metadata": {},
   "outputs": [
    {
     "name": "stdout",
     "output_type": "stream",
     "text": [
      "Found 3070 images belonging to 10 classes.\n"
     ]
    }
   ],
   "source": [
    "train_gen = ImageDataGenerator(preprocessing_function=preprocess_input)\n",
    "train_ds = train_gen.flow_from_directory('clothing-dataset-small/train', \n",
    "                              target_size=(150, 150), \n",
    "                              batch_size=32)"
   ]
  },
  {
   "cell_type": "code",
   "execution_count": 12,
   "id": "adb7b16c-0599-4394-bc66-5ad6d08192cc",
   "metadata": {},
   "outputs": [
    {
     "data": {
      "text/plain": [
       "{'dress': 0,\n",
       " 'hat': 1,\n",
       " 'longsleeve': 2,\n",
       " 'outwear': 3,\n",
       " 'pants': 4,\n",
       " 'shirt': 5,\n",
       " 'shoes': 6,\n",
       " 'shorts': 7,\n",
       " 'skirt': 8,\n",
       " 't-shirt': 9}"
      ]
     },
     "execution_count": 12,
     "metadata": {},
     "output_type": "execute_result"
    }
   ],
   "source": [
    "train_ds.class_indices"
   ]
  },
  {
   "cell_type": "code",
   "execution_count": 13,
   "id": "19c40374-f1e6-40c3-a5d6-0df251fed152",
   "metadata": {},
   "outputs": [],
   "source": [
    "X, y = next(train_ds)"
   ]
  },
  {
   "cell_type": "code",
   "execution_count": 14,
   "id": "d82cd12d-7d03-4e08-8a18-5a60908fe117",
   "metadata": {},
   "outputs": [
    {
     "data": {
      "text/plain": [
       "array([[0., 0., 0., 0., 0., 0., 0., 0., 0., 1.],\n",
       "       [0., 0., 0., 1., 0., 0., 0., 0., 0., 0.],\n",
       "       [0., 0., 0., 1., 0., 0., 0., 0., 0., 0.],\n",
       "       [1., 0., 0., 0., 0., 0., 0., 0., 0., 0.],\n",
       "       [0., 0., 0., 0., 0., 0., 0., 1., 0., 0.]], dtype=float32)"
      ]
     },
     "execution_count": 14,
     "metadata": {},
     "output_type": "execute_result"
    }
   ],
   "source": [
    "y[:5]"
   ]
  },
  {
   "cell_type": "markdown",
   "id": "1df2fb0d-c560-43b6-b718-a1870d973634",
   "metadata": {},
   "source": [
    "It can be seen that it uses *one-hot encoding* for the label"
   ]
  },
  {
   "cell_type": "code",
   "execution_count": 15,
   "id": "5e12120b-cc27-4b85-9b29-9aa500ac43ae",
   "metadata": {},
   "outputs": [
    {
     "name": "stdout",
     "output_type": "stream",
     "text": [
      "Found 341 images belonging to 10 classes.\n"
     ]
    }
   ],
   "source": [
    "val_gen = ImageDataGenerator(preprocessing_function=preprocess_input)\n",
    "val_ds = val_gen.flow_from_directory('clothing-dataset-small/validation', \n",
    "                              target_size=(150, 150), \n",
    "                              batch_size=32, \n",
    "                              shuffle=False)"
   ]
  },
  {
   "cell_type": "code",
   "execution_count": 21,
   "id": "bd563721-8670-46d6-8fc6-a129798f87b7",
   "metadata": {},
   "outputs": [],
   "source": [
    "# set include_top false to not include the dense layers in training\n",
    "base_model = Xception(weights=\"imagenet\", \n",
    "                      include_top=False, \n",
    "                      input_shape=(150, 150, 3))\n",
    "base_model.trainable = False\n",
    "\n",
    "inputs = keras.Input(shape=(150, 150, 3))\n",
    "\n",
    "base = base_model(inputs, training=False)\n",
    "\n",
    "vectors = keras.layers.GlobalAveragePooling2D()(base)\n",
    "\n",
    "outputs = keras.layers.Dense(10)(vectors)\n",
    "\n",
    "model = keras.Model(inputs, outputs)"
   ]
  },
  {
   "cell_type": "code",
   "execution_count": 22,
   "id": "f9070a3c-d3a3-4b13-b2b5-5eeb543a46ba",
   "metadata": {},
   "outputs": [
    {
     "data": {
      "text/plain": [
       "<Functional name=functional, built=True>"
      ]
     },
     "execution_count": 22,
     "metadata": {},
     "output_type": "execute_result"
    }
   ],
   "source": [
    "model"
   ]
  },
  {
   "cell_type": "code",
   "execution_count": 23,
   "id": "776483f9-0f96-4d3e-bde3-09b36fd4434d",
   "metadata": {},
   "outputs": [
    {
     "name": "stdout",
     "output_type": "stream",
     "text": [
      "<class 'keras.src.models.functional.Functional'>\n"
     ]
    }
   ],
   "source": [
    "print(type(model))"
   ]
  },
  {
   "cell_type": "code",
   "execution_count": 24,
   "id": "fe41f99b-416c-4b15-9c82-d5c1768443bc",
   "metadata": {},
   "outputs": [],
   "source": [
    "learning_rate = 0.01\n",
    "optimizer = keras.optimizers.Adam(learning_rate=learning_rate)\n",
    "\n",
    "loss = keras.losses.CategoricalCrossentropy(from_logits=True)"
   ]
  },
  {
   "cell_type": "code",
   "execution_count": 28,
   "id": "10e7eada-9f1a-4a04-88a7-2594e00a5fdf",
   "metadata": {},
   "outputs": [],
   "source": [
    "model.compile(optimizer=optimizer, \n",
    "              loss=loss, \n",
    "              metrics=['accuracy'])"
   ]
  },
  {
   "cell_type": "code",
   "execution_count": 29,
   "id": "1e810630-6e0c-4def-8bcd-48f56e45a892",
   "metadata": {},
   "outputs": [
    {
     "name": "stdout",
     "output_type": "stream",
     "text": [
      "Epoch 1/10\n",
      "\u001b[1m96/96\u001b[0m \u001b[32m━━━━━━━━━━━━━━━━━━━━\u001b[0m\u001b[37m\u001b[0m \u001b[1m8s\u001b[0m 55ms/step - accuracy: 0.9976 - loss: 0.0181 - val_accuracy: 0.8152 - val_loss: 0.9389\n",
      "Epoch 2/10\n",
      "\u001b[1m96/96\u001b[0m \u001b[32m━━━━━━━━━━━━━━━━━━━━\u001b[0m\u001b[37m\u001b[0m \u001b[1m3s\u001b[0m 31ms/step - accuracy: 0.9992 - loss: 0.0142 - val_accuracy: 0.8006 - val_loss: 1.0422\n",
      "Epoch 3/10\n",
      "\u001b[1m96/96\u001b[0m \u001b[32m━━━━━━━━━━━━━━━━━━━━\u001b[0m\u001b[37m\u001b[0m \u001b[1m3s\u001b[0m 31ms/step - accuracy: 0.9852 - loss: 0.0441 - val_accuracy: 0.8094 - val_loss: 1.0165\n",
      "Epoch 4/10\n",
      "\u001b[1m96/96\u001b[0m \u001b[32m━━━━━━━━━━━━━━━━━━━━\u001b[0m\u001b[37m\u001b[0m \u001b[1m3s\u001b[0m 30ms/step - accuracy: 0.9799 - loss: 0.0683 - val_accuracy: 0.8270 - val_loss: 1.0263\n",
      "Epoch 5/10\n",
      "\u001b[1m96/96\u001b[0m \u001b[32m━━━━━━━━━━━━━━━━━━━━\u001b[0m\u001b[37m\u001b[0m \u001b[1m3s\u001b[0m 30ms/step - accuracy: 0.9882 - loss: 0.0301 - val_accuracy: 0.8006 - val_loss: 1.1633\n",
      "Epoch 6/10\n",
      "\u001b[1m96/96\u001b[0m \u001b[32m━━━━━━━━━━━━━━━━━━━━\u001b[0m\u001b[37m\u001b[0m \u001b[1m3s\u001b[0m 31ms/step - accuracy: 0.9821 - loss: 0.0542 - val_accuracy: 0.7625 - val_loss: 1.3350\n",
      "Epoch 7/10\n",
      "\u001b[1m96/96\u001b[0m \u001b[32m━━━━━━━━━━━━━━━━━━━━\u001b[0m\u001b[37m\u001b[0m \u001b[1m3s\u001b[0m 31ms/step - accuracy: 0.9363 - loss: 0.2238 - val_accuracy: 0.7683 - val_loss: 1.9514\n",
      "Epoch 8/10\n",
      "\u001b[1m96/96\u001b[0m \u001b[32m━━━━━━━━━━━━━━━━━━━━\u001b[0m\u001b[37m\u001b[0m \u001b[1m3s\u001b[0m 31ms/step - accuracy: 0.9229 - loss: 0.3165 - val_accuracy: 0.8035 - val_loss: 1.7705\n",
      "Epoch 9/10\n",
      "\u001b[1m96/96\u001b[0m \u001b[32m━━━━━━━━━━━━━━━━━━━━\u001b[0m\u001b[37m\u001b[0m \u001b[1m3s\u001b[0m 30ms/step - accuracy: 0.9570 - loss: 0.1407 - val_accuracy: 0.7771 - val_loss: 1.7129\n",
      "Epoch 10/10\n",
      "\u001b[1m96/96\u001b[0m \u001b[32m━━━━━━━━━━━━━━━━━━━━\u001b[0m\u001b[37m\u001b[0m \u001b[1m3s\u001b[0m 31ms/step - accuracy: 0.9700 - loss: 0.0910 - val_accuracy: 0.7801 - val_loss: 1.6531\n"
     ]
    }
   ],
   "source": [
    "history = model.fit(train_ds, epochs=10, validation_data=val_ds)"
   ]
  },
  {
   "cell_type": "code",
   "execution_count": 30,
   "id": "a5a468d2-2055-4324-bf96-03223514e209",
   "metadata": {},
   "outputs": [
    {
     "data": {
      "image/png": "[encoded data removed]",
      "text/plain": [
       "<Figure size 640x480 with 1 Axes>"
      ]
     },
     "metadata": {},
     "output_type": "display_data"
    }
   ],
   "source": [
    "# plt.plot(history.history['accuracy'], label='train')\n",
    "plt.plot(history.history['val_accuracy'], label='validation')\n",
    "plt.legend();"
   ]
  },
  {
   "cell_type": "markdown",
   "id": "1d17b597-3233-4558-96eb-30ea85b49cff",
   "metadata": {},
   "source": [
    "# 8.6 Learning Rate"
   ]
  },
  {
   "cell_type": "code",
   "execution_count": 6,
   "id": "0d661a74-b1d8-4a21-ba5b-e4972adbd9d1",
   "metadata": {},
   "outputs": [],
   "source": [
    "def make_model(learning_rate=0.01, size_inner=100, droprate=0.5):\n",
    "    # set include_top false to not include the dense layers in training\n",
    "    base_model = Xception(weights=\"imagenet\", \n",
    "                          include_top=False, \n",
    "                          input_shape=(150, 150, 3))\n",
    "    base_model.trainable = False\n",
    "    \n",
    "    ###################################\n",
    "    ### architecture here(flow of data\n",
    "    inputs = keras.Input(shape=(150, 150, 3))\n",
    "    base = base_model(inputs, training=False)\n",
    "    vectors = keras.layers.GlobalAveragePooling2D()(base)\n",
    "\n",
    "    # inner layer that takes the vectors\n",
    "    inner = keras.layers.Dense(size_inner, activation='relu')(vectors)\n",
    "    # add a dropout layer and pass the inner layer's output to it.\n",
    "    drop = keras.layers.Dropout(droprate)(inner)\n",
    "    \n",
    "    # take the inner layer outputs\n",
    "    outputs = keras.layers.Dense(10)(drop)\n",
    "    \n",
    "    model = keras.Model(inputs, outputs)\n",
    "\n",
    "    ###################################\n",
    "    \n",
    "    optimizer = keras.optimizers.Adam(learning_rate=learning_rate)\n",
    "    loss = keras.losses.CategoricalCrossentropy(from_logits=True)\n",
    "\n",
    "    model.compile(optimizer=optimizer, \n",
    "              loss=loss, \n",
    "              metrics=['accuracy'])\n",
    "    \n",
    "    return model"
   ]
  },
  {
   "cell_type": "code",
   "execution_count": 32,
   "id": "577067fe-cf59-488c-9c71-d57517e85bea",
   "metadata": {},
   "outputs": [
    {
     "name": "stdout",
     "output_type": "stream",
     "text": [
      "0.0001\n",
      "Epoch 1/10\n",
      "\u001b[1m96/96\u001b[0m \u001b[32m━━━━━━━━━━━━━━━━━━━━\u001b[0m\u001b[37m\u001b[0m \u001b[1m9s\u001b[0m 60ms/step - accuracy: 0.1760 - loss: 2.4037 - val_accuracy: 0.4604 - val_loss: 1.7044\n",
      "Epoch 2/10\n",
      "\u001b[1m96/96\u001b[0m \u001b[32m━━━━━━━━━━━━━━━━━━━━\u001b[0m\u001b[37m\u001b[0m \u001b[1m3s\u001b[0m 32ms/step - accuracy: 0.5182 - loss: 1.5302 - val_accuracy: 0.5806 - val_loss: 1.3228\n",
      "Epoch 3/10\n",
      "\u001b[1m96/96\u001b[0m \u001b[32m━━━━━━━━━━━━━━━━━━━━\u001b[0m\u001b[37m\u001b[0m \u001b[1m3s\u001b[0m 31ms/step - accuracy: 0.6073 - loss: 1.2191 - val_accuracy: 0.6540 - val_loss: 1.1240\n",
      "Epoch 4/10\n",
      "\u001b[1m96/96\u001b[0m \u001b[32m━━━━━━━━━━━━━━━━━━━━\u001b[0m\u001b[37m\u001b[0m \u001b[1m3s\u001b[0m 31ms/step - accuracy: 0.6740 - loss: 1.0487 - val_accuracy: 0.6921 - val_loss: 1.0088\n",
      "Epoch 5/10\n",
      "\u001b[1m96/96\u001b[0m \u001b[32m━━━━━━━━━━━━━━━━━━━━\u001b[0m\u001b[37m\u001b[0m \u001b[1m3s\u001b[0m 30ms/step - accuracy: 0.6909 - loss: 0.9575 - val_accuracy: 0.7185 - val_loss: 0.9222\n",
      "Epoch 6/10\n",
      "\u001b[1m96/96\u001b[0m \u001b[32m━━━━━━━━━━━━━━━━━━━━\u001b[0m\u001b[37m\u001b[0m \u001b[1m3s\u001b[0m 30ms/step - accuracy: 0.7195 - loss: 0.8758 - val_accuracy: 0.7361 - val_loss: 0.8693\n",
      "Epoch 7/10\n",
      "\u001b[1m96/96\u001b[0m \u001b[32m━━━━━━━━━━━━━━━━━━━━\u001b[0m\u001b[37m\u001b[0m \u001b[1m3s\u001b[0m 30ms/step - accuracy: 0.7415 - loss: 0.8075 - val_accuracy: 0.7419 - val_loss: 0.8229\n",
      "Epoch 8/10\n",
      "\u001b[1m96/96\u001b[0m \u001b[32m━━━━━━━━━━━━━━━━━━━━\u001b[0m\u001b[37m\u001b[0m \u001b[1m3s\u001b[0m 30ms/step - accuracy: 0.7532 - loss: 0.7661 - val_accuracy: 0.7625 - val_loss: 0.7906\n",
      "Epoch 9/10\n",
      "\u001b[1m96/96\u001b[0m \u001b[32m━━━━━━━━━━━━━━━━━━━━\u001b[0m\u001b[37m\u001b[0m \u001b[1m3s\u001b[0m 30ms/step - accuracy: 0.7769 - loss: 0.7140 - val_accuracy: 0.7625 - val_loss: 0.7644\n",
      "Epoch 10/10\n",
      "\u001b[1m96/96\u001b[0m \u001b[32m━━━━━━━━━━━━━━━━━━━━\u001b[0m\u001b[37m\u001b[0m \u001b[1m3s\u001b[0m 30ms/step - accuracy: 0.7729 - loss: 0.7047 - val_accuracy: 0.7713 - val_loss: 0.7408\n",
      "\n",
      "\n",
      "\n",
      "0.001\n",
      "Epoch 1/10\n",
      "\u001b[1m96/96\u001b[0m \u001b[32m━━━━━━━━━━━━━━━━━━━━\u001b[0m\u001b[37m\u001b[0m \u001b[1m8s\u001b[0m 55ms/step - accuracy: 0.5146 - loss: 1.4672 - val_accuracy: 0.7977 - val_loss: 0.6824\n",
      "Epoch 2/10\n",
      "\u001b[1m96/96\u001b[0m \u001b[32m━━━━━━━━━━━━━━━━━━━━\u001b[0m\u001b[37m\u001b[0m \u001b[1m3s\u001b[0m 30ms/step - accuracy: 0.7792 - loss: 0.6647 - val_accuracy: 0.8035 - val_loss: 0.6051\n",
      "Epoch 3/10\n",
      "\u001b[1m96/96\u001b[0m \u001b[32m━━━━━━━━━━━━━━━━━━━━\u001b[0m\u001b[37m\u001b[0m \u001b[1m3s\u001b[0m 30ms/step - accuracy: 0.8293 - loss: 0.4940 - val_accuracy: 0.8211 - val_loss: 0.5704\n",
      "Epoch 4/10\n",
      "\u001b[1m96/96\u001b[0m \u001b[32m━━━━━━━━━━━━━━━━━━━━\u001b[0m\u001b[37m\u001b[0m \u001b[1m3s\u001b[0m 30ms/step - accuracy: 0.8659 - loss: 0.4268 - val_accuracy: 0.8328 - val_loss: 0.5418\n",
      "Epoch 5/10\n",
      "\u001b[1m96/96\u001b[0m \u001b[32m━━━━━━━━━━━━━━━━━━━━\u001b[0m\u001b[37m\u001b[0m \u001b[1m3s\u001b[0m 30ms/step - accuracy: 0.8915 - loss: 0.3752 - val_accuracy: 0.8152 - val_loss: 0.5486\n",
      "Epoch 6/10\n",
      "\u001b[1m96/96\u001b[0m \u001b[32m━━━━━━━━━━━━━━━━━━━━\u001b[0m\u001b[37m\u001b[0m \u001b[1m3s\u001b[0m 30ms/step - accuracy: 0.9104 - loss: 0.3252 - val_accuracy: 0.8328 - val_loss: 0.5165\n",
      "Epoch 7/10\n",
      "\u001b[1m96/96\u001b[0m \u001b[32m━━━━━━━━━━━━━━━━━━━━\u001b[0m\u001b[37m\u001b[0m \u001b[1m3s\u001b[0m 30ms/step - accuracy: 0.9258 - loss: 0.2963 - val_accuracy: 0.8240 - val_loss: 0.5458\n",
      "Epoch 8/10\n",
      "\u001b[1m96/96\u001b[0m \u001b[32m━━━━━━━━━━━━━━━━━━━━\u001b[0m\u001b[37m\u001b[0m \u001b[1m3s\u001b[0m 30ms/step - accuracy: 0.9380 - loss: 0.2457 - val_accuracy: 0.8270 - val_loss: 0.5165\n",
      "Epoch 9/10\n",
      "\u001b[1m96/96\u001b[0m \u001b[32m━━━━━━━━━━━━━━━━━━━━\u001b[0m\u001b[37m\u001b[0m \u001b[1m3s\u001b[0m 30ms/step - accuracy: 0.9476 - loss: 0.2253 - val_accuracy: 0.8270 - val_loss: 0.5238\n",
      "Epoch 10/10\n",
      "\u001b[1m96/96\u001b[0m \u001b[32m━━━━━━━━━━━━━━━━━━━━\u001b[0m\u001b[37m\u001b[0m \u001b[1m3s\u001b[0m 30ms/step - accuracy: 0.9468 - loss: 0.2184 - val_accuracy: 0.8387 - val_loss: 0.5156\n",
      "\n",
      "\n",
      "\n",
      "0.01\n",
      "Epoch 1/10\n",
      "\u001b[1m96/96\u001b[0m \u001b[32m━━━━━━━━━━━━━━━━━━━━\u001b[0m\u001b[37m\u001b[0m \u001b[1m8s\u001b[0m 55ms/step - accuracy: 0.5561 - loss: 1.8160 - val_accuracy: 0.7654 - val_loss: 0.7639\n",
      "Epoch 2/10\n",
      "\u001b[1m96/96\u001b[0m \u001b[32m━━━━━━━━━━━━━━━━━━━━\u001b[0m\u001b[37m\u001b[0m \u001b[1m3s\u001b[0m 30ms/step - accuracy: 0.8316 - loss: 0.4863 - val_accuracy: 0.8211 - val_loss: 0.7778\n",
      "Epoch 3/10\n",
      "\u001b[1m96/96\u001b[0m \u001b[32m━━━━━━━━━━━━━━━━━━━━\u001b[0m\u001b[37m\u001b[0m \u001b[1m3s\u001b[0m 29ms/step - accuracy: 0.8823 - loss: 0.3361 - val_accuracy: 0.7859 - val_loss: 0.8557\n",
      "Epoch 4/10\n",
      "\u001b[1m96/96\u001b[0m \u001b[32m━━━━━━━━━━━━━━━━━━━━\u001b[0m\u001b[37m\u001b[0m \u001b[1m3s\u001b[0m 30ms/step - accuracy: 0.9185 - loss: 0.2130 - val_accuracy: 0.7830 - val_loss: 0.9168\n",
      "Epoch 5/10\n",
      "\u001b[1m96/96\u001b[0m \u001b[32m━━━━━━━━━━━━━━━━━━━━\u001b[0m\u001b[37m\u001b[0m \u001b[1m3s\u001b[0m 30ms/step - accuracy: 0.9278 - loss: 0.1934 - val_accuracy: 0.8152 - val_loss: 0.8321\n",
      "Epoch 6/10\n",
      "\u001b[1m96/96\u001b[0m \u001b[32m━━━━━━━━━━━━━━━━━━━━\u001b[0m\u001b[37m\u001b[0m \u001b[1m3s\u001b[0m 30ms/step - accuracy: 0.9575 - loss: 0.1192 - val_accuracy: 0.8123 - val_loss: 0.8092\n",
      "Epoch 7/10\n",
      "\u001b[1m96/96\u001b[0m \u001b[32m━━━━━━━━━━━━━━━━━━━━\u001b[0m\u001b[37m\u001b[0m \u001b[1m3s\u001b[0m 30ms/step - accuracy: 0.9772 - loss: 0.0730 - val_accuracy: 0.8094 - val_loss: 0.9349\n",
      "Epoch 8/10\n",
      "\u001b[1m96/96\u001b[0m \u001b[32m━━━━━━━━━━━━━━━━━━━━\u001b[0m\u001b[37m\u001b[0m \u001b[1m3s\u001b[0m 29ms/step - accuracy: 0.9652 - loss: 0.1017 - val_accuracy: 0.7918 - val_loss: 0.8980\n",
      "Epoch 9/10\n",
      "\u001b[1m96/96\u001b[0m \u001b[32m━━━━━━━━━━━━━━━━━━━━\u001b[0m\u001b[37m\u001b[0m \u001b[1m3s\u001b[0m 30ms/step - accuracy: 0.9866 - loss: 0.0434 - val_accuracy: 0.7977 - val_loss: 0.9807\n",
      "Epoch 10/10\n",
      "\u001b[1m96/96\u001b[0m \u001b[32m━━━━━━━━━━━━━━━━━━━━\u001b[0m\u001b[37m\u001b[0m \u001b[1m3s\u001b[0m 30ms/step - accuracy: 0.9938 - loss: 0.0359 - val_accuracy: 0.8123 - val_loss: 0.9996\n",
      "\n",
      "\n",
      "\n",
      "0.1\n",
      "Epoch 1/10\n",
      "\u001b[1m96/96\u001b[0m \u001b[32m━━━━━━━━━━━━━━━━━━━━\u001b[0m\u001b[37m\u001b[0m \u001b[1m8s\u001b[0m 56ms/step - accuracy: 0.5427 - loss: 14.9741 - val_accuracy: 0.6862 - val_loss: 8.5216\n",
      "Epoch 2/10\n",
      "\u001b[1m96/96\u001b[0m \u001b[32m━━━━━━━━━━━━━━━━━━━━\u001b[0m\u001b[37m\u001b[0m \u001b[1m3s\u001b[0m 31ms/step - accuracy: 0.7855 - loss: 4.3203 - val_accuracy: 0.7478 - val_loss: 7.7102\n",
      "Epoch 3/10\n",
      "\u001b[1m96/96\u001b[0m \u001b[32m━━━━━━━━━━━━━━━━━━━━\u001b[0m\u001b[37m\u001b[0m \u001b[1m3s\u001b[0m 31ms/step - accuracy: 0.8440 - loss: 3.0139 - val_accuracy: 0.7361 - val_loss: 8.4404\n",
      "Epoch 4/10\n",
      "\u001b[1m96/96\u001b[0m \u001b[32m━━━━━━━━━━━━━━━━━━━━\u001b[0m\u001b[37m\u001b[0m \u001b[1m3s\u001b[0m 31ms/step - accuracy: 0.8584 - loss: 2.9745 - val_accuracy: 0.7889 - val_loss: 8.4837\n",
      "Epoch 5/10\n",
      "\u001b[1m96/96\u001b[0m \u001b[32m━━━━━━━━━━━━━━━━━━━━\u001b[0m\u001b[37m\u001b[0m \u001b[1m3s\u001b[0m 31ms/step - accuracy: 0.8904 - loss: 2.3001 - val_accuracy: 0.7889 - val_loss: 7.5481\n",
      "Epoch 6/10\n",
      "\u001b[1m96/96\u001b[0m \u001b[32m━━━━━━━━━━━━━━━━━━━━\u001b[0m\u001b[37m\u001b[0m \u001b[1m3s\u001b[0m 30ms/step - accuracy: 0.9098 - loss: 1.8207 - val_accuracy: 0.8006 - val_loss: 7.5875\n",
      "Epoch 7/10\n",
      "\u001b[1m96/96\u001b[0m \u001b[32m━━━━━━━━━━━━━━━━━━━━\u001b[0m\u001b[37m\u001b[0m \u001b[1m3s\u001b[0m 32ms/step - accuracy: 0.9024 - loss: 1.7147 - val_accuracy: 0.7859 - val_loss: 9.8671\n",
      "Epoch 8/10\n",
      "\u001b[1m96/96\u001b[0m \u001b[32m━━━━━━━━━━━━━━━━━━━━\u001b[0m\u001b[37m\u001b[0m \u001b[1m3s\u001b[0m 32ms/step - accuracy: 0.9220 - loss: 1.4732 - val_accuracy: 0.7859 - val_loss: 9.0678\n",
      "Epoch 9/10\n",
      "\u001b[1m96/96\u001b[0m \u001b[32m━━━━━━━━━━━━━━━━━━━━\u001b[0m\u001b[37m\u001b[0m \u001b[1m3s\u001b[0m 31ms/step - accuracy: 0.9379 - loss: 1.0560 - val_accuracy: 0.7713 - val_loss: 12.0226\n",
      "Epoch 10/10\n",
      "\u001b[1m96/96\u001b[0m \u001b[32m━━━━━━━━━━━━━━━━━━━━\u001b[0m\u001b[37m\u001b[0m \u001b[1m3s\u001b[0m 30ms/step - accuracy: 0.9417 - loss: 1.1562 - val_accuracy: 0.7566 - val_loss: 12.3799\n",
      "\n",
      "\n",
      "\n"
     ]
    }
   ],
   "source": [
    "scores = {}\n",
    "\n",
    "for lr in [0.0001, 0.001, 0.01, 0.1]:\n",
    "    print(lr)\n",
    "    \n",
    "    model = make_model(lr)\n",
    "    history = model.fit(train_ds, epochs=10, validation_data=val_ds)\n",
    "    scores[lr] = history.history\n",
    "    \n",
    "    print(\"\\n\\n\")"
   ]
  },
  {
   "cell_type": "code",
   "execution_count": 36,
   "id": "809c9dd5-5077-486a-8222-b4e114ea8919",
   "metadata": {},
   "outputs": [
    {
     "data": {
      "image/png": "[encoded data removed]",
      "text/plain": [
       "<Figure size 640x480 with 1 Axes>"
      ]
     },
     "metadata": {},
     "output_type": "display_data"
    }
   ],
   "source": [
    "for lr, hst in scores.items():\n",
    "    plt.plot(hst['accuracy'], label=lr)\n",
    "plt.legend();"
   ]
  },
  {
   "cell_type": "code",
   "execution_count": 37,
   "id": "84baa2c8-0bc6-4416-9856-9e9622e9f079",
   "metadata": {},
   "outputs": [
    {
     "data": {
      "image/png": "[encoded data removed]",
      "text/plain": [
       "<Figure size 640x480 with 1 Axes>"
      ]
     },
     "metadata": {},
     "output_type": "display_data"
    }
   ],
   "source": [
    "for lr, hst in scores.items():\n",
    "    plt.plot(hst['val_accuracy'], label=lr)\n",
    "plt.xticks(np.arange(10))\n",
    "plt.legend();"
   ]
  },
  {
   "cell_type": "code",
   "execution_count": 9,
   "id": "cc4d1539-3bb6-47da-904f-9ae20baedb0e",
   "metadata": {},
   "outputs": [],
   "source": [
    "learning_rate = 0.001"
   ]
  },
  {
   "cell_type": "markdown",
   "id": "2ae4cfec-8a0f-43b5-8dcf-ea080b0d025f",
   "metadata": {},
   "source": [
    "# 8.7 Checkpointing"
   ]
  },
  {
   "cell_type": "code",
   "execution_count": 41,
   "id": "344ed73f-f46a-43ab-922d-5123a40eec33",
   "metadata": {},
   "outputs": [
    {
     "name": "stderr",
     "output_type": "stream",
     "text": [
      "WARNING:absl:You are saving your model as an HDF5 file via `model.save()` or `keras.saving.save_model(model)`. This file format is considered legacy. We recommend using instead the native Keras format, e.g. `model.save('my_model.keras')` or `keras.saving.save_model(model, 'my_model.keras')`. \n"
     ]
    }
   ],
   "source": [
    "model.save('model_v1.keras')"
   ]
  },
  {
   "cell_type": "code",
   "execution_count": 43,
   "id": "f3bd9b7a-1352-4708-acb6-923fcd16f557",
   "metadata": {},
   "outputs": [],
   "source": [
    "# save only when there's improvement with save_best_only=True\n",
    "checkpoint = keras.callbacks.ModelCheckpoint('xception_v1_{epoch:02d}_{val_accuracy:.3f}.keras',\n",
    "                               save_best_only=True,\n",
    "                               monitor='val_accuracy',\n",
    "                               mode='max')"
   ]
  },
  {
   "cell_type": "code",
   "execution_count": 44,
   "id": "6bf46fc8-f888-4268-96ba-a899eb48fb2b",
   "metadata": {},
   "outputs": [
    {
     "name": "stdout",
     "output_type": "stream",
     "text": [
      "Epoch 1/10\n",
      "\u001b[1m96/96\u001b[0m \u001b[32m━━━━━━━━━━━━━━━━━━━━\u001b[0m\u001b[37m\u001b[0m \u001b[1m8s\u001b[0m 59ms/step - accuracy: 0.4932 - loss: 1.4922 - val_accuracy: 0.7683 - val_loss: 0.7423\n",
      "Epoch 2/10\n",
      "\u001b[1m96/96\u001b[0m \u001b[32m━━━━━━━━━━━━━━━━━━━━\u001b[0m\u001b[37m\u001b[0m \u001b[1m3s\u001b[0m 34ms/step - accuracy: 0.7994 - loss: 0.6238 - val_accuracy: 0.8035 - val_loss: 0.6487\n",
      "Epoch 3/10\n",
      "\u001b[1m96/96\u001b[0m \u001b[32m━━━━━━━━━━━━━━━━━━━━\u001b[0m\u001b[37m\u001b[0m \u001b[1m3s\u001b[0m 31ms/step - accuracy: 0.8249 - loss: 0.5332 - val_accuracy: 0.8035 - val_loss: 0.6105\n",
      "Epoch 4/10\n",
      "\u001b[1m96/96\u001b[0m \u001b[32m━━━━━━━━━━━━━━━━━━━━\u001b[0m\u001b[37m\u001b[0m \u001b[1m3s\u001b[0m 34ms/step - accuracy: 0.8563 - loss: 0.4470 - val_accuracy: 0.8094 - val_loss: 0.5573\n",
      "Epoch 5/10\n",
      "\u001b[1m96/96\u001b[0m \u001b[32m━━━━━━━━━━━━━━━━━━━━\u001b[0m\u001b[37m\u001b[0m \u001b[1m3s\u001b[0m 33ms/step - accuracy: 0.8882 - loss: 0.3680 - val_accuracy: 0.8182 - val_loss: 0.5622\n",
      "Epoch 6/10\n",
      "\u001b[1m96/96\u001b[0m \u001b[32m━━━━━━━━━━━━━━━━━━━━\u001b[0m\u001b[37m\u001b[0m \u001b[1m3s\u001b[0m 33ms/step - accuracy: 0.9115 - loss: 0.3097 - val_accuracy: 0.8211 - val_loss: 0.5655\n",
      "Epoch 7/10\n",
      "\u001b[1m96/96\u001b[0m \u001b[32m━━━━━━━━━━━━━━━━━━━━\u001b[0m\u001b[37m\u001b[0m \u001b[1m3s\u001b[0m 34ms/step - accuracy: 0.9203 - loss: 0.2923 - val_accuracy: 0.8328 - val_loss: 0.5413\n",
      "Epoch 8/10\n",
      "\u001b[1m96/96\u001b[0m \u001b[32m━━━━━━━━━━━━━━━━━━━━\u001b[0m\u001b[37m\u001b[0m \u001b[1m3s\u001b[0m 30ms/step - accuracy: 0.9296 - loss: 0.2555 - val_accuracy: 0.8211 - val_loss: 0.5499\n",
      "Epoch 9/10\n",
      "\u001b[1m96/96\u001b[0m \u001b[32m━━━━━━━━━━━━━━━━━━━━\u001b[0m\u001b[37m\u001b[0m \u001b[1m3s\u001b[0m 31ms/step - accuracy: 0.9434 - loss: 0.2302 - val_accuracy: 0.8152 - val_loss: 0.5518\n",
      "Epoch 10/10\n",
      "\u001b[1m96/96\u001b[0m \u001b[32m━━━━━━━━━━━━━━━━━━━━\u001b[0m\u001b[37m\u001b[0m \u001b[1m3s\u001b[0m 31ms/step - accuracy: 0.9534 - loss: 0.2076 - val_accuracy: 0.8328 - val_loss: 0.5449\n"
     ]
    }
   ],
   "source": [
    "model = make_model(learning_rate=learning_rate)\n",
    "history = model.fit(train_ds, \n",
    "                    epochs=10, \n",
    "                    validation_data=val_ds,\n",
    "                    callbacks=[checkpoint])"
   ]
  },
  {
   "cell_type": "markdown",
   "id": "16323ca2-8b2b-4900-ad18-cdcf54f4c07f",
   "metadata": {},
   "source": [
    "# 8.8 Adding more layers"
   ]
  },
  {
   "cell_type": "code",
   "execution_count": 5,
   "id": "e354ebc6-38a4-4f22-940d-18d1646a8fe2",
   "metadata": {},
   "outputs": [
    {
     "data": {
      "text/plain": [
       "0.001"
      ]
     },
     "execution_count": 5,
     "metadata": {},
     "output_type": "execute_result"
    }
   ],
   "source": [
    "learning_rate"
   ]
  },
  {
   "cell_type": "code",
   "execution_count": 48,
   "id": "12a5e1bf-679a-46a2-94f2-3c652c8f1b71",
   "metadata": {},
   "outputs": [
    {
     "name": "stdout",
     "output_type": "stream",
     "text": [
      "10\n",
      "Epoch 1/10\n",
      "\u001b[1m96/96\u001b[0m \u001b[32m━━━━━━━━━━━━━━━━━━━━\u001b[0m\u001b[37m\u001b[0m \u001b[1m8s\u001b[0m 58ms/step - accuracy: 0.4233 - loss: 1.7286 - val_accuracy: 0.6276 - val_loss: 1.2118\n",
      "Epoch 2/10\n",
      "\u001b[1m96/96\u001b[0m \u001b[32m━━━━━━━━━━━━━━━━━━━━\u001b[0m\u001b[37m\u001b[0m \u001b[1m3s\u001b[0m 31ms/step - accuracy: 0.6628 - loss: 1.0936 - val_accuracy: 0.7302 - val_loss: 0.9259\n",
      "Epoch 3/10\n",
      "\u001b[1m96/96\u001b[0m \u001b[32m━━━━━━━━━━━━━━━━━━━━\u001b[0m\u001b[37m\u001b[0m \u001b[1m3s\u001b[0m 31ms/step - accuracy: 0.7365 - loss: 0.8359 - val_accuracy: 0.7537 - val_loss: 0.7814\n",
      "Epoch 4/10\n",
      "\u001b[1m96/96\u001b[0m \u001b[32m━━━━━━━━━━━━━━━━━━━━\u001b[0m\u001b[37m\u001b[0m \u001b[1m3s\u001b[0m 31ms/step - accuracy: 0.7856 - loss: 0.6396 - val_accuracy: 0.7683 - val_loss: 0.7149\n",
      "Epoch 5/10\n",
      "\u001b[1m96/96\u001b[0m \u001b[32m━━━━━━━━━━━━━━━━━━━━\u001b[0m\u001b[37m\u001b[0m \u001b[1m3s\u001b[0m 31ms/step - accuracy: 0.8339 - loss: 0.5371 - val_accuracy: 0.7654 - val_loss: 0.6975\n",
      "Epoch 6/10\n",
      "\u001b[1m96/96\u001b[0m \u001b[32m━━━━━━━━━━━━━━━━━━━━\u001b[0m\u001b[37m\u001b[0m \u001b[1m3s\u001b[0m 30ms/step - accuracy: 0.8508 - loss: 0.4829 - val_accuracy: 0.7566 - val_loss: 0.6751\n",
      "Epoch 7/10\n",
      "\u001b[1m96/96\u001b[0m \u001b[32m━━━━━━━━━━━━━━━━━━━━\u001b[0m\u001b[37m\u001b[0m \u001b[1m3s\u001b[0m 31ms/step - accuracy: 0.8631 - loss: 0.4488 - val_accuracy: 0.7654 - val_loss: 0.7051\n",
      "Epoch 8/10\n",
      "\u001b[1m96/96\u001b[0m \u001b[32m━━━━━━━━━━━━━━━━━━━━\u001b[0m\u001b[37m\u001b[0m \u001b[1m3s\u001b[0m 31ms/step - accuracy: 0.8976 - loss: 0.3613 - val_accuracy: 0.7713 - val_loss: 0.7056\n",
      "Epoch 9/10\n",
      "\u001b[1m96/96\u001b[0m \u001b[32m━━━━━━━━━━━━━━━━━━━━\u001b[0m\u001b[37m\u001b[0m \u001b[1m3s\u001b[0m 31ms/step - accuracy: 0.9095 - loss: 0.3156 - val_accuracy: 0.7713 - val_loss: 0.6753\n",
      "Epoch 10/10\n",
      "\u001b[1m96/96\u001b[0m \u001b[32m━━━━━━━━━━━━━━━━━━━━\u001b[0m\u001b[37m\u001b[0m \u001b[1m3s\u001b[0m 31ms/step - accuracy: 0.9271 - loss: 0.2876 - val_accuracy: 0.7801 - val_loss: 0.6682\n",
      "\n",
      "\n",
      "\n",
      "100\n",
      "Epoch 1/10\n",
      "\u001b[1m96/96\u001b[0m \u001b[32m━━━━━━━━━━━━━━━━━━━━\u001b[0m\u001b[37m\u001b[0m \u001b[1m9s\u001b[0m 61ms/step - accuracy: 0.5787 - loss: 1.2492 - val_accuracy: 0.7859 - val_loss: 0.6052\n",
      "Epoch 2/10\n",
      "\u001b[1m96/96\u001b[0m \u001b[32m━━━━━━━━━━━━━━━━━━━━\u001b[0m\u001b[37m\u001b[0m \u001b[1m3s\u001b[0m 31ms/step - accuracy: 0.8365 - loss: 0.4851 - val_accuracy: 0.7977 - val_loss: 0.5943\n",
      "Epoch 3/10\n",
      "\u001b[1m96/96\u001b[0m \u001b[32m━━━━━━━━━━━━━━━━━━━━\u001b[0m\u001b[37m\u001b[0m \u001b[1m3s\u001b[0m 31ms/step - accuracy: 0.8985 - loss: 0.3231 - val_accuracy: 0.8152 - val_loss: 0.5910\n",
      "Epoch 4/10\n",
      "\u001b[1m96/96\u001b[0m \u001b[32m━━━━━━━━━━━━━━━━━━━━\u001b[0m\u001b[37m\u001b[0m \u001b[1m3s\u001b[0m 31ms/step - accuracy: 0.9199 - loss: 0.2546 - val_accuracy: 0.8035 - val_loss: 0.5671\n",
      "Epoch 5/10\n",
      "\u001b[1m96/96\u001b[0m \u001b[32m━━━━━━━━━━━━━━━━━━━━\u001b[0m\u001b[37m\u001b[0m \u001b[1m3s\u001b[0m 31ms/step - accuracy: 0.9537 - loss: 0.1743 - val_accuracy: 0.8328 - val_loss: 0.5136\n",
      "Epoch 6/10\n",
      "\u001b[1m96/96\u001b[0m \u001b[32m━━━━━━━━━━━━━━━━━━━━\u001b[0m\u001b[37m\u001b[0m \u001b[1m3s\u001b[0m 32ms/step - accuracy: 0.9788 - loss: 0.1071 - val_accuracy: 0.8416 - val_loss: 0.5819\n",
      "Epoch 7/10\n",
      "\u001b[1m96/96\u001b[0m \u001b[32m━━━━━━━━━━━━━━━━━━━━\u001b[0m\u001b[37m\u001b[0m \u001b[1m3s\u001b[0m 31ms/step - accuracy: 0.9818 - loss: 0.0905 - val_accuracy: 0.8592 - val_loss: 0.5358\n",
      "Epoch 8/10\n",
      "\u001b[1m96/96\u001b[0m \u001b[32m━━━━━━━━━━━━━━━━━━━━\u001b[0m\u001b[37m\u001b[0m \u001b[1m3s\u001b[0m 31ms/step - accuracy: 0.9933 - loss: 0.0582 - val_accuracy: 0.8416 - val_loss: 0.5574\n",
      "Epoch 9/10\n",
      "\u001b[1m96/96\u001b[0m \u001b[32m━━━━━━━━━━━━━━━━━━━━\u001b[0m\u001b[37m\u001b[0m \u001b[1m3s\u001b[0m 31ms/step - accuracy: 0.9982 - loss: 0.0371 - val_accuracy: 0.8475 - val_loss: 0.5786\n",
      "Epoch 10/10\n",
      "\u001b[1m96/96\u001b[0m \u001b[32m━━━━━━━━━━━━━━━━━━━━\u001b[0m\u001b[37m\u001b[0m \u001b[1m3s\u001b[0m 31ms/step - accuracy: 0.9978 - loss: 0.0321 - val_accuracy: 0.8299 - val_loss: 0.5999\n",
      "\n",
      "\n",
      "\n",
      "1000\n",
      "Epoch 1/10\n",
      "\u001b[1m96/96\u001b[0m \u001b[32m━━━━━━━━━━━━━━━━━━━━\u001b[0m\u001b[37m\u001b[0m \u001b[1m9s\u001b[0m 61ms/step - accuracy: 0.5904 - loss: 1.2672 - val_accuracy: 0.7889 - val_loss: 0.6388\n",
      "Epoch 2/10\n",
      "\u001b[1m96/96\u001b[0m \u001b[32m━━━━━━━━━━━━━━━━━━━━\u001b[0m\u001b[37m\u001b[0m \u001b[1m3s\u001b[0m 31ms/step - accuracy: 0.8563 - loss: 0.4154 - val_accuracy: 0.8035 - val_loss: 0.6180\n",
      "Epoch 3/10\n",
      "\u001b[1m96/96\u001b[0m \u001b[32m━━━━━━━━━━━━━━━━━━━━\u001b[0m\u001b[37m\u001b[0m \u001b[1m3s\u001b[0m 31ms/step - accuracy: 0.9171 - loss: 0.2656 - val_accuracy: 0.8094 - val_loss: 0.5598\n",
      "Epoch 4/10\n",
      "\u001b[1m96/96\u001b[0m \u001b[32m━━━━━━━━━━━━━━━━━━━━\u001b[0m\u001b[37m\u001b[0m \u001b[1m3s\u001b[0m 31ms/step - accuracy: 0.9516 - loss: 0.1572 - val_accuracy: 0.7918 - val_loss: 0.5958\n",
      "Epoch 5/10\n",
      "\u001b[1m96/96\u001b[0m \u001b[32m━━━━━━━━━━━━━━━━━━━━\u001b[0m\u001b[37m\u001b[0m \u001b[1m3s\u001b[0m 31ms/step - accuracy: 0.9834 - loss: 0.0799 - val_accuracy: 0.8123 - val_loss: 0.6176\n",
      "Epoch 6/10\n",
      "\u001b[1m96/96\u001b[0m \u001b[32m━━━━━━━━━━━━━━━━━━━━\u001b[0m\u001b[37m\u001b[0m \u001b[1m3s\u001b[0m 31ms/step - accuracy: 0.9938 - loss: 0.0435 - val_accuracy: 0.8299 - val_loss: 0.6010\n",
      "Epoch 7/10\n",
      "\u001b[1m96/96\u001b[0m \u001b[32m━━━━━━━━━━━━━━━━━━━━\u001b[0m\u001b[37m\u001b[0m \u001b[1m3s\u001b[0m 31ms/step - accuracy: 0.9960 - loss: 0.0260 - val_accuracy: 0.8211 - val_loss: 0.6694\n",
      "Epoch 8/10\n",
      "\u001b[1m96/96\u001b[0m \u001b[32m━━━━━━━━━━━━━━━━━━━━\u001b[0m\u001b[37m\u001b[0m \u001b[1m3s\u001b[0m 32ms/step - accuracy: 0.9981 - loss: 0.0171 - val_accuracy: 0.8152 - val_loss: 0.6969\n",
      "Epoch 9/10\n",
      "\u001b[1m96/96\u001b[0m \u001b[32m━━━━━━━━━━━━━━━━━━━━\u001b[0m\u001b[37m\u001b[0m \u001b[1m3s\u001b[0m 32ms/step - accuracy: 0.9924 - loss: 0.0316 - val_accuracy: 0.8035 - val_loss: 0.6435\n",
      "Epoch 10/10\n",
      "\u001b[1m96/96\u001b[0m \u001b[32m━━━━━━━━━━━━━━━━━━━━\u001b[0m\u001b[37m\u001b[0m \u001b[1m3s\u001b[0m 32ms/step - accuracy: 0.9999 - loss: 0.0059 - val_accuracy: 0.8358 - val_loss: 0.6370\n",
      "\n",
      "\n",
      "\n"
     ]
    }
   ],
   "source": [
    "scores = {}\n",
    "\n",
    "for size in [10, 100, 1000]:\n",
    "    print(size)\n",
    "    \n",
    "    model = make_model(learning_rate=learning_rate, size_inner=size)\n",
    "    history = model.fit(train_ds, epochs=10, validation_data=val_ds)\n",
    "    scores[size] = history.history\n",
    "    \n",
    "    print(\"\\n\\n\")"
   ]
  },
  {
   "cell_type": "code",
   "execution_count": 50,
   "id": "34467df2-bd7f-45da-a195-9edfdc2f3481",
   "metadata": {},
   "outputs": [
    {
     "data": {
      "image/png": "[encoded data removed]",
      "text/plain": [
       "<Figure size 640x480 with 1 Axes>"
      ]
     },
     "metadata": {},
     "output_type": "display_data"
    }
   ],
   "source": [
    "for size, hst in scores.items():\n",
    "    plt.plot(hst['val_accuracy'], label=size)\n",
    "plt.xticks(np.arange(10))\n",
    "plt.legend();"
   ]
  },
  {
   "cell_type": "code",
   "execution_count": 6,
   "id": "6a1e5b92-cf18-40d7-b02a-6858882b818c",
   "metadata": {},
   "outputs": [],
   "source": [
    "size = 100"
   ]
  },
  {
   "cell_type": "markdown",
   "id": "443b882f-b38c-4b62-ad31-812e03dd6555",
   "metadata": {},
   "source": [
    "# 8.9 Regularization and Dropout"
   ]
  },
  {
   "cell_type": "code",
   "execution_count": 18,
   "id": "aae9c3f0-b8eb-40f6-ad89-3b0f4a9f0137",
   "metadata": {},
   "outputs": [
    {
     "name": "stdout",
     "output_type": "stream",
     "text": [
      "0.0\n",
      "Epoch 1/30\n",
      "\u001b[1m96/96\u001b[0m \u001b[32m━━━━━━━━━━━━━━━━━━━━\u001b[0m\u001b[37m\u001b[0m \u001b[1m10s\u001b[0m 66ms/step - accuracy: 0.5858 - loss: 1.2581 - val_accuracy: 0.7713 - val_loss: 0.6983\n",
      "Epoch 2/30\n",
      "\u001b[1m96/96\u001b[0m \u001b[32m━━━━━━━━━━━━━━━━━━━━\u001b[0m\u001b[37m\u001b[0m \u001b[1m3s\u001b[0m 32ms/step - accuracy: 0.8193 - loss: 0.5451 - val_accuracy: 0.8182 - val_loss: 0.6008\n",
      "Epoch 3/30\n",
      "\u001b[1m96/96\u001b[0m \u001b[32m━━━━━━━━━━━━━━━━━━━━\u001b[0m\u001b[37m\u001b[0m \u001b[1m3s\u001b[0m 32ms/step - accuracy: 0.8826 - loss: 0.3748 - val_accuracy: 0.8065 - val_loss: 0.5627\n",
      "Epoch 4/30\n",
      "\u001b[1m96/96\u001b[0m \u001b[32m━━━━━━━━━━━━━━━━━━━━\u001b[0m\u001b[37m\u001b[0m \u001b[1m3s\u001b[0m 32ms/step - accuracy: 0.9260 - loss: 0.2424 - val_accuracy: 0.8240 - val_loss: 0.5357\n",
      "Epoch 5/30\n",
      "\u001b[1m96/96\u001b[0m \u001b[32m━━━━━━━━━━━━━━━━━━━━\u001b[0m\u001b[37m\u001b[0m \u001b[1m3s\u001b[0m 32ms/step - accuracy: 0.9595 - loss: 0.1726 - val_accuracy: 0.8094 - val_loss: 0.5688\n",
      "Epoch 6/30\n",
      "\u001b[1m96/96\u001b[0m \u001b[32m━━━━━━━━━━━━━━━━━━━━\u001b[0m\u001b[37m\u001b[0m \u001b[1m3s\u001b[0m 32ms/step - accuracy: 0.9742 - loss: 0.1228 - val_accuracy: 0.8211 - val_loss: 0.5713\n",
      "Epoch 7/30\n",
      "\u001b[1m96/96\u001b[0m \u001b[32m━━━━━━━━━━━━━━━━━━━━\u001b[0m\u001b[37m\u001b[0m \u001b[1m3s\u001b[0m 34ms/step - accuracy: 0.9819 - loss: 0.0947 - val_accuracy: 0.8299 - val_loss: 0.5936\n",
      "Epoch 8/30\n",
      "\u001b[1m96/96\u001b[0m \u001b[32m━━━━━━━━━━━━━━━━━━━━\u001b[0m\u001b[37m\u001b[0m \u001b[1m3s\u001b[0m 32ms/step - accuracy: 0.9897 - loss: 0.0692 - val_accuracy: 0.8211 - val_loss: 0.6448\n",
      "Epoch 9/30\n",
      "\u001b[1m96/96\u001b[0m \u001b[32m━━━━━━━━━━━━━━━━━━━━\u001b[0m\u001b[37m\u001b[0m \u001b[1m3s\u001b[0m 33ms/step - accuracy: 0.9914 - loss: 0.0542 - val_accuracy: 0.8123 - val_loss: 0.6269\n",
      "Epoch 10/30\n",
      "\u001b[1m96/96\u001b[0m \u001b[32m━━━━━━━━━━━━━━━━━━━━\u001b[0m\u001b[37m\u001b[0m \u001b[1m3s\u001b[0m 31ms/step - accuracy: 0.9990 - loss: 0.0371 - val_accuracy: 0.8152 - val_loss: 0.6293\n",
      "Epoch 11/30\n",
      "\u001b[1m96/96\u001b[0m \u001b[32m━━━━━━━━━━━━━━━━━━━━\u001b[0m\u001b[37m\u001b[0m \u001b[1m3s\u001b[0m 31ms/step - accuracy: 0.9990 - loss: 0.0251 - val_accuracy: 0.8240 - val_loss: 0.6298\n",
      "Epoch 12/30\n",
      "\u001b[1m96/96\u001b[0m \u001b[32m━━━━━━━━━━━━━━━━━━━━\u001b[0m\u001b[37m\u001b[0m \u001b[1m3s\u001b[0m 32ms/step - accuracy: 0.9997 - loss: 0.0193 - val_accuracy: 0.8182 - val_loss: 0.6552\n",
      "Epoch 13/30\n",
      "\u001b[1m96/96\u001b[0m \u001b[32m━━━━━━━━━━━━━━━━━━━━\u001b[0m\u001b[37m\u001b[0m \u001b[1m3s\u001b[0m 31ms/step - accuracy: 0.9997 - loss: 0.0164 - val_accuracy: 0.8123 - val_loss: 0.6445\n",
      "Epoch 14/30\n",
      "\u001b[1m96/96\u001b[0m \u001b[32m━━━━━━━━━━━━━━━━━━━━\u001b[0m\u001b[37m\u001b[0m \u001b[1m3s\u001b[0m 31ms/step - accuracy: 0.9974 - loss: 0.0200 - val_accuracy: 0.8270 - val_loss: 0.6535\n",
      "Epoch 15/30\n",
      "\u001b[1m96/96\u001b[0m \u001b[32m━━━━━━━━━━━━━━━━━━━━\u001b[0m\u001b[37m\u001b[0m \u001b[1m3s\u001b[0m 31ms/step - accuracy: 0.9999 - loss: 0.0089 - val_accuracy: 0.8152 - val_loss: 0.6806\n",
      "Epoch 16/30\n",
      "\u001b[1m96/96\u001b[0m \u001b[32m━━━━━━━━━━━━━━━━━━━━\u001b[0m\u001b[37m\u001b[0m \u001b[1m3s\u001b[0m 32ms/step - accuracy: 0.9997 - loss: 0.0109 - val_accuracy: 0.8211 - val_loss: 0.6818\n",
      "Epoch 17/30\n",
      "\u001b[1m96/96\u001b[0m \u001b[32m━━━━━━━━━━━━━━━━━━━━\u001b[0m\u001b[37m\u001b[0m \u001b[1m3s\u001b[0m 32ms/step - accuracy: 0.9996 - loss: 0.0094 - val_accuracy: 0.8094 - val_loss: 0.7012\n",
      "Epoch 18/30\n",
      "\u001b[1m96/96\u001b[0m \u001b[32m━━━━━━━━━━━━━━━━━━━━\u001b[0m\u001b[37m\u001b[0m \u001b[1m3s\u001b[0m 32ms/step - accuracy: 0.9998 - loss: 0.0068 - val_accuracy: 0.8094 - val_loss: 0.6878\n",
      "Epoch 19/30\n",
      "\u001b[1m96/96\u001b[0m \u001b[32m━━━━━━━━━━━━━━━━━━━━\u001b[0m\u001b[37m\u001b[0m \u001b[1m3s\u001b[0m 32ms/step - accuracy: 0.9995 - loss: 0.0075 - val_accuracy: 0.8182 - val_loss: 0.7287\n",
      "Epoch 20/30\n",
      "\u001b[1m96/96\u001b[0m \u001b[32m━━━━━━━━━━━━━━━━━━━━\u001b[0m\u001b[37m\u001b[0m \u001b[1m3s\u001b[0m 32ms/step - accuracy: 0.9999 - loss: 0.0060 - val_accuracy: 0.8182 - val_loss: 0.7354\n",
      "Epoch 21/30\n",
      "\u001b[1m96/96\u001b[0m \u001b[32m━━━━━━━━━━━━━━━━━━━━\u001b[0m\u001b[37m\u001b[0m \u001b[1m3s\u001b[0m 32ms/step - accuracy: 0.9999 - loss: 0.0049 - val_accuracy: 0.8094 - val_loss: 0.7554\n",
      "Epoch 22/30\n",
      "\u001b[1m96/96\u001b[0m \u001b[32m━━━━━━━━━━━━━━━━━━━━\u001b[0m\u001b[37m\u001b[0m \u001b[1m3s\u001b[0m 33ms/step - accuracy: 0.9994 - loss: 0.0097 - val_accuracy: 0.8152 - val_loss: 0.7050\n",
      "Epoch 23/30\n",
      "\u001b[1m96/96\u001b[0m \u001b[32m━━━━━━━━━━━━━━━━━━━━\u001b[0m\u001b[37m\u001b[0m \u001b[1m3s\u001b[0m 33ms/step - accuracy: 0.9999 - loss: 0.0034 - val_accuracy: 0.8211 - val_loss: 0.7726\n",
      "Epoch 24/30\n",
      "\u001b[1m96/96\u001b[0m \u001b[32m━━━━━━━━━━━━━━━━━━━━\u001b[0m\u001b[37m\u001b[0m \u001b[1m3s\u001b[0m 33ms/step - accuracy: 0.9995 - loss: 0.0065 - val_accuracy: 0.8152 - val_loss: 0.7111\n",
      "Epoch 25/30\n",
      "\u001b[1m96/96\u001b[0m \u001b[32m━━━━━━━━━━━━━━━━━━━━\u001b[0m\u001b[37m\u001b[0m \u001b[1m3s\u001b[0m 32ms/step - accuracy: 0.9990 - loss: 0.0090 - val_accuracy: 0.8182 - val_loss: 0.7073\n",
      "Epoch 26/30\n",
      "\u001b[1m96/96\u001b[0m \u001b[32m━━━━━━━━━━━━━━━━━━━━\u001b[0m\u001b[37m\u001b[0m \u001b[1m3s\u001b[0m 32ms/step - accuracy: 0.9998 - loss: 0.0028 - val_accuracy: 0.8211 - val_loss: 0.7376\n",
      "Epoch 27/30\n",
      "\u001b[1m96/96\u001b[0m \u001b[32m━━━━━━━━━━━━━━━━━━━━\u001b[0m\u001b[37m\u001b[0m \u001b[1m3s\u001b[0m 32ms/step - accuracy: 0.9991 - loss: 0.0083 - val_accuracy: 0.8211 - val_loss: 0.7348\n",
      "Epoch 28/30\n",
      "\u001b[1m96/96\u001b[0m \u001b[32m━━━━━━━━━━━━━━━━━━━━\u001b[0m\u001b[37m\u001b[0m \u001b[1m3s\u001b[0m 32ms/step - accuracy: 0.9997 - loss: 0.0059 - val_accuracy: 0.8094 - val_loss: 0.7499\n",
      "Epoch 29/30\n",
      "\u001b[1m96/96\u001b[0m \u001b[32m━━━━━━━━━━━━━━━━━━━━\u001b[0m\u001b[37m\u001b[0m \u001b[1m3s\u001b[0m 32ms/step - accuracy: 0.9999 - loss: 0.0030 - val_accuracy: 0.8211 - val_loss: 0.7988\n",
      "Epoch 30/30\n",
      "\u001b[1m96/96\u001b[0m \u001b[32m━━━━━━━━━━━━━━━━━━━━\u001b[0m\u001b[37m\u001b[0m \u001b[1m3s\u001b[0m 32ms/step - accuracy: 0.9982 - loss: 0.0121 - val_accuracy: 0.8123 - val_loss: 0.7557\n",
      "\n",
      "\n",
      "\n",
      "0.2\n",
      "Epoch 1/30\n",
      "\u001b[1m96/96\u001b[0m \u001b[32m━━━━━━━━━━━━━━━━━━━━\u001b[0m\u001b[37m\u001b[0m \u001b[1m11s\u001b[0m 70ms/step - accuracy: 0.5430 - loss: 1.3823 - val_accuracy: 0.7918 - val_loss: 0.6601\n",
      "Epoch 2/30\n",
      "\u001b[1m96/96\u001b[0m \u001b[32m━━━━━━━━━━━━━━━━━━━━\u001b[0m\u001b[37m\u001b[0m \u001b[1m3s\u001b[0m 33ms/step - accuracy: 0.7801 - loss: 0.6181 - val_accuracy: 0.8006 - val_loss: 0.5757\n",
      "Epoch 3/30\n",
      "\u001b[1m96/96\u001b[0m \u001b[32m━━━━━━━━━━━━━━━━━━━━\u001b[0m\u001b[37m\u001b[0m \u001b[1m3s\u001b[0m 32ms/step - accuracy: 0.8498 - loss: 0.4381 - val_accuracy: 0.8035 - val_loss: 0.5922\n",
      "Epoch 4/30\n",
      "\u001b[1m96/96\u001b[0m \u001b[32m━━━━━━━━━━━━━━━━━━━━\u001b[0m\u001b[37m\u001b[0m \u001b[1m3s\u001b[0m 32ms/step - accuracy: 0.8825 - loss: 0.3647 - val_accuracy: 0.8358 - val_loss: 0.5311\n",
      "Epoch 5/30\n",
      "\u001b[1m96/96\u001b[0m \u001b[32m━━━━━━━━━━━━━━━━━━━━\u001b[0m\u001b[37m\u001b[0m \u001b[1m3s\u001b[0m 32ms/step - accuracy: 0.9135 - loss: 0.2802 - val_accuracy: 0.8094 - val_loss: 0.5555\n",
      "Epoch 6/30\n",
      "\u001b[1m96/96\u001b[0m \u001b[32m━━━━━━━━━━━━━━━━━━━━\u001b[0m\u001b[37m\u001b[0m \u001b[1m3s\u001b[0m 32ms/step - accuracy: 0.9282 - loss: 0.2245 - val_accuracy: 0.8563 - val_loss: 0.5234\n",
      "Epoch 7/30\n",
      "\u001b[1m96/96\u001b[0m \u001b[32m━━━━━━━━━━━━━━━━━━━━\u001b[0m\u001b[37m\u001b[0m \u001b[1m3s\u001b[0m 32ms/step - accuracy: 0.9414 - loss: 0.1892 - val_accuracy: 0.8240 - val_loss: 0.5624\n",
      "Epoch 8/30\n",
      "\u001b[1m96/96\u001b[0m \u001b[32m━━━━━━━━━━━━━━━━━━━━\u001b[0m\u001b[37m\u001b[0m \u001b[1m3s\u001b[0m 32ms/step - accuracy: 0.9584 - loss: 0.1495 - val_accuracy: 0.8240 - val_loss: 0.5818\n",
      "Epoch 9/30\n",
      "\u001b[1m96/96\u001b[0m \u001b[32m━━━━━━━━━━━━━━━━━━━━\u001b[0m\u001b[37m\u001b[0m \u001b[1m3s\u001b[0m 32ms/step - accuracy: 0.9717 - loss: 0.1231 - val_accuracy: 0.8504 - val_loss: 0.6224\n",
      "Epoch 10/30\n",
      "\u001b[1m96/96\u001b[0m \u001b[32m━━━━━━━━━━━━━━━━━━━━\u001b[0m\u001b[37m\u001b[0m \u001b[1m3s\u001b[0m 33ms/step - accuracy: 0.9795 - loss: 0.0952 - val_accuracy: 0.8387 - val_loss: 0.5994\n",
      "Epoch 11/30\n",
      "\u001b[1m96/96\u001b[0m \u001b[32m━━━━━━━━━━━━━━━━━━━━\u001b[0m\u001b[37m\u001b[0m \u001b[1m3s\u001b[0m 33ms/step - accuracy: 0.9883 - loss: 0.0692 - val_accuracy: 0.8182 - val_loss: 0.6344\n",
      "Epoch 12/30\n",
      "\u001b[1m96/96\u001b[0m \u001b[32m━━━━━━━━━━━━━━━━━━━━\u001b[0m\u001b[37m\u001b[0m \u001b[1m3s\u001b[0m 33ms/step - accuracy: 0.9878 - loss: 0.0691 - val_accuracy: 0.8416 - val_loss: 0.5564\n",
      "Epoch 13/30\n",
      "\u001b[1m96/96\u001b[0m \u001b[32m━━━━━━━━━━━━━━━━━━━━\u001b[0m\u001b[37m\u001b[0m \u001b[1m3s\u001b[0m 33ms/step - accuracy: 0.9880 - loss: 0.0569 - val_accuracy: 0.8387 - val_loss: 0.6629\n",
      "Epoch 14/30\n",
      "\u001b[1m96/96\u001b[0m \u001b[32m━━━━━━━━━━━━━━━━━━━━\u001b[0m\u001b[37m\u001b[0m \u001b[1m3s\u001b[0m 31ms/step - accuracy: 0.9889 - loss: 0.0515 - val_accuracy: 0.8211 - val_loss: 0.6441\n",
      "Epoch 15/30\n",
      "\u001b[1m96/96\u001b[0m \u001b[32m━━━━━━━━━━━━━━━━━━━━\u001b[0m\u001b[37m\u001b[0m \u001b[1m3s\u001b[0m 33ms/step - accuracy: 0.9930 - loss: 0.0501 - val_accuracy: 0.8358 - val_loss: 0.6504\n",
      "Epoch 16/30\n",
      "\u001b[1m96/96\u001b[0m \u001b[32m━━━━━━━━━━━━━━━━━━━━\u001b[0m\u001b[37m\u001b[0m \u001b[1m3s\u001b[0m 33ms/step - accuracy: 0.9932 - loss: 0.0353 - val_accuracy: 0.8328 - val_loss: 0.6694\n",
      "Epoch 17/30\n",
      "\u001b[1m96/96\u001b[0m \u001b[32m━━━━━━━━━━━━━━━━━━━━\u001b[0m\u001b[37m\u001b[0m \u001b[1m3s\u001b[0m 33ms/step - accuracy: 0.9906 - loss: 0.0444 - val_accuracy: 0.8328 - val_loss: 0.6633\n",
      "Epoch 18/30\n",
      "\u001b[1m96/96\u001b[0m \u001b[32m━━━━━━━━━━━━━━━━━━━━\u001b[0m\u001b[37m\u001b[0m \u001b[1m3s\u001b[0m 33ms/step - accuracy: 0.9931 - loss: 0.0393 - val_accuracy: 0.8328 - val_loss: 0.6958\n",
      "Epoch 19/30\n",
      "\u001b[1m96/96\u001b[0m \u001b[32m━━━━━━━━━━━━━━━━━━━━\u001b[0m\u001b[37m\u001b[0m \u001b[1m3s\u001b[0m 32ms/step - accuracy: 0.9922 - loss: 0.0351 - val_accuracy: 0.8270 - val_loss: 0.7073\n",
      "Epoch 20/30\n",
      "\u001b[1m96/96\u001b[0m \u001b[32m━━━━━━━━━━━━━━━━━━━━\u001b[0m\u001b[37m\u001b[0m \u001b[1m3s\u001b[0m 33ms/step - accuracy: 0.9920 - loss: 0.0291 - val_accuracy: 0.8182 - val_loss: 0.7091\n",
      "Epoch 21/30\n",
      "\u001b[1m96/96\u001b[0m \u001b[32m━━━━━━━━━━━━━━━━━━━━\u001b[0m\u001b[37m\u001b[0m \u001b[1m3s\u001b[0m 32ms/step - accuracy: 0.9972 - loss: 0.0245 - val_accuracy: 0.8270 - val_loss: 0.6839\n",
      "Epoch 22/30\n",
      "\u001b[1m96/96\u001b[0m \u001b[32m━━━━━━━━━━━━━━━━━━━━\u001b[0m\u001b[37m\u001b[0m \u001b[1m3s\u001b[0m 32ms/step - accuracy: 0.9966 - loss: 0.0228 - val_accuracy: 0.8328 - val_loss: 0.6989\n",
      "Epoch 23/30\n",
      "\u001b[1m96/96\u001b[0m \u001b[32m━━━━━━━━━━━━━━━━━━━━\u001b[0m\u001b[37m\u001b[0m \u001b[1m3s\u001b[0m 33ms/step - accuracy: 0.9982 - loss: 0.0177 - val_accuracy: 0.8328 - val_loss: 0.7232\n",
      "Epoch 24/30\n",
      "\u001b[1m96/96\u001b[0m \u001b[32m━━━━━━━━━━━━━━━━━━━━\u001b[0m\u001b[37m\u001b[0m \u001b[1m3s\u001b[0m 32ms/step - accuracy: 0.9906 - loss: 0.0321 - val_accuracy: 0.8240 - val_loss: 0.6857\n",
      "Epoch 25/30\n",
      "\u001b[1m96/96\u001b[0m \u001b[32m━━━━━━━━━━━━━━━━━━━━\u001b[0m\u001b[37m\u001b[0m \u001b[1m3s\u001b[0m 33ms/step - accuracy: 0.9970 - loss: 0.0220 - val_accuracy: 0.8358 - val_loss: 0.7444\n",
      "Epoch 26/30\n",
      "\u001b[1m96/96\u001b[0m \u001b[32m━━━━━━━━━━━━━━━━━━━━\u001b[0m\u001b[37m\u001b[0m \u001b[1m3s\u001b[0m 32ms/step - accuracy: 0.9966 - loss: 0.0164 - val_accuracy: 0.8123 - val_loss: 0.8028\n",
      "Epoch 27/30\n",
      "\u001b[1m96/96\u001b[0m \u001b[32m━━━━━━━━━━━━━━━━━━━━\u001b[0m\u001b[37m\u001b[0m \u001b[1m3s\u001b[0m 31ms/step - accuracy: 0.9972 - loss: 0.0186 - val_accuracy: 0.8240 - val_loss: 0.7298\n",
      "Epoch 28/30\n",
      "\u001b[1m96/96\u001b[0m \u001b[32m━━━━━━━━━━━━━━━━━━━━\u001b[0m\u001b[37m\u001b[0m \u001b[1m3s\u001b[0m 31ms/step - accuracy: 0.9950 - loss: 0.0202 - val_accuracy: 0.8065 - val_loss: 0.8152\n",
      "Epoch 29/30\n",
      "\u001b[1m96/96\u001b[0m \u001b[32m━━━━━━━━━━━━━━━━━━━━\u001b[0m\u001b[37m\u001b[0m \u001b[1m3s\u001b[0m 32ms/step - accuracy: 0.9964 - loss: 0.0188 - val_accuracy: 0.8240 - val_loss: 0.7884\n",
      "Epoch 30/30\n",
      "\u001b[1m96/96\u001b[0m \u001b[32m━━━━━━━━━━━━━━━━━━━━\u001b[0m\u001b[37m\u001b[0m \u001b[1m3s\u001b[0m 31ms/step - accuracy: 0.9902 - loss: 0.0296 - val_accuracy: 0.8182 - val_loss: 0.8088\n",
      "\n",
      "\n",
      "\n",
      "0.5\n",
      "Epoch 1/30\n",
      "\u001b[1m96/96\u001b[0m \u001b[32m━━━━━━━━━━━━━━━━━━━━\u001b[0m\u001b[37m\u001b[0m \u001b[1m10s\u001b[0m 67ms/step - accuracy: 0.4807 - loss: 1.5642 - val_accuracy: 0.7683 - val_loss: 0.7258\n",
      "Epoch 2/30\n",
      "\u001b[1m96/96\u001b[0m \u001b[32m━━━━━━━━━━━━━━━━━━━━\u001b[0m\u001b[37m\u001b[0m \u001b[1m3s\u001b[0m 32ms/step - accuracy: 0.7109 - loss: 0.8489 - val_accuracy: 0.7918 - val_loss: 0.6205\n",
      "Epoch 3/30\n",
      "\u001b[1m96/96\u001b[0m \u001b[32m━━━━━━━━━━━━━━━━━━━━\u001b[0m\u001b[37m\u001b[0m \u001b[1m3s\u001b[0m 34ms/step - accuracy: 0.7550 - loss: 0.6838 - val_accuracy: 0.8006 - val_loss: 0.6151\n",
      "Epoch 4/30\n",
      "\u001b[1m96/96\u001b[0m \u001b[32m━━━━━━━━━━━━━━━━━━━━\u001b[0m\u001b[37m\u001b[0m \u001b[1m3s\u001b[0m 32ms/step - accuracy: 0.8078 - loss: 0.5475 - val_accuracy: 0.7801 - val_loss: 0.6314\n",
      "Epoch 5/30\n",
      "\u001b[1m96/96\u001b[0m \u001b[32m━━━━━━━━━━━━━━━━━━━━\u001b[0m\u001b[37m\u001b[0m \u001b[1m3s\u001b[0m 31ms/step - accuracy: 0.8262 - loss: 0.5122 - val_accuracy: 0.8152 - val_loss: 0.5285\n",
      "Epoch 6/30\n",
      "\u001b[1m96/96\u001b[0m \u001b[32m━━━━━━━━━━━━━━━━━━━━\u001b[0m\u001b[37m\u001b[0m \u001b[1m3s\u001b[0m 33ms/step - accuracy: 0.8536 - loss: 0.4365 - val_accuracy: 0.8211 - val_loss: 0.5384\n",
      "Epoch 7/30\n",
      "\u001b[1m96/96\u001b[0m \u001b[32m━━━━━━━━━━━━━━━━━━━━\u001b[0m\u001b[37m\u001b[0m \u001b[1m3s\u001b[0m 33ms/step - accuracy: 0.8692 - loss: 0.3826 - val_accuracy: 0.8299 - val_loss: 0.5454\n",
      "Epoch 8/30\n",
      "\u001b[1m96/96\u001b[0m \u001b[32m━━━━━━━━━━━━━━━━━━━━\u001b[0m\u001b[37m\u001b[0m \u001b[1m3s\u001b[0m 32ms/step - accuracy: 0.8925 - loss: 0.3345 - val_accuracy: 0.7918 - val_loss: 0.5922\n",
      "Epoch 9/30\n",
      "\u001b[1m96/96\u001b[0m \u001b[32m━━━━━━━━━━━━━━━━━━━━\u001b[0m\u001b[37m\u001b[0m \u001b[1m3s\u001b[0m 32ms/step - accuracy: 0.8819 - loss: 0.3423 - val_accuracy: 0.8270 - val_loss: 0.5266\n",
      "Epoch 10/30\n",
      "\u001b[1m96/96\u001b[0m \u001b[32m━━━━━━━━━━━━━━━━━━━━\u001b[0m\u001b[37m\u001b[0m \u001b[1m3s\u001b[0m 33ms/step - accuracy: 0.9053 - loss: 0.2835 - val_accuracy: 0.8240 - val_loss: 0.5582\n",
      "Epoch 11/30\n",
      "\u001b[1m96/96\u001b[0m \u001b[32m━━━━━━━━━━━━━━━━━━━━\u001b[0m\u001b[37m\u001b[0m \u001b[1m3s\u001b[0m 33ms/step - accuracy: 0.8999 - loss: 0.2874 - val_accuracy: 0.8094 - val_loss: 0.5865\n",
      "Epoch 12/30\n",
      "\u001b[1m96/96\u001b[0m \u001b[32m━━━━━━━━━━━━━━━━━━━━\u001b[0m\u001b[37m\u001b[0m \u001b[1m3s\u001b[0m 33ms/step - accuracy: 0.9185 - loss: 0.2396 - val_accuracy: 0.8182 - val_loss: 0.5588\n",
      "Epoch 13/30\n",
      "\u001b[1m96/96\u001b[0m \u001b[32m━━━━━━━━━━━━━━━━━━━━\u001b[0m\u001b[37m\u001b[0m \u001b[1m3s\u001b[0m 34ms/step - accuracy: 0.9279 - loss: 0.2142 - val_accuracy: 0.8152 - val_loss: 0.5797\n",
      "Epoch 14/30\n",
      "\u001b[1m96/96\u001b[0m \u001b[32m━━━━━━━━━━━━━━━━━━━━\u001b[0m\u001b[37m\u001b[0m \u001b[1m3s\u001b[0m 34ms/step - accuracy: 0.9201 - loss: 0.2263 - val_accuracy: 0.8065 - val_loss: 0.6076\n",
      "Epoch 15/30\n",
      "\u001b[1m96/96\u001b[0m \u001b[32m━━━━━━━━━━━━━━━━━━━━\u001b[0m\u001b[37m\u001b[0m \u001b[1m3s\u001b[0m 33ms/step - accuracy: 0.9358 - loss: 0.1821 - val_accuracy: 0.8387 - val_loss: 0.5702\n",
      "Epoch 16/30\n",
      "\u001b[1m96/96\u001b[0m \u001b[32m━━━━━━━━━━━━━━━━━━━━\u001b[0m\u001b[37m\u001b[0m \u001b[1m3s\u001b[0m 32ms/step - accuracy: 0.9441 - loss: 0.1623 - val_accuracy: 0.8240 - val_loss: 0.5902\n",
      "Epoch 17/30\n",
      "\u001b[1m96/96\u001b[0m \u001b[32m━━━━━━━━━━━━━━━━━━━━\u001b[0m\u001b[37m\u001b[0m \u001b[1m3s\u001b[0m 33ms/step - accuracy: 0.9393 - loss: 0.1660 - val_accuracy: 0.8152 - val_loss: 0.5885\n",
      "Epoch 18/30\n",
      "\u001b[1m96/96\u001b[0m \u001b[32m━━━━━━━━━━━━━━━━━━━━\u001b[0m\u001b[37m\u001b[0m \u001b[1m3s\u001b[0m 33ms/step - accuracy: 0.9414 - loss: 0.1613 - val_accuracy: 0.8094 - val_loss: 0.5807\n",
      "Epoch 19/30\n",
      "\u001b[1m96/96\u001b[0m \u001b[32m━━━━━━━━━━━━━━━━━━━━\u001b[0m\u001b[37m\u001b[0m \u001b[1m3s\u001b[0m 32ms/step - accuracy: 0.9557 - loss: 0.1411 - val_accuracy: 0.8182 - val_loss: 0.6248\n",
      "Epoch 20/30\n",
      "\u001b[1m96/96\u001b[0m \u001b[32m━━━━━━━━━━━━━━━━━━━━\u001b[0m\u001b[37m\u001b[0m \u001b[1m3s\u001b[0m 32ms/step - accuracy: 0.9489 - loss: 0.1458 - val_accuracy: 0.8211 - val_loss: 0.5956\n",
      "Epoch 21/30\n",
      "\u001b[1m96/96\u001b[0m \u001b[32m━━━━━━━━━━━━━━━━━━━━\u001b[0m\u001b[37m\u001b[0m \u001b[1m3s\u001b[0m 33ms/step - accuracy: 0.9608 - loss: 0.1183 - val_accuracy: 0.8123 - val_loss: 0.6223\n",
      "Epoch 22/30\n",
      "\u001b[1m96/96\u001b[0m \u001b[32m━━━━━━━━━━━━━━━━━━━━\u001b[0m\u001b[37m\u001b[0m \u001b[1m3s\u001b[0m 34ms/step - accuracy: 0.9719 - loss: 0.0982 - val_accuracy: 0.8211 - val_loss: 0.6195\n",
      "Epoch 23/30\n",
      "\u001b[1m96/96\u001b[0m \u001b[32m━━━━━━━━━━━━━━━━━━━━\u001b[0m\u001b[37m\u001b[0m \u001b[1m3s\u001b[0m 32ms/step - accuracy: 0.9669 - loss: 0.1082 - val_accuracy: 0.8387 - val_loss: 0.6981\n",
      "Epoch 24/30\n",
      "\u001b[1m96/96\u001b[0m \u001b[32m━━━━━━━━━━━━━━━━━━━━\u001b[0m\u001b[37m\u001b[0m \u001b[1m3s\u001b[0m 32ms/step - accuracy: 0.9668 - loss: 0.0980 - val_accuracy: 0.8182 - val_loss: 0.6321\n",
      "Epoch 25/30\n",
      "\u001b[1m96/96\u001b[0m \u001b[32m━━━━━━━━━━━━━━━━━━━━\u001b[0m\u001b[37m\u001b[0m \u001b[1m3s\u001b[0m 32ms/step - accuracy: 0.9661 - loss: 0.1012 - val_accuracy: 0.8270 - val_loss: 0.6675\n",
      "Epoch 26/30\n",
      "\u001b[1m96/96\u001b[0m \u001b[32m━━━━━━━━━━━━━━━━━━━━\u001b[0m\u001b[37m\u001b[0m \u001b[1m3s\u001b[0m 32ms/step - accuracy: 0.9663 - loss: 0.1028 - val_accuracy: 0.8182 - val_loss: 0.6550\n",
      "Epoch 27/30\n",
      "\u001b[1m96/96\u001b[0m \u001b[32m━━━━━━━━━━━━━━━━━━━━\u001b[0m\u001b[37m\u001b[0m \u001b[1m3s\u001b[0m 32ms/step - accuracy: 0.9726 - loss: 0.0948 - val_accuracy: 0.8387 - val_loss: 0.6763\n",
      "Epoch 28/30\n",
      "\u001b[1m96/96\u001b[0m \u001b[32m━━━━━━━━━━━━━━━━━━━━\u001b[0m\u001b[37m\u001b[0m \u001b[1m3s\u001b[0m 32ms/step - accuracy: 0.9684 - loss: 0.0900 - val_accuracy: 0.8358 - val_loss: 0.7023\n",
      "Epoch 29/30\n",
      "\u001b[1m96/96\u001b[0m \u001b[32m━━━━━━━━━━━━━━━━━━━━\u001b[0m\u001b[37m\u001b[0m \u001b[1m3s\u001b[0m 32ms/step - accuracy: 0.9699 - loss: 0.0946 - val_accuracy: 0.8446 - val_loss: 0.6667\n",
      "Epoch 30/30\n",
      "\u001b[1m96/96\u001b[0m \u001b[32m━━━━━━━━━━━━━━━━━━━━\u001b[0m\u001b[37m\u001b[0m \u001b[1m3s\u001b[0m 33ms/step - accuracy: 0.9732 - loss: 0.0837 - val_accuracy: 0.8299 - val_loss: 0.6997\n",
      "\n",
      "\n",
      "\n",
      "0.8\n",
      "Epoch 1/30\n",
      "\u001b[1m96/96\u001b[0m \u001b[32m━━━━━━━━━━━━━━━━━━━━\u001b[0m\u001b[37m\u001b[0m \u001b[1m10s\u001b[0m 69ms/step - accuracy: 0.3078 - loss: 2.0854 - val_accuracy: 0.6188 - val_loss: 1.2209\n",
      "Epoch 2/30\n",
      "\u001b[1m96/96\u001b[0m \u001b[32m━━━━━━━━━━━━━━━━━━━━\u001b[0m\u001b[37m\u001b[0m \u001b[1m3s\u001b[0m 33ms/step - accuracy: 0.4603 - loss: 1.5648 - val_accuracy: 0.6686 - val_loss: 1.0736\n",
      "Epoch 3/30\n",
      "\u001b[1m96/96\u001b[0m \u001b[32m━━━━━━━━━━━━━━━━━━━━\u001b[0m\u001b[37m\u001b[0m \u001b[1m3s\u001b[0m 33ms/step - accuracy: 0.5043 - loss: 1.3854 - val_accuracy: 0.7009 - val_loss: 0.9371\n",
      "Epoch 4/30\n",
      "\u001b[1m96/96\u001b[0m \u001b[32m━━━━━━━━━━━━━━━━━━━━\u001b[0m\u001b[37m\u001b[0m \u001b[1m3s\u001b[0m 32ms/step - accuracy: 0.5618 - loss: 1.2351 - val_accuracy: 0.7449 - val_loss: 0.8504\n",
      "Epoch 5/30\n",
      "\u001b[1m96/96\u001b[0m \u001b[32m━━━━━━━━━━━━━━━━━━━━\u001b[0m\u001b[37m\u001b[0m \u001b[1m3s\u001b[0m 33ms/step - accuracy: 0.5829 - loss: 1.1830 - val_accuracy: 0.7683 - val_loss: 0.7665\n",
      "Epoch 6/30\n",
      "\u001b[1m96/96\u001b[0m \u001b[32m━━━━━━━━━━━━━━━━━━━━\u001b[0m\u001b[37m\u001b[0m \u001b[1m3s\u001b[0m 32ms/step - accuracy: 0.5842 - loss: 1.0901 - val_accuracy: 0.7595 - val_loss: 0.7766\n",
      "Epoch 7/30\n",
      "\u001b[1m96/96\u001b[0m \u001b[32m━━━━━━━━━━━━━━━━━━━━\u001b[0m\u001b[37m\u001b[0m \u001b[1m3s\u001b[0m 33ms/step - accuracy: 0.6099 - loss: 1.0798 - val_accuracy: 0.7889 - val_loss: 0.7245\n",
      "Epoch 8/30\n",
      "\u001b[1m96/96\u001b[0m \u001b[32m━━━━━━━━━━━━━━━━━━━━\u001b[0m\u001b[37m\u001b[0m \u001b[1m3s\u001b[0m 33ms/step - accuracy: 0.6150 - loss: 1.0206 - val_accuracy: 0.7859 - val_loss: 0.7319\n",
      "Epoch 9/30\n",
      "\u001b[1m96/96\u001b[0m \u001b[32m━━━━━━━━━━━━━━━━━━━━\u001b[0m\u001b[37m\u001b[0m \u001b[1m3s\u001b[0m 32ms/step - accuracy: 0.6160 - loss: 1.0198 - val_accuracy: 0.7801 - val_loss: 0.7103\n",
      "Epoch 10/30\n",
      "\u001b[1m96/96\u001b[0m \u001b[32m━━━━━━━━━━━━━━━━━━━━\u001b[0m\u001b[37m\u001b[0m \u001b[1m3s\u001b[0m 33ms/step - accuracy: 0.6403 - loss: 0.9591 - val_accuracy: 0.7977 - val_loss: 0.6693\n",
      "Epoch 11/30\n",
      "\u001b[1m96/96\u001b[0m \u001b[32m━━━━━━━━━━━━━━━━━━━━\u001b[0m\u001b[37m\u001b[0m \u001b[1m3s\u001b[0m 33ms/step - accuracy: 0.6251 - loss: 1.0085 - val_accuracy: 0.8065 - val_loss: 0.6550\n",
      "Epoch 12/30\n",
      "\u001b[1m96/96\u001b[0m \u001b[32m━━━━━━━━━━━━━━━━━━━━\u001b[0m\u001b[37m\u001b[0m \u001b[1m3s\u001b[0m 32ms/step - accuracy: 0.6285 - loss: 0.9530 - val_accuracy: 0.8152 - val_loss: 0.6297\n",
      "Epoch 13/30\n",
      "\u001b[1m96/96\u001b[0m \u001b[32m━━━━━━━━━━━━━━━━━━━━\u001b[0m\u001b[37m\u001b[0m \u001b[1m3s\u001b[0m 33ms/step - accuracy: 0.6440 - loss: 0.9372 - val_accuracy: 0.8240 - val_loss: 0.6266\n",
      "Epoch 14/30\n",
      "\u001b[1m96/96\u001b[0m \u001b[32m━━━━━━━━━━━━━━━━━━━━\u001b[0m\u001b[37m\u001b[0m \u001b[1m3s\u001b[0m 32ms/step - accuracy: 0.6704 - loss: 0.8727 - val_accuracy: 0.8035 - val_loss: 0.6297\n",
      "Epoch 15/30\n",
      "\u001b[1m96/96\u001b[0m \u001b[32m━━━━━━━━━━━━━━━━━━━━\u001b[0m\u001b[37m\u001b[0m \u001b[1m3s\u001b[0m 32ms/step - accuracy: 0.6438 - loss: 0.9086 - val_accuracy: 0.7977 - val_loss: 0.6255\n",
      "Epoch 16/30\n",
      "\u001b[1m96/96\u001b[0m \u001b[32m━━━━━━━━━━━━━━━━━━━━\u001b[0m\u001b[37m\u001b[0m \u001b[1m3s\u001b[0m 32ms/step - accuracy: 0.6763 - loss: 0.8285 - val_accuracy: 0.8211 - val_loss: 0.5645\n",
      "Epoch 17/30\n",
      "\u001b[1m96/96\u001b[0m \u001b[32m━━━━━━━━━━━━━━━━━━━━\u001b[0m\u001b[37m\u001b[0m \u001b[1m3s\u001b[0m 32ms/step - accuracy: 0.6418 - loss: 0.9334 - val_accuracy: 0.8152 - val_loss: 0.6178\n",
      "Epoch 18/30\n",
      "\u001b[1m96/96\u001b[0m \u001b[32m━━━━━━━━━━━━━━━━━━━━\u001b[0m\u001b[37m\u001b[0m \u001b[1m3s\u001b[0m 33ms/step - accuracy: 0.6788 - loss: 0.8554 - val_accuracy: 0.8152 - val_loss: 0.6141\n",
      "Epoch 19/30\n",
      "\u001b[1m96/96\u001b[0m \u001b[32m━━━━━━━━━━━━━━━━━━━━\u001b[0m\u001b[37m\u001b[0m \u001b[1m3s\u001b[0m 32ms/step - accuracy: 0.6672 - loss: 0.8486 - val_accuracy: 0.8182 - val_loss: 0.5730\n",
      "Epoch 20/30\n",
      "\u001b[1m96/96\u001b[0m \u001b[32m━━━━━━━━━━━━━━━━━━━━\u001b[0m\u001b[37m\u001b[0m \u001b[1m3s\u001b[0m 32ms/step - accuracy: 0.6821 - loss: 0.7923 - val_accuracy: 0.8065 - val_loss: 0.6116\n",
      "Epoch 21/30\n",
      "\u001b[1m96/96\u001b[0m \u001b[32m━━━━━━━━━━━━━━━━━━━━\u001b[0m\u001b[37m\u001b[0m \u001b[1m3s\u001b[0m 33ms/step - accuracy: 0.7033 - loss: 0.7806 - val_accuracy: 0.8211 - val_loss: 0.5724\n",
      "Epoch 22/30\n",
      "\u001b[1m96/96\u001b[0m \u001b[32m━━━━━━━━━━━━━━━━━━━━\u001b[0m\u001b[37m\u001b[0m \u001b[1m3s\u001b[0m 32ms/step - accuracy: 0.6981 - loss: 0.7644 - val_accuracy: 0.8182 - val_loss: 0.5700\n",
      "Epoch 23/30\n",
      "\u001b[1m96/96\u001b[0m \u001b[32m━━━━━━━━━━━━━━━━━━━━\u001b[0m\u001b[37m\u001b[0m \u001b[1m3s\u001b[0m 32ms/step - accuracy: 0.7067 - loss: 0.7584 - val_accuracy: 0.8182 - val_loss: 0.5712\n",
      "Epoch 24/30\n",
      "\u001b[1m96/96\u001b[0m \u001b[32m━━━━━━━━━━━━━━━━━━━━\u001b[0m\u001b[37m\u001b[0m \u001b[1m3s\u001b[0m 33ms/step - accuracy: 0.7048 - loss: 0.7556 - val_accuracy: 0.8152 - val_loss: 0.5956\n",
      "Epoch 25/30\n",
      "\u001b[1m96/96\u001b[0m \u001b[32m━━━━━━━━━━━━━━━━━━━━\u001b[0m\u001b[37m\u001b[0m \u001b[1m3s\u001b[0m 33ms/step - accuracy: 0.7223 - loss: 0.7393 - val_accuracy: 0.8182 - val_loss: 0.5920\n",
      "Epoch 26/30\n",
      "\u001b[1m96/96\u001b[0m \u001b[32m━━━━━━━━━━━━━━━━━━━━\u001b[0m\u001b[37m\u001b[0m \u001b[1m3s\u001b[0m 32ms/step - accuracy: 0.7290 - loss: 0.6995 - val_accuracy: 0.7977 - val_loss: 0.5963\n",
      "Epoch 27/30\n",
      "\u001b[1m96/96\u001b[0m \u001b[32m━━━━━━━━━━━━━━━━━━━━\u001b[0m\u001b[37m\u001b[0m \u001b[1m3s\u001b[0m 32ms/step - accuracy: 0.7140 - loss: 0.7558 - val_accuracy: 0.8123 - val_loss: 0.6130\n",
      "Epoch 28/30\n",
      "\u001b[1m96/96\u001b[0m \u001b[32m━━━━━━━━━━━━━━━━━━━━\u001b[0m\u001b[37m\u001b[0m \u001b[1m3s\u001b[0m 32ms/step - accuracy: 0.7180 - loss: 0.7340 - val_accuracy: 0.8182 - val_loss: 0.5826\n",
      "Epoch 29/30\n",
      "\u001b[1m96/96\u001b[0m \u001b[32m━━━━━━━━━━━━━━━━━━━━\u001b[0m\u001b[37m\u001b[0m \u001b[1m3s\u001b[0m 33ms/step - accuracy: 0.7320 - loss: 0.7112 - val_accuracy: 0.8240 - val_loss: 0.5703\n",
      "Epoch 30/30\n",
      "\u001b[1m96/96\u001b[0m \u001b[32m━━━━━━━━━━━━━━━━━━━━\u001b[0m\u001b[37m\u001b[0m \u001b[1m3s\u001b[0m 32ms/step - accuracy: 0.7213 - loss: 0.7230 - val_accuracy: 0.8328 - val_loss: 0.5838\n",
      "\n",
      "\n",
      "\n"
     ]
    }
   ],
   "source": [
    "learning_rate = 0.001\n",
    "size = 100\n",
    "\n",
    "scores = {}\n",
    "\n",
    "for dropout in [0.0, 0.2, 0.5, 0.8]:\n",
    "    print(dropout)\n",
    "    \n",
    "    model = make_model(learning_rate=learning_rate, size_inner=size, droprate=dropout)\n",
    "    history = model.fit(train_ds, epochs=30, validation_data=val_ds)\n",
    "    scores[dropout] = history.history\n",
    "    \n",
    "    print(\"\\n\\n\")"
   ]
  },
  {
   "cell_type": "code",
   "execution_count": 20,
   "id": "f7fd7c43-c874-4888-9b7f-27111625b54a",
   "metadata": {},
   "outputs": [
    {
     "data": {
      "image/png": "[encoded data removed]",
      "text/plain": [
       "<Figure size 640x480 with 1 Axes>"
      ]
     },
     "metadata": {},
     "output_type": "display_data"
    }
   ],
   "source": [
    "for droprate, hst in scores.items():\n",
    "    plt.plot(hst['val_accuracy'], label=droprate)\n",
    "plt.ylim(0.78, 0.86)\n",
    "plt.legend();"
   ]
  },
  {
   "cell_type": "code",
   "execution_count": 22,
   "id": "2b762973-dba7-4dfc-9169-48d9f9ec825d",
   "metadata": {},
   "outputs": [],
   "source": []
  },
  {
   "cell_type": "markdown",
   "id": "54cd9685-5db4-43da-9bed-54ef8a3e6417",
   "metadata": {},
   "source": [
    "# 8.10 Data Augmentation"
   ]
  },
  {
   "cell_type": "markdown",
   "id": "92896f45-6bff-4c32-8590-f6375c1a36ca",
   "metadata": {},
   "source": [
    "Here, we are going to create data from existing data. This is called *data augmentation*."
   ]
  },
  {
   "cell_type": "code",
   "execution_count": 25,
   "id": "43bd2532-26c7-44ac-94b5-31f774d9698e",
   "metadata": {},
   "outputs": [
    {
     "name": "stdout",
     "output_type": "stream",
     "text": [
      "Found 3070 images belonging to 10 classes.\n",
      "Found 341 images belonging to 10 classes.\n"
     ]
    }
   ],
   "source": [
    "train_gen = ImageDataGenerator(\n",
    "    preprocessing_function=preprocess_input,\n",
    "    shear_range=10,\n",
    "    zoom_range=0.1,\n",
    "    vertical_flip=True\n",
    ")\n",
    "train_ds = train_gen.flow_from_directory('clothing-dataset-small/train', \n",
    "                              target_size=(150, 150), \n",
    "                              batch_size=32)\n",
    "\n",
    "val_gen = ImageDataGenerator(preprocessing_function=preprocess_input)\n",
    "val_ds = val_gen.flow_from_directory('clothing-dataset-small/validation', \n",
    "                              target_size=(150, 150), \n",
    "                              batch_size=32, \n",
    "                              shuffle=False)"
   ]
  },
  {
   "cell_type": "code",
   "execution_count": 27,
   "id": "a8a32e9e-fcdf-4063-83ee-a65eb460c0e6",
   "metadata": {},
   "outputs": [
    {
     "name": "stdout",
     "output_type": "stream",
     "text": [
      "Epoch 1/50\n",
      "\u001b[1m96/96\u001b[0m \u001b[32m━━━━━━━━━━━━━━━━━━━━\u001b[0m\u001b[37m\u001b[0m \u001b[1m0s\u001b[0m 109ms/step - accuracy: 0.2452 - loss: 2.3152"
     ]
    },
    {
     "name": "stderr",
     "output_type": "stream",
     "text": [
      "/home/kabs/miniconda3/envs/tf/lib/python3.9/site-packages/keras/src/trainers/data_adapters/py_dataset_adapter.py:121: UserWarning: Your `PyDataset` class should call `super().__init__(**kwargs)` in its constructor. `**kwargs` can include `workers`, `use_multiprocessing`, `max_queue_size`. Do not pass these arguments to `fit()`, as they will be ignored.\n",
      "  self._warn_if_super_not_called()\n"
     ]
    },
    {
     "name": "stdout",
     "output_type": "stream",
     "text": [
      "\u001b[1m96/96\u001b[0m \u001b[32m━━━━━━━━━━━━━━━━━━━━\u001b[0m\u001b[37m\u001b[0m \u001b[1m16s\u001b[0m 132ms/step - accuracy: 0.2460 - loss: 2.3125 - val_accuracy: 0.5689 - val_loss: 1.3294\n",
      "Epoch 2/50\n",
      "\u001b[1m96/96\u001b[0m \u001b[32m━━━━━━━━━━━━━━━━━━━━\u001b[0m\u001b[37m\u001b[0m \u001b[1m10s\u001b[0m 99ms/step - accuracy: 0.4282 - loss: 1.7309 - val_accuracy: 0.6334 - val_loss: 1.1646\n",
      "Epoch 3/50\n",
      "\u001b[1m96/96\u001b[0m \u001b[32m━━━━━━━━━━━━━━━━━━━━\u001b[0m\u001b[37m\u001b[0m \u001b[1m10s\u001b[0m 100ms/step - accuracy: 0.4757 - loss: 1.5815 - val_accuracy: 0.6452 - val_loss: 1.0851\n",
      "Epoch 4/50\n",
      "\u001b[1m96/96\u001b[0m \u001b[32m━━━━━━━━━━━━━━━━━━━━\u001b[0m\u001b[37m\u001b[0m \u001b[1m10s\u001b[0m 99ms/step - accuracy: 0.5072 - loss: 1.4811 - val_accuracy: 0.6657 - val_loss: 1.0527\n",
      "Epoch 5/50\n",
      "\u001b[1m96/96\u001b[0m \u001b[32m━━━━━━━━━━━━━━━━━━━━\u001b[0m\u001b[37m\u001b[0m \u001b[1m9s\u001b[0m 98ms/step - accuracy: 0.4983 - loss: 1.4774 - val_accuracy: 0.6686 - val_loss: 1.0043\n",
      "Epoch 6/50\n",
      "\u001b[1m96/96\u001b[0m \u001b[32m━━━━━━━━━━━━━━━━━━━━\u001b[0m\u001b[37m\u001b[0m \u001b[1m10s\u001b[0m 99ms/step - accuracy: 0.5110 - loss: 1.4057 - val_accuracy: 0.6657 - val_loss: 1.0085\n",
      "Epoch 7/50\n",
      "\u001b[1m96/96\u001b[0m \u001b[32m━━━━━━━━━━━━━━━━━━━━\u001b[0m\u001b[37m\u001b[0m \u001b[1m9s\u001b[0m 98ms/step - accuracy: 0.4976 - loss: 1.3763 - val_accuracy: 0.6657 - val_loss: 0.9620\n",
      "Epoch 8/50\n",
      "\u001b[1m96/96\u001b[0m \u001b[32m━━━━━━━━━━━━━━━━━━━━\u001b[0m\u001b[37m\u001b[0m \u001b[1m10s\u001b[0m 99ms/step - accuracy: 0.5302 - loss: 1.3483 - val_accuracy: 0.7067 - val_loss: 0.8942\n",
      "Epoch 9/50\n",
      "\u001b[1m96/96\u001b[0m \u001b[32m━━━━━━━━━━━━━━━━━━━━\u001b[0m\u001b[37m\u001b[0m \u001b[1m10s\u001b[0m 101ms/step - accuracy: 0.5165 - loss: 1.3519 - val_accuracy: 0.7126 - val_loss: 0.8928\n",
      "Epoch 10/50\n",
      "\u001b[1m96/96\u001b[0m \u001b[32m━━━━━━━━━━━━━━━━━━━━\u001b[0m\u001b[37m\u001b[0m \u001b[1m10s\u001b[0m 100ms/step - accuracy: 0.5338 - loss: 1.3201 - val_accuracy: 0.7185 - val_loss: 0.8395\n",
      "Epoch 11/50\n",
      "\u001b[1m96/96\u001b[0m \u001b[32m━━━━━━━━━━━━━━━━━━━━\u001b[0m\u001b[37m\u001b[0m \u001b[1m10s\u001b[0m 99ms/step - accuracy: 0.5261 - loss: 1.3058 - val_accuracy: 0.6862 - val_loss: 0.8475\n",
      "Epoch 12/50\n",
      "\u001b[1m96/96\u001b[0m \u001b[32m━━━━━━━━━━━━━━━━━━━━\u001b[0m\u001b[37m\u001b[0m \u001b[1m9s\u001b[0m 97ms/step - accuracy: 0.5391 - loss: 1.3083 - val_accuracy: 0.7273 - val_loss: 0.8682\n",
      "Epoch 13/50\n",
      "\u001b[1m96/96\u001b[0m \u001b[32m━━━━━━━━━━━━━━━━━━━━\u001b[0m\u001b[37m\u001b[0m \u001b[1m10s\u001b[0m 99ms/step - accuracy: 0.5482 - loss: 1.2473 - val_accuracy: 0.7243 - val_loss: 0.8309\n",
      "Epoch 14/50\n",
      "\u001b[1m96/96\u001b[0m \u001b[32m━━━━━━━━━━━━━━━━━━━━\u001b[0m\u001b[37m\u001b[0m \u001b[1m9s\u001b[0m 98ms/step - accuracy: 0.5518 - loss: 1.2636 - val_accuracy: 0.7126 - val_loss: 0.8299\n",
      "Epoch 15/50\n",
      "\u001b[1m96/96\u001b[0m \u001b[32m━━━━━━━━━━━━━━━━━━━━\u001b[0m\u001b[37m\u001b[0m \u001b[1m9s\u001b[0m 98ms/step - accuracy: 0.5589 - loss: 1.2403 - val_accuracy: 0.7214 - val_loss: 0.8102\n",
      "Epoch 16/50\n",
      "\u001b[1m96/96\u001b[0m \u001b[32m━━━━━━━━━━━━━━━━━━━━\u001b[0m\u001b[37m\u001b[0m \u001b[1m10s\u001b[0m 99ms/step - accuracy: 0.5429 - loss: 1.2539 - val_accuracy: 0.7273 - val_loss: 0.8051\n",
      "Epoch 17/50\n",
      "\u001b[1m96/96\u001b[0m \u001b[32m━━━━━━━━━━━━━━━━━━━━\u001b[0m\u001b[37m\u001b[0m \u001b[1m9s\u001b[0m 98ms/step - accuracy: 0.5550 - loss: 1.2394 - val_accuracy: 0.7331 - val_loss: 0.7791\n",
      "Epoch 18/50\n",
      "\u001b[1m96/96\u001b[0m \u001b[32m━━━━━━━━━━━━━━━━━━━━\u001b[0m\u001b[37m\u001b[0m \u001b[1m9s\u001b[0m 97ms/step - accuracy: 0.5816 - loss: 1.1781 - val_accuracy: 0.7331 - val_loss: 0.7772\n",
      "Epoch 19/50\n",
      "\u001b[1m96/96\u001b[0m \u001b[32m━━━━━━━━━━━━━━━━━━━━\u001b[0m\u001b[37m\u001b[0m \u001b[1m9s\u001b[0m 98ms/step - accuracy: 0.5633 - loss: 1.1963 - val_accuracy: 0.7331 - val_loss: 0.7913\n",
      "Epoch 20/50\n",
      "\u001b[1m96/96\u001b[0m \u001b[32m━━━━━━━━━━━━━━━━━━━━\u001b[0m\u001b[37m\u001b[0m \u001b[1m9s\u001b[0m 97ms/step - accuracy: 0.5537 - loss: 1.2117 - val_accuracy: 0.7243 - val_loss: 0.7986\n",
      "Epoch 21/50\n",
      "\u001b[1m96/96\u001b[0m \u001b[32m━━━━━━━━━━━━━━━━━━━━\u001b[0m\u001b[37m\u001b[0m \u001b[1m10s\u001b[0m 100ms/step - accuracy: 0.5663 - loss: 1.1932 - val_accuracy: 0.7302 - val_loss: 0.7731\n",
      "Epoch 22/50\n",
      "\u001b[1m96/96\u001b[0m \u001b[32m━━━━━━━━━━━━━━━━━━━━\u001b[0m\u001b[37m\u001b[0m \u001b[1m9s\u001b[0m 97ms/step - accuracy: 0.5740 - loss: 1.1825 - val_accuracy: 0.7331 - val_loss: 0.7691\n",
      "Epoch 23/50\n",
      "\u001b[1m96/96\u001b[0m \u001b[32m━━━━━━━━━━━━━━━━━━━━\u001b[0m\u001b[37m\u001b[0m \u001b[1m10s\u001b[0m 100ms/step - accuracy: 0.5791 - loss: 1.1819 - val_accuracy: 0.7595 - val_loss: 0.7749\n",
      "Epoch 24/50\n",
      "\u001b[1m96/96\u001b[0m \u001b[32m━━━━━━━━━━━━━━━━━━━━\u001b[0m\u001b[37m\u001b[0m \u001b[1m10s\u001b[0m 101ms/step - accuracy: 0.5585 - loss: 1.1777 - val_accuracy: 0.7361 - val_loss: 0.7674\n",
      "Epoch 25/50\n",
      "\u001b[1m96/96\u001b[0m \u001b[32m━━━━━━━━━━━━━━━━━━━━\u001b[0m\u001b[37m\u001b[0m \u001b[1m10s\u001b[0m 100ms/step - accuracy: 0.5814 - loss: 1.1070 - val_accuracy: 0.7361 - val_loss: 0.7635\n",
      "Epoch 26/50\n",
      "\u001b[1m96/96\u001b[0m \u001b[32m━━━━━━━━━━━━━━━━━━━━\u001b[0m\u001b[37m\u001b[0m \u001b[1m10s\u001b[0m 100ms/step - accuracy: 0.5661 - loss: 1.1576 - val_accuracy: 0.7361 - val_loss: 0.7397\n",
      "Epoch 27/50\n",
      "\u001b[1m96/96\u001b[0m \u001b[32m━━━━━━━━━━━━━━━━━━━━\u001b[0m\u001b[37m\u001b[0m \u001b[1m10s\u001b[0m 99ms/step - accuracy: 0.5693 - loss: 1.1774 - val_accuracy: 0.7361 - val_loss: 0.7685\n",
      "Epoch 28/50\n",
      "\u001b[1m96/96\u001b[0m \u001b[32m━━━━━━━━━━━━━━━━━━━━\u001b[0m\u001b[37m\u001b[0m \u001b[1m9s\u001b[0m 96ms/step - accuracy: 0.5791 - loss: 1.1464 - val_accuracy: 0.7419 - val_loss: 0.7817\n",
      "Epoch 29/50\n",
      "\u001b[1m96/96\u001b[0m \u001b[32m━━━━━━━━━━━━━━━━━━━━\u001b[0m\u001b[37m\u001b[0m \u001b[1m10s\u001b[0m 99ms/step - accuracy: 0.5739 - loss: 1.1459 - val_accuracy: 0.7654 - val_loss: 0.7201\n",
      "Epoch 30/50\n",
      "\u001b[1m96/96\u001b[0m \u001b[32m━━━━━━━━━━━━━━━━━━━━\u001b[0m\u001b[37m\u001b[0m \u001b[1m10s\u001b[0m 99ms/step - accuracy: 0.5881 - loss: 1.1410 - val_accuracy: 0.7595 - val_loss: 0.7453\n",
      "Epoch 31/50\n",
      "\u001b[1m96/96\u001b[0m \u001b[32m━━━━━━━━━━━━━━━━━━━━\u001b[0m\u001b[37m\u001b[0m \u001b[1m10s\u001b[0m 101ms/step - accuracy: 0.5830 - loss: 1.1480 - val_accuracy: 0.7449 - val_loss: 0.7156\n",
      "Epoch 32/50\n",
      "\u001b[1m96/96\u001b[0m \u001b[32m━━━━━━━━━━━━━━━━━━━━\u001b[0m\u001b[37m\u001b[0m \u001b[1m10s\u001b[0m 101ms/step - accuracy: 0.5741 - loss: 1.1639 - val_accuracy: 0.7595 - val_loss: 0.7155\n",
      "Epoch 33/50\n",
      "\u001b[1m96/96\u001b[0m \u001b[32m━━━━━━━━━━━━━━━━━━━━\u001b[0m\u001b[37m\u001b[0m \u001b[1m10s\u001b[0m 101ms/step - accuracy: 0.5893 - loss: 1.1118 - val_accuracy: 0.7683 - val_loss: 0.7083\n",
      "Epoch 34/50\n",
      "\u001b[1m96/96\u001b[0m \u001b[32m━━━━━━━━━━━━━━━━━━━━\u001b[0m\u001b[37m\u001b[0m \u001b[1m10s\u001b[0m 101ms/step - accuracy: 0.5893 - loss: 1.1120 - val_accuracy: 0.7683 - val_loss: 0.7208\n",
      "Epoch 35/50\n",
      "\u001b[1m96/96\u001b[0m \u001b[32m━━━━━━━━━━━━━━━━━━━━\u001b[0m\u001b[37m\u001b[0m \u001b[1m10s\u001b[0m 100ms/step - accuracy: 0.5739 - loss: 1.1330 - val_accuracy: 0.7683 - val_loss: 0.7201\n",
      "Epoch 36/50\n",
      "\u001b[1m96/96\u001b[0m \u001b[32m━━━━━━━━━━━━━━━━━━━━\u001b[0m\u001b[37m\u001b[0m \u001b[1m9s\u001b[0m 98ms/step - accuracy: 0.6002 - loss: 1.0924 - val_accuracy: 0.7830 - val_loss: 0.7153\n",
      "Epoch 37/50\n",
      "\u001b[1m96/96\u001b[0m \u001b[32m━━━━━━━━━━━━━━━━━━━━\u001b[0m\u001b[37m\u001b[0m \u001b[1m9s\u001b[0m 97ms/step - accuracy: 0.6063 - loss: 1.0755 - val_accuracy: 0.7566 - val_loss: 0.7140\n",
      "Epoch 38/50\n",
      "\u001b[1m96/96\u001b[0m \u001b[32m━━━━━━━━━━━━━━━━━━━━\u001b[0m\u001b[37m\u001b[0m \u001b[1m9s\u001b[0m 98ms/step - accuracy: 0.6275 - loss: 1.0604 - val_accuracy: 0.7537 - val_loss: 0.7187\n",
      "Epoch 39/50\n",
      "\u001b[1m96/96\u001b[0m \u001b[32m━━━━━━━━━━━━━━━━━━━━\u001b[0m\u001b[37m\u001b[0m \u001b[1m10s\u001b[0m 101ms/step - accuracy: 0.6070 - loss: 1.1186 - val_accuracy: 0.7713 - val_loss: 0.6997\n",
      "Epoch 40/50\n",
      "\u001b[1m96/96\u001b[0m \u001b[32m━━━━━━━━━━━━━━━━━━━━\u001b[0m\u001b[37m\u001b[0m \u001b[1m10s\u001b[0m 99ms/step - accuracy: 0.6116 - loss: 1.0513 - val_accuracy: 0.7801 - val_loss: 0.6952\n",
      "Epoch 41/50\n",
      "\u001b[1m96/96\u001b[0m \u001b[32m━━━━━━━━━━━━━━━━━━━━\u001b[0m\u001b[37m\u001b[0m \u001b[1m10s\u001b[0m 100ms/step - accuracy: 0.5966 - loss: 1.0683 - val_accuracy: 0.7625 - val_loss: 0.6894\n",
      "Epoch 42/50\n",
      "\u001b[1m96/96\u001b[0m \u001b[32m━━━━━━━━━━━━━━━━━━━━\u001b[0m\u001b[37m\u001b[0m \u001b[1m10s\u001b[0m 100ms/step - accuracy: 0.6199 - loss: 1.0441 - val_accuracy: 0.7742 - val_loss: 0.6830\n",
      "Epoch 43/50\n",
      "\u001b[1m96/96\u001b[0m \u001b[32m━━━━━━━━━━━━━━━━━━━━\u001b[0m\u001b[37m\u001b[0m \u001b[1m9s\u001b[0m 98ms/step - accuracy: 0.6083 - loss: 1.0516 - val_accuracy: 0.7654 - val_loss: 0.6795\n",
      "Epoch 44/50\n",
      "\u001b[1m96/96\u001b[0m \u001b[32m━━━━━━━━━━━━━━━━━━━━\u001b[0m\u001b[37m\u001b[0m \u001b[1m10s\u001b[0m 99ms/step - accuracy: 0.6058 - loss: 1.0882 - val_accuracy: 0.7742 - val_loss: 0.6962\n",
      "Epoch 45/50\n",
      "\u001b[1m96/96\u001b[0m \u001b[32m━━━━━━━━━━━━━━━━━━━━\u001b[0m\u001b[37m\u001b[0m \u001b[1m10s\u001b[0m 100ms/step - accuracy: 0.5911 - loss: 1.0661 - val_accuracy: 0.7771 - val_loss: 0.6857\n",
      "Epoch 46/50\n",
      "\u001b[1m96/96\u001b[0m \u001b[32m━━━━━━━━━━━━━━━━━━━━\u001b[0m\u001b[37m\u001b[0m \u001b[1m9s\u001b[0m 95ms/step - accuracy: 0.6040 - loss: 1.0333 - val_accuracy: 0.7771 - val_loss: 0.6822\n",
      "Epoch 47/50\n",
      "\u001b[1m96/96\u001b[0m \u001b[32m━━━━━━━━━━━━━━━━━━━━\u001b[0m\u001b[37m\u001b[0m \u001b[1m10s\u001b[0m 99ms/step - accuracy: 0.6019 - loss: 1.0692 - val_accuracy: 0.7683 - val_loss: 0.6823\n",
      "Epoch 48/50\n",
      "\u001b[1m96/96\u001b[0m \u001b[32m━━━━━━━━━━━━━━━━━━━━\u001b[0m\u001b[37m\u001b[0m \u001b[1m10s\u001b[0m 99ms/step - accuracy: 0.6266 - loss: 1.0332 - val_accuracy: 0.7801 - val_loss: 0.6644\n",
      "Epoch 49/50\n",
      "\u001b[1m96/96\u001b[0m \u001b[32m━━━━━━━━━━━━━━━━━━━━\u001b[0m\u001b[37m\u001b[0m \u001b[1m10s\u001b[0m 101ms/step - accuracy: 0.6331 - loss: 1.0234 - val_accuracy: 0.7918 - val_loss: 0.6639\n",
      "Epoch 50/50\n",
      "\u001b[1m96/96\u001b[0m \u001b[32m━━━━━━━━━━━━━━━━━━━━\u001b[0m\u001b[37m\u001b[0m \u001b[1m9s\u001b[0m 98ms/step - accuracy: 0.6120 - loss: 1.0470 - val_accuracy: 0.7859 - val_loss: 0.6685\n"
     ]
    }
   ],
   "source": [
    "learning_rate = 0.001\n",
    "size = 100\n",
    "droprate = 0.2\n",
    "\n",
    "model = make_model(\n",
    "    learning_rate=learning_rate, \n",
    "    size_inner=size, \n",
    "    droprate=dropout\n",
    ")\n",
    "\n",
    "# increase epochs because we added dropout and \n",
    "# applied data augmentation(this will require the neural network to spend more time to learn\n",
    "history = model.fit(train_ds, epochs=50, validation_data=val_ds)"
   ]
  },
  {
   "cell_type": "code",
   "execution_count": null,
   "id": "342d3ee7-d208-46f1-80df-02168c2bdca4",
   "metadata": {},
   "outputs": [],
   "source": []
  }
 ],
 "metadata": {
  "kernelspec": {
   "display_name": "Python 3 (ipykernel)",
   "language": "python",
   "name": "python3"
  },
  "language_info": {
   "codemirror_mode": {
    "name": "ipython",
    "version": 3
   },
   "file_extension": ".py",
   "mimetype": "text/x-python",
   "name": "python",
   "nbconvert_exporter": "python",
   "pygments_lexer": "ipython3",
   "version": "3.9.20"
  }
 },
 "nbformat": 4,
 "nbformat_minor": 5
}
