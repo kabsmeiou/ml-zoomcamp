{
 "cells": [
  {
   "cell_type": "markdown",
   "id": "74c18fad-1bb1-427e-9e68-61e347be8aca",
   "metadata": {},
   "source": [
    "# Vector Operations"
   ]
  },
  {
   "cell_type": "code",
   "execution_count": 2,
   "id": "acc38e17-2857-4ffc-9c31-70cb7e83dcf2",
   "metadata": {},
   "outputs": [],
   "source": [
    "import numpy as np"
   ]
  },
  {
   "cell_type": "markdown",
   "id": "fea6aed2-c24c-48e3-ac46-ea1d93a270cb",
   "metadata": {},
   "source": [
    "We can add 2 matrices simply by using the *+* operator."
   ]
  },
  {
   "cell_type": "code",
   "execution_count": 6,
   "id": "5699c6fd-84e1-4583-a4fb-a0c41c1e8fba",
   "metadata": {},
   "outputs": [
    {
     "name": "stdout",
     "output_type": "stream",
     "text": [
      "[1 2 3]\n",
      "[1 2 3]\n"
     ]
    }
   ],
   "source": [
    "u = np.array([1, 2, 3])\n",
    "v = np.array([1, 2, 3])\n",
    "print(u)\n",
    "print(v)"
   ]
  },
  {
   "cell_type": "code",
   "execution_count": 7,
   "id": "e84df558-9c94-485c-b307-fcd01262eef1",
   "metadata": {},
   "outputs": [
    {
     "data": {
      "text/plain": [
       "array([2, 4, 6])"
      ]
     },
     "execution_count": 7,
     "metadata": {},
     "output_type": "execute_result"
    }
   ],
   "source": [
    "u + v"
   ]
  },
  {
   "cell_type": "markdown",
   "id": "18e2c45b-ab5a-4ec3-aba5-4ae93056f3ab",
   "metadata": {},
   "source": [
    "We can do the same with other operators discussed in element-wise operations on numpy arrays."
   ]
  },
  {
   "cell_type": "markdown",
   "id": "d79c9323-7341-4caa-9ad2-a429c81c489f",
   "metadata": {},
   "source": [
    "# Multiplication"
   ]
  },
  {
   "cell_type": "markdown",
   "id": "11e154f3-8913-4be5-9bac-352d298963b4",
   "metadata": {},
   "source": [
    "### Vector Multiplication"
   ]
  },
  {
   "cell_type": "markdown",
   "id": "95a2b99e-08fb-4a04-8379-53a1a20f837e",
   "metadata": {},
   "source": [
    "In vector multiplication, it is required for the arrays to have the same size."
   ]
  },
  {
   "cell_type": "code",
   "execution_count": 54,
   "id": "15593cc7-1e9b-48fe-bde9-661f87a81bb0",
   "metadata": {},
   "outputs": [],
   "source": [
    "a = np.array([1, 2, 3])\n",
    "b = np.array([1, 7, 8])"
   ]
  },
  {
   "cell_type": "code",
   "execution_count": 55,
   "id": "593c1965-030b-4f39-96a6-ad8038664985",
   "metadata": {},
   "outputs": [
    {
     "name": "stdout",
     "output_type": "stream",
     "text": [
      "Size of A:  3\n",
      "Size of B:  3\n"
     ]
    }
   ],
   "source": [
    "print(\"Size of A: \", a.shape[0]) \n",
    "print(\"Size of B: \", b.shape[0])"
   ]
  },
  {
   "cell_type": "markdown",
   "id": "69c534f3-9cb9-49ad-b8e1-314fdbf2d630",
   "metadata": {},
   "source": [
    "See the function below that implements the dot product of two vectors."
   ]
  },
  {
   "cell_type": "code",
   "execution_count": 56,
   "id": "7352d997-aa88-4b74-a7ea-6cba160bba8b",
   "metadata": {},
   "outputs": [],
   "source": [
    "def multiply_vectors(a, b):\n",
    "    assert a.shape[0] == b.shape[0]\n",
    "    result = 0.0\n",
    "    n = a.shape[0]\n",
    "    for i in range(n):\n",
    "        result += a[i] * b[i]\n",
    "    return result"
   ]
  },
  {
   "cell_type": "code",
   "execution_count": 57,
   "id": "62ca6c5c-16ee-4678-b0f4-3a0be9366f5f",
   "metadata": {},
   "outputs": [
    {
     "data": {
      "text/plain": [
       "39.0"
      ]
     },
     "execution_count": 57,
     "metadata": {},
     "output_type": "execute_result"
    }
   ],
   "source": [
    "multiply_vectors(a, b)"
   ]
  },
  {
   "cell_type": "markdown",
   "id": "eac77dac-77ae-4191-a6c2-0bc1ce3e3dd8",
   "metadata": {},
   "source": [
    "The ***.dot*** function can be used for this operation."
   ]
  },
  {
   "cell_type": "code",
   "execution_count": 58,
   "id": "7f35d213-f253-430b-8883-fd89640fc2b6",
   "metadata": {},
   "outputs": [
    {
     "data": {
      "text/plain": [
       "39"
      ]
     },
     "execution_count": 58,
     "metadata": {},
     "output_type": "execute_result"
    }
   ],
   "source": [
    "a.dot(b)"
   ]
  },
  {
   "cell_type": "markdown",
   "id": "ee033010-4bd6-470e-898f-fd0ab3f4c4c7",
   "metadata": {},
   "source": [
    "### Matrix-Vector Multiplication"
   ]
  },
  {
   "cell_type": "markdown",
   "id": "02bf3e25-7010-4e99-a60d-10dccc7cdb7b",
   "metadata": {},
   "source": [
    "To multiply a matrix with a vector, we have to multiply **each** row of the matrix to the vector"
   ]
  },
  {
   "cell_type": "code",
   "execution_count": 67,
   "id": "137bbd75-a7ce-4f76-aec5-da251b157f06",
   "metadata": {},
   "outputs": [],
   "source": [
    "m = np.array([\n",
    "    [1, 2, 3],\n",
    "    [4, 5, 6],\n",
    "    [7, 8, 9],\n",
    "    [1, 2, 3],\n",
    "])\n",
    "v = np.array([1, 2, 3])"
   ]
  },
  {
   "cell_type": "code",
   "execution_count": 68,
   "id": "9a21fac9-6df2-41e7-80ac-dcdb2b60bbdc",
   "metadata": {},
   "outputs": [
    {
     "name": "stdout",
     "output_type": "stream",
     "text": [
      "[[1 2 3]\n",
      " [4 5 6]\n",
      " [7 8 9]\n",
      " [1 2 3]]\n",
      "[1 2 3]\n"
     ]
    }
   ],
   "source": [
    "print(m)\n",
    "print(v)"
   ]
  },
  {
   "cell_type": "markdown",
   "id": "7dfb2ea6-1c2e-44f8-93e4-5a39ff522b98",
   "metadata": {},
   "source": [
    "Naturally, the number of elements in each row of the matrix must match the number of elements in the vector."
   ]
  },
  {
   "cell_type": "code",
   "execution_count": 72,
   "id": "16493ab3-2fbf-4567-ac4e-902c0aa736b4",
   "metadata": {},
   "outputs": [
    {
     "name": "stdout",
     "output_type": "stream",
     "text": [
      "Size of row in matrix A:  3\n",
      "Size of vector V:  3\n"
     ]
    }
   ],
   "source": [
    "print(\"Size of row in matrix A: \", m.shape[1])\n",
    "print(\"Size of vector V: \", v.shape[0])"
   ]
  },
  {
   "cell_type": "code",
   "execution_count": 81,
   "id": "17c7d58b-bee9-4782-b8fc-3a227f920f99",
   "metadata": {},
   "outputs": [],
   "source": [
    "def vector_and_matrix(m, v):\n",
    "    assert m.shape[1] == v.shape[0]\n",
    "    p = m.shape[0]\n",
    "    q = v.shape[0]\n",
    "    result = np.zeros(p)\n",
    "    for i in range(p):\n",
    "        for j in range(q):\n",
    "            result[i] += m[i][j] * v[j]\n",
    "    return result"
   ]
  },
  {
   "cell_type": "code",
   "execution_count": 82,
   "id": "39e5c9bb-1a44-494a-b649-98c58604dff8",
   "metadata": {},
   "outputs": [
    {
     "data": {
      "text/plain": [
       "array([14., 32., 50., 14.])"
      ]
     },
     "execution_count": 82,
     "metadata": {},
     "output_type": "execute_result"
    }
   ],
   "source": [
    "vector_and_matrix(m, v)"
   ]
  },
  {
   "cell_type": "markdown",
   "id": "0f7fee97-9309-43dc-a3d6-a2261d4f3c8e",
   "metadata": {},
   "source": [
    "Above is the implementation of matrix to vector multiplication. We can also rewrite the code in a way that uses our previous function **multiply_vectors**"
   ]
  },
  {
   "cell_type": "code",
   "execution_count": 88,
   "id": "fac62e25-25a5-481c-806a-94ab0a37f17c",
   "metadata": {},
   "outputs": [],
   "source": [
    "def vector_matrix_multiplication(m, v):\n",
    "    assert m.shape[1] == v.shape[0]\n",
    "    p = m.shape[0]\n",
    "    q = v.shape[0]\n",
    "    result = np.zeros(p)\n",
    "    for i in range(p):\n",
    "        result[i] = multiply_vectors(m[i], v)\n",
    "    return result"
   ]
  },
  {
   "cell_type": "code",
   "execution_count": 89,
   "id": "1d8e80a8-429f-4963-a297-8c1fa8973340",
   "metadata": {},
   "outputs": [
    {
     "data": {
      "text/plain": [
       "array([14., 32., 50., 14.])"
      ]
     },
     "execution_count": 89,
     "metadata": {},
     "output_type": "execute_result"
    }
   ],
   "source": [
    "vector_matrix_multiplication(m, v)"
   ]
  },
  {
   "cell_type": "markdown",
   "id": "90037689-25fe-4cc1-bee0-6c3d9e259a9f",
   "metadata": {},
   "source": [
    "As you can see, it produces the same result as the manual implementation."
   ]
  },
  {
   "cell_type": "markdown",
   "id": "d58c899c-d63a-411e-9953-4553b47a3f4b",
   "metadata": {},
   "source": [
    "Like in vector-vector multiplication, numpy also knows how to do the operation above with the ***.dot*** function we used before."
   ]
  },
  {
   "cell_type": "code",
   "execution_count": 97,
   "id": "0083c0d2-99c7-4b77-babe-6a0046f29398",
   "metadata": {},
   "outputs": [
    {
     "data": {
      "text/plain": [
       "array([14, 32, 50, 14])"
      ]
     },
     "execution_count": 97,
     "metadata": {},
     "output_type": "execute_result"
    }
   ],
   "source": [
    "m.dot(v)"
   ]
  },
  {
   "cell_type": "markdown",
   "id": "1143d0d6-9d03-4706-a94e-3227a6d74d93",
   "metadata": {},
   "source": [
    "### Matrix Multiplication"
   ]
  },
  {
   "cell_type": "markdown",
   "id": "a9a0651b-8788-4ef6-b241-aeb515025328",
   "metadata": {},
   "source": [
    "In multiplication, each element Ci is the result of multiply a row of A to a column of B. Due to this, it is necessary that the number of columns in A is equal to the number of rows in B."
   ]
  },
  {
   "cell_type": "code",
   "execution_count": 92,
   "id": "3ace5de3-ec67-412b-b676-15d23cb465ba",
   "metadata": {},
   "outputs": [],
   "source": [
    "a = np.array([\n",
    "    [1, 2, 3],\n",
    "    [4, 5, 6],\n",
    "    [7, 8, 9],\n",
    "])\n",
    "b = np.array([\n",
    "    [1, 2],\n",
    "    [4, 5],\n",
    "    [7, 8],\n",
    "])"
   ]
  },
  {
   "cell_type": "code",
   "execution_count": 93,
   "id": "33c911ce-2518-48db-ba47-55207a7c6d3a",
   "metadata": {},
   "outputs": [
    {
     "name": "stdout",
     "output_type": "stream",
     "text": [
      "Columns of A:  3\n",
      "Rows of B:  3\n"
     ]
    }
   ],
   "source": [
    "print(\"Columns of A: \", a.shape[1]) \n",
    "print(\"Rows of B: \", b.shape[0])"
   ]
  },
  {
   "cell_type": "markdown",
   "id": "2e676093-cdc1-4cb3-be0a-dc4577630d5d",
   "metadata": {},
   "source": [
    "The resulting matrix of the matrices above upon multiplying must yield a size of (a, d) if A = (a, b) and B = (c, d). Let's confirm that by multiplying the two matrices."
   ]
  },
  {
   "cell_type": "markdown",
   "id": "0e41e8fe-6719-482b-9deb-5bccd1d00a04",
   "metadata": {},
   "source": [
    "Below is a function that multiplies to numpy matrices."
   ]
  },
  {
   "cell_type": "code",
   "execution_count": 110,
   "id": "2533d7da-d5f9-4628-8afc-2142a659a5fc",
   "metadata": {},
   "outputs": [],
   "source": [
    "def multiply_matrix(a, b):\n",
    "    # confirm if matrices can be multiplied\n",
    "    assert a.shape[1] == b.shape[0]\n",
    "\n",
    "    n = a.shape[0];\n",
    "    p = b.shape[1];\n",
    "\n",
    "    # create a matrix of size n x p assuming a matrix A\n",
    "    # of size n * m and matrix B of size q * p\n",
    "    c = np.zeros((n, p))\n",
    "    # total rows of A\n",
    "    for i in range(n):\n",
    "        # access columns of B with j\n",
    "        for j in range(p):\n",
    "            # changing indices with k\n",
    "            # set k for B rows and k for A columns\n",
    "            for k in range(n):\n",
    "                c[i][j] += a[i][k] * b[k][j]\n",
    "    return c\n",
    "    "
   ]
  },
  {
   "cell_type": "code",
   "execution_count": 111,
   "id": "4d4c96a0-45b5-411c-aec9-bdf8a654e3c9",
   "metadata": {},
   "outputs": [
    {
     "data": {
      "text/plain": [
       "array([[ 30.,  36.],\n",
       "       [ 66.,  81.],\n",
       "       [102., 126.]])"
      ]
     },
     "execution_count": 111,
     "metadata": {},
     "output_type": "execute_result"
    }
   ],
   "source": [
    "multiply_matrix(a, b)"
   ]
  },
  {
   "cell_type": "markdown",
   "id": "850d3000-bf83-4ae1-b039-e6d78451bdd2",
   "metadata": {},
   "source": [
    "We can still modify the matrix the same way we modified matrix-vector multiplication"
   ]
  },
  {
   "cell_type": "code",
   "execution_count": 114,
   "id": "248aff2d-fa29-48bd-8747-0ba070af1965",
   "metadata": {},
   "outputs": [],
   "source": [
    "def multiply_matrix(a, b):\n",
    "    # confirm if matrices can be multiplied\n",
    "    assert a.shape[1] == b.shape[0]\n",
    "\n",
    "    n = a.shape[0];\n",
    "    p = b.shape[1];\n",
    "\n",
    "    # create a matrix of size n x p assuming a matrix A\n",
    "    # of size n * m and matrix B of size q * p\n",
    "    c = np.zeros((n, p))\n",
    "    for i in range(p):\n",
    "        # get each column of b\n",
    "        vi = b[:, i]\n",
    "        # perform vector-matrix mutiplication to A and vi\n",
    "        # because we are multiplying each row of A to\n",
    "        # the vector vi (the column we extracted\n",
    "        Uvi = vector_matrix_multiplication(a, vi)\n",
    "        # the result we get is per column so assign\n",
    "        # the vector Uvi as a column in variable C\n",
    "        c[:, i] = Uvi\n",
    "    return c"
   ]
  },
  {
   "cell_type": "code",
   "execution_count": 115,
   "id": "bc208aaf-b502-4b02-820c-fa6abb1e56d1",
   "metadata": {},
   "outputs": [
    {
     "data": {
      "text/plain": [
       "array([[ 30.,  36.],\n",
       "       [ 66.,  81.],\n",
       "       [102., 126.]])"
      ]
     },
     "execution_count": 115,
     "metadata": {},
     "output_type": "execute_result"
    }
   ],
   "source": [
    "multiply_matrix(a, b)"
   ]
  },
  {
   "cell_type": "markdown",
   "id": "769dd17a-4b3d-41f0-9481-3108bfcd5e8e",
   "metadata": {},
   "source": [
    "Thankfully, we don't have to manually implement this everytime we want to multiply vectors in our program. As you've guessed, we can just use the ***.dot*** function like how we did for the other operations:"
   ]
  },
  {
   "cell_type": "code",
   "execution_count": 117,
   "id": "087caa23-d618-4f16-9add-db83bcf59a88",
   "metadata": {},
   "outputs": [
    {
     "data": {
      "text/plain": [
       "array([[ 30,  36],\n",
       "       [ 66,  81],\n",
       "       [102, 126]])"
      ]
     },
     "execution_count": 117,
     "metadata": {},
     "output_type": "execute_result"
    }
   ],
   "source": [
    "a.dot(b)"
   ]
  },
  {
   "cell_type": "markdown",
   "id": "7430b3e5-bbda-4d96-8a36-71a1f411008d",
   "metadata": {},
   "source": [
    "# Identity Matrix"
   ]
  },
  {
   "cell_type": "markdown",
   "id": "31d58f6b-75b3-4890-b8f3-e6b40abcafa3",
   "metadata": {},
   "source": [
    "An identity matrix is the **equivalent** of the value **1** in matrices. This means that any matrix multiplied to this identity matrix would not change anything. "
   ]
  },
  {
   "cell_type": "markdown",
   "id": "c0973f1a-d6ab-4ee0-b427-86295f414ebd",
   "metadata": {},
   "source": [
    "We can create an identity matrix using numpy with ***.eye***."
   ]
  },
  {
   "cell_type": "code",
   "execution_count": 125,
   "id": "dd4a2237-1670-4abd-bb68-6536b62f74f0",
   "metadata": {},
   "outputs": [
    {
     "name": "stdout",
     "output_type": "stream",
     "text": [
      "[[1. 0. 0.]\n",
      " [0. 1. 0.]\n",
      " [0. 0. 1.]]\n"
     ]
    }
   ],
   "source": [
    "I = np.eye(3)\n",
    "print(I)"
   ]
  },
  {
   "cell_type": "markdown",
   "id": "88538db1-f16a-4ab6-ab3f-ae66e19ce89c",
   "metadata": {},
   "source": [
    "Below is a demonstration:"
   ]
  },
  {
   "cell_type": "code",
   "execution_count": 129,
   "id": "91e628e5-a8a6-4681-b937-c20e6e061f40",
   "metadata": {},
   "outputs": [
    {
     "data": {
      "text/plain": [
       "array([[1, 2, 3],\n",
       "       [4, 5, 6],\n",
       "       [7, 8, 9]])"
      ]
     },
     "execution_count": 129,
     "metadata": {},
     "output_type": "execute_result"
    }
   ],
   "source": [
    "a"
   ]
  },
  {
   "cell_type": "code",
   "execution_count": 130,
   "id": "b6b7fbae-f87b-4e21-85e9-cea35aee54f8",
   "metadata": {},
   "outputs": [
    {
     "data": {
      "text/plain": [
       "array([[1., 2., 3.],\n",
       "       [4., 5., 6.],\n",
       "       [7., 8., 9.]])"
      ]
     },
     "execution_count": 130,
     "metadata": {},
     "output_type": "execute_result"
    }
   ],
   "source": [
    "a.dot(I)"
   ]
  },
  {
   "cell_type": "markdown",
   "id": "96df6dab-7b83-4f84-b4ff-afef96cdc458",
   "metadata": {},
   "source": [
    "As you can see, the values of A did not change after performing a multiplication between the two matrices."
   ]
  },
  {
   "cell_type": "markdown",
   "id": "41ecda74-604b-4fc1-9ff1-e79d255e6815",
   "metadata": {},
   "source": [
    "# Matrix Inverse"
   ]
  },
  {
   "cell_type": "markdown",
   "id": "529c440d-bee9-44cb-9419-f600bc417278",
   "metadata": {},
   "source": [
    "**Key Idea:** The inverse of a matrix **A**, in which we refer to as **Z** in this case, is a matrix such that if we multiply **Z** with **A**, then we are getting an identity matrix."
   ]
  },
  {
   "cell_type": "markdown",
   "id": "06618835-254b-42b4-861b-604b36ffbba4",
   "metadata": {},
   "source": [
    "We need to keep in mind that only square matrices have an inverse."
   ]
  },
  {
   "cell_type": "code",
   "execution_count": 171,
   "id": "e6c5f7b2-30a7-43f3-8e54-c680cafd499b",
   "metadata": {},
   "outputs": [],
   "source": [
    "A = np.array([\n",
    "    [3, 2],\n",
    "    [1, -2]\n",
    "])\n",
    "Z = np.linalg.inv(A)"
   ]
  },
  {
   "cell_type": "code",
   "execution_count": 172,
   "id": "0925f45f-1968-4072-9970-250717bedb0b",
   "metadata": {},
   "outputs": [
    {
     "name": "stdout",
     "output_type": "stream",
     "text": [
      "[[ 3  2]\n",
      " [ 1 -2]] [[ 0.25   0.25 ]\n",
      " [ 0.125 -0.375]]\n"
     ]
    }
   ],
   "source": [
    "print(A, Z)"
   ]
  },
  {
   "cell_type": "code",
   "execution_count": 173,
   "id": "650e44ca-f8f9-423c-ba1e-384db0a167d6",
   "metadata": {},
   "outputs": [
    {
     "data": {
      "text/plain": [
       "array([[1., 0.],\n",
       "       [0., 1.]])"
      ]
     },
     "execution_count": 173,
     "metadata": {},
     "output_type": "execute_result"
    }
   ],
   "source": [
    "A.dot(Z)"
   ]
  },
  {
   "cell_type": "markdown",
   "id": "465bc801-cc20-4386-9e37-9525e6bcf10a",
   "metadata": {},
   "source": [
    "Be careful with singular matrix because they do not have an inverse."
   ]
  }
 ],
 "metadata": {
  "kernelspec": {
   "display_name": "Python 3 (ipykernel)",
   "language": "python",
   "name": "python3"
  },
  "language_info": {
   "codemirror_mode": {
    "name": "ipython",
    "version": 3
   },
   "file_extension": ".py",
   "mimetype": "text/x-python",
   "name": "python",
   "nbconvert_exporter": "python",
   "pygments_lexer": "ipython3",
   "version": "3.11.9"
  }
 },
 "nbformat": 4,
 "nbformat_minor": 5
}
