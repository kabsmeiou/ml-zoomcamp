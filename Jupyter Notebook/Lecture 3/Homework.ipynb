{
 "cells": [
  {
   "cell_type": "markdown",
   "id": "aecee92d-94a6-491c-b451-8966a60233b6",
   "metadata": {},
   "source": [
    "# Homework 3"
   ]
  },
  {
   "cell_type": "markdown",
   "id": "9261a8b4-b86e-48e0-8a69-1d0bd8c9196e",
   "metadata": {},
   "source": [
    "### Notebook by: Christian Cabral"
   ]
  },
  {
   "cell_type": "code",
   "execution_count": 57,
   "id": "17b36744-68a3-46f1-b8b1-05110546d8d7",
   "metadata": {},
   "outputs": [],
   "source": [
    "import numpy as np\n",
    "import pandas as pd"
   ]
  },
  {
   "cell_type": "code",
   "execution_count": 58,
   "id": "4bb0191a-abf0-43ce-9e35-c9654ea6daf6",
   "metadata": {},
   "outputs": [],
   "source": [
    "# according to documentation, sep parameter is ',' by default\n",
    "# since the columns in the csv file is separated by ';', set sep=';'\n",
    "df = pd.read_csv(\"../../Datasets/bank/bank-full.csv\", sep=';')"
   ]
  },
  {
   "cell_type": "code",
   "execution_count": 59,
   "id": "20e9643e-3295-4c73-a298-f1a0c5b0a4f5",
   "metadata": {},
   "outputs": [
    {
     "data": {
      "text/html": [
       "<div>\n",
       "<style scoped>\n",
       "    .dataframe tbody tr th:only-of-type {\n",
       "        vertical-align: middle;\n",
       "    }\n",
       "\n",
       "    .dataframe tbody tr th {\n",
       "        vertical-align: top;\n",
       "    }\n",
       "\n",
       "    .dataframe thead th {\n",
       "        text-align: right;\n",
       "    }\n",
       "</style>\n",
       "<table border=\"1\" class=\"dataframe\">\n",
       "  <thead>\n",
       "    <tr style=\"text-align: right;\">\n",
       "      <th></th>\n",
       "      <th>age</th>\n",
       "      <th>job</th>\n",
       "      <th>marital</th>\n",
       "      <th>education</th>\n",
       "      <th>default</th>\n",
       "      <th>balance</th>\n",
       "      <th>housing</th>\n",
       "      <th>loan</th>\n",
       "      <th>contact</th>\n",
       "      <th>day</th>\n",
       "      <th>month</th>\n",
       "      <th>duration</th>\n",
       "      <th>campaign</th>\n",
       "      <th>pdays</th>\n",
       "      <th>previous</th>\n",
       "      <th>poutcome</th>\n",
       "      <th>y</th>\n",
       "    </tr>\n",
       "  </thead>\n",
       "  <tbody>\n",
       "    <tr>\n",
       "      <th>0</th>\n",
       "      <td>58</td>\n",
       "      <td>management</td>\n",
       "      <td>married</td>\n",
       "      <td>tertiary</td>\n",
       "      <td>no</td>\n",
       "      <td>2143</td>\n",
       "      <td>yes</td>\n",
       "      <td>no</td>\n",
       "      <td>unknown</td>\n",
       "      <td>5</td>\n",
       "      <td>may</td>\n",
       "      <td>261</td>\n",
       "      <td>1</td>\n",
       "      <td>-1</td>\n",
       "      <td>0</td>\n",
       "      <td>unknown</td>\n",
       "      <td>no</td>\n",
       "    </tr>\n",
       "    <tr>\n",
       "      <th>1</th>\n",
       "      <td>44</td>\n",
       "      <td>technician</td>\n",
       "      <td>single</td>\n",
       "      <td>secondary</td>\n",
       "      <td>no</td>\n",
       "      <td>29</td>\n",
       "      <td>yes</td>\n",
       "      <td>no</td>\n",
       "      <td>unknown</td>\n",
       "      <td>5</td>\n",
       "      <td>may</td>\n",
       "      <td>151</td>\n",
       "      <td>1</td>\n",
       "      <td>-1</td>\n",
       "      <td>0</td>\n",
       "      <td>unknown</td>\n",
       "      <td>no</td>\n",
       "    </tr>\n",
       "    <tr>\n",
       "      <th>2</th>\n",
       "      <td>33</td>\n",
       "      <td>entrepreneur</td>\n",
       "      <td>married</td>\n",
       "      <td>secondary</td>\n",
       "      <td>no</td>\n",
       "      <td>2</td>\n",
       "      <td>yes</td>\n",
       "      <td>yes</td>\n",
       "      <td>unknown</td>\n",
       "      <td>5</td>\n",
       "      <td>may</td>\n",
       "      <td>76</td>\n",
       "      <td>1</td>\n",
       "      <td>-1</td>\n",
       "      <td>0</td>\n",
       "      <td>unknown</td>\n",
       "      <td>no</td>\n",
       "    </tr>\n",
       "    <tr>\n",
       "      <th>3</th>\n",
       "      <td>47</td>\n",
       "      <td>blue-collar</td>\n",
       "      <td>married</td>\n",
       "      <td>unknown</td>\n",
       "      <td>no</td>\n",
       "      <td>1506</td>\n",
       "      <td>yes</td>\n",
       "      <td>no</td>\n",
       "      <td>unknown</td>\n",
       "      <td>5</td>\n",
       "      <td>may</td>\n",
       "      <td>92</td>\n",
       "      <td>1</td>\n",
       "      <td>-1</td>\n",
       "      <td>0</td>\n",
       "      <td>unknown</td>\n",
       "      <td>no</td>\n",
       "    </tr>\n",
       "    <tr>\n",
       "      <th>4</th>\n",
       "      <td>33</td>\n",
       "      <td>unknown</td>\n",
       "      <td>single</td>\n",
       "      <td>unknown</td>\n",
       "      <td>no</td>\n",
       "      <td>1</td>\n",
       "      <td>no</td>\n",
       "      <td>no</td>\n",
       "      <td>unknown</td>\n",
       "      <td>5</td>\n",
       "      <td>may</td>\n",
       "      <td>198</td>\n",
       "      <td>1</td>\n",
       "      <td>-1</td>\n",
       "      <td>0</td>\n",
       "      <td>unknown</td>\n",
       "      <td>no</td>\n",
       "    </tr>\n",
       "  </tbody>\n",
       "</table>\n",
       "</div>"
      ],
      "text/plain": [
       "   age           job  marital  education default  balance housing loan  \\\n",
       "0   58    management  married   tertiary      no     2143     yes   no   \n",
       "1   44    technician   single  secondary      no       29     yes   no   \n",
       "2   33  entrepreneur  married  secondary      no        2     yes  yes   \n",
       "3   47   blue-collar  married    unknown      no     1506     yes   no   \n",
       "4   33       unknown   single    unknown      no        1      no   no   \n",
       "\n",
       "   contact  day month  duration  campaign  pdays  previous poutcome   y  \n",
       "0  unknown    5   may       261         1     -1         0  unknown  no  \n",
       "1  unknown    5   may       151         1     -1         0  unknown  no  \n",
       "2  unknown    5   may        76         1     -1         0  unknown  no  \n",
       "3  unknown    5   may        92         1     -1         0  unknown  no  \n",
       "4  unknown    5   may       198         1     -1         0  unknown  no  "
      ]
     },
     "execution_count": 59,
     "metadata": {},
     "output_type": "execute_result"
    }
   ],
   "source": [
    "# y = subscribed a term deposit or not. \n",
    "df.head()"
   ]
  },
  {
   "cell_type": "markdown",
   "id": "2c91400d-4d24-43b1-90fc-2f4317824fff",
   "metadata": {},
   "source": [
    "### Data Preparation"
   ]
  },
  {
   "cell_type": "code",
   "execution_count": 60,
   "id": "0185f63f-4ea9-4274-8afa-944b59b08ee0",
   "metadata": {},
   "outputs": [],
   "source": [
    "# all columns without default\n",
    "cols = ['age', 'job', 'marital', 'education', 'balance',\n",
    "'housing', 'contact', 'day', 'month', 'duration', 'campaign', 'pdays',\n",
    "'previous', 'poutcome', 'y']"
   ]
  },
  {
   "cell_type": "code",
   "execution_count": 61,
   "id": "790c983a-f049-484c-a61b-361edffa4d8a",
   "metadata": {},
   "outputs": [],
   "source": [
    "df = df[cols]"
   ]
  },
  {
   "cell_type": "code",
   "execution_count": 62,
   "id": "65b24c9a-5f1f-44d3-862b-929c78512c93",
   "metadata": {},
   "outputs": [
    {
     "data": {
      "text/plain": [
       "age          False\n",
       "job          False\n",
       "marital      False\n",
       "education    False\n",
       "balance      False\n",
       "housing      False\n",
       "contact      False\n",
       "day          False\n",
       "month        False\n",
       "duration     False\n",
       "campaign     False\n",
       "pdays        False\n",
       "previous     False\n",
       "poutcome     False\n",
       "y            False\n",
       "dtype: bool"
      ]
     },
     "execution_count": 62,
     "metadata": {},
     "output_type": "execute_result"
    }
   ],
   "source": [
    "df.isna().any()"
   ]
  },
  {
   "cell_type": "code",
   "execution_count": 63,
   "id": "b4b4f723-9405-4770-9207-05313fbc0ed4",
   "metadata": {},
   "outputs": [
    {
     "data": {
      "text/plain": [
       "age  job         marital   education  balance  housing  contact    day  month  duration  campaign  pdays  previous  poutcome  y  \n",
       "18   student     single    primary    608      no       cellular   12   aug    267       1         -1     0         unknown   yes    1\n",
       "45   management  married   tertiary   0        no       cellular   11   aug    102       4         -1     0         unknown   no     1\n",
       "                 divorced  tertiary   1        no       cellular   6    aug    490       2         -1     0         unknown   yes    1\n",
       "                                      54       no       cellular   21   jul    34        3         -1     0         unknown   no     1\n",
       "                                      220      yes      unknown    18   jun    89        4         -1     0         unknown   no     1\n",
       "                                                                                                                                    ..\n",
       "35   admin.      married   secondary  34       yes      cellular   13   may    249       2          365   3         failure   no     1\n",
       "                                      56       yes      unknown    13   may    93        6         -1     0         unknown   no     1\n",
       "                                      69       yes      unknown    6    may    235       2         -1     0         unknown   no     1\n",
       "                                      76       no       unknown    17   jun    107       1         -1     0         unknown   no     1\n",
       "95   retired     married   secondary  0        no       telephone  1    oct    215       1         -1     0         unknown   no     1\n",
       "Name: count, Length: 45211, dtype: int64"
      ]
     },
     "execution_count": 63,
     "metadata": {},
     "output_type": "execute_result"
    }
   ],
   "source": [
    "df.value_counts()"
   ]
  },
  {
   "cell_type": "markdown",
   "id": "e913f2ae-891f-40e2-99dd-718e77440bd0",
   "metadata": {},
   "source": [
    "Notice the *unknown* values"
   ]
  },
  {
   "cell_type": "code",
   "execution_count": 64,
   "id": "ef066d74-7a78-45f2-896a-65e74b5a1b2b",
   "metadata": {},
   "outputs": [],
   "source": [
    "numerical_variables = df.select_dtypes('number').columns.to_list()\n",
    "categorical_variables = ['job',\n",
    "  'marital',\n",
    "  'education',\n",
    "  'housing',\n",
    "  'contact',\n",
    "  'month',\n",
    "  'poutcome']"
   ]
  },
  {
   "cell_type": "code",
   "execution_count": 65,
   "id": "ca505598-78e9-4473-a38a-458d94043128",
   "metadata": {},
   "outputs": [
    {
     "data": {
      "text/plain": [
       "(['age', 'balance', 'day', 'duration', 'campaign', 'pdays', 'previous'],\n",
       " ['job', 'marital', 'education', 'housing', 'contact', 'month', 'poutcome'])"
      ]
     },
     "execution_count": 65,
     "metadata": {},
     "output_type": "execute_result"
    }
   ],
   "source": [
    "numerical_variables, categorical_variables"
   ]
  },
  {
   "cell_type": "markdown",
   "id": "459aef18-fd20-422e-9dbe-9eef0c06bbf0",
   "metadata": {},
   "source": [
    "Columns with \"unknown\" values:"
   ]
  },
  {
   "cell_type": "code",
   "execution_count": 66,
   "id": "4dd0b1ce-e110-4432-8163-3d046858262b",
   "metadata": {},
   "outputs": [
    {
     "name": "stdout",
     "output_type": "stream",
     "text": [
      "job\n",
      "education\n",
      "contact\n",
      "poutcome\n"
     ]
    }
   ],
   "source": [
    "df[categorical_variables].apply(lambda x: print(x.name) if x.str.contains('unknown').any() else None, axis=0);"
   ]
  },
  {
   "cell_type": "markdown",
   "id": "aa9cc043-bf45-4dd5-a7e2-d0d303cc3bce",
   "metadata": {},
   "source": [
    "# Question 1"
   ]
  },
  {
   "cell_type": "code",
   "execution_count": 67,
   "id": "4c89304e-6c42-4ac0-9673-7ed0a3f67cc6",
   "metadata": {},
   "outputs": [],
   "source": [
    "df.y = (df.y == 'yes').astype(int)"
   ]
  },
  {
   "cell_type": "code",
   "execution_count": 68,
   "id": "ac630409-ad16-4bb3-b328-fdc0e4833797",
   "metadata": {},
   "outputs": [
    {
     "data": {
      "text/plain": [
       "0    secondary\n",
       "Name: education, dtype: object"
      ]
     },
     "execution_count": 68,
     "metadata": {},
     "output_type": "execute_result"
    }
   ],
   "source": [
    "df.education.mode()"
   ]
  },
  {
   "cell_type": "markdown",
   "id": "8b2192dd-b9d3-4632-accc-2b4b522945f4",
   "metadata": {},
   "source": [
    "# Question 2"
   ]
  },
  {
   "cell_type": "markdown",
   "id": "5ff73d11-afc3-4591-9b7f-ff17c2a5da55",
   "metadata": {},
   "source": [
    "### Correlation Score"
   ]
  },
  {
   "cell_type": "code",
   "execution_count": 69,
   "id": "99b1a196-9b55-46b3-a4bc-2bf915b91cf1",
   "metadata": {},
   "outputs": [],
   "source": [
    "import matplotlib.pyplot as plt\n",
    "import seaborn as sns"
   ]
  },
  {
   "cell_type": "code",
   "execution_count": 70,
   "id": "32560698-ab0b-4d76-b414-7fafacaa4641",
   "metadata": {},
   "outputs": [],
   "source": [
    "# extract correlation\n",
    "corr_matrix = df[numerical_variables].corr()"
   ]
  },
  {
   "cell_type": "code",
   "execution_count": 71,
   "id": "ae40016b-de85-4a21-ba6d-d5c40b256832",
   "metadata": {},
   "outputs": [],
   "source": [
    "# fill diagonals with 0, by default it is 1.\n",
    "np.fill_diagonal(corr_matrix.values, 0)"
   ]
  },
  {
   "cell_type": "code",
   "execution_count": 72,
   "id": "c30dc44a-4570-4ec0-b942-afe8b530d66f",
   "metadata": {},
   "outputs": [
    {
     "data": {
      "text/html": [
       "<style type=\"text/css\">\n",
       "#T_e3b5a_row0_col0 {\n",
       "  background-color: #7a9df8;\n",
       "  color: #f1f1f1;\n",
       "}\n",
       "#T_e3b5a_row0_col1, #T_e3b5a_row1_col0, #T_e3b5a_row1_col3, #T_e3b5a_row2_col4, #T_e3b5a_row4_col2, #T_e3b5a_row5_col6, #T_e3b5a_row6_col5 {\n",
       "  background-color: #b40426;\n",
       "  color: #f1f1f1;\n",
       "}\n",
       "#T_e3b5a_row0_col2 {\n",
       "  background-color: #a9c6fd;\n",
       "  color: #000000;\n",
       "}\n",
       "#T_e3b5a_row0_col3 {\n",
       "  background-color: #f4987a;\n",
       "  color: #000000;\n",
       "}\n",
       "#T_e3b5a_row0_col4 {\n",
       "  background-color: #b7cff9;\n",
       "  color: #000000;\n",
       "}\n",
       "#T_e3b5a_row0_col5 {\n",
       "  background-color: #6282ea;\n",
       "  color: #f1f1f1;\n",
       "}\n",
       "#T_e3b5a_row0_col6, #T_e3b5a_row3_col6, #T_e3b5a_row6_col6 {\n",
       "  background-color: #5a78e4;\n",
       "  color: #f1f1f1;\n",
       "}\n",
       "#T_e3b5a_row1_col1 {\n",
       "  background-color: #6384eb;\n",
       "  color: #f1f1f1;\n",
       "}\n",
       "#T_e3b5a_row1_col2 {\n",
       "  background-color: #bad0f8;\n",
       "  color: #000000;\n",
       "}\n",
       "#T_e3b5a_row1_col4 {\n",
       "  background-color: #9dbdff;\n",
       "  color: #000000;\n",
       "}\n",
       "#T_e3b5a_row1_col5 {\n",
       "  background-color: #7396f5;\n",
       "  color: #f1f1f1;\n",
       "}\n",
       "#T_e3b5a_row1_col6 {\n",
       "  background-color: #6485ec;\n",
       "  color: #f1f1f1;\n",
       "}\n",
       "#T_e3b5a_row2_col0 {\n",
       "  background-color: #5f7fe8;\n",
       "  color: #f1f1f1;\n",
       "}\n",
       "#T_e3b5a_row2_col1, #T_e3b5a_row5_col5 {\n",
       "  background-color: #7093f3;\n",
       "  color: #f1f1f1;\n",
       "}\n",
       "#T_e3b5a_row2_col2 {\n",
       "  background-color: #b5cdfa;\n",
       "  color: #000000;\n",
       "}\n",
       "#T_e3b5a_row2_col3 {\n",
       "  background-color: #e0dbd8;\n",
       "  color: #000000;\n",
       "}\n",
       "#T_e3b5a_row2_col5, #T_e3b5a_row2_col6, #T_e3b5a_row4_col1, #T_e3b5a_row4_col3, #T_e3b5a_row5_col0, #T_e3b5a_row5_col2, #T_e3b5a_row5_col4 {\n",
       "  background-color: #3b4cc0;\n",
       "  color: #f1f1f1;\n",
       "}\n",
       "#T_e3b5a_row3_col0 {\n",
       "  background-color: #6c8ff1;\n",
       "  color: #f1f1f1;\n",
       "}\n",
       "#T_e3b5a_row3_col1 {\n",
       "  background-color: #a6c4fe;\n",
       "  color: #000000;\n",
       "}\n",
       "#T_e3b5a_row3_col2 {\n",
       "  background-color: #8badfd;\n",
       "  color: #000000;\n",
       "}\n",
       "#T_e3b5a_row3_col3 {\n",
       "  background-color: #ee8669;\n",
       "  color: #f1f1f1;\n",
       "}\n",
       "#T_e3b5a_row3_col4 {\n",
       "  background-color: #3f53c6;\n",
       "  color: #f1f1f1;\n",
       "}\n",
       "#T_e3b5a_row3_col5 {\n",
       "  background-color: #6f92f3;\n",
       "  color: #f1f1f1;\n",
       "}\n",
       "#T_e3b5a_row4_col0 {\n",
       "  background-color: #88abfd;\n",
       "  color: #000000;\n",
       "}\n",
       "#T_e3b5a_row4_col4 {\n",
       "  background-color: #b1cbfc;\n",
       "  color: #000000;\n",
       "}\n",
       "#T_e3b5a_row4_col5 {\n",
       "  background-color: #3d50c3;\n",
       "  color: #f1f1f1;\n",
       "}\n",
       "#T_e3b5a_row4_col6 {\n",
       "  background-color: #455cce;\n",
       "  color: #f1f1f1;\n",
       "}\n",
       "#T_e3b5a_row5_col1, #T_e3b5a_row6_col2 {\n",
       "  background-color: #6e90f2;\n",
       "  color: #f1f1f1;\n",
       "}\n",
       "#T_e3b5a_row5_col3 {\n",
       "  background-color: #f08b6e;\n",
       "  color: #f1f1f1;\n",
       "}\n",
       "#T_e3b5a_row6_col0 {\n",
       "  background-color: #7da0f9;\n",
       "  color: #f1f1f1;\n",
       "}\n",
       "#T_e3b5a_row6_col1 {\n",
       "  background-color: #97b8ff;\n",
       "  color: #000000;\n",
       "}\n",
       "#T_e3b5a_row6_col3 {\n",
       "  background-color: #ec8165;\n",
       "  color: #f1f1f1;\n",
       "}\n",
       "#T_e3b5a_row6_col4 {\n",
       "  background-color: #82a6fb;\n",
       "  color: #f1f1f1;\n",
       "}\n",
       "</style>\n",
       "<table id=\"T_e3b5a\">\n",
       "  <thead>\n",
       "    <tr>\n",
       "      <th class=\"blank level0\" >&nbsp;</th>\n",
       "      <th id=\"T_e3b5a_level0_col0\" class=\"col_heading level0 col0\" >age</th>\n",
       "      <th id=\"T_e3b5a_level0_col1\" class=\"col_heading level0 col1\" >balance</th>\n",
       "      <th id=\"T_e3b5a_level0_col2\" class=\"col_heading level0 col2\" >day</th>\n",
       "      <th id=\"T_e3b5a_level0_col3\" class=\"col_heading level0 col3\" >duration</th>\n",
       "      <th id=\"T_e3b5a_level0_col4\" class=\"col_heading level0 col4\" >campaign</th>\n",
       "      <th id=\"T_e3b5a_level0_col5\" class=\"col_heading level0 col5\" >pdays</th>\n",
       "      <th id=\"T_e3b5a_level0_col6\" class=\"col_heading level0 col6\" >previous</th>\n",
       "    </tr>\n",
       "  </thead>\n",
       "  <tbody>\n",
       "    <tr>\n",
       "      <th id=\"T_e3b5a_level0_row0\" class=\"row_heading level0 row0\" >age</th>\n",
       "      <td id=\"T_e3b5a_row0_col0\" class=\"data row0 col0\" >0.00</td>\n",
       "      <td id=\"T_e3b5a_row0_col1\" class=\"data row0 col1\" >0.10</td>\n",
       "      <td id=\"T_e3b5a_row0_col2\" class=\"data row0 col2\" >-0.01</td>\n",
       "      <td id=\"T_e3b5a_row0_col3\" class=\"data row0 col3\" >-0.00</td>\n",
       "      <td id=\"T_e3b5a_row0_col4\" class=\"data row0 col4\" >0.00</td>\n",
       "      <td id=\"T_e3b5a_row0_col5\" class=\"data row0 col5\" >-0.02</td>\n",
       "      <td id=\"T_e3b5a_row0_col6\" class=\"data row0 col6\" >0.00</td>\n",
       "    </tr>\n",
       "    <tr>\n",
       "      <th id=\"T_e3b5a_level0_row1\" class=\"row_heading level0 row1\" >balance</th>\n",
       "      <td id=\"T_e3b5a_row1_col0\" class=\"data row1 col0\" >0.10</td>\n",
       "      <td id=\"T_e3b5a_row1_col1\" class=\"data row1 col1\" >0.00</td>\n",
       "      <td id=\"T_e3b5a_row1_col2\" class=\"data row1 col2\" >0.00</td>\n",
       "      <td id=\"T_e3b5a_row1_col3\" class=\"data row1 col3\" >0.02</td>\n",
       "      <td id=\"T_e3b5a_row1_col4\" class=\"data row1 col4\" >-0.01</td>\n",
       "      <td id=\"T_e3b5a_row1_col5\" class=\"data row1 col5\" >0.00</td>\n",
       "      <td id=\"T_e3b5a_row1_col6\" class=\"data row1 col6\" >0.02</td>\n",
       "    </tr>\n",
       "    <tr>\n",
       "      <th id=\"T_e3b5a_level0_row2\" class=\"row_heading level0 row2\" >day</th>\n",
       "      <td id=\"T_e3b5a_row2_col0\" class=\"data row2 col0\" >-0.01</td>\n",
       "      <td id=\"T_e3b5a_row2_col1\" class=\"data row2 col1\" >0.00</td>\n",
       "      <td id=\"T_e3b5a_row2_col2\" class=\"data row2 col2\" >0.00</td>\n",
       "      <td id=\"T_e3b5a_row2_col3\" class=\"data row2 col3\" >-0.03</td>\n",
       "      <td id=\"T_e3b5a_row2_col4\" class=\"data row2 col4\" >0.16</td>\n",
       "      <td id=\"T_e3b5a_row2_col5\" class=\"data row2 col5\" >-0.09</td>\n",
       "      <td id=\"T_e3b5a_row2_col6\" class=\"data row2 col6\" >-0.05</td>\n",
       "    </tr>\n",
       "    <tr>\n",
       "      <th id=\"T_e3b5a_level0_row3\" class=\"row_heading level0 row3\" >duration</th>\n",
       "      <td id=\"T_e3b5a_row3_col0\" class=\"data row3 col0\" >-0.00</td>\n",
       "      <td id=\"T_e3b5a_row3_col1\" class=\"data row3 col1\" >0.02</td>\n",
       "      <td id=\"T_e3b5a_row3_col2\" class=\"data row3 col2\" >-0.03</td>\n",
       "      <td id=\"T_e3b5a_row3_col3\" class=\"data row3 col3\" >0.00</td>\n",
       "      <td id=\"T_e3b5a_row3_col4\" class=\"data row3 col4\" >-0.08</td>\n",
       "      <td id=\"T_e3b5a_row3_col5\" class=\"data row3 col5\" >-0.00</td>\n",
       "      <td id=\"T_e3b5a_row3_col6\" class=\"data row3 col6\" >0.00</td>\n",
       "    </tr>\n",
       "    <tr>\n",
       "      <th id=\"T_e3b5a_level0_row4\" class=\"row_heading level0 row4\" >campaign</th>\n",
       "      <td id=\"T_e3b5a_row4_col0\" class=\"data row4 col0\" >0.00</td>\n",
       "      <td id=\"T_e3b5a_row4_col1\" class=\"data row4 col1\" >-0.01</td>\n",
       "      <td id=\"T_e3b5a_row4_col2\" class=\"data row4 col2\" >0.16</td>\n",
       "      <td id=\"T_e3b5a_row4_col3\" class=\"data row4 col3\" >-0.08</td>\n",
       "      <td id=\"T_e3b5a_row4_col4\" class=\"data row4 col4\" >0.00</td>\n",
       "      <td id=\"T_e3b5a_row4_col5\" class=\"data row4 col5\" >-0.09</td>\n",
       "      <td id=\"T_e3b5a_row4_col6\" class=\"data row4 col6\" >-0.03</td>\n",
       "    </tr>\n",
       "    <tr>\n",
       "      <th id=\"T_e3b5a_level0_row5\" class=\"row_heading level0 row5\" >pdays</th>\n",
       "      <td id=\"T_e3b5a_row5_col0\" class=\"data row5 col0\" >-0.02</td>\n",
       "      <td id=\"T_e3b5a_row5_col1\" class=\"data row5 col1\" >0.00</td>\n",
       "      <td id=\"T_e3b5a_row5_col2\" class=\"data row5 col2\" >-0.09</td>\n",
       "      <td id=\"T_e3b5a_row5_col3\" class=\"data row5 col3\" >-0.00</td>\n",
       "      <td id=\"T_e3b5a_row5_col4\" class=\"data row5 col4\" >-0.09</td>\n",
       "      <td id=\"T_e3b5a_row5_col5\" class=\"data row5 col5\" >0.00</td>\n",
       "      <td id=\"T_e3b5a_row5_col6\" class=\"data row5 col6\" >0.45</td>\n",
       "    </tr>\n",
       "    <tr>\n",
       "      <th id=\"T_e3b5a_level0_row6\" class=\"row_heading level0 row6\" >previous</th>\n",
       "      <td id=\"T_e3b5a_row6_col0\" class=\"data row6 col0\" >0.00</td>\n",
       "      <td id=\"T_e3b5a_row6_col1\" class=\"data row6 col1\" >0.02</td>\n",
       "      <td id=\"T_e3b5a_row6_col2\" class=\"data row6 col2\" >-0.05</td>\n",
       "      <td id=\"T_e3b5a_row6_col3\" class=\"data row6 col3\" >0.00</td>\n",
       "      <td id=\"T_e3b5a_row6_col4\" class=\"data row6 col4\" >-0.03</td>\n",
       "      <td id=\"T_e3b5a_row6_col5\" class=\"data row6 col5\" >0.45</td>\n",
       "      <td id=\"T_e3b5a_row6_col6\" class=\"data row6 col6\" >0.00</td>\n",
       "    </tr>\n",
       "  </tbody>\n",
       "</table>\n"
      ],
      "text/plain": [
       "<pandas.io.formats.style.Styler at 0x2030f732950>"
      ]
     },
     "execution_count": 72,
     "metadata": {},
     "output_type": "execute_result"
    }
   ],
   "source": [
    "corr_matrix.style.background_gradient(cmap='coolwarm').format(precision=2)"
   ]
  },
  {
   "cell_type": "code",
   "execution_count": 119,
   "id": "57ea213a-8487-46be-94e6-f9fad70a9344",
   "metadata": {},
   "outputs": [
    {
     "data": {
      "text/plain": [
       "<Axes: title={'center': 'Correlation between variables'}>"
      ]
     },
     "execution_count": 119,
     "metadata": {},
     "output_type": "execute_result"
    },
    {
     "data": {
      "image/png": "[encoded data removed]",
      "text/plain": [
       "<Figure size 640x480 with 2 Axes>"
      ]
     },
     "metadata": {},
     "output_type": "display_data"
    }
   ],
   "source": [
    "plt.title('Correlation between variables', color='green', fontsize=15)\n",
    "sns.heatmap(corr_matrix, \n",
    "            xticklabels=corr_matrix.columns.values,\n",
    "            yticklabels=corr_matrix.columns.values)"
   ]
  },
  {
   "cell_type": "markdown",
   "id": "63a9aa1f-5dbf-4f92-b294-495283b17624",
   "metadata": {},
   "source": [
    "# Question 3"
   ]
  },
  {
   "cell_type": "code",
   "execution_count": 74,
   "id": "dd35f6a3-7b61-43fc-a75a-c795007ef383",
   "metadata": {},
   "outputs": [
    {
     "data": {
      "text/plain": [
       "age         0.097783\n",
       "balance     0.097783\n",
       "day         0.162490\n",
       "duration    0.021560\n",
       "campaign    0.162490\n",
       "pdays       0.454820\n",
       "previous    0.454820\n",
       "dtype: float64"
      ]
     },
     "execution_count": 74,
     "metadata": {},
     "output_type": "execute_result"
    }
   ],
   "source": [
    "corr_matrix.max()"
   ]
  },
  {
   "cell_type": "markdown",
   "id": "7f1eb4f9-2d9b-4533-bc7e-7eba97e5bbd9",
   "metadata": {},
   "source": [
    "### Mutual Information Score"
   ]
  },
  {
   "cell_type": "code",
   "execution_count": 75,
   "id": "28d77279-7119-4bee-80e1-25994de79244",
   "metadata": {},
   "outputs": [],
   "source": [
    "from sklearn.metrics import mutual_info_score\n",
    "# from IPython.display import display"
   ]
  },
  {
   "cell_type": "code",
   "execution_count": 76,
   "id": "b9281681-96a4-4a17-88be-b3bb75239ae1",
   "metadata": {},
   "outputs": [],
   "source": [
    "scores = {}"
   ]
  },
  {
   "cell_type": "code",
   "execution_count": 77,
   "id": "ec7a1d7f-8646-408f-835b-dce953a7a047",
   "metadata": {},
   "outputs": [],
   "source": [
    "for column in categorical_variables:\n",
    "    score = mutual_info_score(df.y, df[column])\n",
    "    scores[column] = round(score, 2)"
   ]
  },
  {
   "cell_type": "markdown",
   "id": "efe17ed0-1cfa-43b2-902f-5eaf4e1bbf17",
   "metadata": {},
   "source": [
    "# Question 4"
   ]
  },
  {
   "cell_type": "code",
   "execution_count": 78,
   "id": "bfab0623-f4d6-42d6-a2e1-915c6b420469",
   "metadata": {},
   "outputs": [
    {
     "data": {
      "text/plain": [
       "{'job': 0.01,\n",
       " 'marital': 0.0,\n",
       " 'education': 0.0,\n",
       " 'housing': 0.01,\n",
       " 'contact': 0.01,\n",
       " 'month': 0.02,\n",
       " 'poutcome': 0.03}"
      ]
     },
     "execution_count": 78,
     "metadata": {},
     "output_type": "execute_result"
    }
   ],
   "source": [
    "scores"
   ]
  },
  {
   "cell_type": "markdown",
   "id": "6cd78f38-657e-4b9d-9914-2e048a93bb08",
   "metadata": {},
   "source": [
    "### Data Splitting"
   ]
  },
  {
   "cell_type": "code",
   "execution_count": 79,
   "id": "4cb6ae98-01c8-4193-a5bd-90c914dccebf",
   "metadata": {},
   "outputs": [],
   "source": [
    "from sklearn.model_selection import train_test_split"
   ]
  },
  {
   "cell_type": "code",
   "execution_count": 80,
   "id": "e4e93ea3-3d1d-4d55-82e3-7989807de5ff",
   "metadata": {},
   "outputs": [],
   "source": [
    "# 60 20 20 split\n",
    "df_train_full, df_test = train_test_split(df, test_size=0.2, random_state=42)\n",
    "df_train, df_val = train_test_split(df_train_full, test_size=len(df_test), random_state=42)\n",
    "\n",
    "train_full_y = df_train_full.values\n",
    "test_y = df_test.y.values\n",
    "train_y = df_train.y.values\n",
    "val_y = df_val.y.values\n",
    "\n",
    "del df_test['y']\n",
    "del df_train['y']\n",
    "del df_val['y']\n",
    "del df_train_full['y']"
   ]
  },
  {
   "cell_type": "code",
   "execution_count": 81,
   "id": "1fed35df-542d-4355-ada0-697ab24c80e8",
   "metadata": {},
   "outputs": [
    {
     "data": {
      "text/plain": [
       "(27125, 9043, 9043)"
      ]
     },
     "execution_count": 81,
     "metadata": {},
     "output_type": "execute_result"
    }
   ],
   "source": [
    "len(df_train), len(df_val), len(df_test)"
   ]
  },
  {
   "cell_type": "code",
   "execution_count": 82,
   "id": "ec0cb0cb-8099-4343-bb49-f4c4b733e24b",
   "metadata": {},
   "outputs": [
    {
     "data": {
      "text/plain": [
       "(27125, 9043, 9043)"
      ]
     },
     "execution_count": 82,
     "metadata": {},
     "output_type": "execute_result"
    }
   ],
   "source": [
    "len(train_y), len(val_y), len(test_y)"
   ]
  },
  {
   "cell_type": "markdown",
   "id": "99612145-b187-4376-bad8-cd3103523ab8",
   "metadata": {},
   "source": [
    "### One-hot encoding"
   ]
  },
  {
   "cell_type": "code",
   "execution_count": 90,
   "id": "04a04f12-f146-44a9-abd5-a35d8c79ef0d",
   "metadata": {},
   "outputs": [],
   "source": [
    "from sklearn.feature_extraction import DictVectorizer\n",
    "# initialize dictvectorizer\n",
    "dv = DictVectorizer(sparse=False)\n",
    "full_train_dict = df_train_full.to_dict(orient='records')\n",
    "# fit dv\n",
    "dv.fit(full_train_dict)\n",
    "\n",
    "X_train = dv.transform(df_train.to_dict(orient='records'))\n",
    "X_val = dv.transform(df_val.to_dict(orient='records'))\n",
    "X_test = dv.transform(df_test.to_dict(orient='records'))\n",
    "X_full = dv.transform(full_train_dict)"
   ]
  },
  {
   "cell_type": "markdown",
   "id": "7cb93dfb-7720-4c8b-989f-07b275596f40",
   "metadata": {},
   "source": [
    "### Training the model"
   ]
  },
  {
   "cell_type": "code",
   "execution_count": 91,
   "id": "07ac74d9-22b9-4e86-8c31-dddf19bf6de5",
   "metadata": {},
   "outputs": [
    {
     "data": {
      "text/plain": [
       "(0.9, 0.9011390025434037)"
      ]
     },
     "execution_count": 91,
     "metadata": {},
     "output_type": "execute_result"
    }
   ],
   "source": [
    "from sklearn.linear_model import LogisticRegression\n",
    "from sklearn.metrics import accuracy_score\n",
    "\n",
    "model = LogisticRegression(solver='liblinear', C=1.0, max_iter=1000, random_state=42)\n",
    "model.fit(X_train, train_y)\n",
    "val_predictions = model.predict(X_val)\n",
    "\n",
    "# accuracy\n",
    "original_accuracy = accuracy_score(val_predictions, val_y)\n",
    "np.round(original_accuracy, 2), original_accuracy"
   ]
  },
  {
   "cell_type": "code",
   "execution_count": 92,
   "id": "d2337e35-006d-4453-8fb2-d3bd4c08bc9b",
   "metadata": {},
   "outputs": [
    {
     "data": {
      "text/plain": [
       "{'age': 0.001,\n",
       " 'balance': 0.0,\n",
       " 'campaign': -0.082,\n",
       " 'contact=cellular': 0.25,\n",
       " 'contact=telephone': 0.07,\n",
       " 'contact=unknown': -1.322,\n",
       " 'day': 0.01,\n",
       " 'duration': 0.004,\n",
       " 'education=primary': -0.439,\n",
       " 'education=secondary': -0.252,\n",
       " 'education=tertiary': -0.068,\n",
       " 'education=unknown': -0.241,\n",
       " 'housing=no': -0.148,\n",
       " 'housing=yes': -0.853,\n",
       " 'job=admin.': 0.095,\n",
       " 'job=blue-collar': -0.223,\n",
       " 'job=entrepreneur': -0.263,\n",
       " 'job=housemaid': -0.354,\n",
       " 'job=management': -0.087,\n",
       " 'job=retired': 0.243,\n",
       " 'job=self-employed': -0.291,\n",
       " 'job=services': -0.117,\n",
       " 'job=student': 0.304,\n",
       " 'job=technician': -0.152,\n",
       " 'job=unemployed': 0.045,\n",
       " 'job=unknown': -0.2,\n",
       " 'marital=divorced': -0.351,\n",
       " 'marital=married': -0.475,\n",
       " 'marital=single': -0.175,\n",
       " 'month=apr': -0.009,\n",
       " 'month=aug': -0.718,\n",
       " 'month=dec': 0.43,\n",
       " 'month=feb': -0.324,\n",
       " 'month=jan': -1.249,\n",
       " 'month=jul': -1.042,\n",
       " 'month=jun': 0.303,\n",
       " 'month=mar': 1.508,\n",
       " 'month=may': -0.51,\n",
       " 'month=nov': -0.966,\n",
       " 'month=oct': 0.767,\n",
       " 'month=sep': 0.809,\n",
       " 'pdays': -0.001,\n",
       " 'poutcome=failure': -0.821,\n",
       " 'poutcome=other': -0.608,\n",
       " 'poutcome=success': 1.479,\n",
       " 'poutcome=unknown': -1.05,\n",
       " 'previous': 0.008}"
      ]
     },
     "execution_count": 92,
     "metadata": {},
     "output_type": "execute_result"
    }
   ],
   "source": [
    "# just to see weights\n",
    "# dict(zip(dv.get_feature_names_out(), model.coef_[0].round(3)))"
   ]
  },
  {
   "cell_type": "markdown",
   "id": "8d061eca-4238-4b57-a629-c2b12a44870e",
   "metadata": {},
   "source": [
    "### Feature Elimination"
   ]
  },
  {
   "cell_type": "code",
   "execution_count": 114,
   "id": "39bb3749-5451-4f31-9251-ab9966d7edf5",
   "metadata": {},
   "outputs": [],
   "source": [
    "accuracy = []\n",
    "\n",
    "for excluded_feature in ['age', 'previous', 'balance', 'marital']:\n",
    "    # train with features excluding the current feature in the loop\n",
    "    dv = DictVectorizer(sparse=False)\n",
    "    feature_train = dv.fit_transform(df_train.drop(columns=excluded_feature).to_dict(orient='records'))\n",
    "    feature_val = dv.transform(df_val.drop(columns=excluded_feature).to_dict(orient='records'))\n",
    "    # fit new model with current features and make predictions\n",
    "    model = LogisticRegression(solver='liblinear', C=1.0, max_iter=1000, random_state=42)\n",
    "    model.fit(feature_train, train_y)\n",
    "    predictions = (model.predict_proba(feature_val)[:,1] >= 0.5)\n",
    "    \n",
    "    # calculate accuracy\n",
    "    acc = accuracy_score(val_y, predictions)\n",
    "    \n",
    "    accuracy.append((excluded_feature, original_accuracy, acc, original_accuracy - acc))"
   ]
  },
  {
   "cell_type": "code",
   "execution_count": 115,
   "id": "b32aeba3-5921-4c0e-92bf-925e17d9103c",
   "metadata": {},
   "outputs": [],
   "source": [
    "df_results = pd.DataFrame(data=accuracy, columns=[\"excluded_feature\", \"original_accuracy\", \"accuracy\", \"difference\"])"
   ]
  },
  {
   "cell_type": "markdown",
   "id": "928b0d57-e82d-46fa-b542-358edd88e748",
   "metadata": {},
   "source": [
    "# Question 5"
   ]
  },
  {
   "cell_type": "code",
   "execution_count": 116,
   "id": "9f80c442-9ade-4da6-b9cb-2ad16c15c4e0",
   "metadata": {},
   "outputs": [
    {
     "data": {
      "text/html": [
       "<div>\n",
       "<style scoped>\n",
       "    .dataframe tbody tr th:only-of-type {\n",
       "        vertical-align: middle;\n",
       "    }\n",
       "\n",
       "    .dataframe tbody tr th {\n",
       "        vertical-align: top;\n",
       "    }\n",
       "\n",
       "    .dataframe thead th {\n",
       "        text-align: right;\n",
       "    }\n",
       "</style>\n",
       "<table border=\"1\" class=\"dataframe\">\n",
       "  <thead>\n",
       "    <tr style=\"text-align: right;\">\n",
       "      <th></th>\n",
       "      <th>excluded_feature</th>\n",
       "      <th>original_accuracy</th>\n",
       "      <th>accuracy</th>\n",
       "      <th>difference</th>\n",
       "    </tr>\n",
       "  </thead>\n",
       "  <tbody>\n",
       "    <tr>\n",
       "      <th>0</th>\n",
       "      <td>age</td>\n",
       "      <td>0.901139</td>\n",
       "      <td>0.900918</td>\n",
       "      <td>0.000221</td>\n",
       "    </tr>\n",
       "    <tr>\n",
       "      <th>2</th>\n",
       "      <td>balance</td>\n",
       "      <td>0.901139</td>\n",
       "      <td>0.900697</td>\n",
       "      <td>0.000442</td>\n",
       "    </tr>\n",
       "    <tr>\n",
       "      <th>1</th>\n",
       "      <td>previous</td>\n",
       "      <td>0.901139</td>\n",
       "      <td>0.900586</td>\n",
       "      <td>0.000553</td>\n",
       "    </tr>\n",
       "    <tr>\n",
       "      <th>3</th>\n",
       "      <td>marital</td>\n",
       "      <td>0.901139</td>\n",
       "      <td>0.900254</td>\n",
       "      <td>0.000885</td>\n",
       "    </tr>\n",
       "  </tbody>\n",
       "</table>\n",
       "</div>"
      ],
      "text/plain": [
       "  excluded_feature  original_accuracy  accuracy  difference\n",
       "0              age           0.901139  0.900918    0.000221\n",
       "2          balance           0.901139  0.900697    0.000442\n",
       "1         previous           0.901139  0.900586    0.000553\n",
       "3          marital           0.901139  0.900254    0.000885"
      ]
     },
     "execution_count": 116,
     "metadata": {},
     "output_type": "execute_result"
    }
   ],
   "source": [
    "df_results.sort_values(by=\"difference\")"
   ]
  },
  {
   "cell_type": "markdown",
   "id": "dcac26ce-33e7-4c11-bc12-74205b42e968",
   "metadata": {},
   "source": [
    "### Regularization"
   ]
  },
  {
   "cell_type": "markdown",
   "id": "6e79b368-e772-4d7d-b883-acc6678c23a7",
   "metadata": {},
   "source": [
    "# Question 6"
   ]
  },
  {
   "cell_type": "code",
   "execution_count": 117,
   "id": "4cb9fe37-1f31-43d4-856d-3edca6f2a088",
   "metadata": {},
   "outputs": [
    {
     "data": {
      "text/plain": [
       "[(0.01, 0.898), (0.1, 0.901), (1, 0.901), (10, 0.901), (100, 0.901)]"
      ]
     },
     "execution_count": 117,
     "metadata": {},
     "output_type": "execute_result"
    }
   ],
   "source": [
    "Cs = [0.01, 0.1, 1, 10, 100]\n",
    "results = []\n",
    "for c in Cs:\n",
    "    model = LogisticRegression(solver='liblinear', C=c, max_iter=1000, random_state=42)\n",
    "    model.fit(X_train, train_y)\n",
    "\n",
    "    predictions = model.predict(X_val)\n",
    "    acc = accuracy_score(predictions, val_y)\n",
    "    results.append((c, round(acc, 3)))\n",
    "results"
   ]
  },
  {
   "cell_type": "markdown",
   "id": "ed71a0de-1143-408c-94ce-af758b4cdaeb",
   "metadata": {},
   "source": [
    "**0.01** seems to be the answer."
   ]
  }
 ],
 "metadata": {
  "kernelspec": {
   "display_name": "Python 3 (ipykernel)",
   "language": "python",
   "name": "python3"
  },
  "language_info": {
   "codemirror_mode": {
    "name": "ipython",
    "version": 3
   },
   "file_extension": ".py",
   "mimetype": "text/x-python",
   "name": "python",
   "nbconvert_exporter": "python",
   "pygments_lexer": "ipython3",
   "version": "3.11.9"
  }
 },
 "nbformat": 4,
 "nbformat_minor": 5
}
