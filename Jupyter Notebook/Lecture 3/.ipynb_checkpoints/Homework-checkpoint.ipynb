{
 "cells": [
  {
   "cell_type": "markdown",
   "id": "aecee92d-94a6-491c-b451-8966a60233b6",
   "metadata": {},
   "source": [
    "# Homework 3"
   ]
  },
  {
   "cell_type": "markdown",
   "id": "9261a8b4-b86e-48e0-8a69-1d0bd8c9196e",
   "metadata": {},
   "source": [
    "### Notebook by: Christian Cabral"
   ]
  },
  {
   "cell_type": "code",
   "execution_count": 514,
   "id": "17b36744-68a3-46f1-b8b1-05110546d8d7",
   "metadata": {},
   "outputs": [],
   "source": [
    "import numpy as np\n",
    "import pandas as pd"
   ]
  },
  {
   "cell_type": "code",
   "execution_count": 515,
   "id": "4bb0191a-abf0-43ce-9e35-c9654ea6daf6",
   "metadata": {},
   "outputs": [],
   "source": [
    "# according to documentation, sep parameter is ',' by default\n",
    "# since the columns in the csv file is separated by ';', set sep=';'\n",
    "df = pd.read_csv(\"../../Datasets/bank/bank-full.csv\", sep=';')"
   ]
  },
  {
   "cell_type": "code",
   "execution_count": 516,
   "id": "20e9643e-3295-4c73-a298-f1a0c5b0a4f5",
   "metadata": {},
   "outputs": [
    {
     "data": {
      "text/html": [
       "<div>\n",
       "<style scoped>\n",
       "    .dataframe tbody tr th:only-of-type {\n",
       "        vertical-align: middle;\n",
       "    }\n",
       "\n",
       "    .dataframe tbody tr th {\n",
       "        vertical-align: top;\n",
       "    }\n",
       "\n",
       "    .dataframe thead th {\n",
       "        text-align: right;\n",
       "    }\n",
       "</style>\n",
       "<table border=\"1\" class=\"dataframe\">\n",
       "  <thead>\n",
       "    <tr style=\"text-align: right;\">\n",
       "      <th></th>\n",
       "      <th>age</th>\n",
       "      <th>job</th>\n",
       "      <th>marital</th>\n",
       "      <th>education</th>\n",
       "      <th>default</th>\n",
       "      <th>balance</th>\n",
       "      <th>housing</th>\n",
       "      <th>loan</th>\n",
       "      <th>contact</th>\n",
       "      <th>day</th>\n",
       "      <th>month</th>\n",
       "      <th>duration</th>\n",
       "      <th>campaign</th>\n",
       "      <th>pdays</th>\n",
       "      <th>previous</th>\n",
       "      <th>poutcome</th>\n",
       "      <th>y</th>\n",
       "    </tr>\n",
       "  </thead>\n",
       "  <tbody>\n",
       "    <tr>\n",
       "      <th>0</th>\n",
       "      <td>58</td>\n",
       "      <td>management</td>\n",
       "      <td>married</td>\n",
       "      <td>tertiary</td>\n",
       "      <td>no</td>\n",
       "      <td>2143</td>\n",
       "      <td>yes</td>\n",
       "      <td>no</td>\n",
       "      <td>unknown</td>\n",
       "      <td>5</td>\n",
       "      <td>may</td>\n",
       "      <td>261</td>\n",
       "      <td>1</td>\n",
       "      <td>-1</td>\n",
       "      <td>0</td>\n",
       "      <td>unknown</td>\n",
       "      <td>no</td>\n",
       "    </tr>\n",
       "    <tr>\n",
       "      <th>1</th>\n",
       "      <td>44</td>\n",
       "      <td>technician</td>\n",
       "      <td>single</td>\n",
       "      <td>secondary</td>\n",
       "      <td>no</td>\n",
       "      <td>29</td>\n",
       "      <td>yes</td>\n",
       "      <td>no</td>\n",
       "      <td>unknown</td>\n",
       "      <td>5</td>\n",
       "      <td>may</td>\n",
       "      <td>151</td>\n",
       "      <td>1</td>\n",
       "      <td>-1</td>\n",
       "      <td>0</td>\n",
       "      <td>unknown</td>\n",
       "      <td>no</td>\n",
       "    </tr>\n",
       "    <tr>\n",
       "      <th>2</th>\n",
       "      <td>33</td>\n",
       "      <td>entrepreneur</td>\n",
       "      <td>married</td>\n",
       "      <td>secondary</td>\n",
       "      <td>no</td>\n",
       "      <td>2</td>\n",
       "      <td>yes</td>\n",
       "      <td>yes</td>\n",
       "      <td>unknown</td>\n",
       "      <td>5</td>\n",
       "      <td>may</td>\n",
       "      <td>76</td>\n",
       "      <td>1</td>\n",
       "      <td>-1</td>\n",
       "      <td>0</td>\n",
       "      <td>unknown</td>\n",
       "      <td>no</td>\n",
       "    </tr>\n",
       "    <tr>\n",
       "      <th>3</th>\n",
       "      <td>47</td>\n",
       "      <td>blue-collar</td>\n",
       "      <td>married</td>\n",
       "      <td>unknown</td>\n",
       "      <td>no</td>\n",
       "      <td>1506</td>\n",
       "      <td>yes</td>\n",
       "      <td>no</td>\n",
       "      <td>unknown</td>\n",
       "      <td>5</td>\n",
       "      <td>may</td>\n",
       "      <td>92</td>\n",
       "      <td>1</td>\n",
       "      <td>-1</td>\n",
       "      <td>0</td>\n",
       "      <td>unknown</td>\n",
       "      <td>no</td>\n",
       "    </tr>\n",
       "    <tr>\n",
       "      <th>4</th>\n",
       "      <td>33</td>\n",
       "      <td>unknown</td>\n",
       "      <td>single</td>\n",
       "      <td>unknown</td>\n",
       "      <td>no</td>\n",
       "      <td>1</td>\n",
       "      <td>no</td>\n",
       "      <td>no</td>\n",
       "      <td>unknown</td>\n",
       "      <td>5</td>\n",
       "      <td>may</td>\n",
       "      <td>198</td>\n",
       "      <td>1</td>\n",
       "      <td>-1</td>\n",
       "      <td>0</td>\n",
       "      <td>unknown</td>\n",
       "      <td>no</td>\n",
       "    </tr>\n",
       "  </tbody>\n",
       "</table>\n",
       "</div>"
      ],
      "text/plain": [
       "   age           job  marital  education default  balance housing loan  \\\n",
       "0   58    management  married   tertiary      no     2143     yes   no   \n",
       "1   44    technician   single  secondary      no       29     yes   no   \n",
       "2   33  entrepreneur  married  secondary      no        2     yes  yes   \n",
       "3   47   blue-collar  married    unknown      no     1506     yes   no   \n",
       "4   33       unknown   single    unknown      no        1      no   no   \n",
       "\n",
       "   contact  day month  duration  campaign  pdays  previous poutcome   y  \n",
       "0  unknown    5   may       261         1     -1         0  unknown  no  \n",
       "1  unknown    5   may       151         1     -1         0  unknown  no  \n",
       "2  unknown    5   may        76         1     -1         0  unknown  no  \n",
       "3  unknown    5   may        92         1     -1         0  unknown  no  \n",
       "4  unknown    5   may       198         1     -1         0  unknown  no  "
      ]
     },
     "execution_count": 516,
     "metadata": {},
     "output_type": "execute_result"
    }
   ],
   "source": [
    "# y = subscribed a term deposit or not. \n",
    "df.head()"
   ]
  },
  {
   "cell_type": "markdown",
   "id": "2c91400d-4d24-43b1-90fc-2f4317824fff",
   "metadata": {},
   "source": [
    "### Data Preparation"
   ]
  },
  {
   "cell_type": "code",
   "execution_count": 517,
   "id": "0185f63f-4ea9-4274-8afa-944b59b08ee0",
   "metadata": {},
   "outputs": [],
   "source": [
    "cols = [col for col in df.columns if col != 'default']"
   ]
  },
  {
   "cell_type": "code",
   "execution_count": 518,
   "id": "790c983a-f049-484c-a61b-361edffa4d8a",
   "metadata": {},
   "outputs": [],
   "source": [
    "df = df[cols]"
   ]
  },
  {
   "cell_type": "code",
   "execution_count": 519,
   "id": "65b24c9a-5f1f-44d3-862b-929c78512c93",
   "metadata": {},
   "outputs": [
    {
     "data": {
      "text/plain": [
       "age          False\n",
       "job          False\n",
       "marital      False\n",
       "education    False\n",
       "balance      False\n",
       "housing      False\n",
       "loan         False\n",
       "contact      False\n",
       "day          False\n",
       "month        False\n",
       "duration     False\n",
       "campaign     False\n",
       "pdays        False\n",
       "previous     False\n",
       "poutcome     False\n",
       "y            False\n",
       "dtype: bool"
      ]
     },
     "execution_count": 519,
     "metadata": {},
     "output_type": "execute_result"
    }
   ],
   "source": [
    "df.isna().any()"
   ]
  },
  {
   "cell_type": "code",
   "execution_count": 520,
   "id": "b4b4f723-9405-4770-9207-05313fbc0ed4",
   "metadata": {},
   "outputs": [
    {
     "data": {
      "text/plain": [
       "age  job         marital   education  balance  housing  loan  contact    day  month  duration  campaign  pdays  previous  poutcome  y  \n",
       "18   student     single    primary    608      no       no    cellular   12   aug    267       1         -1     0         unknown   yes    1\n",
       "45   management  married   tertiary   0        no       no    cellular   11   aug    102       4         -1     0         unknown   no     1\n",
       "                 divorced  tertiary   1        no       no    cellular   6    aug    490       2         -1     0         unknown   yes    1\n",
       "                                      54       no       yes   cellular   21   jul    34        3         -1     0         unknown   no     1\n",
       "                                      220      yes      no    unknown    18   jun    89        4         -1     0         unknown   no     1\n",
       "                                                                                                                                          ..\n",
       "35   admin.      married   secondary  34       yes      no    cellular   13   may    249       2          365   3         failure   no     1\n",
       "                                      56       yes      no    unknown    13   may    93        6         -1     0         unknown   no     1\n",
       "                                      69       yes      yes   unknown    6    may    235       2         -1     0         unknown   no     1\n",
       "                                      76       no       yes   unknown    17   jun    107       1         -1     0         unknown   no     1\n",
       "95   retired     married   secondary  0        no       no    telephone  1    oct    215       1         -1     0         unknown   no     1\n",
       "Name: count, Length: 45211, dtype: int64"
      ]
     },
     "execution_count": 520,
     "metadata": {},
     "output_type": "execute_result"
    }
   ],
   "source": [
    "df.value_counts()"
   ]
  },
  {
   "cell_type": "markdown",
   "id": "e913f2ae-891f-40e2-99dd-718e77440bd0",
   "metadata": {},
   "source": [
    "Notice the *unknown* values"
   ]
  },
  {
   "cell_type": "code",
   "execution_count": 521,
   "id": "ef066d74-7a78-45f2-896a-65e74b5a1b2b",
   "metadata": {},
   "outputs": [],
   "source": [
    "numerical_variables = df.select_dtypes('number').columns.to_list()\n",
    "categorical_variables = ['job',\n",
    "  'marital',\n",
    "  'education',\n",
    "  'housing',\n",
    "  'loan',\n",
    "  'contact',\n",
    "  'month',\n",
    "  'poutcome']"
   ]
  },
  {
   "cell_type": "code",
   "execution_count": 522,
   "id": "ca505598-78e9-4473-a38a-458d94043128",
   "metadata": {},
   "outputs": [
    {
     "data": {
      "text/plain": [
       "(['age', 'balance', 'day', 'duration', 'campaign', 'pdays', 'previous'],\n",
       " ['job',\n",
       "  'marital',\n",
       "  'education',\n",
       "  'housing',\n",
       "  'loan',\n",
       "  'contact',\n",
       "  'month',\n",
       "  'poutcome'])"
      ]
     },
     "execution_count": 522,
     "metadata": {},
     "output_type": "execute_result"
    }
   ],
   "source": [
    "numerical_variables, categorical_variables"
   ]
  },
  {
   "cell_type": "markdown",
   "id": "459aef18-fd20-422e-9dbe-9eef0c06bbf0",
   "metadata": {},
   "source": [
    "Columns with \"unknown\" values:"
   ]
  },
  {
   "cell_type": "code",
   "execution_count": 523,
   "id": "4dd0b1ce-e110-4432-8163-3d046858262b",
   "metadata": {},
   "outputs": [
    {
     "name": "stdout",
     "output_type": "stream",
     "text": [
      "job\n",
      "education\n",
      "contact\n",
      "poutcome\n"
     ]
    }
   ],
   "source": [
    "df[categorical_variables].apply(lambda x: print(x.name) if x.str.contains('unknown').any() else None, axis=0);"
   ]
  },
  {
   "cell_type": "markdown",
   "id": "aa9cc043-bf45-4dd5-a7e2-d0d303cc3bce",
   "metadata": {},
   "source": [
    "# Question 1"
   ]
  },
  {
   "cell_type": "code",
   "execution_count": 524,
   "id": "4c89304e-6c42-4ac0-9673-7ed0a3f67cc6",
   "metadata": {},
   "outputs": [],
   "source": [
    "df.y = (df.y == 'yes').astype(int)"
   ]
  },
  {
   "cell_type": "code",
   "execution_count": 525,
   "id": "ac630409-ad16-4bb3-b328-fdc0e4833797",
   "metadata": {},
   "outputs": [
    {
     "data": {
      "text/plain": [
       "0    secondary\n",
       "Name: education, dtype: object"
      ]
     },
     "execution_count": 525,
     "metadata": {},
     "output_type": "execute_result"
    }
   ],
   "source": [
    "df.education.mode()"
   ]
  },
  {
   "cell_type": "markdown",
   "id": "8b2192dd-b9d3-4632-accc-2b4b522945f4",
   "metadata": {},
   "source": [
    "# Question 2"
   ]
  },
  {
   "cell_type": "markdown",
   "id": "5ff73d11-afc3-4591-9b7f-ff17c2a5da55",
   "metadata": {},
   "source": [
    "### Correlation Score"
   ]
  },
  {
   "cell_type": "code",
   "execution_count": 526,
   "id": "32560698-ab0b-4d76-b414-7fafacaa4641",
   "metadata": {},
   "outputs": [],
   "source": [
    "# extract correlation\n",
    "corr_matrix = df[numerical_variables].corr()"
   ]
  },
  {
   "cell_type": "code",
   "execution_count": 527,
   "id": "ae40016b-de85-4a21-ba6d-d5c40b256832",
   "metadata": {},
   "outputs": [],
   "source": [
    "# fill diagonals with 0, by default it is 1.\n",
    "np.fill_diagonal(corr_matrix.values, 0)"
   ]
  },
  {
   "cell_type": "code",
   "execution_count": 528,
   "id": "014ba3af-7a44-4477-a5b6-3a9695b42071",
   "metadata": {},
   "outputs": [
    {
     "data": {
      "text/html": [
       "<div>\n",
       "<style scoped>\n",
       "    .dataframe tbody tr th:only-of-type {\n",
       "        vertical-align: middle;\n",
       "    }\n",
       "\n",
       "    .dataframe tbody tr th {\n",
       "        vertical-align: top;\n",
       "    }\n",
       "\n",
       "    .dataframe thead th {\n",
       "        text-align: right;\n",
       "    }\n",
       "</style>\n",
       "<table border=\"1\" class=\"dataframe\">\n",
       "  <thead>\n",
       "    <tr style=\"text-align: right;\">\n",
       "      <th></th>\n",
       "      <th>age</th>\n",
       "      <th>balance</th>\n",
       "      <th>day</th>\n",
       "      <th>duration</th>\n",
       "      <th>campaign</th>\n",
       "      <th>pdays</th>\n",
       "      <th>previous</th>\n",
       "    </tr>\n",
       "  </thead>\n",
       "  <tbody>\n",
       "    <tr>\n",
       "      <th>age</th>\n",
       "      <td>0.000000</td>\n",
       "      <td>0.097783</td>\n",
       "      <td>-0.009120</td>\n",
       "      <td>-0.004648</td>\n",
       "      <td>0.004760</td>\n",
       "      <td>-0.023758</td>\n",
       "      <td>0.001288</td>\n",
       "    </tr>\n",
       "    <tr>\n",
       "      <th>balance</th>\n",
       "      <td>0.097783</td>\n",
       "      <td>0.000000</td>\n",
       "      <td>0.004503</td>\n",
       "      <td>0.021560</td>\n",
       "      <td>-0.014578</td>\n",
       "      <td>0.003435</td>\n",
       "      <td>0.016674</td>\n",
       "    </tr>\n",
       "    <tr>\n",
       "      <th>day</th>\n",
       "      <td>-0.009120</td>\n",
       "      <td>0.004503</td>\n",
       "      <td>0.000000</td>\n",
       "      <td>-0.030206</td>\n",
       "      <td>0.162490</td>\n",
       "      <td>-0.093044</td>\n",
       "      <td>-0.051710</td>\n",
       "    </tr>\n",
       "    <tr>\n",
       "      <th>duration</th>\n",
       "      <td>-0.004648</td>\n",
       "      <td>0.021560</td>\n",
       "      <td>-0.030206</td>\n",
       "      <td>0.000000</td>\n",
       "      <td>-0.084570</td>\n",
       "      <td>-0.001565</td>\n",
       "      <td>0.001203</td>\n",
       "    </tr>\n",
       "    <tr>\n",
       "      <th>campaign</th>\n",
       "      <td>0.004760</td>\n",
       "      <td>-0.014578</td>\n",
       "      <td>0.162490</td>\n",
       "      <td>-0.084570</td>\n",
       "      <td>0.000000</td>\n",
       "      <td>-0.088628</td>\n",
       "      <td>-0.032855</td>\n",
       "    </tr>\n",
       "    <tr>\n",
       "      <th>pdays</th>\n",
       "      <td>-0.023758</td>\n",
       "      <td>0.003435</td>\n",
       "      <td>-0.093044</td>\n",
       "      <td>-0.001565</td>\n",
       "      <td>-0.088628</td>\n",
       "      <td>0.000000</td>\n",
       "      <td>0.454820</td>\n",
       "    </tr>\n",
       "    <tr>\n",
       "      <th>previous</th>\n",
       "      <td>0.001288</td>\n",
       "      <td>0.016674</td>\n",
       "      <td>-0.051710</td>\n",
       "      <td>0.001203</td>\n",
       "      <td>-0.032855</td>\n",
       "      <td>0.454820</td>\n",
       "      <td>0.000000</td>\n",
       "    </tr>\n",
       "  </tbody>\n",
       "</table>\n",
       "</div>"
      ],
      "text/plain": [
       "               age   balance       day  duration  campaign     pdays  previous\n",
       "age       0.000000  0.097783 -0.009120 -0.004648  0.004760 -0.023758  0.001288\n",
       "balance   0.097783  0.000000  0.004503  0.021560 -0.014578  0.003435  0.016674\n",
       "day      -0.009120  0.004503  0.000000 -0.030206  0.162490 -0.093044 -0.051710\n",
       "duration -0.004648  0.021560 -0.030206  0.000000 -0.084570 -0.001565  0.001203\n",
       "campaign  0.004760 -0.014578  0.162490 -0.084570  0.000000 -0.088628 -0.032855\n",
       "pdays    -0.023758  0.003435 -0.093044 -0.001565 -0.088628  0.000000  0.454820\n",
       "previous  0.001288  0.016674 -0.051710  0.001203 -0.032855  0.454820  0.000000"
      ]
     },
     "execution_count": 528,
     "metadata": {},
     "output_type": "execute_result"
    }
   ],
   "source": [
    "corr_matrix"
   ]
  },
  {
   "cell_type": "code",
   "execution_count": 529,
   "id": "dd35f6a3-7b61-43fc-a75a-c795007ef383",
   "metadata": {},
   "outputs": [
    {
     "data": {
      "text/plain": [
       "age         0.097783\n",
       "balance     0.097783\n",
       "day         0.162490\n",
       "duration    0.021560\n",
       "campaign    0.162490\n",
       "pdays       0.454820\n",
       "previous    0.454820\n",
       "dtype: float64"
      ]
     },
     "execution_count": 529,
     "metadata": {},
     "output_type": "execute_result"
    }
   ],
   "source": [
    "corr_matrix.max()"
   ]
  },
  {
   "cell_type": "markdown",
   "id": "7f1eb4f9-2d9b-4533-bc7e-7eba97e5bbd9",
   "metadata": {},
   "source": [
    "### Mutual Information Score"
   ]
  },
  {
   "cell_type": "code",
   "execution_count": 530,
   "id": "28d77279-7119-4bee-80e1-25994de79244",
   "metadata": {},
   "outputs": [],
   "source": [
    "from sklearn.metrics import mutual_info_score\n",
    "# from IPython.display import display"
   ]
  },
  {
   "cell_type": "code",
   "execution_count": 531,
   "id": "b9281681-96a4-4a17-88be-b3bb75239ae1",
   "metadata": {},
   "outputs": [],
   "source": [
    "scores = {}"
   ]
  },
  {
   "cell_type": "code",
   "execution_count": 532,
   "id": "ec7a1d7f-8646-408f-835b-dce953a7a047",
   "metadata": {},
   "outputs": [],
   "source": [
    "for column in categorical_variables:\n",
    "    score = mutual_info_score(df.y, df[column])\n",
    "    scores[column] = round(score, 2)"
   ]
  },
  {
   "cell_type": "code",
   "execution_count": 533,
   "id": "bfab0623-f4d6-42d6-a2e1-915c6b420469",
   "metadata": {},
   "outputs": [
    {
     "data": {
      "text/plain": [
       "{'job': 0.01,\n",
       " 'marital': 0.0,\n",
       " 'education': 0.0,\n",
       " 'housing': 0.01,\n",
       " 'loan': 0.0,\n",
       " 'contact': 0.01,\n",
       " 'month': 0.02,\n",
       " 'poutcome': 0.03}"
      ]
     },
     "execution_count": 533,
     "metadata": {},
     "output_type": "execute_result"
    }
   ],
   "source": [
    "scores"
   ]
  },
  {
   "cell_type": "markdown",
   "id": "6cd78f38-657e-4b9d-9914-2e048a93bb08",
   "metadata": {},
   "source": [
    "### Data Splitting"
   ]
  },
  {
   "cell_type": "code",
   "execution_count": 534,
   "id": "4cb6ae98-01c8-4193-a5bd-90c914dccebf",
   "metadata": {},
   "outputs": [],
   "source": [
    "from sklearn.model_selection import train_test_split"
   ]
  },
  {
   "cell_type": "code",
   "execution_count": 535,
   "id": "e4e93ea3-3d1d-4d55-82e3-7989807de5ff",
   "metadata": {},
   "outputs": [],
   "source": [
    "# 60 20 20 split\n",
    "df_train_full, df_test = train_test_split(df[cols], test_size=0.2, random_state=42)\n",
    "df_train, df_val = train_test_split(df_train_full, test_size=len(df_test), random_state=42)"
   ]
  },
  {
   "cell_type": "code",
   "execution_count": 536,
   "id": "c69fdc70-fa31-436f-ae4e-c2143892024c",
   "metadata": {},
   "outputs": [],
   "source": [
    "train_full_y = df_train_full.values\n",
    "test_y = df_test.y.values\n",
    "train_y = df_train.y.values\n",
    "val_y = df_val.y.values"
   ]
  },
  {
   "cell_type": "code",
   "execution_count": 537,
   "id": "0c52daed-df4e-4d2d-bb82-f3a11d0f5937",
   "metadata": {},
   "outputs": [],
   "source": [
    "del df_test['y']\n",
    "del df_train['y']\n",
    "del df_val['y']\n",
    "del df_train_full['y']"
   ]
  },
  {
   "cell_type": "code",
   "execution_count": 538,
   "id": "1fed35df-542d-4355-ada0-697ab24c80e8",
   "metadata": {},
   "outputs": [
    {
     "data": {
      "text/plain": [
       "(27125, 9043, 9043)"
      ]
     },
     "execution_count": 538,
     "metadata": {},
     "output_type": "execute_result"
    }
   ],
   "source": [
    "len(df_train), len(df_val), len(df_test)"
   ]
  },
  {
   "cell_type": "code",
   "execution_count": 539,
   "id": "ec0cb0cb-8099-4343-bb49-f4c4b733e24b",
   "metadata": {},
   "outputs": [
    {
     "data": {
      "text/plain": [
       "(27125, 9043, 9043)"
      ]
     },
     "execution_count": 539,
     "metadata": {},
     "output_type": "execute_result"
    }
   ],
   "source": [
    "len(train_y), len(val_y), len(test_y)"
   ]
  },
  {
   "cell_type": "markdown",
   "id": "99612145-b187-4376-bad8-cd3103523ab8",
   "metadata": {},
   "source": [
    "### One-hot encoding"
   ]
  },
  {
   "cell_type": "code",
   "execution_count": 540,
   "id": "6694dde5-8ace-4626-a626-d2c9a69238e8",
   "metadata": {},
   "outputs": [],
   "source": [
    "from sklearn.feature_extraction import DictVectorizer"
   ]
  },
  {
   "cell_type": "code",
   "execution_count": 541,
   "id": "04a04f12-f146-44a9-abd5-a35d8c79ef0d",
   "metadata": {},
   "outputs": [],
   "source": [
    "dv = DictVectorizer(sparse=False)\n",
    "X_train = dv.fit_transform(df_train.to_dict(orient='records'))"
   ]
  },
  {
   "cell_type": "code",
   "execution_count": 542,
   "id": "ad8047d0-db03-4390-af19-64d6f5d6d7a1",
   "metadata": {},
   "outputs": [
    {
     "data": {
      "text/plain": [
       "array([[3.800e+01, 0.000e+00, 1.000e+00, ..., 0.000e+00, 1.000e+00,\n",
       "        0.000e+00],\n",
       "       [4.900e+01, 3.309e+03, 2.000e+00, ..., 0.000e+00, 1.000e+00,\n",
       "        0.000e+00],\n",
       "       [3.700e+01, 2.410e+03, 1.000e+00, ..., 0.000e+00, 1.000e+00,\n",
       "        0.000e+00],\n",
       "       ...,\n",
       "       [5.400e+01, 0.000e+00, 1.000e+00, ..., 0.000e+00, 1.000e+00,\n",
       "        0.000e+00],\n",
       "       [2.500e+01, 2.311e+03, 2.000e+00, ..., 0.000e+00, 1.000e+00,\n",
       "        0.000e+00],\n",
       "       [3.000e+01, 1.500e+01, 2.000e+00, ..., 0.000e+00, 1.000e+00,\n",
       "        0.000e+00]])"
      ]
     },
     "execution_count": 542,
     "metadata": {},
     "output_type": "execute_result"
    }
   ],
   "source": [
    "X_train"
   ]
  },
  {
   "cell_type": "code",
   "execution_count": 543,
   "id": "ec4b9b2f-5d5c-4e8f-9987-12f861cec29d",
   "metadata": {},
   "outputs": [],
   "source": [
    "X_val = dv.transform(df_val.to_dict(orient='records'))\n",
    "X_test = dv.transform(df_test.to_dict(orient='records'))\n",
    "X_full = dv.transform(df_train_full.to_dict(orient='records'))"
   ]
  },
  {
   "cell_type": "markdown",
   "id": "7cb93dfb-7720-4c8b-989f-07b275596f40",
   "metadata": {},
   "source": [
    "### Training the model"
   ]
  },
  {
   "cell_type": "code",
   "execution_count": 544,
   "id": "07ac74d9-22b9-4e86-8c31-dddf19bf6de5",
   "metadata": {},
   "outputs": [
    {
     "data": {
      "text/plain": [
       "(0.9, 0.899922592060157)"
      ]
     },
     "execution_count": 544,
     "metadata": {},
     "output_type": "execute_result"
    }
   ],
   "source": [
    "from sklearn.linear_model import LogisticRegression\n",
    "from sklearn.metrics import accuracy_score\n",
    "\n",
    "model = LogisticRegression(solver='liblinear', C=1.0, max_iter=1000, random_state=42)\n",
    "model.fit(X_train, train_y)\n",
    "val_predictions = model.predict(X_val)\n",
    "\n",
    "# accuracy\n",
    "original_accuracy = accuracy_score(val_predictions, val_y)\n",
    "np.round(original_accuracy, 2), original_accuracy"
   ]
  },
  {
   "cell_type": "markdown",
   "id": "8d061eca-4238-4b57-a629-c2b12a44870e",
   "metadata": {},
   "source": [
    "### Feature Elimination"
   ]
  },
  {
   "cell_type": "code",
   "execution_count": 548,
   "id": "39bb3749-5451-4f31-9251-ab9966d7edf5",
   "metadata": {},
   "outputs": [],
   "source": [
    "accuracy = []\n",
    "\n",
    "for excluded_feature in ['age', 'previous', 'balance', 'marital']:\n",
    "    # train with features excluding the current feature in the loop\n",
    "    dv = DictVectorizer(sparse=False)\n",
    "    feature_train = dv.fit_transform(df_train.drop(columns=excluded_feature).to_dict(orient='records'))\n",
    "    feature_val = dv.transform(df_val.drop(columns=excluded_feature).to_dict(orient='records'))\n",
    "    \n",
    "    model = LogisticRegression(solver='liblinear', C=1.0, max_iter=1000, random_state=42)\n",
    "    model.fit(feature_train, train_y)\n",
    "    \n",
    "    predictions = model.predict(feature_val)\n",
    "    acc = accuracy_score(val_y, predictions)\n",
    "    accuracy.append((excluded_feature, original_accuracy, acc, original_accuracy - acc))"
   ]
  },
  {
   "cell_type": "code",
   "execution_count": 549,
   "id": "b32aeba3-5921-4c0e-92bf-925e17d9103c",
   "metadata": {},
   "outputs": [],
   "source": [
    "df_results = pd.DataFrame(data=accuracy, columns=[\"excluded_feature\", \"original_accuracy\", \"accuracy\", \"difference\"])"
   ]
  },
  {
   "cell_type": "code",
   "execution_count": 550,
   "id": "9f80c442-9ade-4da6-b9cb-2ad16c15c4e0",
   "metadata": {},
   "outputs": [
    {
     "data": {
      "text/html": [
       "<div>\n",
       "<style scoped>\n",
       "    .dataframe tbody tr th:only-of-type {\n",
       "        vertical-align: middle;\n",
       "    }\n",
       "\n",
       "    .dataframe tbody tr th {\n",
       "        vertical-align: top;\n",
       "    }\n",
       "\n",
       "    .dataframe thead th {\n",
       "        text-align: right;\n",
       "    }\n",
       "</style>\n",
       "<table border=\"1\" class=\"dataframe\">\n",
       "  <thead>\n",
       "    <tr style=\"text-align: right;\">\n",
       "      <th></th>\n",
       "      <th>excluded_feature</th>\n",
       "      <th>original_accuracy</th>\n",
       "      <th>accuracy</th>\n",
       "      <th>difference</th>\n",
       "    </tr>\n",
       "  </thead>\n",
       "  <tbody>\n",
       "    <tr>\n",
       "      <th>2</th>\n",
       "      <td>balance</td>\n",
       "      <td>0.899923</td>\n",
       "      <td>0.900254</td>\n",
       "      <td>0.000332</td>\n",
       "    </tr>\n",
       "    <tr>\n",
       "      <th>1</th>\n",
       "      <td>previous</td>\n",
       "      <td>0.899923</td>\n",
       "      <td>0.900365</td>\n",
       "      <td>0.000442</td>\n",
       "    </tr>\n",
       "    <tr>\n",
       "      <th>0</th>\n",
       "      <td>age</td>\n",
       "      <td>0.899923</td>\n",
       "      <td>0.898817</td>\n",
       "      <td>0.001106</td>\n",
       "    </tr>\n",
       "    <tr>\n",
       "      <th>3</th>\n",
       "      <td>marital</td>\n",
       "      <td>0.899923</td>\n",
       "      <td>0.901028</td>\n",
       "      <td>0.001106</td>\n",
       "    </tr>\n",
       "  </tbody>\n",
       "</table>\n",
       "</div>"
      ],
      "text/plain": [
       "  excluded_feature  original_accuracy  accuracy  difference\n",
       "2          balance           0.899923  0.900254    0.000332\n",
       "1         previous           0.899923  0.900365    0.000442\n",
       "0              age           0.899923  0.898817    0.001106\n",
       "3          marital           0.899923  0.901028    0.001106"
      ]
     },
     "execution_count": 550,
     "metadata": {},
     "output_type": "execute_result"
    }
   ],
   "source": [
    "df_results.sort_values(by=\"difference\")"
   ]
  },
  {
   "cell_type": "code",
   "execution_count": null,
   "id": "94d53eb4-58f4-46f9-a0e0-0fdf3610a95f",
   "metadata": {},
   "outputs": [],
   "source": []
  }
 ],
 "metadata": {
  "kernelspec": {
   "display_name": "Python 3 (ipykernel)",
   "language": "python",
   "name": "python3"
  },
  "language_info": {
   "codemirror_mode": {
    "name": "ipython",
    "version": 3
   },
   "file_extension": ".py",
   "mimetype": "text/x-python",
   "name": "python",
   "nbconvert_exporter": "python",
   "pygments_lexer": "ipython3",
   "version": "3.11.9"
  }
 },
 "nbformat": 4,
 "nbformat_minor": 5
}
