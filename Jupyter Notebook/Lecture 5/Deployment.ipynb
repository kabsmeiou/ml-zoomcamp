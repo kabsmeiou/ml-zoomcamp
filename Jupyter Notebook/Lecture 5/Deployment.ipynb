{
 "cells": [
  {
   "cell_type": "code",
   "execution_count": 11,
   "id": "1f8f54f5-7b53-40f9-a4bb-79242094aff3",
   "metadata": {},
   "outputs": [],
   "source": [
    "import pandas as pd\n",
    "import numpy as np\n",
    "\n",
    "import matplotlib.pyplot as plt\n",
    "import seaborn as sns\n",
    "%matplotlib inline"
   ]
  },
  {
   "cell_type": "markdown",
   "id": "428684ec-d74e-4bb8-9a96-37856ba85afd",
   "metadata": {},
   "source": [
    "### Data Preparation"
   ]
  },
  {
   "cell_type": "code",
   "execution_count": 12,
   "id": "714b9a36-b9ab-425d-a876-113e72a6f64f",
   "metadata": {},
   "outputs": [
    {
     "data": {
      "text/html": [
       "<div>\n",
       "<style scoped>\n",
       "    .dataframe tbody tr th:only-of-type {\n",
       "        vertical-align: middle;\n",
       "    }\n",
       "\n",
       "    .dataframe tbody tr th {\n",
       "        vertical-align: top;\n",
       "    }\n",
       "\n",
       "    .dataframe thead th {\n",
       "        text-align: right;\n",
       "    }\n",
       "</style>\n",
       "<table border=\"1\" class=\"dataframe\">\n",
       "  <thead>\n",
       "    <tr style=\"text-align: right;\">\n",
       "      <th></th>\n",
       "      <th>customerid</th>\n",
       "      <th>gender</th>\n",
       "      <th>seniorcitizen</th>\n",
       "      <th>partner</th>\n",
       "      <th>dependents</th>\n",
       "      <th>tenure</th>\n",
       "      <th>phoneservice</th>\n",
       "      <th>multiplelines</th>\n",
       "      <th>internetservice</th>\n",
       "      <th>onlinesecurity</th>\n",
       "      <th>...</th>\n",
       "      <th>deviceprotection</th>\n",
       "      <th>techsupport</th>\n",
       "      <th>streamingtv</th>\n",
       "      <th>streamingmovies</th>\n",
       "      <th>contract</th>\n",
       "      <th>paperlessbilling</th>\n",
       "      <th>paymentmethod</th>\n",
       "      <th>monthlycharges</th>\n",
       "      <th>totalcharges</th>\n",
       "      <th>churn</th>\n",
       "    </tr>\n",
       "  </thead>\n",
       "  <tbody>\n",
       "    <tr>\n",
       "      <th>0</th>\n",
       "      <td>7590-VHVEG</td>\n",
       "      <td>Female</td>\n",
       "      <td>0</td>\n",
       "      <td>Yes</td>\n",
       "      <td>No</td>\n",
       "      <td>1</td>\n",
       "      <td>No</td>\n",
       "      <td>No phone service</td>\n",
       "      <td>DSL</td>\n",
       "      <td>No</td>\n",
       "      <td>...</td>\n",
       "      <td>No</td>\n",
       "      <td>No</td>\n",
       "      <td>No</td>\n",
       "      <td>No</td>\n",
       "      <td>Month-to-month</td>\n",
       "      <td>Yes</td>\n",
       "      <td>Electronic check</td>\n",
       "      <td>29.85</td>\n",
       "      <td>29.85</td>\n",
       "      <td>No</td>\n",
       "    </tr>\n",
       "    <tr>\n",
       "      <th>1</th>\n",
       "      <td>5575-GNVDE</td>\n",
       "      <td>Male</td>\n",
       "      <td>0</td>\n",
       "      <td>No</td>\n",
       "      <td>No</td>\n",
       "      <td>34</td>\n",
       "      <td>Yes</td>\n",
       "      <td>No</td>\n",
       "      <td>DSL</td>\n",
       "      <td>Yes</td>\n",
       "      <td>...</td>\n",
       "      <td>Yes</td>\n",
       "      <td>No</td>\n",
       "      <td>No</td>\n",
       "      <td>No</td>\n",
       "      <td>One year</td>\n",
       "      <td>No</td>\n",
       "      <td>Mailed check</td>\n",
       "      <td>56.95</td>\n",
       "      <td>1889.5</td>\n",
       "      <td>No</td>\n",
       "    </tr>\n",
       "    <tr>\n",
       "      <th>2</th>\n",
       "      <td>3668-QPYBK</td>\n",
       "      <td>Male</td>\n",
       "      <td>0</td>\n",
       "      <td>No</td>\n",
       "      <td>No</td>\n",
       "      <td>2</td>\n",
       "      <td>Yes</td>\n",
       "      <td>No</td>\n",
       "      <td>DSL</td>\n",
       "      <td>Yes</td>\n",
       "      <td>...</td>\n",
       "      <td>No</td>\n",
       "      <td>No</td>\n",
       "      <td>No</td>\n",
       "      <td>No</td>\n",
       "      <td>Month-to-month</td>\n",
       "      <td>Yes</td>\n",
       "      <td>Mailed check</td>\n",
       "      <td>53.85</td>\n",
       "      <td>108.15</td>\n",
       "      <td>Yes</td>\n",
       "    </tr>\n",
       "  </tbody>\n",
       "</table>\n",
       "<p>3 rows × 21 columns</p>\n",
       "</div>"
      ],
      "text/plain": [
       "   customerid  gender  seniorcitizen partner dependents  tenure phoneservice  \\\n",
       "0  7590-VHVEG  Female              0     Yes         No       1           No   \n",
       "1  5575-GNVDE    Male              0      No         No      34          Yes   \n",
       "2  3668-QPYBK    Male              0      No         No       2          Yes   \n",
       "\n",
       "      multiplelines internetservice onlinesecurity  ... deviceprotection  \\\n",
       "0  No phone service             DSL             No  ...               No   \n",
       "1                No             DSL            Yes  ...              Yes   \n",
       "2                No             DSL            Yes  ...               No   \n",
       "\n",
       "  techsupport streamingtv streamingmovies        contract paperlessbilling  \\\n",
       "0          No          No              No  Month-to-month              Yes   \n",
       "1          No          No              No        One year               No   \n",
       "2          No          No              No  Month-to-month              Yes   \n",
       "\n",
       "      paymentmethod monthlycharges  totalcharges churn  \n",
       "0  Electronic check          29.85         29.85    No  \n",
       "1      Mailed check          56.95        1889.5    No  \n",
       "2      Mailed check          53.85        108.15   Yes  \n",
       "\n",
       "[3 rows x 21 columns]"
      ]
     },
     "execution_count": 12,
     "metadata": {},
     "output_type": "execute_result"
    }
   ],
   "source": [
    "df = pd.read_csv('../../Datasets/telco/telco.csv');\n",
    "df.columns = df.columns.str.lower()\n",
    "df.head(3)"
   ]
  },
  {
   "cell_type": "code",
   "execution_count": 13,
   "id": "b94a3482-526e-4421-8967-b06510d347d8",
   "metadata": {},
   "outputs": [],
   "source": [
    "categorical_columns = list(df.dtypes[df.dtypes == 'object'].index)\n",
    "for c in categorical_columns:\n",
    "    df[c] = df[c].str.lower().str.replace(' ', '_')\n",
    "\n",
    "# convert to numeric because totalcharges is of type object\n",
    "# ignore errors with errors='coerce'\n",
    "df.totalcharges = pd.to_numeric(df.totalcharges, errors='coerce')\n",
    "# fill NaN with zeros\n",
    "df.totalcharges = df.totalcharges.fillna(0)\n",
    "# convert target to zeros and ones\n",
    "df['churn'] = (df['churn'] == 'yes').astype(int)"
   ]
  },
  {
   "cell_type": "code",
   "execution_count": 26,
   "id": "fb26aa06-6bd3-4829-ad23-b5aa4e972c1b",
   "metadata": {},
   "outputs": [],
   "source": [
    "# model\n",
    "from sklearn.linear_model import LogisticRegression\n",
    "\n",
    "# for calculating the accuracy\n",
    "from sklearn.metrics import mean_absolute_error\n",
    "from sklearn.metrics import mean_squared_error\n",
    "from sklearn.metrics import auc, roc_auc_score\n",
    "\n",
    "# for splitting the data\n",
    "from sklearn.model_selection import train_test_split\n",
    "\n",
    "# 60, 20, 20 splitting\n",
    "df_full_train, df_test = train_test_split(df, test_size=0.2, random_state=1)\n",
    "len(df_full_train), len(df_test)\n",
    "\n",
    "df_train, df_val = train_test_split(df_full_train, test_size=0.25, random_state=1)\n",
    "\n",
    "df_full_train = df_full_train.reset_index(drop=True)\n",
    "df_train = df_train.reset_index(drop=True)\n",
    "df_val = df_val.reset_index(drop=True)\n",
    "df_test = df_test.reset_index(drop=True)\n",
    "\n",
    "full_train_y = df_full_train.churn.values\n",
    "train_y = df_train.churn.values\n",
    "val_y = df_val.churn.values\n",
    "test_y = df_test.churn.values\n",
    "\n",
    "del df_train['churn']\n",
    "del df_val['churn']\n",
    "del df_test['churn']"
   ]
  },
  {
   "cell_type": "code",
   "execution_count": 27,
   "id": "76f916b7-f2b9-4204-ac7b-a911d17bcf16",
   "metadata": {},
   "outputs": [
    {
     "data": {
      "text/plain": [
       "(1409, 1409, 4225)"
      ]
     },
     "execution_count": 27,
     "metadata": {},
     "output_type": "execute_result"
    }
   ],
   "source": [
    "len(df_val), len(df_test), len(df_train)"
   ]
  },
  {
   "cell_type": "markdown",
   "id": "8fc29fda-c60d-4f42-8c72-9e8720c2c5cd",
   "metadata": {},
   "source": [
    "### EDA"
   ]
  },
  {
   "cell_type": "code",
   "execution_count": 28,
   "id": "21df3a31-49a0-4f0c-b9c4-03d829db8123",
   "metadata": {},
   "outputs": [
    {
     "data": {
      "text/plain": [
       "0.27"
      ]
     },
     "execution_count": 28,
     "metadata": {},
     "output_type": "execute_result"
    }
   ],
   "source": [
    "numerical_variables = ['tenure', 'monthlycharges', 'totalcharges']\n",
    "categorical_variables = [column for column in df_full_train.columns if column not in numerical_variables and column != 'churn' and column != 'customerid']\n",
    "\n",
    "# get churn rate by getting the number of 1s / size \n",
    "global_churn_rate = df_full_train.churn.mean()\n",
    "global_churn_rate.round(2) # must be equal to normalized value of 1"
   ]
  },
  {
   "cell_type": "code",
   "execution_count": 29,
   "id": "b4841332-f6b4-4673-9d41-61f03880d6ff",
   "metadata": {},
   "outputs": [
    {
     "data": {
      "text/plain": [
       "gender              2\n",
       "seniorcitizen       2\n",
       "partner             2\n",
       "dependents          2\n",
       "phoneservice        2\n",
       "multiplelines       3\n",
       "internetservice     3\n",
       "onlinesecurity      3\n",
       "onlinebackup        3\n",
       "deviceprotection    3\n",
       "techsupport         3\n",
       "streamingtv         3\n",
       "streamingmovies     3\n",
       "contract            3\n",
       "paperlessbilling    2\n",
       "paymentmethod       4\n",
       "dtype: int64"
      ]
     },
     "execution_count": 29,
     "metadata": {},
     "output_type": "execute_result"
    }
   ],
   "source": [
    "df[categorical_variables].nunique()"
   ]
  },
  {
   "cell_type": "code",
   "execution_count": 30,
   "id": "14ad06d1-3d2c-42c0-a5e2-2ba4bfe5a8c1",
   "metadata": {},
   "outputs": [
    {
     "data": {
      "text/plain": [
       "customerid          0\n",
       "gender              0\n",
       "seniorcitizen       0\n",
       "partner             0\n",
       "dependents          0\n",
       "tenure              0\n",
       "phoneservice        0\n",
       "multiplelines       0\n",
       "internetservice     0\n",
       "onlinesecurity      0\n",
       "onlinebackup        0\n",
       "deviceprotection    0\n",
       "techsupport         0\n",
       "streamingtv         0\n",
       "streamingmovies     0\n",
       "contract            0\n",
       "paperlessbilling    0\n",
       "paymentmethod       0\n",
       "monthlycharges      0\n",
       "totalcharges        0\n",
       "churn               0\n",
       "dtype: int64"
      ]
     },
     "execution_count": 30,
     "metadata": {},
     "output_type": "execute_result"
    }
   ],
   "source": [
    "df_full_train.isnull().sum()"
   ]
  },
  {
   "cell_type": "markdown",
   "id": "00ea2885-2cc4-4398-9102-40e6d3e5e6be",
   "metadata": {},
   "source": [
    "### Model"
   ]
  },
  {
   "cell_type": "code",
   "execution_count": 31,
   "id": "52105caa-3169-4e69-85b9-cf72bd8b67a4",
   "metadata": {},
   "outputs": [],
   "source": [
    "# one hot encoding from sklearn\n",
    "from sklearn.feature_extraction import DictVectorizer\n",
    "\n",
    "train_dicts = df_train[categorical_variables + numerical_variables].to_dict(orient='records')\n",
    "dv = DictVectorizer(sparse=False)\n",
    "# dv.fit_transform(X) fits and immediately transforms the DictVectorizer to a matrix of 0s and 1s\n",
    "dv.fit(train_dicts)\n",
    "X_train = dv.transform(train_dicts)\n",
    "# val\n",
    "val_dicts = df_val[categorical_variables + numerical_variables].to_dict(orient='records')\n",
    "X_val = dv.transform(val_dicts)"
   ]
  },
  {
   "cell_type": "code",
   "execution_count": 32,
   "id": "27b4b292-1bc5-4ac7-b771-8b3efcd6e6ae",
   "metadata": {},
   "outputs": [
    {
     "data": {
      "text/html": [
       "<div>\n",
       "<style scoped>\n",
       "    .dataframe tbody tr th:only-of-type {\n",
       "        vertical-align: middle;\n",
       "    }\n",
       "\n",
       "    .dataframe tbody tr th {\n",
       "        vertical-align: top;\n",
       "    }\n",
       "\n",
       "    .dataframe thead th {\n",
       "        text-align: right;\n",
       "    }\n",
       "</style>\n",
       "<table border=\"1\" class=\"dataframe\">\n",
       "  <thead>\n",
       "    <tr style=\"text-align: right;\">\n",
       "      <th></th>\n",
       "      <th>probability</th>\n",
       "      <th>prediction</th>\n",
       "      <th>actual_val</th>\n",
       "      <th>correct</th>\n",
       "    </tr>\n",
       "  </thead>\n",
       "  <tbody>\n",
       "    <tr>\n",
       "      <th>0</th>\n",
       "      <td>0.006629</td>\n",
       "      <td>0</td>\n",
       "      <td>0</td>\n",
       "      <td>True</td>\n",
       "    </tr>\n",
       "    <tr>\n",
       "      <th>1</th>\n",
       "      <td>0.204776</td>\n",
       "      <td>0</td>\n",
       "      <td>0</td>\n",
       "      <td>True</td>\n",
       "    </tr>\n",
       "    <tr>\n",
       "      <th>2</th>\n",
       "      <td>0.217348</td>\n",
       "      <td>0</td>\n",
       "      <td>0</td>\n",
       "      <td>True</td>\n",
       "    </tr>\n",
       "    <tr>\n",
       "      <th>3</th>\n",
       "      <td>0.564584</td>\n",
       "      <td>1</td>\n",
       "      <td>1</td>\n",
       "      <td>True</td>\n",
       "    </tr>\n",
       "    <tr>\n",
       "      <th>4</th>\n",
       "      <td>0.218046</td>\n",
       "      <td>0</td>\n",
       "      <td>0</td>\n",
       "      <td>True</td>\n",
       "    </tr>\n",
       "    <tr>\n",
       "      <th>...</th>\n",
       "      <td>...</td>\n",
       "      <td>...</td>\n",
       "      <td>...</td>\n",
       "      <td>...</td>\n",
       "    </tr>\n",
       "    <tr>\n",
       "      <th>1404</th>\n",
       "      <td>0.293219</td>\n",
       "      <td>0</td>\n",
       "      <td>0</td>\n",
       "      <td>True</td>\n",
       "    </tr>\n",
       "    <tr>\n",
       "      <th>1405</th>\n",
       "      <td>0.041337</td>\n",
       "      <td>0</td>\n",
       "      <td>1</td>\n",
       "      <td>False</td>\n",
       "    </tr>\n",
       "    <tr>\n",
       "      <th>1406</th>\n",
       "      <td>0.151561</td>\n",
       "      <td>0</td>\n",
       "      <td>0</td>\n",
       "      <td>True</td>\n",
       "    </tr>\n",
       "    <tr>\n",
       "      <th>1407</th>\n",
       "      <td>0.788574</td>\n",
       "      <td>1</td>\n",
       "      <td>1</td>\n",
       "      <td>True</td>\n",
       "    </tr>\n",
       "    <tr>\n",
       "      <th>1408</th>\n",
       "      <td>0.811891</td>\n",
       "      <td>1</td>\n",
       "      <td>1</td>\n",
       "      <td>True</td>\n",
       "    </tr>\n",
       "  </tbody>\n",
       "</table>\n",
       "<p>1409 rows × 4 columns</p>\n",
       "</div>"
      ],
      "text/plain": [
       "      probability  prediction  actual_val  correct\n",
       "0        0.006629           0           0     True\n",
       "1        0.204776           0           0     True\n",
       "2        0.217348           0           0     True\n",
       "3        0.564584           1           1     True\n",
       "4        0.218046           0           0     True\n",
       "...           ...         ...         ...      ...\n",
       "1404     0.293219           0           0     True\n",
       "1405     0.041337           0           1    False\n",
       "1406     0.151561           0           0     True\n",
       "1407     0.788574           1           1     True\n",
       "1408     0.811891           1           1     True\n",
       "\n",
       "[1409 rows x 4 columns]"
      ]
     },
     "execution_count": 32,
     "metadata": {},
     "output_type": "execute_result"
    }
   ],
   "source": [
    "model = LogisticRegression(max_iter=3000)\n",
    "model.fit(X_train, train_y)\n",
    "\n",
    "# predict\n",
    "y_pred = model.predict_proba(X_val)[:,1]\n",
    "churn_decision = (y_pred >= 0.5)\n",
    "\n",
    "df_pred = pd.DataFrame()\n",
    "df_pred['probability'] = y_pred\n",
    "df_pred['prediction'] = churn_decision.astype(int)\n",
    "df_pred['actual_val'] = val_y\n",
    "df_pred['correct'] = (df_pred.prediction == df_pred.actual_val)\n",
    "df_pred"
   ]
  },
  {
   "cell_type": "code",
   "execution_count": 33,
   "id": "375963f8-9b6d-4b2c-a0dd-d7cd8dc342a2",
   "metadata": {},
   "outputs": [
    {
     "data": {
      "text/plain": [
       "0.8041163946061036"
      ]
     },
     "execution_count": 33,
     "metadata": {},
     "output_type": "execute_result"
    }
   ],
   "source": [
    "df_pred.correct.mean()"
   ]
  },
  {
   "cell_type": "code",
   "execution_count": 52,
   "id": "effd8aec-348c-48b6-92d5-26a089985ce7",
   "metadata": {},
   "outputs": [],
   "source": [
    "def train(data, y, C):\n",
    "    dicts = data[categorical_variables + numerical_variables].to_dict(orient='records')\n",
    "    dictv = DictVectorizer(sparse=False)\n",
    "    X = dictv.fit_transform(dicts)\n",
    "    \n",
    "    logit = LogisticRegression(max_iter=4000, C=C)\n",
    "    logit.fit(X, y)\n",
    "    return logit, dictv\n",
    "    \n",
    "def get_auc(model_train, model_test, model_train_y, model_test_y, C):\n",
    "    # train model\n",
    "    logit, fdv = train(model_train, model_train_y, C)\n",
    "    \n",
    "    # process testing data\n",
    "    dicts = model_test[categorical_variables + numerical_variables].to_dict(orient='records')\n",
    "    X_test = fdv.transform(dicts)\n",
    "    \n",
    "    # make predictions\n",
    "    predictions = logit.predict_proba(X_test)[:,1]\n",
    "    return roc_auc_score(model_test_y, predictions)\n",
    "\n",
    "def predict_results(final_model, testing_data, vectorizer):\n",
    "    # process testing data\n",
    "    dicts = testing_data[categorical_variables + numerical_variables].to_dict(orient='records')\n",
    "    X_test = vectorizer.transform(dicts)\n",
    "    tmp_predictions = final_model.predict_proba(X_test)[:,1]\n",
    "    return tmp_predictions"
   ]
  },
  {
   "cell_type": "code",
   "execution_count": 42,
   "id": "fb5c7dff-e9c9-495d-9a93-eee2daa69794",
   "metadata": {},
   "outputs": [
    {
     "name": "stdout",
     "output_type": "stream",
     "text": [
      "C=1.0  0.842 +- 0.007\n"
     ]
    }
   ],
   "source": [
    "from sklearn.model_selection import KFold\n",
    "from tqdm.auto import tqdm\n",
    "\n",
    "# folds for cross validation\n",
    "kfold = KFold(n_splits=5, shuffle=True, random_state=1)\n",
    "counter = 1\n",
    "fold_scores = []\n",
    "for train_idx, test_idx in kfold.split(df_full_train):\n",
    "    # get splits\n",
    "    model_train = df_full_train.iloc[train_idx]\n",
    "    model_test = df_full_train.iloc[test_idx]\n",
    "\n",
    "    # extract churn column\n",
    "    model_train_y = model_train.churn.values\n",
    "    model_test_y = model_test.churn.values\n",
    "\n",
    "    # delete churn from dataset\n",
    "    del model_train['churn']\n",
    "    del model_test['churn']\n",
    "\n",
    "    auc_score = get_auc(model_train, model_test, model_train_y, model_test_y, 1)\n",
    "    \n",
    "    # get auc for each fold\n",
    "    # print(F\"AUC {counter}: {auc_score}\")\n",
    "    fold_scores.append(auc_score)\n",
    "    counter += 1\n",
    "\n",
    "print('C=%s  %.3f +- %.3f' % (1.0, np.mean(fold_scores), np.std(fold_scores)))"
   ]
  },
  {
   "cell_type": "code",
   "execution_count": 43,
   "id": "6556f552-f553-442c-bde7-887b1baf13a1",
   "metadata": {},
   "outputs": [
    {
     "data": {
      "text/plain": [
       "[0.8443963859299322,\n",
       " 0.8449894881472653,\n",
       " 0.8333373469797312,\n",
       " 0.8347649005563726,\n",
       " 0.8518480750525557]"
      ]
     },
     "execution_count": 43,
     "metadata": {},
     "output_type": "execute_result"
    }
   ],
   "source": [
    "fold_scores"
   ]
  },
  {
   "cell_type": "markdown",
   "id": "12119745-bccb-4010-b499-a6bd218ac5d7",
   "metadata": {},
   "source": [
    "# Lecture 5 - Deployment"
   ]
  },
  {
   "cell_type": "code",
   "execution_count": 53,
   "id": "fdf53a40-27d5-4eeb-af54-45e423b5260f",
   "metadata": {},
   "outputs": [
    {
     "data": {
      "text/plain": [
       "0.8584736260521953"
      ]
     },
     "execution_count": 53,
     "metadata": {},
     "output_type": "execute_result"
    }
   ],
   "source": [
    "model, fdv = train(df_full_train, full_train_y, 1.0)\n",
    "predictions = predict_results(model, df_test, fdv)\n",
    "roc_auc_score(test_y, predictions)\n",
    "# # process testing data\n",
    "# dicts = df_test[categorical_variables + numerical_variables].to_dict(orient='records')\n",
    "# X_test = fdv.transform(dicts)\n",
    "\n",
    "# # using default solver \n",
    "# predictions = model.predict(X_test)\n",
    "# (predictions == test_y).mean()"
   ]
  },
  {
   "cell_type": "markdown",
   "id": "6ff56950-2e3f-485a-8bf9-fa8991d74248",
   "metadata": {},
   "source": [
    "### Save the model"
   ]
  },
  {
   "cell_type": "markdown",
   "id": "93d25a0d-e074-499b-a19e-d9b07568a345",
   "metadata": {},
   "source": [
    "I will be using pickle to import the model"
   ]
  },
  {
   "cell_type": "code",
   "execution_count": 55,
   "id": "05012473-50ef-42ff-a5ab-b508d0bb0487",
   "metadata": {},
   "outputs": [],
   "source": [
    "import pickle\n",
    "\n",
    "output_file=f'model_C={1.0}.bin'\n",
    "# open the file\n",
    "f_out = open(output_file, 'wb')\n",
    "\n",
    "# use pickle to put our model and dictionary vectorizer inside f_out \n",
    "pickle.dump((model, fdv), f_out)\n",
    "\n",
    "# close the file\n",
    "f_out.close()"
   ]
  },
  {
   "cell_type": "markdown",
   "id": "7ace3f63-f30e-4c43-b9a7-b3dd89e8d8fb",
   "metadata": {},
   "source": [
    "Another way to do the code above is:"
   ]
  },
  {
   "cell_type": "code",
   "execution_count": 57,
   "id": "905d4360-32c0-4dbb-87d8-131a06d6dd96",
   "metadata": {},
   "outputs": [],
   "source": [
    "# f_out = open(output_file, 'wb')\n",
    "with open(output_file, 'wb') as f_out:\n",
    "    pickle.dump((model, fdv), f_out)\n",
    "# once outside the 'with' statement, the file will close."
   ]
  },
  {
   "cell_type": "markdown",
   "id": "24db5f17-4a39-47a6-8d82-9b373962c8f8",
   "metadata": {},
   "source": [
    "### Load the model"
   ]
  },
  {
   "cell_type": "markdown",
   "id": "efd3f6af-410f-4c9a-b2b2-fc34fe4e4868",
   "metadata": {},
   "source": [
    "Note: Restart kernel first"
   ]
  },
  {
   "cell_type": "code",
   "execution_count": 2,
   "id": "d577f166-8594-4d64-baa0-183386f641e5",
   "metadata": {},
   "outputs": [
    {
     "data": {
      "text/plain": [
       "(LogisticRegression(max_iter=4000), DictVectorizer(sparse=False))"
      ]
     },
     "execution_count": 2,
     "metadata": {},
     "output_type": "execute_result"
    }
   ],
   "source": [
    "import pickle\n",
    "\n",
    "model_file = 'model_C=1.0.bin'\n",
    "\n",
    "with open(model_file, 'rb') as f_in:\n",
    "    model, fdv = pickle.load(f_in)\n",
    "\n",
    "model, fdv"
   ]
  },
  {
   "cell_type": "code",
   "execution_count": 11,
   "id": "f1e2ec56-1d19-4ffd-bd53-359227ed22a2",
   "metadata": {},
   "outputs": [
    {
     "data": {
      "text/plain": [
       "array([0.49114843])"
      ]
     },
     "execution_count": 11,
     "metadata": {},
     "output_type": "execute_result"
    }
   ],
   "source": [
    "customer = {\n",
    " 'gender': 'female',\n",
    " 'seniorcitizen': 0,\n",
    " 'partner': 'yes',\n",
    " 'dependents': 'no',\n",
    " 'tenure': 10,\n",
    " 'phoneservice': 'no',\n",
    " 'multiplelines': 'no_phone_service',\n",
    " 'internetservice': 'dsl',\n",
    " 'onlinesecurity': 'no',\n",
    " 'onlinebackup': 'yes',\n",
    " 'deviceprotection': 'no',\n",
    " 'techsupport': 'no',\n",
    " 'streamingtv': 'no',\n",
    " 'streamingmovies': 'no',\n",
    " 'contract': 'month-to-month',\n",
    " 'paperlessbilling': 'yes',\n",
    " 'paymentmethod': 'electronic_check',\n",
    " 'monthlycharges': 29.85,\n",
    " 'totalcharges': 29.85,\n",
    "}\n",
    "\n",
    "X = fdv.transform([customer])\n",
    "model.predict_proba(X)[:,1]"
   ]
  },
  {
   "cell_type": "code",
   "execution_count": null,
   "id": "9af615b1-bc4e-4081-b03f-8ed3aeed41ea",
   "metadata": {},
   "outputs": [],
   "source": []
  }
 ],
 "metadata": {
  "kernelspec": {
   "display_name": "Python 3 (ipykernel)",
   "language": "python",
   "name": "python3"
  },
  "language_info": {
   "codemirror_mode": {
    "name": "ipython",
    "version": 3
   },
   "file_extension": ".py",
   "mimetype": "text/x-python",
   "name": "python",
   "nbconvert_exporter": "python",
   "pygments_lexer": "ipython3",
   "version": "3.11.9"
  }
 },
 "nbformat": 4,
 "nbformat_minor": 5
}
