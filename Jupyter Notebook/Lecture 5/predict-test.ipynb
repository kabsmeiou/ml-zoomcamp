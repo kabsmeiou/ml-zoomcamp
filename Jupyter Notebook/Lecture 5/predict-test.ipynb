{
 "cells": [
  {
   "cell_type": "code",
   "execution_count": 26,
   "id": "73f81b81-1692-4aa7-8708-70a3806cbf54",
   "metadata": {},
   "outputs": [
    {
     "data": {
      "application/javascript": [
       "IPython.notebook.set_autosave_interval(0)"
      ]
     },
     "metadata": {},
     "output_type": "display_data"
    },
    {
     "name": "stdout",
     "output_type": "stream",
     "text": [
      "Autosave disabled\n"
     ]
    }
   ],
   "source": [
    "%autosave 0"
   ]
  },
  {
   "cell_type": "code",
   "execution_count": 1,
   "id": "688eaaa0-fb8f-4d1b-bfc0-044c8ee492a9",
   "metadata": {},
   "outputs": [],
   "source": [
    "import requests\n",
    "url = \"http://localhost:5000/predict\""
   ]
  },
  {
   "cell_type": "code",
   "execution_count": 2,
   "id": "2bcc3e15-a907-4659-b3df-0f4f8397076e",
   "metadata": {},
   "outputs": [],
   "source": [
    "customer = {\n",
    " 'gender': 'female',\n",
    " 'seniorcitizen': 0,\n",
    " 'partner': 'yes',\n",
    " 'dependents': 'yes',\n",
    " 'tenure': 3,\n",
    " 'phoneservice': 'no',\n",
    " 'multiplelines': 'no_phone_service',\n",
    " 'internetservice': 'dsl',\n",
    " 'onlinesecurity': 'no',\n",
    " 'onlinebackup': 'yes',\n",
    " 'deviceprotection': 'no',\n",
    " 'techsupport': 'yes',\n",
    " 'streamingtv': 'no',\n",
    " 'streamingmovies': 'no',\n",
    " 'contract': 'month-to-month',\n",
    " 'paperlessbilling': 'yes',\n",
    " 'paymentmethod': 'electronic_check',\n",
    " 'monthlycharges': 42.85,\n",
    " 'totalcharges': 29.85,\n",
    "}"
   ]
  },
  {
   "cell_type": "code",
   "execution_count": 3,
   "id": "0ed4bdac-7e02-47d3-afee-b681b3172cc6",
   "metadata": {},
   "outputs": [
    {
     "data": {
      "text/plain": [
       "{'churn': 'No', 'churn_probability': 0.47074296690972695}"
      ]
     },
     "execution_count": 3,
     "metadata": {},
     "output_type": "execute_result"
    }
   ],
   "source": [
    "res = requests.post(url, json=customer)\n",
    "res.json()"
   ]
  },
  {
   "cell_type": "code",
   "execution_count": null,
   "id": "fa384778-b1c6-4ad5-80b3-9d1039b952fd",
   "metadata": {},
   "outputs": [],
   "source": []
  }
 ],
 "metadata": {
  "kernelspec": {
   "display_name": "Python 3 (ipykernel)",
   "language": "python",
   "name": "python3"
  },
  "language_info": {
   "codemirror_mode": {
    "name": "ipython",
    "version": 3
   },
   "file_extension": ".py",
   "mimetype": "text/x-python",
   "name": "python",
   "nbconvert_exporter": "python",
   "pygments_lexer": "ipython3",
   "version": "3.11.9"
  }
 },
 "nbformat": 4,
 "nbformat_minor": 5
}
