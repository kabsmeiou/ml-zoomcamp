{
 "cells": [
  {
   "cell_type": "code",
   "execution_count": 11,
   "id": "06ad407b-4302-4c6a-8e2d-679a2294cffd",
   "metadata": {},
   "outputs": [],
   "source": [
    "import pipenv"
   ]
  },
  {
   "cell_type": "code",
   "execution_count": 12,
   "id": "12c14192-dc58-4327-9074-e5f094133847",
   "metadata": {},
   "outputs": [
    {
     "name": "stdout",
     "output_type": "stream",
     "text": [
      "Help on package pipenv:\n",
      "\n",
      "NAME\n",
      "    pipenv\n",
      "\n",
      "PACKAGE CONTENTS\n",
      "    __main__\n",
      "    __version__\n",
      "    cli (package)\n",
      "    cmdparse\n",
      "    environment\n",
      "    environments\n",
      "    exceptions\n",
      "    help\n",
      "    installers\n",
      "    patched (package)\n",
      "    pep508checker\n",
      "    project\n",
      "    resolver\n",
      "    routines (package)\n",
      "    shells\n",
      "    utils (package)\n",
      "    vendor (package)\n",
      "\n",
      "SUBMODULES\n",
      "    colorama\n",
      "\n",
      "DATA\n",
      "    PIPENV_ROOT = r'C:\\Users\\fanta\\.conda\\envs\\ml-zoomcamp\\Lib\\site-packag...\n",
      "    PIP_ROOT = r'C:\\Users\\fanta\\.conda\\envs\\ml-zoomcamp\\Lib\\site-packages\\...\n",
      "    cli = <PipenvGroup cli>\n",
      "    no_color = False\n",
      "\n",
      "VERSION\n",
      "    2024.2.0\n",
      "\n",
      "FILE\n",
      "    c:\\users\\fanta\\.conda\\envs\\ml-zoomcamp\\lib\\site-packages\\pipenv\\__init__.py\n",
      "\n",
      "\n"
     ]
    }
   ],
   "source": [
    "help(pipenv)"
   ]
  },
  {
   "cell_type": "markdown",
   "id": "e5a1d97d-17ca-4823-ad36-51bafccee6d5",
   "metadata": {},
   "source": [
    "### Question 1\n",
    "\n",
    "```\n",
    "Install Pipenv\n",
    "What's the version of pipenv you installed?\n",
    "Use --version to find out\n",
    "```"
   ]
  },
  {
   "cell_type": "markdown",
   "id": "9b16417d-ef5b-41b2-a044-22120f8906ca",
   "metadata": {},
   "source": [
    "```\n",
    "VERSION\n",
    "    2024.2.0\n",
    "```"
   ]
  },
  {
   "cell_type": "code",
   "execution_count": null,
   "id": "37f74fd0-bf96-46e1-9463-68cc9e1ea172",
   "metadata": {},
   "outputs": [],
   "source": []
  }
 ],
 "metadata": {
  "kernelspec": {
   "display_name": "Python 3 (ipykernel)",
   "language": "python",
   "name": "python3"
  },
  "language_info": {
   "codemirror_mode": {
    "name": "ipython",
    "version": 3
   },
   "file_extension": ".py",
   "mimetype": "text/x-python",
   "name": "python",
   "nbconvert_exporter": "python",
   "pygments_lexer": "ipython3",
   "version": "3.11.9"
  }
 },
 "nbformat": 4,
 "nbformat_minor": 5
}
