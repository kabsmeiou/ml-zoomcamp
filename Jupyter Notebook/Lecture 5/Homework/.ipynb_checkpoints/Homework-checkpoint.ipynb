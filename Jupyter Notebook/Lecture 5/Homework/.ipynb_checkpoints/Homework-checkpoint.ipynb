{
 "cells": [
  {
   "cell_type": "markdown",
   "id": "9dab780d-dbb4-4ee1-9656-07690f0f6270",
   "metadata": {},
   "source": [
    "pipenv --version\\\n",
    "pipenv, version 2024.2.0"
   ]
  },
  {
   "cell_type": "markdown",
   "id": "e5a1d97d-17ca-4823-ad36-51bafccee6d5",
   "metadata": {},
   "source": [
    "### Question 1\n",
    "\n",
    "```\n",
    "Install Pipenv\n",
    "What's the version of pipenv you installed?\n",
    "Use --version to find out\n",
    "```"
   ]
  },
  {
   "cell_type": "markdown",
   "id": "9b16417d-ef5b-41b2-a044-22120f8906ca",
   "metadata": {},
   "source": [
    "```\n",
    "VERSION\n",
    "    2024.2.0\n",
    "```"
   ]
  },
  {
   "cell_type": "markdown",
   "id": "8cceac7f-1a1a-425e-8efb-fa6ed3a18af8",
   "metadata": {},
   "source": [
    "### Question 2\n",
    "```\n",
    "Use Pipenv to install Scikit-Learn version 1.5.2\n",
    "What's the first hash for scikit-learn you get in Pipfile.lock?\n",
    "```"
   ]
  },
  {
   "cell_type": "code",
   "execution_count": 1,
   "id": "88cda812-1dd9-45e2-a615-18c1bb6a8d03",
   "metadata": {},
   "outputs": [
    {
     "name": "stdout",
     "output_type": "stream",
     "text": [
      "1.5.2\n"
     ]
    }
   ],
   "source": [
    "import sklearn\n",
    "print(sklearn.__version__)"
   ]
  },
  {
   "cell_type": "markdown",
   "id": "8061de7a-5415-4966-9db6-3724dbbd804e",
   "metadata": {},
   "source": [
    "sha256:03b6158efa3faaf1feea3faa884c840ebd61b6484167c711548fce208ea09445"
   ]
  },
  {
   "cell_type": "markdown",
   "id": "e8db07e4-bd92-45a8-8bf6-68fbf9815f1b",
   "metadata": {},
   "source": [
    "### Question 3"
   ]
  },
  {
   "cell_type": "code",
   "execution_count": 2,
   "id": "9a70c251-bb51-4c0d-b7df-9d5c551112b9",
   "metadata": {},
   "outputs": [
    {
     "name": "stdout",
     "output_type": "stream",
     "text": [
      "0.7590966516879658\n"
     ]
    }
   ],
   "source": [
    "import pickle\n",
    "# use curl/wget to download with the links\n",
    "# curl -o model1.bin https://raw.githubusercontent.com/DataTalksClub/machine-learning-zoomcamp/master/cohorts/2024/05-deployment/homework/model1.bin\n",
    "# curl -o dv.bin https://raw.githubusercontent.com/DataTalksClub/machine-learning-zoomcamp/master/cohorts/2024/05-deployment/homework/dv.bin\n",
    "# filenames\n",
    "model_file = 'model1.bin'\n",
    "dv_file = 'dv.bin'\n",
    "\n",
    "def load_pickle(file):\n",
    "    with open(file, 'rb') as f_in:\n",
    "        return pickle.load(f_in)\n",
    "# get model\n",
    "model = load_pickle(model_file)\n",
    "\n",
    "# get dictvectorizer\n",
    "dv = load_pickle(dv_file)\n",
    "\n",
    "client = {\"job\": \"management\", \"duration\": 400, \"poutcome\": \"success\"}\n",
    "\n",
    "X = dv.transform([client])\n",
    "score = model.predict_proba(X)[0, 1]\n",
    "print(score)"
   ]
  },
  {
   "cell_type": "markdown",
   "id": "6d8eb563-5290-4554-9ee9-1aa4c75ea686",
   "metadata": {},
   "source": [
    "### Question 4"
   ]
  },
  {
   "cell_type": "code",
   "execution_count": 3,
   "id": "f587beda-4e17-41cd-a74e-2b875c100cda",
   "metadata": {},
   "outputs": [
    {
     "data": {
      "text/plain": [
       "{'score': 0.33480703475511053}"
      ]
     },
     "execution_count": 3,
     "metadata": {},
     "output_type": "execute_result"
    }
   ],
   "source": [
    "import requests\n",
    "\n",
    "url = \"http://localhost:5000/predict\"\n",
    "client = {\"job\": \"student\", \"duration\": 280, \"poutcome\": \"failure\"}\n",
    "requests.post(url, json=client).json()"
   ]
  },
  {
   "cell_type": "markdown",
   "id": "2ce20f78-2d97-4498-97ca-81453614b696",
   "metadata": {},
   "source": [
    "### Question 5"
   ]
  },
  {
   "cell_type": "markdown",
   "id": "44bdc862-08a2-4424-99ef-467cb3ecfefb",
   "metadata": {},
   "source": [
    "```\n",
    "REPOSITORY              TAG           IMAGE ID       CREATED       SIZE\n",
    "<none>                  <none>        a0d63b3555b5   2 hours ago   529MB\n",
    "zoomcamp-test           latest        289dc97fe942   2 hours ago   529MB\n",
    "<none>                  <none>        8a76058c8cd1   2 hours ago   529MB\n",
    "<none>                  <none>        a29b6e826ace   2 hours ago   173MB\n",
    "python                  3.12-slim     fd162521da09   9 days ago    124MB\n",
    "svizor/zoomcamp-model   3.11.5-slim   975e7bdca086   9 days ago    130MB\n",
    "```"
   ]
  },
  {
   "cell_type": "markdown",
   "id": "5f8a5600-b964-465b-9c38-f5a6107fdb33",
   "metadata": {},
   "source": [
    "### Question 6"
   ]
  },
  {
   "cell_type": "markdown",
   "id": "b04d3a6d-9ea8-42c2-baa8-4a409956f2a4",
   "metadata": {},
   "source": [
    "```\n",
    "docker run -it --rm -p 5000:5000 hwdock\n",
    "[2024-10-28 07:40:15 +0000] [1] [INFO] Starting gunicorn 23.0.0\n",
    "[2024-10-28 07:40:15 +0000] [1] [INFO] Listening at: http://0.0.0.0:5000 (1)\n",
    "[2024-10-28 07:40:15 +0000] [1] [INFO] Using worker: sync\n",
    "[2024-10-28 07:40:15 +0000] [7] [INFO] Booting worker with pid: 7\n",
    "```\n"
   ]
  },
  {
   "cell_type": "code",
   "execution_count": 1,
   "id": "55717cbf-27af-45b8-8691-40729c0659c5",
   "metadata": {},
   "outputs": [
    {
     "data": {
      "text/plain": [
       "{'score': 0.756743795240796}"
      ]
     },
     "execution_count": 1,
     "metadata": {},
     "output_type": "execute_result"
    }
   ],
   "source": [
    "import requests\n",
    "url = \"http://localhost:5000/predict\"\n",
    "client = {\"job\": \"management\", \"duration\": 400, \"poutcome\": \"success\"}\n",
    "requests.post(url, json=client).json()"
   ]
  },
  {
   "cell_type": "code",
   "execution_count": null,
   "id": "d0327dbf-6cc7-408d-b46b-37c5781b8e36",
   "metadata": {},
   "outputs": [],
   "source": []
  }
 ],
 "metadata": {
  "kernelspec": {
   "display_name": "Python 3 (ipykernel)",
   "language": "python",
   "name": "python3"
  },
  "language_info": {
   "codemirror_mode": {
    "name": "ipython",
    "version": 3
   },
   "file_extension": ".py",
   "mimetype": "text/x-python",
   "name": "python",
   "nbconvert_exporter": "python",
   "pygments_lexer": "ipython3",
   "version": "3.11.9"
  }
 },
 "nbformat": 4,
 "nbformat_minor": 5
}
