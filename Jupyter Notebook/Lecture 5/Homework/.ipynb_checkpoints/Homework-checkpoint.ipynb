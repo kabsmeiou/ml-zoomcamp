{
 "cells": [
  {
   "cell_type": "code",
   "execution_count": 7,
   "id": "06ad407b-4302-4c6a-8e2d-679a2294cffd",
   "metadata": {},
   "outputs": [],
   "source": [
    "import pipenv"
   ]
  },
  {
   "cell_type": "code",
   "execution_count": 8,
   "id": "12c14192-dc58-4327-9074-e5f094133847",
   "metadata": {},
   "outputs": [
    {
     "name": "stdout",
     "output_type": "stream",
     "text": [
      "Help on package pipenv:\n",
      "\n",
      "NAME\n",
      "    pipenv\n",
      "\n",
      "PACKAGE CONTENTS\n",
      "    __main__\n",
      "    __version__\n",
      "    cli (package)\n",
      "    cmdparse\n",
      "    environment\n",
      "    environments\n",
      "    exceptions\n",
      "    help\n",
      "    installers\n",
      "    patched (package)\n",
      "    pep508checker\n",
      "    project\n",
      "    resolver\n",
      "    routines (package)\n",
      "    shells\n",
      "    utils (package)\n",
      "    vendor (package)\n",
      "\n",
      "SUBMODULES\n",
      "    colorama\n",
      "\n",
      "DATA\n",
      "    PIPENV_ROOT = r'C:\\Users\\fanta\\.conda\\envs\\ml-zoomcamp\\Lib\\site-packag...\n",
      "    PIP_ROOT = r'C:\\Users\\fanta\\.conda\\envs\\ml-zoomcamp\\Lib\\site-packages\\...\n",
      "    cli = <PipenvGroup cli>\n",
      "    no_color = False\n",
      "\n",
      "VERSION\n",
      "    2024.2.0\n",
      "\n",
      "FILE\n",
      "    c:\\users\\fanta\\.conda\\envs\\ml-zoomcamp\\lib\\site-packages\\pipenv\\__init__.py\n",
      "\n",
      "\n"
     ]
    }
   ],
   "source": [
    "help(pipenv)"
   ]
  },
  {
   "cell_type": "markdown",
   "id": "e5a1d97d-17ca-4823-ad36-51bafccee6d5",
   "metadata": {},
   "source": [
    "### Question 1\n",
    "\n",
    "```\n",
    "Install Pipenv\n",
    "What's the version of pipenv you installed?\n",
    "Use --version to find out\n",
    "```"
   ]
  },
  {
   "cell_type": "markdown",
   "id": "9b16417d-ef5b-41b2-a044-22120f8906ca",
   "metadata": {},
   "source": [
    "```\n",
    "VERSION\n",
    "    2024.2.0\n",
    "```"
   ]
  },
  {
   "cell_type": "markdown",
   "id": "8cceac7f-1a1a-425e-8efb-fa6ed3a18af8",
   "metadata": {},
   "source": [
    "### Question 2\n",
    "```\n",
    "Use Pipenv to install Scikit-Learn version 1.5.2\n",
    "What's the first hash for scikit-learn you get in Pipfile.lock?\n",
    "```"
   ]
  },
  {
   "cell_type": "code",
   "execution_count": 9,
   "id": "37f74fd0-bf96-46e1-9463-68cc9e1ea172",
   "metadata": {},
   "outputs": [
    {
     "data": {
      "text/plain": [
       "'sha256:03b6158efa3faaf1feea3faa884c840ebd61b6484167c711548fce208ea09445'"
      ]
     },
     "execution_count": 9,
     "metadata": {},
     "output_type": "execute_result"
    }
   ],
   "source": [
    "\"sha256:03b6158efa3faaf1feea3faa884c840ebd61b6484167c711548fce208ea09445\""
   ]
  },
  {
   "cell_type": "markdown",
   "id": "e8db07e4-bd92-45a8-8bf6-68fbf9815f1b",
   "metadata": {},
   "source": [
    "### Question 3"
   ]
  },
  {
   "cell_type": "code",
   "execution_count": 10,
   "id": "9a70c251-bb51-4c0d-b7df-9d5c551112b9",
   "metadata": {},
   "outputs": [
    {
     "name": "stdout",
     "output_type": "stream",
     "text": [
      "0.7590966516879658\n"
     ]
    }
   ],
   "source": [
    "import pickle\n",
    "# use curl/wget to download with the links\n",
    "# curl -o model1.bin https://raw.githubusercontent.com/DataTalksClub/machine-learning-zoomcamp/master/cohorts/2024/05-deployment/homework/model1.bin\n",
    "# curl -o dv.bin https://raw.githubusercontent.com/DataTalksClub/machine-learning-zoomcamp/master/cohorts/2024/05-deployment/homework/dv.bin\n",
    "# filenames\n",
    "model_file = 'model1.bin'\n",
    "dv_file = 'dv.bin'\n",
    "\n",
    "# get model\n",
    "with open(model_file, 'rb') as f_in:\n",
    "    model = pickle.load(f_in)\n",
    "\n",
    "# get dictvectorizer\n",
    "with open(dv_file, 'rb') as f_in:\n",
    "    dv = pickle.load(f_in)\n",
    "\n",
    "client = {\"job\": \"management\", \"duration\": 400, \"poutcome\": \"success\"}\n",
    "\n",
    "X = dv.transform([client])\n",
    "score = model.predict_proba(X)[0, 1]\n",
    "print(score)"
   ]
  },
  {
   "cell_type": "markdown",
   "id": "6d8eb563-5290-4554-9ee9-1aa4c75ea686",
   "metadata": {},
   "source": [
    "### Question 4"
   ]
  },
  {
   "cell_type": "code",
   "execution_count": null,
   "id": "f587beda-4e17-41cd-a74e-2b875c100cda",
   "metadata": {},
   "outputs": [],
   "source": [
    "url = \"http://localhost:5000/predict\"\n",
    "client = {\"job\": \"student\", \"duration\": 280, \"poutcome\": \"failure\"}\n",
    "requests.post(url, json=client).json()"
   ]
  }
 ],
 "metadata": {
  "kernelspec": {
   "display_name": "Python 3 (ipykernel)",
   "language": "python",
   "name": "python3"
  },
  "language_info": {
   "codemirror_mode": {
    "name": "ipython",
    "version": 3
   },
   "file_extension": ".py",
   "mimetype": "text/x-python",
   "name": "python",
   "nbconvert_exporter": "python",
   "pygments_lexer": "ipython3",
   "version": "3.11.9"
  }
 },
 "nbformat": 4,
 "nbformat_minor": 5
}
