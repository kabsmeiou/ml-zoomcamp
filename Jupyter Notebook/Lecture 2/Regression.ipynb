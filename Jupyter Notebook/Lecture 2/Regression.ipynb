{
 "cells": [
  {
   "cell_type": "markdown",
   "id": "ec1124aa-8c31-41a3-bf8d-bbab9295d305",
   "metadata": {},
   "source": [
    "# 2.2 Data Preparation"
   ]
  },
  {
   "cell_type": "code",
   "execution_count": 1,
   "id": "ca4e3407-da58-4467-bb02-cbb15e490f0e",
   "metadata": {},
   "outputs": [],
   "source": [
    "import pandas as pd\n",
    "import numpy as np"
   ]
  },
  {
   "cell_type": "code",
   "execution_count": 2,
   "id": "4b3b961b-4992-442e-b00e-1794a9a5b462",
   "metadata": {},
   "outputs": [],
   "source": [
    "# cars data from kaggle\n",
    "# https://www.kaggle.com/datasets/CooperUnion/cardataset\n",
    "cars = pd.read_csv(\"../../Datasets/cars/data.csv\")"
   ]
  },
  {
   "cell_type": "markdown",
   "id": "738a31e4-d8a4-4a86-8987-0efc524ca3c9",
   "metadata": {},
   "source": [
    "### Normalizing the Dataset"
   ]
  },
  {
   "cell_type": "code",
   "execution_count": 3,
   "id": "457efabf-8664-4fc4-a01a-06c3a5c117e0",
   "metadata": {},
   "outputs": [
    {
     "data": {
      "text/html": [
       "<div>\n",
       "<style scoped>\n",
       "    .dataframe tbody tr th:only-of-type {\n",
       "        vertical-align: middle;\n",
       "    }\n",
       "\n",
       "    .dataframe tbody tr th {\n",
       "        vertical-align: top;\n",
       "    }\n",
       "\n",
       "    .dataframe thead th {\n",
       "        text-align: right;\n",
       "    }\n",
       "</style>\n",
       "<table border=\"1\" class=\"dataframe\">\n",
       "  <thead>\n",
       "    <tr style=\"text-align: right;\">\n",
       "      <th></th>\n",
       "      <th>Make</th>\n",
       "      <th>Model</th>\n",
       "      <th>Year</th>\n",
       "      <th>Engine Fuel Type</th>\n",
       "      <th>Engine HP</th>\n",
       "      <th>Engine Cylinders</th>\n",
       "      <th>Transmission Type</th>\n",
       "      <th>Driven_Wheels</th>\n",
       "      <th>Number of Doors</th>\n",
       "      <th>Market Category</th>\n",
       "      <th>Vehicle Size</th>\n",
       "      <th>Vehicle Style</th>\n",
       "      <th>highway MPG</th>\n",
       "      <th>city mpg</th>\n",
       "      <th>Popularity</th>\n",
       "      <th>MSRP</th>\n",
       "    </tr>\n",
       "  </thead>\n",
       "  <tbody>\n",
       "    <tr>\n",
       "      <th>0</th>\n",
       "      <td>BMW</td>\n",
       "      <td>1 Series M</td>\n",
       "      <td>2011</td>\n",
       "      <td>premium unleaded (required)</td>\n",
       "      <td>335.0</td>\n",
       "      <td>6.0</td>\n",
       "      <td>MANUAL</td>\n",
       "      <td>rear wheel drive</td>\n",
       "      <td>2.0</td>\n",
       "      <td>Factory Tuner,Luxury,High-Performance</td>\n",
       "      <td>Compact</td>\n",
       "      <td>Coupe</td>\n",
       "      <td>26</td>\n",
       "      <td>19</td>\n",
       "      <td>3916</td>\n",
       "      <td>46135</td>\n",
       "    </tr>\n",
       "    <tr>\n",
       "      <th>1</th>\n",
       "      <td>BMW</td>\n",
       "      <td>1 Series</td>\n",
       "      <td>2011</td>\n",
       "      <td>premium unleaded (required)</td>\n",
       "      <td>300.0</td>\n",
       "      <td>6.0</td>\n",
       "      <td>MANUAL</td>\n",
       "      <td>rear wheel drive</td>\n",
       "      <td>2.0</td>\n",
       "      <td>Luxury,Performance</td>\n",
       "      <td>Compact</td>\n",
       "      <td>Convertible</td>\n",
       "      <td>28</td>\n",
       "      <td>19</td>\n",
       "      <td>3916</td>\n",
       "      <td>40650</td>\n",
       "    </tr>\n",
       "    <tr>\n",
       "      <th>2</th>\n",
       "      <td>BMW</td>\n",
       "      <td>1 Series</td>\n",
       "      <td>2011</td>\n",
       "      <td>premium unleaded (required)</td>\n",
       "      <td>300.0</td>\n",
       "      <td>6.0</td>\n",
       "      <td>MANUAL</td>\n",
       "      <td>rear wheel drive</td>\n",
       "      <td>2.0</td>\n",
       "      <td>Luxury,High-Performance</td>\n",
       "      <td>Compact</td>\n",
       "      <td>Coupe</td>\n",
       "      <td>28</td>\n",
       "      <td>20</td>\n",
       "      <td>3916</td>\n",
       "      <td>36350</td>\n",
       "    </tr>\n",
       "    <tr>\n",
       "      <th>3</th>\n",
       "      <td>BMW</td>\n",
       "      <td>1 Series</td>\n",
       "      <td>2011</td>\n",
       "      <td>premium unleaded (required)</td>\n",
       "      <td>230.0</td>\n",
       "      <td>6.0</td>\n",
       "      <td>MANUAL</td>\n",
       "      <td>rear wheel drive</td>\n",
       "      <td>2.0</td>\n",
       "      <td>Luxury,Performance</td>\n",
       "      <td>Compact</td>\n",
       "      <td>Coupe</td>\n",
       "      <td>28</td>\n",
       "      <td>18</td>\n",
       "      <td>3916</td>\n",
       "      <td>29450</td>\n",
       "    </tr>\n",
       "    <tr>\n",
       "      <th>4</th>\n",
       "      <td>BMW</td>\n",
       "      <td>1 Series</td>\n",
       "      <td>2011</td>\n",
       "      <td>premium unleaded (required)</td>\n",
       "      <td>230.0</td>\n",
       "      <td>6.0</td>\n",
       "      <td>MANUAL</td>\n",
       "      <td>rear wheel drive</td>\n",
       "      <td>2.0</td>\n",
       "      <td>Luxury</td>\n",
       "      <td>Compact</td>\n",
       "      <td>Convertible</td>\n",
       "      <td>28</td>\n",
       "      <td>18</td>\n",
       "      <td>3916</td>\n",
       "      <td>34500</td>\n",
       "    </tr>\n",
       "  </tbody>\n",
       "</table>\n",
       "</div>"
      ],
      "text/plain": [
       "  Make       Model  Year             Engine Fuel Type  Engine HP  \\\n",
       "0  BMW  1 Series M  2011  premium unleaded (required)      335.0   \n",
       "1  BMW    1 Series  2011  premium unleaded (required)      300.0   \n",
       "2  BMW    1 Series  2011  premium unleaded (required)      300.0   \n",
       "3  BMW    1 Series  2011  premium unleaded (required)      230.0   \n",
       "4  BMW    1 Series  2011  premium unleaded (required)      230.0   \n",
       "\n",
       "   Engine Cylinders Transmission Type     Driven_Wheels  Number of Doors  \\\n",
       "0               6.0            MANUAL  rear wheel drive              2.0   \n",
       "1               6.0            MANUAL  rear wheel drive              2.0   \n",
       "2               6.0            MANUAL  rear wheel drive              2.0   \n",
       "3               6.0            MANUAL  rear wheel drive              2.0   \n",
       "4               6.0            MANUAL  rear wheel drive              2.0   \n",
       "\n",
       "                         Market Category Vehicle Size Vehicle Style  \\\n",
       "0  Factory Tuner,Luxury,High-Performance      Compact         Coupe   \n",
       "1                     Luxury,Performance      Compact   Convertible   \n",
       "2                Luxury,High-Performance      Compact         Coupe   \n",
       "3                     Luxury,Performance      Compact         Coupe   \n",
       "4                                 Luxury      Compact   Convertible   \n",
       "\n",
       "   highway MPG  city mpg  Popularity   MSRP  \n",
       "0           26        19        3916  46135  \n",
       "1           28        19        3916  40650  \n",
       "2           28        20        3916  36350  \n",
       "3           28        18        3916  29450  \n",
       "4           28        18        3916  34500  "
      ]
     },
     "execution_count": 3,
     "metadata": {},
     "output_type": "execute_result"
    }
   ],
   "source": [
    "cars.head()"
   ]
  },
  {
   "cell_type": "markdown",
   "id": "b368908e-349a-4f43-946c-1689f68895ac",
   "metadata": {},
   "source": [
    "To easily view the data, it is recommendable to normalize them.\\\n",
    "Have a set of rules/format to make it easier to manipulate/observe these data."
   ]
  },
  {
   "cell_type": "code",
   "execution_count": 4,
   "id": "8b1be959-7252-4cef-a101-772c7c11592b",
   "metadata": {},
   "outputs": [],
   "source": [
    "cars.columns = cars.columns.str.lower().str.replace(' ', '_')"
   ]
  },
  {
   "cell_type": "code",
   "execution_count": 5,
   "id": "2c4803a3-2362-44ee-a753-aee8c5811c47",
   "metadata": {},
   "outputs": [
    {
     "data": {
      "text/html": [
       "<div>\n",
       "<style scoped>\n",
       "    .dataframe tbody tr th:only-of-type {\n",
       "        vertical-align: middle;\n",
       "    }\n",
       "\n",
       "    .dataframe tbody tr th {\n",
       "        vertical-align: top;\n",
       "    }\n",
       "\n",
       "    .dataframe thead th {\n",
       "        text-align: right;\n",
       "    }\n",
       "</style>\n",
       "<table border=\"1\" class=\"dataframe\">\n",
       "  <thead>\n",
       "    <tr style=\"text-align: right;\">\n",
       "      <th></th>\n",
       "      <th>make</th>\n",
       "      <th>model</th>\n",
       "      <th>year</th>\n",
       "      <th>engine_fuel_type</th>\n",
       "      <th>engine_hp</th>\n",
       "      <th>engine_cylinders</th>\n",
       "      <th>transmission_type</th>\n",
       "      <th>driven_wheels</th>\n",
       "      <th>number_of_doors</th>\n",
       "      <th>market_category</th>\n",
       "      <th>vehicle_size</th>\n",
       "      <th>vehicle_style</th>\n",
       "      <th>highway_mpg</th>\n",
       "      <th>city_mpg</th>\n",
       "      <th>popularity</th>\n",
       "      <th>msrp</th>\n",
       "    </tr>\n",
       "  </thead>\n",
       "  <tbody>\n",
       "    <tr>\n",
       "      <th>0</th>\n",
       "      <td>BMW</td>\n",
       "      <td>1 Series M</td>\n",
       "      <td>2011</td>\n",
       "      <td>premium unleaded (required)</td>\n",
       "      <td>335.0</td>\n",
       "      <td>6.0</td>\n",
       "      <td>MANUAL</td>\n",
       "      <td>rear wheel drive</td>\n",
       "      <td>2.0</td>\n",
       "      <td>Factory Tuner,Luxury,High-Performance</td>\n",
       "      <td>Compact</td>\n",
       "      <td>Coupe</td>\n",
       "      <td>26</td>\n",
       "      <td>19</td>\n",
       "      <td>3916</td>\n",
       "      <td>46135</td>\n",
       "    </tr>\n",
       "    <tr>\n",
       "      <th>1</th>\n",
       "      <td>BMW</td>\n",
       "      <td>1 Series</td>\n",
       "      <td>2011</td>\n",
       "      <td>premium unleaded (required)</td>\n",
       "      <td>300.0</td>\n",
       "      <td>6.0</td>\n",
       "      <td>MANUAL</td>\n",
       "      <td>rear wheel drive</td>\n",
       "      <td>2.0</td>\n",
       "      <td>Luxury,Performance</td>\n",
       "      <td>Compact</td>\n",
       "      <td>Convertible</td>\n",
       "      <td>28</td>\n",
       "      <td>19</td>\n",
       "      <td>3916</td>\n",
       "      <td>40650</td>\n",
       "    </tr>\n",
       "    <tr>\n",
       "      <th>2</th>\n",
       "      <td>BMW</td>\n",
       "      <td>1 Series</td>\n",
       "      <td>2011</td>\n",
       "      <td>premium unleaded (required)</td>\n",
       "      <td>300.0</td>\n",
       "      <td>6.0</td>\n",
       "      <td>MANUAL</td>\n",
       "      <td>rear wheel drive</td>\n",
       "      <td>2.0</td>\n",
       "      <td>Luxury,High-Performance</td>\n",
       "      <td>Compact</td>\n",
       "      <td>Coupe</td>\n",
       "      <td>28</td>\n",
       "      <td>20</td>\n",
       "      <td>3916</td>\n",
       "      <td>36350</td>\n",
       "    </tr>\n",
       "    <tr>\n",
       "      <th>3</th>\n",
       "      <td>BMW</td>\n",
       "      <td>1 Series</td>\n",
       "      <td>2011</td>\n",
       "      <td>premium unleaded (required)</td>\n",
       "      <td>230.0</td>\n",
       "      <td>6.0</td>\n",
       "      <td>MANUAL</td>\n",
       "      <td>rear wheel drive</td>\n",
       "      <td>2.0</td>\n",
       "      <td>Luxury,Performance</td>\n",
       "      <td>Compact</td>\n",
       "      <td>Coupe</td>\n",
       "      <td>28</td>\n",
       "      <td>18</td>\n",
       "      <td>3916</td>\n",
       "      <td>29450</td>\n",
       "    </tr>\n",
       "    <tr>\n",
       "      <th>4</th>\n",
       "      <td>BMW</td>\n",
       "      <td>1 Series</td>\n",
       "      <td>2011</td>\n",
       "      <td>premium unleaded (required)</td>\n",
       "      <td>230.0</td>\n",
       "      <td>6.0</td>\n",
       "      <td>MANUAL</td>\n",
       "      <td>rear wheel drive</td>\n",
       "      <td>2.0</td>\n",
       "      <td>Luxury</td>\n",
       "      <td>Compact</td>\n",
       "      <td>Convertible</td>\n",
       "      <td>28</td>\n",
       "      <td>18</td>\n",
       "      <td>3916</td>\n",
       "      <td>34500</td>\n",
       "    </tr>\n",
       "  </tbody>\n",
       "</table>\n",
       "</div>"
      ],
      "text/plain": [
       "  make       model  year             engine_fuel_type  engine_hp  \\\n",
       "0  BMW  1 Series M  2011  premium unleaded (required)      335.0   \n",
       "1  BMW    1 Series  2011  premium unleaded (required)      300.0   \n",
       "2  BMW    1 Series  2011  premium unleaded (required)      300.0   \n",
       "3  BMW    1 Series  2011  premium unleaded (required)      230.0   \n",
       "4  BMW    1 Series  2011  premium unleaded (required)      230.0   \n",
       "\n",
       "   engine_cylinders transmission_type     driven_wheels  number_of_doors  \\\n",
       "0               6.0            MANUAL  rear wheel drive              2.0   \n",
       "1               6.0            MANUAL  rear wheel drive              2.0   \n",
       "2               6.0            MANUAL  rear wheel drive              2.0   \n",
       "3               6.0            MANUAL  rear wheel drive              2.0   \n",
       "4               6.0            MANUAL  rear wheel drive              2.0   \n",
       "\n",
       "                         market_category vehicle_size vehicle_style  \\\n",
       "0  Factory Tuner,Luxury,High-Performance      Compact         Coupe   \n",
       "1                     Luxury,Performance      Compact   Convertible   \n",
       "2                Luxury,High-Performance      Compact         Coupe   \n",
       "3                     Luxury,Performance      Compact         Coupe   \n",
       "4                                 Luxury      Compact   Convertible   \n",
       "\n",
       "   highway_mpg  city_mpg  popularity   msrp  \n",
       "0           26        19        3916  46135  \n",
       "1           28        19        3916  40650  \n",
       "2           28        20        3916  36350  \n",
       "3           28        18        3916  29450  \n",
       "4           28        18        3916  34500  "
      ]
     },
     "execution_count": 5,
     "metadata": {},
     "output_type": "execute_result"
    }
   ],
   "source": [
    "cars.head()"
   ]
  },
  {
   "cell_type": "code",
   "execution_count": 6,
   "id": "e03db286-29a6-4687-a4a6-a3e641554a30",
   "metadata": {},
   "outputs": [],
   "source": [
    "# create a list of the indices (the list of columns)\n",
    "columns_with_string_values = list(cars.dtypes[cars.dtypes == 'object'].index)"
   ]
  },
  {
   "cell_type": "code",
   "execution_count": 7,
   "id": "fe66a533-aa7d-4544-98bb-5130bc0f5b6a",
   "metadata": {},
   "outputs": [],
   "source": [
    "# loop through each column and perform string manipulation on the values\n",
    "for col in columns_with_string_values:\n",
    "    cars[col] = cars[col].str.lower().str.replace(' ', '_')"
   ]
  },
  {
   "cell_type": "code",
   "execution_count": 8,
   "id": "16813690-10ce-410a-89ee-daf4037a69a0",
   "metadata": {},
   "outputs": [
    {
     "data": {
      "text/html": [
       "<div>\n",
       "<style scoped>\n",
       "    .dataframe tbody tr th:only-of-type {\n",
       "        vertical-align: middle;\n",
       "    }\n",
       "\n",
       "    .dataframe tbody tr th {\n",
       "        vertical-align: top;\n",
       "    }\n",
       "\n",
       "    .dataframe thead th {\n",
       "        text-align: right;\n",
       "    }\n",
       "</style>\n",
       "<table border=\"1\" class=\"dataframe\">\n",
       "  <thead>\n",
       "    <tr style=\"text-align: right;\">\n",
       "      <th></th>\n",
       "      <th>make</th>\n",
       "      <th>model</th>\n",
       "      <th>year</th>\n",
       "      <th>engine_fuel_type</th>\n",
       "      <th>engine_hp</th>\n",
       "      <th>engine_cylinders</th>\n",
       "      <th>transmission_type</th>\n",
       "      <th>driven_wheels</th>\n",
       "      <th>number_of_doors</th>\n",
       "      <th>market_category</th>\n",
       "      <th>vehicle_size</th>\n",
       "      <th>vehicle_style</th>\n",
       "      <th>highway_mpg</th>\n",
       "      <th>city_mpg</th>\n",
       "      <th>popularity</th>\n",
       "      <th>msrp</th>\n",
       "    </tr>\n",
       "  </thead>\n",
       "  <tbody>\n",
       "    <tr>\n",
       "      <th>0</th>\n",
       "      <td>bmw</td>\n",
       "      <td>1_series_m</td>\n",
       "      <td>2011</td>\n",
       "      <td>premium_unleaded_(required)</td>\n",
       "      <td>335.0</td>\n",
       "      <td>6.0</td>\n",
       "      <td>manual</td>\n",
       "      <td>rear_wheel_drive</td>\n",
       "      <td>2.0</td>\n",
       "      <td>factory_tuner,luxury,high-performance</td>\n",
       "      <td>compact</td>\n",
       "      <td>coupe</td>\n",
       "      <td>26</td>\n",
       "      <td>19</td>\n",
       "      <td>3916</td>\n",
       "      <td>46135</td>\n",
       "    </tr>\n",
       "    <tr>\n",
       "      <th>1</th>\n",
       "      <td>bmw</td>\n",
       "      <td>1_series</td>\n",
       "      <td>2011</td>\n",
       "      <td>premium_unleaded_(required)</td>\n",
       "      <td>300.0</td>\n",
       "      <td>6.0</td>\n",
       "      <td>manual</td>\n",
       "      <td>rear_wheel_drive</td>\n",
       "      <td>2.0</td>\n",
       "      <td>luxury,performance</td>\n",
       "      <td>compact</td>\n",
       "      <td>convertible</td>\n",
       "      <td>28</td>\n",
       "      <td>19</td>\n",
       "      <td>3916</td>\n",
       "      <td>40650</td>\n",
       "    </tr>\n",
       "    <tr>\n",
       "      <th>2</th>\n",
       "      <td>bmw</td>\n",
       "      <td>1_series</td>\n",
       "      <td>2011</td>\n",
       "      <td>premium_unleaded_(required)</td>\n",
       "      <td>300.0</td>\n",
       "      <td>6.0</td>\n",
       "      <td>manual</td>\n",
       "      <td>rear_wheel_drive</td>\n",
       "      <td>2.0</td>\n",
       "      <td>luxury,high-performance</td>\n",
       "      <td>compact</td>\n",
       "      <td>coupe</td>\n",
       "      <td>28</td>\n",
       "      <td>20</td>\n",
       "      <td>3916</td>\n",
       "      <td>36350</td>\n",
       "    </tr>\n",
       "    <tr>\n",
       "      <th>3</th>\n",
       "      <td>bmw</td>\n",
       "      <td>1_series</td>\n",
       "      <td>2011</td>\n",
       "      <td>premium_unleaded_(required)</td>\n",
       "      <td>230.0</td>\n",
       "      <td>6.0</td>\n",
       "      <td>manual</td>\n",
       "      <td>rear_wheel_drive</td>\n",
       "      <td>2.0</td>\n",
       "      <td>luxury,performance</td>\n",
       "      <td>compact</td>\n",
       "      <td>coupe</td>\n",
       "      <td>28</td>\n",
       "      <td>18</td>\n",
       "      <td>3916</td>\n",
       "      <td>29450</td>\n",
       "    </tr>\n",
       "    <tr>\n",
       "      <th>4</th>\n",
       "      <td>bmw</td>\n",
       "      <td>1_series</td>\n",
       "      <td>2011</td>\n",
       "      <td>premium_unleaded_(required)</td>\n",
       "      <td>230.0</td>\n",
       "      <td>6.0</td>\n",
       "      <td>manual</td>\n",
       "      <td>rear_wheel_drive</td>\n",
       "      <td>2.0</td>\n",
       "      <td>luxury</td>\n",
       "      <td>compact</td>\n",
       "      <td>convertible</td>\n",
       "      <td>28</td>\n",
       "      <td>18</td>\n",
       "      <td>3916</td>\n",
       "      <td>34500</td>\n",
       "    </tr>\n",
       "  </tbody>\n",
       "</table>\n",
       "</div>"
      ],
      "text/plain": [
       "  make       model  year             engine_fuel_type  engine_hp  \\\n",
       "0  bmw  1_series_m  2011  premium_unleaded_(required)      335.0   \n",
       "1  bmw    1_series  2011  premium_unleaded_(required)      300.0   \n",
       "2  bmw    1_series  2011  premium_unleaded_(required)      300.0   \n",
       "3  bmw    1_series  2011  premium_unleaded_(required)      230.0   \n",
       "4  bmw    1_series  2011  premium_unleaded_(required)      230.0   \n",
       "\n",
       "   engine_cylinders transmission_type     driven_wheels  number_of_doors  \\\n",
       "0               6.0            manual  rear_wheel_drive              2.0   \n",
       "1               6.0            manual  rear_wheel_drive              2.0   \n",
       "2               6.0            manual  rear_wheel_drive              2.0   \n",
       "3               6.0            manual  rear_wheel_drive              2.0   \n",
       "4               6.0            manual  rear_wheel_drive              2.0   \n",
       "\n",
       "                         market_category vehicle_size vehicle_style  \\\n",
       "0  factory_tuner,luxury,high-performance      compact         coupe   \n",
       "1                     luxury,performance      compact   convertible   \n",
       "2                luxury,high-performance      compact         coupe   \n",
       "3                     luxury,performance      compact         coupe   \n",
       "4                                 luxury      compact   convertible   \n",
       "\n",
       "   highway_mpg  city_mpg  popularity   msrp  \n",
       "0           26        19        3916  46135  \n",
       "1           28        19        3916  40650  \n",
       "2           28        20        3916  36350  \n",
       "3           28        18        3916  29450  \n",
       "4           28        18        3916  34500  "
      ]
     },
     "execution_count": 8,
     "metadata": {},
     "output_type": "execute_result"
    }
   ],
   "source": [
    "cars.head()"
   ]
  },
  {
   "cell_type": "markdown",
   "id": "a63c3e21-c5c5-41cc-ada5-76f487675d4e",
   "metadata": {},
   "source": [
    "We have to learn how to extract meaningful data from our dataset."
   ]
  },
  {
   "cell_type": "code",
   "execution_count": 9,
   "id": "3e2405be-15c6-4ca8-a977-5d8909804909",
   "metadata": {
    "scrolled": true
   },
   "outputs": [
    {
     "name": "stdout",
     "output_type": "stream",
     "text": [
      "Column:  make\n",
      "Type:  object\n",
      "['bmw' 'audi' 'fiat' 'mercedes-benz' 'chrysler']\n",
      "Number of unique items:  48\n",
      "\n",
      "Column:  model\n",
      "Type:  object\n",
      "['1_series_m' '1_series' '100' '124_spider' '190-class']\n",
      "Number of unique items:  914\n",
      "\n",
      "Column:  year\n",
      "Type:  int64\n",
      "[2011 2012 2013 1992 1993]\n",
      "Number of unique items:  28\n",
      "\n",
      "Column:  engine_fuel_type\n",
      "Type:  object\n",
      "['premium_unleaded_(required)' 'regular_unleaded'\n",
      " 'premium_unleaded_(recommended)' 'flex-fuel_(unleaded/e85)' 'diesel']\n",
      "Number of unique items:  10\n",
      "\n",
      "Column:  engine_hp\n",
      "Type:  float64\n",
      "[335. 300. 230. 320. 172.]\n",
      "Number of unique items:  356\n",
      "\n",
      "Column:  engine_cylinders\n",
      "Type:  float64\n",
      "[ 6.  4.  5.  8. 12.]\n",
      "Number of unique items:  9\n",
      "\n",
      "Column:  transmission_type\n",
      "Type:  object\n",
      "['manual' 'automatic' 'automated_manual' 'direct_drive' 'unknown']\n",
      "Number of unique items:  5\n",
      "\n",
      "Column:  driven_wheels\n",
      "Type:  object\n",
      "['rear_wheel_drive' 'front_wheel_drive' 'all_wheel_drive'\n",
      " 'four_wheel_drive']\n",
      "Number of unique items:  4\n",
      "\n",
      "Column:  number_of_doors\n",
      "Type:  float64\n",
      "[ 2.  4.  3. nan]\n",
      "Number of unique items:  3\n",
      "\n",
      "Column:  market_category\n",
      "Type:  object\n",
      "['factory_tuner,luxury,high-performance' 'luxury,performance'\n",
      " 'luxury,high-performance' 'luxury' 'performance']\n",
      "Number of unique items:  71\n",
      "\n",
      "Column:  vehicle_size\n",
      "Type:  object\n",
      "['compact' 'midsize' 'large']\n",
      "Number of unique items:  3\n",
      "\n",
      "Column:  vehicle_style\n",
      "Type:  object\n",
      "['coupe' 'convertible' 'sedan' 'wagon' '4dr_hatchback']\n",
      "Number of unique items:  16\n",
      "\n",
      "Column:  highway_mpg\n",
      "Type:  int64\n",
      "[26 28 27 25 24]\n",
      "Number of unique items:  59\n",
      "\n",
      "Column:  city_mpg\n",
      "Type:  int64\n",
      "[19 20 18 17 16]\n",
      "Number of unique items:  69\n",
      "\n",
      "Column:  popularity\n",
      "Type:  int64\n",
      "[3916 3105  819  617 1013]\n",
      "Number of unique items:  48\n",
      "\n",
      "Column:  msrp\n",
      "Type:  int64\n",
      "[46135 40650 36350 29450 34500]\n",
      "Number of unique items:  6049\n",
      "\n"
     ]
    }
   ],
   "source": [
    "for col in cars.columns:\n",
    "    print(\"Column: \", col)\n",
    "    print(\"Type: \", cars[col].dtype)\n",
    "    print(cars[col].unique()[:5])\n",
    "    print(\"Number of unique items: \", cars[col].nunique())\n",
    "    print()"
   ]
  },
  {
   "cell_type": "markdown",
   "id": "8393d17a-61f8-4706-aeb6-c149b9e2940a",
   "metadata": {},
   "source": [
    "Note: the popularity column uses Twitter mentions as a basis. **Popularity** == Number of mentions"
   ]
  },
  {
   "cell_type": "markdown",
   "id": "ff4f93e2-0564-438b-b52f-a40f682b2b3f",
   "metadata": {},
   "source": [
    "# 2.3 Exploratory Data Analysis"
   ]
  },
  {
   "cell_type": "code",
   "execution_count": 10,
   "id": "aa183727-1246-46b8-afbb-1e9723a345ae",
   "metadata": {},
   "outputs": [],
   "source": [
    "# useful libraries for EDA\n",
    "import matplotlib.pyplot as plt\n",
    "import seaborn as sns\n",
    "\n",
    "# this line your plot outputs appear and be stored within the notebook.\n",
    "# https://stackoverflow.com/questions/43027980/purpose-of-matplotlib-inline\n",
    "%matplotlib inline"
   ]
  },
  {
   "cell_type": "code",
   "execution_count": 11,
   "id": "daa267f8-8cde-402a-8050-66d84c7b123d",
   "metadata": {},
   "outputs": [
    {
     "data": {
      "image/png": "[encoded data removed]",
      "text/plain": [
       "<Figure size 640x480 with 1 Axes>"
      ]
     },
     "metadata": {},
     "output_type": "display_data"
    }
   ],
   "source": [
    "# bins = how many bars to show\n",
    "sns.histplot(cars.msrp, bins=50)\n",
    "\n",
    "# show graph\n",
    "plt.show()"
   ]
  },
  {
   "cell_type": "markdown",
   "id": "d96525b5-7563-4462-9217-ea742dee9cd0",
   "metadata": {},
   "source": [
    "The distribution of the histogram above is called ***long tail distribution***"
   ]
  },
  {
   "cell_type": "markdown",
   "id": "60bce532-9478-49db-9c0b-e6c2b11159a3",
   "metadata": {},
   "source": [
    "Now, let's try zooming in."
   ]
  },
  {
   "cell_type": "code",
   "execution_count": 12,
   "id": "01ad1861-d507-4c3a-96ca-bde49882a8d9",
   "metadata": {},
   "outputs": [
    {
     "data": {
      "image/png": "[encoded data removed]",
      "text/plain": [
       "<Figure size 640x480 with 1 Axes>"
      ]
     },
     "metadata": {},
     "output_type": "display_data"
    }
   ],
   "source": [
    "# bins = how many bars to show\n",
    "sns.histplot(cars.msrp[cars.msrp < 1e5], bins=50)\n",
    "\n",
    "# show graph\n",
    "plt.show()"
   ]
  },
  {
   "cell_type": "markdown",
   "id": "82fcdfc7-db76-45d9-bf35-caa572ca4e47",
   "metadata": {},
   "source": [
    "Tails like this dataset would often times confuse our model.\\\n",
    "To solve this, we have to figure out a way to remove the tail. One way to do it is to use logarithms."
   ]
  },
  {
   "cell_type": "code",
   "execution_count": 13,
   "id": "28fdb4ee-c5b2-4e67-bd8e-a79196637d41",
   "metadata": {},
   "outputs": [
    {
     "data": {
      "text/plain": [
       "array([ 0.        ,  4.60517019,  9.21034037, 13.81551056])"
      ]
     },
     "execution_count": 13,
     "metadata": {},
     "output_type": "execute_result"
    }
   ],
   "source": [
    "np.log([1, 1e2, 1e4, 1e6])"
   ]
  },
  {
   "cell_type": "markdown",
   "id": "c7f8098b-91e8-4091-a014-d7fb23f53cf4",
   "metadata": {},
   "source": [
    "As seen from the result above, log allows us to close the gap. However, we might encounter some problems if there is a value of 0 in our data.\\\n",
    "This is because we cannot perform log(0)."
   ]
  },
  {
   "cell_type": "code",
   "execution_count": 14,
   "id": "472e6b09-6c0b-4d2d-a1df-18d57ae40303",
   "metadata": {},
   "outputs": [
    {
     "name": "stderr",
     "output_type": "stream",
     "text": [
      "C:\\Users\\fanta\\AppData\\Local\\Temp\\ipykernel_10620\\2933082444.py:1: RuntimeWarning: divide by zero encountered in log\n",
      "  np.log(0)\n"
     ]
    },
    {
     "data": {
      "text/plain": [
       "-inf"
      ]
     },
     "execution_count": 14,
     "metadata": {},
     "output_type": "execute_result"
    }
   ],
   "source": [
    "np.log(0)"
   ]
  },
  {
   "cell_type": "markdown",
   "id": "34780a57-a410-4273-b401-48c2f0c695ea",
   "metadata": {},
   "source": [
    "A straightforward way to fix this is to add 1 to every value.\\\n",
    "It is easy to do this with NumPy using ***.log1p()***"
   ]
  },
  {
   "cell_type": "code",
   "execution_count": 15,
   "id": "5cb80481-09ba-47db-be43-06f23b11ea5a",
   "metadata": {},
   "outputs": [
    {
     "data": {
      "text/plain": [
       "array([ 0.        ,  4.61512052,  9.21044037, 13.81551156])"
      ]
     },
     "execution_count": 15,
     "metadata": {},
     "output_type": "execute_result"
    }
   ],
   "source": [
    "np.log1p([0, 1e2, 1e4, 1e6])"
   ]
  },
  {
   "cell_type": "markdown",
   "id": "8c2b03b4-3775-44c4-b80e-d2127fae8c1b",
   "metadata": {},
   "source": [
    "Now, I'm going to try to graph it with what I've learned above."
   ]
  },
  {
   "cell_type": "code",
   "execution_count": 16,
   "id": "dc11f0e9-cf76-4f48-9c10-6e6b87c328f6",
   "metadata": {},
   "outputs": [
    {
     "data": {
      "image/png": "[encoded data removed]",
      "text/plain": [
       "<Figure size 640x480 with 1 Axes>"
      ]
     },
     "metadata": {},
     "output_type": "display_data"
    }
   ],
   "source": [
    "# bins = how many bars to show\n",
    "# plot the cars.msrp with .log + 1\n",
    "sns.histplot(np.log1p(cars.msrp), bins=50)\n",
    "plt.show()"
   ]
  },
  {
   "cell_type": "markdown",
   "id": "b9834739-8d29-4dad-a8b3-788972d45bf6",
   "metadata": {},
   "source": [
    "The long tail is now somehow gone!\n",
    "I can now see a bell curve shape in the distribution. This is called **Normal Distribution**.\\\n",
    "Models excel with these types of data distribution!"
   ]
  },
  {
   "cell_type": "markdown",
   "id": "9e3c9dd5-9b6f-42f2-b282-dc001c2f24e6",
   "metadata": {},
   "source": [
    "### Missing Values"
   ]
  },
  {
   "cell_type": "code",
   "execution_count": 17,
   "id": "977857b6-6cc9-4b49-8569-246e9c1c0842",
   "metadata": {},
   "outputs": [
    {
     "data": {
      "text/plain": [
       "make                    0\n",
       "model                   0\n",
       "year                    0\n",
       "engine_fuel_type        3\n",
       "engine_hp              69\n",
       "engine_cylinders       30\n",
       "transmission_type       0\n",
       "driven_wheels           0\n",
       "number_of_doors         6\n",
       "market_category      3742\n",
       "vehicle_size            0\n",
       "vehicle_style           0\n",
       "highway_mpg             0\n",
       "city_mpg                0\n",
       "popularity              0\n",
       "msrp                    0\n",
       "dtype: int64"
      ]
     },
     "execution_count": 17,
     "metadata": {},
     "output_type": "execute_result"
    }
   ],
   "source": [
    "cars.isnull().sum()"
   ]
  },
  {
   "cell_type": "markdown",
   "id": "3e0451e4-958b-4978-8ef1-4ad0186f7e46",
   "metadata": {},
   "source": [
    "# 2.4 Validation Framework"
   ]
  },
  {
   "cell_type": "markdown",
   "id": "5518d811-b7f2-42fe-a748-554828eaf384",
   "metadata": {},
   "source": [
    "Setting up the 60-20-20 dataset for training:"
   ]
  },
  {
   "cell_type": "code",
   "execution_count": 18,
   "id": "78a17863-5be2-4331-9322-176480ff1af2",
   "metadata": {},
   "outputs": [
    {
     "name": "stdout",
     "output_type": "stream",
     "text": [
      "11914 7150 2382 2382 11914\n"
     ]
    }
   ],
   "source": [
    "# size of dataset (number of rows)\n",
    "n = len(cars)\n",
    "\n",
    "# size of validation set\n",
    "n_val = int(n * 0.2)\n",
    "\n",
    "# size of testing set\n",
    "n_test = int(n * 0.2)\n",
    "\n",
    "# size of training set\n",
    "n_train = n - n_val - n_test\n",
    "\n",
    "print(n, n_train, n_val, n_test, n_val + n_test + n_train)"
   ]
  },
  {
   "cell_type": "markdown",
   "id": "4bc0a1e1-0f7e-4017-af6c-90d5cfc88d45",
   "metadata": {},
   "source": [
    "Now, it's time to divide the dataset.\\\n",
    "Using train_test_split is possible with scikit learn but we can manually do it by using indexing.\\\n",
    "Both ***.iloc*** and ***.loc*** are okay but for this example, I'll be using ***.iloc***"
   ]
  },
  {
   "cell_type": "markdown",
   "id": "b141ca22-7585-4293-996a-376752aae840",
   "metadata": {},
   "source": [
    "Before extracting those sets however, there is a need to **shuffle** the dataframe so that we'll be assured that we're using\n",
    "various datasets."
   ]
  },
  {
   "cell_type": "code",
   "execution_count": 19,
   "id": "551f237d-6425-4eea-b1d2-03f61ebb4a17",
   "metadata": {},
   "outputs": [],
   "source": [
    "# shuffled dataframe using pandas\n",
    "shuffled_df = cars.sample(n=len(cars))"
   ]
  },
  {
   "cell_type": "markdown",
   "id": "db2be3eb-7f65-4b21-9bb7-b31f906a2796",
   "metadata": {},
   "source": [
    "We can also use Numpy **.random.shuffle()**"
   ]
  },
  {
   "cell_type": "code",
   "execution_count": 20,
   "id": "e1ac0a0b-c055-48fb-b283-026d3d1631c6",
   "metadata": {},
   "outputs": [],
   "source": [
    "# indices/iota\n",
    "indices = np.arange(n)\n",
    "# shuffle indices after setting a seed to make it reproducible\n",
    "np.random.seed(1)\n",
    "shuffled_indices = np.random.shuffle(indices)"
   ]
  },
  {
   "cell_type": "code",
   "execution_count": 21,
   "id": "96bdd3af-b8e3-419f-8afd-c1217f7fcf59",
   "metadata": {},
   "outputs": [],
   "source": [
    "# get the validation set\n",
    "validation_set = cars.iloc[indices[:n_val]]\n",
    "# get the testing set\n",
    "testing_set = cars.iloc[indices[n_val:n_val+n_test]]\n",
    "# get the training set\n",
    "training_set = cars.iloc[indices[n_val+n_test:n]]"
   ]
  },
  {
   "cell_type": "markdown",
   "id": "803a6653-1ef0-4d95-9613-0200aa8e56e9",
   "metadata": {},
   "source": [
    "Then, reset our indices"
   ]
  },
  {
   "cell_type": "code",
   "execution_count": 22,
   "id": "f148e080-ac5b-4be3-8cac-897a715a8997",
   "metadata": {},
   "outputs": [],
   "source": [
    "validation_set = validation_set.reset_index(drop=True)\n",
    "testing_set = testing_set.reset_index(drop=True)\n",
    "training_set = training_set.reset_index(drop=True)"
   ]
  },
  {
   "cell_type": "code",
   "execution_count": 23,
   "id": "bf903704-161b-4ae8-9641-74466ae2b88f",
   "metadata": {},
   "outputs": [],
   "source": [
    "y = np.log1p(training_set.msrp.values)\n",
    "y_val = np.log1p(validation_set.msrp.values)\n",
    "y_test = np.log1p(testing_set.msrp.values)"
   ]
  },
  {
   "cell_type": "markdown",
   "id": "72931bb8-0f56-4d00-a821-276843bb4ec3",
   "metadata": {},
   "source": [
    "After this, it is recommendable to *delete* the msrp column for the datasets we created to avoid confusion and possible errors"
   ]
  },
  {
   "cell_type": "code",
   "execution_count": 24,
   "id": "9dd51ba4-f9bf-4992-b4f6-3e6cfaa2bd2c",
   "metadata": {},
   "outputs": [
    {
     "data": {
      "text/plain": [
       "(array([10.71277197,  7.60140233,  9.84166534, ...,  7.60140233,\n",
       "        10.00879307, 10.38331774]),\n",
       " array([11.42846719, 11.82701332, 10.54536775, ..., 12.12378283,\n",
       "        10.47166657, 12.99816204]),\n",
       " array([ 9.92137659, 10.91328684, 10.30865262, ..., 10.65067301,\n",
       "        10.7320612 , 10.65610575]))"
      ]
     },
     "execution_count": 24,
     "metadata": {},
     "output_type": "execute_result"
    }
   ],
   "source": [
    "y, y_val, y_test"
   ]
  },
  {
   "cell_type": "code",
   "execution_count": 25,
   "id": "e377e577-e770-464f-ba9f-593250c5f886",
   "metadata": {},
   "outputs": [],
   "source": [
    "del validation_set['msrp']\n",
    "del training_set['msrp']\n",
    "del testing_set['msrp']"
   ]
  },
  {
   "cell_type": "code",
   "execution_count": 26,
   "id": "da37d406-b113-4135-abf0-9811f50f5352",
   "metadata": {},
   "outputs": [
    {
     "data": {
      "text/plain": [
       "2382"
      ]
     },
     "execution_count": 26,
     "metadata": {},
     "output_type": "execute_result"
    }
   ],
   "source": [
    "len(y_val)"
   ]
  },
  {
   "cell_type": "markdown",
   "id": "e279014a-66ca-4c33-affa-c307f061582f",
   "metadata": {},
   "source": [
    "# 2.4 Linear Regression"
   ]
  },
  {
   "cell_type": "code",
   "execution_count": 27,
   "id": "e3323cb5-bbf4-4fa2-925a-1c0375274e80",
   "metadata": {},
   "outputs": [
    {
     "data": {
      "text/plain": [
       "make                         chevrolet\n",
       "model                   malibu_limited\n",
       "year                              2016\n",
       "engine_fuel_type      regular_unleaded\n",
       "engine_hp                        197.0\n",
       "engine_cylinders                   4.0\n",
       "transmission_type            automatic\n",
       "driven_wheels        front_wheel_drive\n",
       "number_of_doors                    4.0\n",
       "market_category                    NaN\n",
       "vehicle_size                   midsize\n",
       "vehicle_style                    sedan\n",
       "highway_mpg                         34\n",
       "city_mpg                            24\n",
       "popularity                        1385\n",
       "Name: 10, dtype: object"
      ]
     },
     "execution_count": 27,
     "metadata": {},
     "output_type": "execute_result"
    }
   ],
   "source": [
    "training_set.iloc[10]"
   ]
  },
  {
   "cell_type": "markdown",
   "id": "e9b59281-8161-40c4-9517-64b5d718e147",
   "metadata": {},
   "source": [
    "From the data above, I have to take some rows(series) and use it as the parameter for the linear regression.\\\n",
    "Remember g(x) = y. (approximation)"
   ]
  },
  {
   "cell_type": "markdown",
   "id": "8193e8e7-2db5-4d18-b797-18b62cd7fe24",
   "metadata": {},
   "source": [
    "For 2.4, *engine_hp*, *city_mpg*, and *popularity* was selected. I'll be using the same values."
   ]
  },
  {
   "cell_type": "code",
   "execution_count": 28,
   "id": "3d2dac93-6267-496c-b75b-cb962de66f0a",
   "metadata": {},
   "outputs": [],
   "source": [
    "# values of features\n",
    "xi = np.array([197, 24, 1385])"
   ]
  },
  {
   "cell_type": "code",
   "execution_count": 29,
   "id": "7273dd74-569e-41bb-a3c7-b49cbb4933eb",
   "metadata": {},
   "outputs": [],
   "source": [
    "# bias term (example)\n",
    "w0 = 7.17\n",
    "# weight\n",
    "w = [0.01, 0.04, 0.002]"
   ]
  },
  {
   "cell_type": "markdown",
   "id": "4bb17333-59d1-4e30-8639-eb7220367eff",
   "metadata": {},
   "source": [
    "Formally, the formula for linear regression is:\n",
    "g(Xi) = w0 + sigma j = 1 to n ( Xij * wi )"
   ]
  },
  {
   "cell_type": "code",
   "execution_count": 30,
   "id": "09793bbd-6b49-416a-befc-4d3c4c511d46",
   "metadata": {},
   "outputs": [],
   "source": [
    "# g(xi) = w0 + w1 * xi1 + w2 * xi2 + w3 * xi3\n",
    "def linear_regression(xi):\n",
    "    sum = xi.dot(w)\n",
    "    prediction = sum + w0\n",
    "    return prediction"
   ]
  },
  {
   "cell_type": "code",
   "execution_count": 31,
   "id": "e00b6b65-2624-405b-ac7a-1550cf3aab69",
   "metadata": {},
   "outputs": [
    {
     "data": {
      "text/plain": [
       "12.870000000000001"
      ]
     },
     "execution_count": 31,
     "metadata": {},
     "output_type": "execute_result"
    }
   ],
   "source": [
    "prediction = linear_regression(xi)\n",
    "prediction"
   ]
  },
  {
   "cell_type": "markdown",
   "id": "7d1840e4-bffa-4933-9389-963be6578b6d",
   "metadata": {},
   "source": [
    "In linear regression, we start with a bias term. By itself, it is already a *prediction*.\\\n",
    "However, since we know things about something(in this case the car features), we can make the prediction more accurate \n",
    "by **adding/subtracting values** to it.\\\n",
    "Linear Regression works in a way that it **extracts patterns** from the values and gives that specific value some **weight**.\\\n",
    "This weight is basically what we **multiply** to the feature to assess the price **increase/decrease** given the bias term.\\\n",
    "Simply put, given a set of data, in **each numerical column** we consider as a feature, patterns are extracted and that column is\\\n",
    "**given a weight based on the extracted pattern**(in this case, whether it increases or decreases the price of the car)."
   ]
  },
  {
   "cell_type": "markdown",
   "id": "2773bfdb-9ee8-4bef-8bf3-546bdee5ba98",
   "metadata": {},
   "source": [
    "# 2.6 Linear Regression vector form"
   ]
  },
  {
   "cell_type": "markdown",
   "id": "ed71daee-4ee5-420f-99b6-95cf3265211c",
   "metadata": {},
   "source": [
    "As shown in the previous lecture, the formula for an Xi(an element in X) is basically a vector-vector multiplication.\\\n",
    "In the formula **linear_regression()** I used ***xi.dot()*** then added w0 before returning the prediction.\\\n",
    "However, we can actually omit the addition by adding our bias term in the feature list (as *X*) and set its corresponding weight\\\n",
    "to 1. This way, it will retain its **original value**, similar to **adding w0 to** our dot product between **weights** and **features**."
   ]
  },
  {
   "cell_type": "code",
   "execution_count": 32,
   "id": "9dc4c41a-44dc-4ad2-9f91-a7011f716464",
   "metadata": {},
   "outputs": [
    {
     "data": {
      "text/plain": [
       "12.87"
      ]
     },
     "execution_count": 32,
     "metadata": {},
     "output_type": "execute_result"
    }
   ],
   "source": [
    "# features\n",
    "xi = xi = np.array([w0, 197, 24, 1385])\n",
    "# weight\n",
    "w = [1, 0.01, 0.04, 0.002]\n",
    "\n",
    "# g(xi) = w0 + w1 * xi1 + w2 * xi2 + w3 * xi3\n",
    "def linear_regression(xi, w):\n",
    "    prediction = xi.dot(w)\n",
    "    return prediction\n",
    "\n",
    "linear_regression(xi, w)"
   ]
  },
  {
   "cell_type": "markdown",
   "id": "4eb8f825-e581-49c1-a9a5-8cdaa8162d62",
   "metadata": {},
   "source": [
    "Now, it is easy to see that if we consider the entire dataset (every Xi), it is a **matrix-vector** multiplication."
   ]
  },
  {
   "cell_type": "markdown",
   "id": "8ee56ffd-bc80-4aa6-b3f7-75f969e23801",
   "metadata": {},
   "source": [
    "# 2.7 Linear Regression: Normal Equation"
   ]
  },
  {
   "cell_type": "markdown",
   "id": "e985e9b6-7e93-4dac-8735-2588ae699eb1",
   "metadata": {},
   "source": [
    "It is known by now that the normal equation we have for linear regression predicts **y** using a set of features **X** and their corresponding weight **w**. That is, **Xw ≈ y**. So far, we know how to get ***y*** and ***X*** because they're given. \\\n",
    "\\\n",
    "What about **w**?\\\n",
    "\\\n",
    "Naturally, we have to isolate w by getting rid of the matrix **X**. That is doable by multiplying both sides with X's inverse."
   ]
  },
  {
   "cell_type": "markdown",
   "id": "3dd88783-b0e8-4470-bc3c-3cafe9a1d7c7",
   "metadata": {},
   "source": [
    "**XI \\* X \\* w ≈ y \\* XI**"
   ]
  },
  {
   "cell_type": "markdown",
   "id": "ffae5873-c369-41e9-bf59-c2cb208a0274",
   "metadata": {},
   "source": [
    "We know that if we multiply a matrix **X** by its inverse **XI** then it would result in an ***identity matrix***.\\\n",
    "This is assuming that our matrix **X** fits the conditions to have an **inverse**.\\\n",
    "If so, then the function would be:"
   ]
  },
  {
   "cell_type": "markdown",
   "id": "3de8b76a-5995-4c1d-b97c-0f8a1010a751",
   "metadata": {},
   "source": [
    "**w ≈ y \\* XI**"
   ]
  },
  {
   "cell_type": "markdown",
   "id": "d61ad5d6-759c-4328-be14-c7ef0486b58d",
   "metadata": {},
   "source": [
    "But, it is apparent that most of the matrices don't fit the conditions for having an **inverse**. What now?"
   ]
  },
  {
   "cell_type": "markdown",
   "id": "7a1e65a1-72a3-4b76-9cf9-a227b15133cc",
   "metadata": {},
   "source": [
    "##### Luckily, ***Gram Matrix*** exists which will help, at the very least, ensure that our matrix is of *squared* size."
   ]
  },
  {
   "cell_type": "markdown",
   "id": "3dca9429-1c71-4a26-a71a-e110b4fb88b4",
   "metadata": {},
   "source": [
    "By implementing **Gram Matrix**, the formula will become:"
   ]
  },
  {
   "cell_type": "markdown",
   "id": "953ffbff-3b54-4fdb-9f9d-3ac0fc875b56",
   "metadata": {},
   "source": [
    "```\n",
    "Multiply both sides by XT(*transpose of X*),\n",
    "then multiply both sides by the inverse of XT * X.\n",
    "```\n",
    "**((XTX)^-1) \\* XTX \\* w ≈ y \\* XT \\* (XTX)^-1**"
   ]
  },
  {
   "cell_type": "markdown",
   "id": "71b6f6be-ed81-4700-8730-3f3c714b2960",
   "metadata": {},
   "source": [
    "```\n",
    "i = identity matrix\n",
    "```\n",
    "**i * w ≈ y \\* XT \\* (XTX)^-1**"
   ]
  },
  {
   "cell_type": "markdown",
   "id": "4891f8c4-3948-4ae2-a91b-6fc50ed89c53",
   "metadata": {},
   "source": [
    "```\n",
    "Finally,\n",
    "```\n",
    "**w ≈ y \\* XT \\* (XTX)^-1**"
   ]
  },
  {
   "cell_type": "markdown",
   "id": "eb17b462-1dbd-4704-a7cb-c4a4287bfa69",
   "metadata": {},
   "source": [
    "Below is one way it would be implemented with *python*"
   ]
  },
  {
   "cell_type": "code",
   "execution_count": 33,
   "id": "58d4283f-ef87-4558-83d9-b041c244e6fa",
   "metadata": {},
   "outputs": [],
   "source": [
    "# getting the weight of the features.\n",
    "def train_linear_regression(X, y):\n",
    "    XT = X.T\n",
    "    # columns of X must be equal to rows of XT\n",
    "    assert X.shape[1] == XT.shape[0]\n",
    "    # XT * X for gram matrix\n",
    "    XTX = XT.dot(X)\n",
    "    # get the inverse of the gram matrix\n",
    "    inverse_xtx = np.linalg.inv(XTX)\n",
    "    # formula for w\n",
    "    w = inverse_xtx.dot(XT).dot(y)\n",
    "    return w"
   ]
  },
  {
   "cell_type": "code",
   "execution_count": 34,
   "id": "16837f5a-22e6-4dfb-9a76-93dbd440b81b",
   "metadata": {
    "scrolled": true
   },
   "outputs": [
    {
     "data": {
      "text/plain": [
       "array([ 23.26462224, -21.71180398,   0.38945469])"
      ]
     },
     "execution_count": 34,
     "metadata": {},
     "output_type": "execute_result"
    }
   ],
   "source": [
    "X = [\n",
    "    [105, 65, 852],\n",
    "    [136, 46, 523],\n",
    "    [137, 44, 610],\n",
    "    [141, 48, 432],\n",
    "    [132, 55, 123],\n",
    "    [114, 69, 233],\n",
    "    [126, 77, 1220],\n",
    "    [122, 91, 521],\n",
    "]\n",
    "yy = [1443, 4224, 2113, 1641, 1182, 1342, 1223, 1455]\n",
    "X = np.array(X)\n",
    "train_linear_regression(X, yy)"
   ]
  },
  {
   "cell_type": "markdown",
   "id": "66537c42-6f6a-4624-8ae2-2f6e89fe7465",
   "metadata": {},
   "source": [
    "It is working. But we need to insert ones at the beginning of the array for the **bias term**."
   ]
  },
  {
   "cell_type": "code",
   "execution_count": 35,
   "id": "ae714ad1-de5f-4be9-aeca-32dd3758bb7f",
   "metadata": {},
   "outputs": [
    {
     "data": {
      "text/plain": [
       "array([[1.00e+00, 1.05e+02, 6.50e+01, 8.52e+02],\n",
       "       [1.00e+00, 1.36e+02, 4.60e+01, 5.23e+02],\n",
       "       [1.00e+00, 1.37e+02, 4.40e+01, 6.10e+02],\n",
       "       [1.00e+00, 1.41e+02, 4.80e+01, 4.32e+02],\n",
       "       [1.00e+00, 1.32e+02, 5.50e+01, 1.23e+02],\n",
       "       [1.00e+00, 1.14e+02, 6.90e+01, 2.33e+02],\n",
       "       [1.00e+00, 1.26e+02, 7.70e+01, 1.22e+03],\n",
       "       [1.00e+00, 1.22e+02, 9.10e+01, 5.21e+02]])"
      ]
     },
     "execution_count": 35,
     "metadata": {},
     "output_type": "execute_result"
    }
   ],
   "source": [
    "# create a vector of ones the size of the number of rows of X\n",
    "ones = np.ones(X.shape[0])\n",
    "# use column stack to add the 1D array of ones as a column in X where the position is signified by [ones, X] \n",
    "np.column_stack([ones, X])"
   ]
  },
  {
   "cell_type": "markdown",
   "id": "d334cde2-c19e-4fe4-87fb-4de0f9868559",
   "metadata": {},
   "source": [
    "We can also include the snippet above inside the *train_linear_regression* function"
   ]
  },
  {
   "cell_type": "code",
   "execution_count": 36,
   "id": "b1fffe8f-6d86-4d5c-a963-c715b47647ce",
   "metadata": {},
   "outputs": [],
   "source": [
    "def train_linear_regression(X, y):\n",
    "    ones = np.ones(X.shape[0])\n",
    "    X = np.column_stack([ones, X])\n",
    "    \n",
    "    XT = X.T\n",
    "    # columns of X must be equal to rows of XT\n",
    "    assert X.shape[1] == XT.shape[0]\n",
    "    # XT * X for gram matrix\n",
    "    XTX = XT.dot(X)\n",
    "    # get the inverse of the gram matrix\n",
    "    inverse_xtx = np.linalg.inv(XTX)\n",
    "    # formula for w\n",
    "    w = inverse_xtx.dot(XT).dot(y)\n",
    "    return w[0], w[1:]"
   ]
  },
  {
   "cell_type": "code",
   "execution_count": 37,
   "id": "b06fbf0c-d7c7-41d8-917f-a23d98ea6cba",
   "metadata": {},
   "outputs": [
    {
     "data": {
      "text/plain": [
       "[1443, 4224, 2113, 1641, 1182, 1342, 1223, 1455]"
      ]
     },
     "execution_count": 37,
     "metadata": {},
     "output_type": "execute_result"
    }
   ],
   "source": [
    "yy"
   ]
  },
  {
   "cell_type": "code",
   "execution_count": 38,
   "id": "c095cd72-63fb-4e9c-b4cc-8efce2dbe390",
   "metadata": {},
   "outputs": [
    {
     "name": "stdout",
     "output_type": "stream",
     "text": [
      "Bias Term:  1670.091045522981\n",
      "Weights:  [ 13.08660939 -27.54868589   0.36378729]\n"
     ]
    }
   ],
   "source": [
    "w0, w = train_linear_regression(X, yy)\n",
    "print(\"Bias Term: \", w0)\n",
    "print(\"Weights: \", w)"
   ]
  },
  {
   "cell_type": "markdown",
   "id": "d8a6bc14-a6ce-4649-9cd0-22742551a068",
   "metadata": {},
   "source": [
    "As you can see, there can be negative values in the weights. This means that as this feature increases at some car, then the value will go down."
   ]
  },
  {
   "cell_type": "markdown",
   "id": "a5903ecf-e81f-4d6e-9faf-436e00acc12a",
   "metadata": {},
   "source": [
    "# Lecture 2.8: Car price baseline model"
   ]
  },
  {
   "cell_type": "markdown",
   "id": "534a2848-8829-43e9-b98f-cc0bc4dce367",
   "metadata": {},
   "source": [
    "Remember that in *linear regression*, only numerical values work."
   ]
  },
  {
   "cell_type": "code",
   "execution_count": 39,
   "id": "ad095bfc-388c-42a4-85c4-d845ac092b9d",
   "metadata": {},
   "outputs": [
    {
     "data": {
      "text/plain": [
       "make                  object\n",
       "model                 object\n",
       "year                   int64\n",
       "engine_fuel_type      object\n",
       "engine_hp            float64\n",
       "engine_cylinders     float64\n",
       "transmission_type     object\n",
       "driven_wheels         object\n",
       "number_of_doors      float64\n",
       "market_category       object\n",
       "vehicle_size          object\n",
       "vehicle_style         object\n",
       "highway_mpg            int64\n",
       "city_mpg               int64\n",
       "popularity             int64\n",
       "dtype: object"
      ]
     },
     "execution_count": 39,
     "metadata": {},
     "output_type": "execute_result"
    }
   ],
   "source": [
    "training_set.dtypes"
   ]
  },
  {
   "cell_type": "code",
   "execution_count": 40,
   "id": "c4a36682-ef91-4334-83f5-ae7b6fdf2dcf",
   "metadata": {},
   "outputs": [
    {
     "data": {
      "text/plain": [
       "Index(['make', 'model', 'year', 'engine_fuel_type', 'engine_hp',\n",
       "       'engine_cylinders', 'transmission_type', 'driven_wheels',\n",
       "       'number_of_doors', 'market_category', 'vehicle_size', 'vehicle_style',\n",
       "       'highway_mpg', 'city_mpg', 'popularity'],\n",
       "      dtype='object')"
      ]
     },
     "execution_count": 40,
     "metadata": {},
     "output_type": "execute_result"
    }
   ],
   "source": [
    "training_set.columns"
   ]
  },
  {
   "cell_type": "code",
   "execution_count": 168,
   "id": "d80f11aa-bf45-4cf8-8cdf-b1f8f541b94e",
   "metadata": {},
   "outputs": [
    {
     "data": {
      "text/plain": [
       "(nan, array([nan, nan, nan, nan, nan]))"
      ]
     },
     "execution_count": 168,
     "metadata": {},
     "output_type": "execute_result"
    }
   ],
   "source": [
    "base = ['engine_hp', 'engine_cylinders', 'highway_mpg', 'city_mpg', 'popularity']\n",
    "# extract values as np array\n",
    "X_train = training_set[base].values\n",
    "train_linear_regression(X_train, y)"
   ]
  },
  {
   "cell_type": "markdown",
   "id": "698495bd-80c0-4417-8ea1-5f14797698be",
   "metadata": {},
   "source": [
    "As you can see, the result is all ***nan***. This happens because of the null values in the features we chose.\\\n",
    "An easy way to deal with this problem is to fill the null values with 0. This is not really the ideal solution for this case but I'll still try it."
   ]
  },
  {
   "cell_type": "code",
   "execution_count": 169,
   "id": "41b2bec3-2aa3-4977-867b-64cc460c84b2",
   "metadata": {},
   "outputs": [],
   "source": [
    "X_train = training_set[base].fillna(0)"
   ]
  },
  {
   "cell_type": "code",
   "execution_count": 170,
   "id": "4b3d1080-a8e2-4c82-87af-087b365e09bb",
   "metadata": {},
   "outputs": [
    {
     "data": {
      "text/plain": [
       "(7.887031680717339,\n",
       " array([ 9.48754973e-03, -1.42872275e-01,  1.53575308e-02,  1.37709636e-02,\n",
       "        -5.65402631e-06]))"
      ]
     },
     "execution_count": 170,
     "metadata": {},
     "output_type": "execute_result"
    }
   ],
   "source": [
    "train_linear_regression(X_train, y)"
   ]
  },
  {
   "cell_type": "markdown",
   "id": "ecd43d69-7b02-43f9-a03f-bc6fed95a11c",
   "metadata": {},
   "source": [
    "Time to test it out!"
   ]
  },
  {
   "cell_type": "code",
   "execution_count": 171,
   "id": "851014e1-9bd5-41d7-b112-6d889836f170",
   "metadata": {},
   "outputs": [
    {
     "data": {
      "text/plain": [
       "9.6796341660119"
      ]
     },
     "execution_count": 171,
     "metadata": {},
     "output_type": "execute_result"
    }
   ],
   "source": [
    "# assign to variables\n",
    "w0, w = train_linear_regression(X_train, y)\n",
    "# use linear_regression to predict for some validation data\n",
    "linear_regression(testing_set[base].iloc[0].fillna(0).values, w) + w0"
   ]
  },
  {
   "cell_type": "code",
   "execution_count": 172,
   "id": "09b411c9-58f3-4860-b8b8-f26daa24d9b5",
   "metadata": {},
   "outputs": [
    {
     "data": {
      "text/plain": [
       "9.6796341660119"
      ]
     },
     "execution_count": 172,
     "metadata": {},
     "output_type": "execute_result"
    }
   ],
   "source": [
    "# manually do the dot implementation just to check\n",
    "testing_set[base].iloc[0].fillna(0).values.dot(w) + w0"
   ]
  },
  {
   "cell_type": "markdown",
   "id": "36e566d3-9a1d-4fd8-9ac9-518ed1e0aa9e",
   "metadata": {},
   "source": [
    "The function is returning some value but it is way too small for a price. This is normal though because I used **.log1p** earlier on the target values.\\\n",
    "To reverse that, I can use NumPy's ***.exp1m*** (exponent/minus 1)."
   ]
  },
  {
   "cell_type": "code",
   "execution_count": 173,
   "id": "c7644451-ced5-4310-b01e-72b2e736f0f2",
   "metadata": {},
   "outputs": [
    {
     "data": {
      "text/plain": [
       "15988.0"
      ]
     },
     "execution_count": 173,
     "metadata": {},
     "output_type": "execute_result"
    }
   ],
   "source": [
    "prediction = linear_regression(testing_set[base].iloc[0].fillna(0).values, w) + w0\n",
    "np.expm1(prediction).round()"
   ]
  },
  {
   "cell_type": "markdown",
   "id": "ab6ad07b-482f-4656-90f9-5cbc25120d5f",
   "metadata": {},
   "source": [
    "To test the accuracy, I need the *MSRP* of the data I used."
   ]
  },
  {
   "cell_type": "code",
   "execution_count": 174,
   "id": "6ede6210-b6db-4606-9dc5-fe90afe2b423",
   "metadata": {},
   "outputs": [
    {
     "data": {
      "text/plain": [
       "20361.000000000015"
      ]
     },
     "execution_count": 174,
     "metadata": {},
     "output_type": "execute_result"
    }
   ],
   "source": [
    "np.exp(y_test[0]) # get the first index of the y_test dataset"
   ]
  },
  {
   "cell_type": "markdown",
   "id": "9e65ac31-e81a-46e1-b38e-093f0aa797b9",
   "metadata": {},
   "source": [
    "Unfortunately, It's off by about 4000.\n",
    "I'm gonna graph it out to see the overall distribution."
   ]
  },
  {
   "cell_type": "code",
   "execution_count": 175,
   "id": "00048f7e-5185-4ebf-981c-61647662a75a",
   "metadata": {},
   "outputs": [],
   "source": [
    "y_pred = linear_regression(X_train, w) + w0"
   ]
  },
  {
   "cell_type": "code",
   "execution_count": 176,
   "id": "6db8beb2-04a0-4ca1-8323-fb45332cfaa5",
   "metadata": {},
   "outputs": [
    {
     "data": {
      "image/png": "[encoded data removed]",
      "text/plain": [
       "<Figure size 640x480 with 1 Axes>"
      ]
     },
     "metadata": {},
     "output_type": "display_data"
    }
   ],
   "source": [
    "sns.histplot(y_pred, color='red', bins=50, alpha=0.5)\n",
    "sns.histplot(y, color='blue', bins=50, alpha=0.5)\n",
    "plt.show()"
   ]
  },
  {
   "cell_type": "markdown",
   "id": "c78a9834-966a-4ff2-900f-7d018e2758ca",
   "metadata": {},
   "source": [
    "It doesn't look like a good model with this chart! </3"
   ]
  },
  {
   "cell_type": "markdown",
   "id": "2967d858-1522-4bd8-9102-cde2c8167866",
   "metadata": {},
   "source": [
    "# 2.9 RMSE"
   ]
  },
  {
   "cell_type": "markdown",
   "id": "2b0d6116-8992-4d81-b046-1d9eccc185c8",
   "metadata": {},
   "source": [
    "**RMSE** or **Root Mean Squared Error** is one of the ways to measure the accuracy of a machine learning model."
   ]
  },
  {
   "cell_type": "code",
   "execution_count": 177,
   "id": "802f9709-3cfe-4725-a719-a8d772654f4c",
   "metadata": {},
   "outputs": [
    {
     "data": {
      "text/plain": [
       "0.5820139703545469"
      ]
     },
     "execution_count": 177,
     "metadata": {},
     "output_type": "execute_result"
    }
   ],
   "source": [
    "np.square(y_pred.values - y).sum() / len(y_pred)"
   ]
  },
  {
   "cell_type": "code",
   "execution_count": 178,
   "id": "799155c7-cfa4-4310-a1d3-8dfbdf47977c",
   "metadata": {},
   "outputs": [],
   "source": [
    "# rmse function\n",
    "def rmse(prediction, target):\n",
    "    squared_error = np.square(prediction - target)\n",
    "    mean_squared_error = np.mean(squared_error)\n",
    "    return np.sqrt(mean_squared_error)"
   ]
  },
  {
   "cell_type": "markdown",
   "id": "1584591f-bf6d-49c6-8eb7-d7f21b1315da",
   "metadata": {},
   "source": [
    "# 2.10 Computing RMSE on Validation Data"
   ]
  },
  {
   "cell_type": "code",
   "execution_count": 179,
   "id": "05fd0501-f672-476c-bc89-73c1e970f0cd",
   "metadata": {},
   "outputs": [],
   "source": [
    "# a function for preparing the dataframe X\n",
    "def prepare_X(df):\n",
    "    # get only the features\n",
    "    df_num = df[base]\n",
    "    # fill missing values with 0\n",
    "    df_num = df_num.fillna(0)\n",
    "    # return as numpy array\n",
    "    X = df_num.values\n",
    "    return X"
   ]
  },
  {
   "cell_type": "code",
   "execution_count": 180,
   "id": "83690d66-2130-4552-829e-7c3dd5ee58cb",
   "metadata": {},
   "outputs": [],
   "source": [
    "# training\n",
    "w0, w = train_linear_regression(X_train, y)\n",
    "\n",
    "# validation \n",
    "X_val = prepare_X(validation_set)\n",
    "predict_val = linear_regression(X_val, w) + w0"
   ]
  },
  {
   "cell_type": "code",
   "execution_count": 181,
   "id": "1a52f9e3-bf8d-4022-9999-011287a1b24d",
   "metadata": {},
   "outputs": [
    {
     "data": {
      "text/plain": [
       "0.735484834119099"
      ]
     },
     "execution_count": 181,
     "metadata": {},
     "output_type": "execute_result"
    }
   ],
   "source": [
    "rmse(predict_val, y_val)"
   ]
  },
  {
   "cell_type": "markdown",
   "id": "02d13758-ac01-4caa-8233-d2570e498a91",
   "metadata": {},
   "source": [
    "# 2.11 Feature Engineering"
   ]
  },
  {
   "cell_type": "markdown",
   "id": "30c58e96-4761-4787-9934-13cdaf2665ab",
   "metadata": {},
   "source": [
    "Naturally, there is a need to choose the best feature/s that would give the model increased accuracy.\n",
    "\n",
    "We can take the *year* column for one. It is important because the age of the car affects the overall price."
   ]
  },
  {
   "cell_type": "code",
   "execution_count": 182,
   "id": "84072d44-aeed-4d46-8e2b-7f5292571f2c",
   "metadata": {},
   "outputs": [
    {
     "data": {
      "text/plain": [
       "2017"
      ]
     },
     "execution_count": 182,
     "metadata": {},
     "output_type": "execute_result"
    }
   ],
   "source": [
    "# oldest car/the year the dataset was created.\n",
    "cars['year'].max()"
   ]
  },
  {
   "cell_type": "code",
   "execution_count": 190,
   "id": "e21f0528-e369-4235-ab19-6724aa6a47d7",
   "metadata": {},
   "outputs": [],
   "source": [
    "# a function for preparing the dataframe X\n",
    "def prepare_X(df):\n",
    "    df = df.copy()\n",
    "    features = base.copy()\n",
    "    df['age'] = 2017 - df['year'] \n",
    "    features.append('age')\n",
    "\n",
    "    # get only the features\n",
    "    df_num = df[features]\n",
    "    # fill missing values with 0\n",
    "    df_num = df_num.fillna(0)\n",
    "    # return as numpy array\n",
    "    X = df_num.values\n",
    "    return X"
   ]
  },
  {
   "cell_type": "code",
   "execution_count": 191,
   "id": "02eb34ab-754a-41a3-bf5d-602aac99ca4f",
   "metadata": {},
   "outputs": [],
   "source": [
    "X_val = prepare_X(validation_set)"
   ]
  },
  {
   "cell_type": "code",
   "execution_count": 192,
   "id": "f2f5d9fe-e99a-4631-8767-0f3e863e3359",
   "metadata": {},
   "outputs": [],
   "source": [
    "X_train = prepare_X(training_set)"
   ]
  },
  {
   "cell_type": "code",
   "execution_count": 193,
   "id": "bad9c995-3b6d-47ef-9219-04e7a0fe9010",
   "metadata": {},
   "outputs": [],
   "source": [
    "# training\n",
    "w0, w = train_linear_regression(X_train, y)\n",
    "\n",
    "# validation \n",
    "X_val = prepare_X(validation_set)\n",
    "predict_val = linear_regression(X_val, w) + w0"
   ]
  },
  {
   "cell_type": "code",
   "execution_count": 194,
   "id": "8f19ddbc-abba-4b0d-8721-59418c5b8766",
   "metadata": {},
   "outputs": [
    {
     "data": {
      "text/plain": [
       "0.5009573524383149"
      ]
     },
     "execution_count": 194,
     "metadata": {},
     "output_type": "execute_result"
    }
   ],
   "source": [
    "rmse(predict_val, y_val)"
   ]
  },
  {
   "cell_type": "markdown",
   "id": "4fe32717-defe-40a4-9120-3dcaadac2562",
   "metadata": {},
   "source": [
    "That's a pretty huge improvement."
   ]
  },
  {
   "cell_type": "code",
   "execution_count": 195,
   "id": "9f1e5d2f-65be-43a7-97b3-50c36db8222a",
   "metadata": {},
   "outputs": [
    {
     "data": {
      "image/png": "[encoded data removed]",
      "text/plain": [
       "<Figure size 640x480 with 1 Axes>"
      ]
     },
     "metadata": {},
     "output_type": "display_data"
    }
   ],
   "source": [
    "sns.histplot(predict_val, color='red', bins=50, alpha=0.5)\n",
    "sns.histplot(y_val, color='blue', bins=50, alpha=0.5)\n",
    "plt.show()"
   ]
  },
  {
   "cell_type": "markdown",
   "id": "c33c5f5e-86af-4a39-abae-c7de65b04c79",
   "metadata": {},
   "source": [
    "# 2.12 Categorical Variables"
   ]
  },
  {
   "cell_type": "markdown",
   "id": "54c33be6-5a3c-46e5-b5c5-5cedc34f5bb6",
   "metadata": {},
   "source": [
    "Categorical variables are the columns that are typically *strings*. Like *make* and *model*."
   ]
  },
  {
   "cell_type": "code",
   "execution_count": 196,
   "id": "de23b2fd-ef63-4925-97a7-d2db944ef04b",
   "metadata": {},
   "outputs": [
    {
     "data": {
      "text/plain": [
       "make                  object\n",
       "model                 object\n",
       "year                   int64\n",
       "engine_fuel_type      object\n",
       "engine_hp            float64\n",
       "engine_cylinders     float64\n",
       "transmission_type     object\n",
       "driven_wheels         object\n",
       "number_of_doors      float64\n",
       "market_category       object\n",
       "vehicle_size          object\n",
       "vehicle_style         object\n",
       "highway_mpg            int64\n",
       "city_mpg               int64\n",
       "popularity             int64\n",
       "msrp                   int64\n",
       "dtype: object"
      ]
     },
     "execution_count": 196,
     "metadata": {},
     "output_type": "execute_result"
    }
   ],
   "source": [
    "cars.dtypes"
   ]
  },
  {
   "cell_type": "markdown",
   "id": "87098475-56e8-4d9a-9207-14ecc15265bf",
   "metadata": {},
   "source": [
    "Since these can be important when it comes to training the model, we need to find a way to convert them into integers.\n",
    "\n",
    "One technique involves creating additional columns that will act as a *classifier* of some sort. For example, using the *vehicle_size*,\\\n",
    "I can add ***n*** number of columns that will be *0/1* depending on which size it has. So, given a column ['compact', 'midsize', 'small']\\\n",
    "if the car is compact, the value of the row would be [1, 0, 0]."
   ]
  },
  {
   "cell_type": "code",
   "execution_count": 210,
   "id": "0fea1ca3-d71c-40af-8b45-8b7e46c3c237",
   "metadata": {},
   "outputs": [],
   "source": [
    "# a function for preparing the dataframe X\n",
    "def prepare_X(df):\n",
    "    # edit only the copies\n",
    "    df = df.copy()\n",
    "    features = base.copy()\n",
    "    df['age'] = 2017 - df['year'] \n",
    "    features.append('age')\n",
    "    # number of doors\n",
    "    for v in [2, 3, 4]:\n",
    "        df['doors_%s' % v] = (df['number_of_doors'] == v).astype('int')\n",
    "        features.append('doors_%s' % v)\n",
    "        \n",
    "    # get only the features\n",
    "    df_num = df[features]\n",
    "    # fill missing values with 0\n",
    "    df_num = df_num.fillna(0)\n",
    "    # return as numpy array\n",
    "    X = df_num.values\n",
    "    return X"
   ]
  },
  {
   "cell_type": "code",
   "execution_count": 211,
   "id": "fab6f208-2c88-4978-b996-51f07955404d",
   "metadata": {},
   "outputs": [],
   "source": [
    "X_val = prepare_X(validation_set)\n",
    "X_train = prepare_X(training_set)"
   ]
  },
  {
   "cell_type": "code",
   "execution_count": 212,
   "id": "80bc8f2f-779d-41d8-8360-a8620bad6f4a",
   "metadata": {},
   "outputs": [],
   "source": [
    "# training\n",
    "w0, w = train_linear_regression(X_train, y)\n",
    "\n",
    "# validation \n",
    "X_val = prepare_X(validation_set)\n",
    "predict_val = linear_regression(X_val, w) + w0"
   ]
  },
  {
   "cell_type": "code",
   "execution_count": 213,
   "id": "f165c3a4-1240-4285-a80a-ca718e60e747",
   "metadata": {},
   "outputs": [
    {
     "data": {
      "text/plain": [
       "0.4987734531560262"
      ]
     },
     "execution_count": 213,
     "metadata": {},
     "output_type": "execute_result"
    }
   ],
   "source": [
    "rmse(predict_val, y_val)"
   ]
  },
  {
   "cell_type": "markdown",
   "id": "6e48c8ae-20b2-49a4-9328-3847863646e6",
   "metadata": {},
   "source": [
    "A slight increase from *0.5009573524383149*"
   ]
  },
  {
   "cell_type": "markdown",
   "id": "863deb9a-5dd0-426e-93da-c85e42fe4d9a",
   "metadata": {},
   "source": [
    "I'll try applying the same thing to the other categorical variables"
   ]
  },
  {
   "cell_type": "code",
   "execution_count": 214,
   "id": "5efabe27-0176-4a0c-9d0c-5822a1cc7677",
   "metadata": {},
   "outputs": [],
   "source": [
    "categorical_variables = [\n",
    "    'make', 'model', 'engine_fuel_type', 'driven_wheels',\n",
    "    'vehicle_style', 'transmission_type'\n",
    "]"
   ]
  },
  {
   "cell_type": "code",
   "execution_count": 215,
   "id": "014fe01d-935c-459b-bdee-eda797f0e495",
   "metadata": {},
   "outputs": [],
   "source": [
    "categories = {}\n",
    "\n",
    "for c in categorical_variables:\n",
    "    categories[c] = list(cars[c].value_counts().head().index)"
   ]
  },
  {
   "cell_type": "code",
   "execution_count": 216,
   "id": "637c78d1-f58f-4b42-90cf-e6720d63cf41",
   "metadata": {},
   "outputs": [
    {
     "data": {
      "text/plain": [
       "{'make': ['chevrolet', 'ford', 'volkswagen', 'toyota', 'dodge'],\n",
       " 'model': ['silverado_1500',\n",
       "  'tundra',\n",
       "  'f-150',\n",
       "  'sierra_1500',\n",
       "  'beetle_convertible'],\n",
       " 'engine_fuel_type': ['regular_unleaded',\n",
       "  'premium_unleaded_(required)',\n",
       "  'premium_unleaded_(recommended)',\n",
       "  'flex-fuel_(unleaded/e85)',\n",
       "  'diesel'],\n",
       " 'driven_wheels': ['front_wheel_drive',\n",
       "  'rear_wheel_drive',\n",
       "  'all_wheel_drive',\n",
       "  'four_wheel_drive'],\n",
       " 'vehicle_style': ['sedan',\n",
       "  '4dr_suv',\n",
       "  'coupe',\n",
       "  'convertible',\n",
       "  '4dr_hatchback'],\n",
       " 'transmission_type': ['automatic',\n",
       "  'manual',\n",
       "  'automated_manual',\n",
       "  'direct_drive',\n",
       "  'unknown']}"
      ]
     },
     "execution_count": 216,
     "metadata": {},
     "output_type": "execute_result"
    }
   ],
   "source": [
    "categories"
   ]
  },
  {
   "cell_type": "code",
   "execution_count": 217,
   "id": "44a30698-6a29-4198-bb40-471af312fedb",
   "metadata": {},
   "outputs": [],
   "source": [
    "# a function for preparing the dataframe X\n",
    "def prepare_X(df):\n",
    "    df = df.copy()\n",
    "    features = base.copy()\n",
    "    df['age'] = 2017 - df['year'] \n",
    "    features.append('age')\n",
    "    # number of doors\n",
    "    for v in [2, 3, 4]:\n",
    "        df['doors_%s' % v] = (df['number_of_doors'] == v).astype('int')\n",
    "        features.append('doors_%s' % v)\n",
    "\n",
    "    # categorical variables\n",
    "    for c, values in categories.items():\n",
    "        for v in values:\n",
    "            df[('%s_%s' % (c, v)).lower()] = (df[c] == v).astype('int')\n",
    "            features.append(('%s_%s' % (c, v)).lower())\n",
    "                             \n",
    "    # get only the features\n",
    "    df_num = df[features]\n",
    "    # fill missing values with 0\n",
    "    df_num = df_num.fillna(0)\n",
    "    # return as numpy array\n",
    "    X = df_num.values\n",
    "    return X"
   ]
  },
  {
   "cell_type": "code",
   "execution_count": 218,
   "id": "eb57fb3b-31a7-4e42-8074-2d20f36be6f2",
   "metadata": {},
   "outputs": [],
   "source": [
    "X_val = prepare_X(validation_set)\n",
    "X_train = prepare_X(training_set)"
   ]
  },
  {
   "cell_type": "code",
   "execution_count": 219,
   "id": "5604bfe8-68f5-4c2c-8a78-29cc7e6981ee",
   "metadata": {},
   "outputs": [],
   "source": [
    "# training\n",
    "w0, w = train_linear_regression(X_train, y)\n",
    "\n",
    "# validation \n",
    "X_val = prepare_X(validation_set)\n",
    "predict_val = linear_regression(X_val, w) + w0"
   ]
  },
  {
   "cell_type": "code",
   "execution_count": 220,
   "id": "5bdfc4e4-8eed-4ac6-af27-23009d7c8d91",
   "metadata": {},
   "outputs": [
    {
     "data": {
      "text/plain": [
       "77.01552739751504"
      ]
     },
     "execution_count": 220,
     "metadata": {},
     "output_type": "execute_result"
    }
   ],
   "source": [
    "rmse(predict_val, y_val)"
   ]
  },
  {
   "cell_type": "code",
   "execution_count": 222,
   "id": "e71a816e-7b92-4223-bb06-0501dd650ce1",
   "metadata": {},
   "outputs": [
    {
     "data": {
      "text/plain": [
       "(-696.0941754493418,\n",
       " array([-7.19292943e-01,  8.15014177e+01,  6.02751493e+00,  9.16624987e-01,\n",
       "        -7.31521158e-04, -1.64851666e+00,  1.63537279e+02,  1.53215007e+02,\n",
       "         1.47460552e+02,  3.67808303e+00,  7.30858251e+00,  1.49058479e+00,\n",
       "         2.14315190e+00, -6.14940339e+00,  2.40072709e+00, -5.29276530e-01,\n",
       "         7.28396455e+00,  2.53643007e+00, -2.80475759e+00,  1.78726150e+01,\n",
       "         1.59916252e+01,  1.73141468e+01,  1.78633562e+01,  5.62870360e+00,\n",
       "         8.25016303e+01,  7.68584380e+01,  7.76883628e+01,  6.49329624e+01,\n",
       "        -1.58799485e+00, -1.41139698e-01,  7.79513609e-02,  7.22628026e-01,\n",
       "        -4.90874492e+00,  6.42564928e+00,  2.09262046e+01,  6.54596243e+01,\n",
       "         5.10902868e+01,  8.00186542e+01]))"
      ]
     },
     "execution_count": 222,
     "metadata": {},
     "output_type": "execute_result"
    }
   ],
   "source": [
    "w0, w"
   ]
  },
  {
   "cell_type": "markdown",
   "id": "75640bcd-fb7c-4f31-9a4c-44e16ed8b0e9",
   "metadata": {},
   "source": [
    "It's gotten exponentially worse!"
   ]
  },
  {
   "cell_type": "markdown",
   "id": "2613be32-a49d-4321-997e-b77a67dedc74",
   "metadata": {},
   "source": [
    "# 2.13 Regularization"
   ]
  },
  {
   "cell_type": "markdown",
   "id": "52ab133b-77a1-4fef-b440-5a6124e5e230",
   "metadata": {},
   "source": [
    "In the previous lecture, the ***rsme*** became worse. This is actually due to duplicate columns in the feature matrix.\n",
    "\n",
    "If duplicate columns exist, the matrix is singular. That means that there will be no inverse for it.\n",
    "\n",
    "Notice, however, that there was no problem like that when ***train_linear_regression()*** was called. This is caused by slight differences between the values that somehow *tricks* the program that there is an inverse for the matrix."
   ]
  },
  {
   "cell_type": "markdown",
   "id": "87f4038b-26dc-4d40-ac36-4b23211b920a",
   "metadata": {},
   "source": [
    "This problem can be fixed by ensuring that no columns are the same. One way to do that is to modify some number in each column.\n",
    "\n",
    "In this case, simply modify the diagonal by adding some number to it."
   ]
  },
  {
   "cell_type": "code",
   "execution_count": 237,
   "id": "a19e7ae9-9d7b-4487-9fae-1ad1b5c7ecd1",
   "metadata": {},
   "outputs": [
    {
     "data": {
      "text/plain": [
       "array([[0.01, 0.  , 0.  ],\n",
       "       [0.  , 0.01, 0.  ],\n",
       "       [0.  , 0.  , 0.01]])"
      ]
     },
     "execution_count": 237,
     "metadata": {},
     "output_type": "execute_result"
    }
   ],
   "source": [
    "# remember np.eye()\n",
    "np.eye(3) * 0.01"
   ]
  },
  {
   "cell_type": "markdown",
   "id": "c60a845e-4d26-43ce-87e8-6c07479f5fe7",
   "metadata": {},
   "source": [
    "simply add that to the feature matrix."
   ]
  },
  {
   "cell_type": "code",
   "execution_count": 258,
   "id": "0da463b4-c84c-449d-a580-3661772c5edf",
   "metadata": {},
   "outputs": [],
   "source": [
    "X_val = prepare_X(validation_set)\n",
    "X_train = prepare_X(training_set)"
   ]
  },
  {
   "cell_type": "code",
   "execution_count": 283,
   "id": "f60d6d5f-1bf2-44ae-bd56-b1ef230176b2",
   "metadata": {},
   "outputs": [],
   "source": [
    "def train_linear_regression_regularized(X, y, r=0.001):\n",
    "    ones = np.ones(X.shape[0])\n",
    "    X = np.column_stack([ones, X])\n",
    "    \n",
    "    XT = X.T\n",
    "    # columns of X must be equal to rows of XT\n",
    "    assert X.shape[1] == XT.shape[0]\n",
    "    # XT * X for gram matrix\n",
    "    XTX = XT.dot(X)\n",
    "    XTX = XTX + np.eye(XTX.shape[0]) * r\n",
    "    # get the inverse of the gram matrix\n",
    "    inverse_xtx = np.linalg.inv(XTX)\n",
    "    # formula for w\n",
    "    w = inverse_xtx.dot(XT).dot(y)\n",
    "    return w[0], w[1:]"
   ]
  },
  {
   "cell_type": "code",
   "execution_count": 284,
   "id": "3cd8f1ed-5786-4b6d-be1a-cfaf724aaedb",
   "metadata": {},
   "outputs": [],
   "source": [
    "# training\n",
    "w0, w = train_linear_regression_regularized(X_train, y)\n",
    "\n",
    "# validation \n",
    "X_val = prepare_X(validation_set)\n",
    "predict_val = linear_regression(X_val, w) + w0"
   ]
  },
  {
   "cell_type": "code",
   "execution_count": 285,
   "id": "ca9e132d-4fb0-4a9b-8cbe-001d257ecd1d",
   "metadata": {},
   "outputs": [
    {
     "data": {
      "text/plain": [
       "0.4446"
      ]
     },
     "execution_count": 285,
     "metadata": {},
     "output_type": "execute_result"
    }
   ],
   "source": [
    "rmse(predict_val, y_val).round(4)"
   ]
  },
  {
   "cell_type": "markdown",
   "id": "331ac3d0-f0bc-4a8b-9c40-a1600d4f4600",
   "metadata": {},
   "source": [
    "With that, the function is now regularized."
   ]
  },
  {
   "cell_type": "markdown",
   "id": "f2ac40e0-0845-4418-8ce3-16bf17125e30",
   "metadata": {},
   "source": [
    "# 2.14 Tuning the model"
   ]
  },
  {
   "cell_type": "markdown",
   "id": "53e95a90-9a89-43e7-ae82-1c41eaadbf60",
   "metadata": {},
   "source": [
    "For this part, We'll try finding the *r* that fits best to the model.\n",
    "\n",
    "This is an example of **tuning**."
   ]
  },
  {
   "cell_type": "code",
   "execution_count": 295,
   "id": "e5090d9b-139d-4f2f-a87a-1e0a0780d2de",
   "metadata": {},
   "outputs": [],
   "source": [
    "rmse_list = []\n",
    "regularization_values = [0.01, 0.001, 0.0001, 0.00001, 0.000001, 0.0000001, 1, 10]\n",
    "for r in regularization_values:\n",
    "    # training\n",
    "    w0, w = train_linear_regression_regularized(X_train, y, r=r)\n",
    "    \n",
    "    # validation \n",
    "    X_val = prepare_X(validation_set)\n",
    "    predict_val = linear_regression(X_val, w) + w0\n",
    "    current = rmse(predict_val, y_val)\n",
    "    rmse_list.append(current)\n",
    "\n",
    "# Find the minimum RMSE and the corresponding regularization value\n",
    "min_rmse = min(rmse_list)\n",
    "best_r = regularization_values[rmse_list.index(min_rmse)]"
   ]
  },
  {
   "cell_type": "code",
   "execution_count": 296,
   "id": "ee446a16-8215-440a-8c00-a54db24801bb",
   "metadata": {},
   "outputs": [
    {
     "data": {
      "text/plain": [
       "(1e-07,\n",
       " [0.4446165609675122,\n",
       "  0.4446160438748122,\n",
       "  0.44461600805542606,\n",
       "  0.4446160143353471,\n",
       "  0.44461581443887077,\n",
       "  0.44461458927863734,\n",
       "  0.4453001623284709,\n",
       "  0.4584923092357698])"
      ]
     },
     "execution_count": 296,
     "metadata": {},
     "output_type": "execute_result"
    }
   ],
   "source": [
    "best_r, rmse_list"
   ]
  },
  {
   "cell_type": "code",
   "execution_count": 297,
   "id": "bca7829f-6c48-4cec-b28b-2ab238d296eb",
   "metadata": {},
   "outputs": [],
   "source": [
    "# training\n",
    "w0, w = train_linear_regression_regularized(X_train, y, best_r)\n",
    "\n",
    "# validation \n",
    "X_val = prepare_X(validation_set)\n",
    "predict_val = linear_regression(X_val, w) + w0"
   ]
  },
  {
   "cell_type": "code",
   "execution_count": 298,
   "id": "cbc9defd-54cf-4a87-a168-43b8be3b4ec7",
   "metadata": {},
   "outputs": [
    {
     "data": {
      "text/plain": [
       "0.44461458927863734"
      ]
     },
     "execution_count": 298,
     "metadata": {},
     "output_type": "execute_result"
    }
   ],
   "source": [
    "rmse(predict_val, y_val)"
   ]
  },
  {
   "cell_type": "code",
   "execution_count": 299,
   "id": "68978c52-4ce0-43a6-bbbc-3441288f5691",
   "metadata": {
    "scrolled": true
   },
   "outputs": [
    {
     "data": {
      "image/png": "[encoded data removed]",
      "text/plain": [
       "<Figure size 640x480 with 1 Axes>"
      ]
     },
     "metadata": {},
     "output_type": "display_data"
    }
   ],
   "source": [
    "sns.histplot(predict_val, color='red', bins=50, alpha=0.5)\n",
    "sns.histplot(y_val, color='blue', bins=50, alpha=0.5)\n",
    "plt.show()"
   ]
  },
  {
   "cell_type": "markdown",
   "id": "e19353d5-07f2-41b7-bd5f-95c2af576c56",
   "metadata": {},
   "source": [
    "# 2.15 Using the model"
   ]
  },
  {
   "cell_type": "markdown",
   "id": "14b231c4-7564-4ac5-8573-c3c41e3f8ef0",
   "metadata": {},
   "source": [
    "Finally, testing the model."
   ]
  },
  {
   "cell_type": "code",
   "execution_count": 304,
   "id": "417d5d52-e208-4276-9ec1-e25c2a56ad4c",
   "metadata": {},
   "outputs": [],
   "source": [
    "# testing\n",
    "X_test = prepare_X(testing_set)\n",
    "predict_test = linear_regression(X_test, w) + w0"
   ]
  },
  {
   "cell_type": "code",
   "execution_count": 305,
   "id": "d5953d0c-ea7e-443c-bfe7-1ff8617e1747",
   "metadata": {},
   "outputs": [
    {
     "data": {
      "text/plain": [
       "0.4549617958442216"
      ]
     },
     "execution_count": 305,
     "metadata": {},
     "output_type": "execute_result"
    }
   ],
   "source": [
    "rmse(predict_test, y_test)"
   ]
  },
  {
   "cell_type": "code",
   "execution_count": 307,
   "id": "be2f04e0-61fb-4949-85d9-b4c5a2f6198c",
   "metadata": {},
   "outputs": [
    {
     "data": {
      "image/png": "[encoded data removed]",
      "text/plain": [
       "<Figure size 640x480 with 1 Axes>"
      ]
     },
     "metadata": {},
     "output_type": "display_data"
    }
   ],
   "source": [
    "sns.histplot(predict_test, color='red', bins=50, alpha=0.5)\n",
    "sns.histplot(y_test, color='blue', bins=50, alpha=0.5)\n",
    "plt.show()"
   ]
  },
  {
   "cell_type": "code",
   "execution_count": null,
   "id": "bd4fd25e-01f0-447c-a785-ef751bc1a877",
   "metadata": {},
   "outputs": [],
   "source": []
  }
 ],
 "metadata": {
  "kernelspec": {
   "display_name": "Python 3 (ipykernel)",
   "language": "python",
   "name": "python3"
  },
  "language_info": {
   "codemirror_mode": {
    "name": "ipython",
    "version": 3
   },
   "file_extension": ".py",
   "mimetype": "text/x-python",
   "name": "python",
   "nbconvert_exporter": "python",
   "pygments_lexer": "ipython3",
   "version": "3.11.9"
  }
 },
 "nbformat": 4,
 "nbformat_minor": 5
}
