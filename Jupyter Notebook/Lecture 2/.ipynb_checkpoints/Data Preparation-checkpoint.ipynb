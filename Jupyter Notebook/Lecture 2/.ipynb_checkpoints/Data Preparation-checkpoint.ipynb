{
 "cells": [
  {
   "cell_type": "markdown",
   "id": "ec1124aa-8c31-41a3-bf8d-bbab9295d305",
   "metadata": {},
   "source": [
    "# Lecture 2.2"
   ]
  },
  {
   "cell_type": "code",
   "execution_count": 46,
   "id": "ca4e3407-da58-4467-bb02-cbb15e490f0e",
   "metadata": {},
   "outputs": [],
   "source": [
    "import pandas as pd\n",
    "import numpy as np"
   ]
  },
  {
   "cell_type": "code",
   "execution_count": 47,
   "id": "4b3b961b-4992-442e-b00e-1794a9a5b462",
   "metadata": {},
   "outputs": [],
   "source": [
    "# cars data from kaggle\n",
    "# https://www.kaggle.com/datasets/CooperUnion/cardataset\n",
    "cars = pd.read_csv(\"../../Datasets/cars/data.csv\")"
   ]
  },
  {
   "cell_type": "markdown",
   "id": "738a31e4-d8a4-4a86-8987-0efc524ca3c9",
   "metadata": {},
   "source": [
    "### Normalizing the Dataset"
   ]
  },
  {
   "cell_type": "code",
   "execution_count": 48,
   "id": "457efabf-8664-4fc4-a01a-06c3a5c117e0",
   "metadata": {},
   "outputs": [
    {
     "data": {
      "text/html": [
       "<div>\n",
       "<style scoped>\n",
       "    .dataframe tbody tr th:only-of-type {\n",
       "        vertical-align: middle;\n",
       "    }\n",
       "\n",
       "    .dataframe tbody tr th {\n",
       "        vertical-align: top;\n",
       "    }\n",
       "\n",
       "    .dataframe thead th {\n",
       "        text-align: right;\n",
       "    }\n",
       "</style>\n",
       "<table border=\"1\" class=\"dataframe\">\n",
       "  <thead>\n",
       "    <tr style=\"text-align: right;\">\n",
       "      <th></th>\n",
       "      <th>Make</th>\n",
       "      <th>Model</th>\n",
       "      <th>Year</th>\n",
       "      <th>Engine Fuel Type</th>\n",
       "      <th>Engine HP</th>\n",
       "      <th>Engine Cylinders</th>\n",
       "      <th>Transmission Type</th>\n",
       "      <th>Driven_Wheels</th>\n",
       "      <th>Number of Doors</th>\n",
       "      <th>Market Category</th>\n",
       "      <th>Vehicle Size</th>\n",
       "      <th>Vehicle Style</th>\n",
       "      <th>highway MPG</th>\n",
       "      <th>city mpg</th>\n",
       "      <th>Popularity</th>\n",
       "      <th>MSRP</th>\n",
       "    </tr>\n",
       "  </thead>\n",
       "  <tbody>\n",
       "    <tr>\n",
       "      <th>0</th>\n",
       "      <td>BMW</td>\n",
       "      <td>1 Series M</td>\n",
       "      <td>2011</td>\n",
       "      <td>premium unleaded (required)</td>\n",
       "      <td>335.0</td>\n",
       "      <td>6.0</td>\n",
       "      <td>MANUAL</td>\n",
       "      <td>rear wheel drive</td>\n",
       "      <td>2.0</td>\n",
       "      <td>Factory Tuner,Luxury,High-Performance</td>\n",
       "      <td>Compact</td>\n",
       "      <td>Coupe</td>\n",
       "      <td>26</td>\n",
       "      <td>19</td>\n",
       "      <td>3916</td>\n",
       "      <td>46135</td>\n",
       "    </tr>\n",
       "    <tr>\n",
       "      <th>1</th>\n",
       "      <td>BMW</td>\n",
       "      <td>1 Series</td>\n",
       "      <td>2011</td>\n",
       "      <td>premium unleaded (required)</td>\n",
       "      <td>300.0</td>\n",
       "      <td>6.0</td>\n",
       "      <td>MANUAL</td>\n",
       "      <td>rear wheel drive</td>\n",
       "      <td>2.0</td>\n",
       "      <td>Luxury,Performance</td>\n",
       "      <td>Compact</td>\n",
       "      <td>Convertible</td>\n",
       "      <td>28</td>\n",
       "      <td>19</td>\n",
       "      <td>3916</td>\n",
       "      <td>40650</td>\n",
       "    </tr>\n",
       "    <tr>\n",
       "      <th>2</th>\n",
       "      <td>BMW</td>\n",
       "      <td>1 Series</td>\n",
       "      <td>2011</td>\n",
       "      <td>premium unleaded (required)</td>\n",
       "      <td>300.0</td>\n",
       "      <td>6.0</td>\n",
       "      <td>MANUAL</td>\n",
       "      <td>rear wheel drive</td>\n",
       "      <td>2.0</td>\n",
       "      <td>Luxury,High-Performance</td>\n",
       "      <td>Compact</td>\n",
       "      <td>Coupe</td>\n",
       "      <td>28</td>\n",
       "      <td>20</td>\n",
       "      <td>3916</td>\n",
       "      <td>36350</td>\n",
       "    </tr>\n",
       "    <tr>\n",
       "      <th>3</th>\n",
       "      <td>BMW</td>\n",
       "      <td>1 Series</td>\n",
       "      <td>2011</td>\n",
       "      <td>premium unleaded (required)</td>\n",
       "      <td>230.0</td>\n",
       "      <td>6.0</td>\n",
       "      <td>MANUAL</td>\n",
       "      <td>rear wheel drive</td>\n",
       "      <td>2.0</td>\n",
       "      <td>Luxury,Performance</td>\n",
       "      <td>Compact</td>\n",
       "      <td>Coupe</td>\n",
       "      <td>28</td>\n",
       "      <td>18</td>\n",
       "      <td>3916</td>\n",
       "      <td>29450</td>\n",
       "    </tr>\n",
       "    <tr>\n",
       "      <th>4</th>\n",
       "      <td>BMW</td>\n",
       "      <td>1 Series</td>\n",
       "      <td>2011</td>\n",
       "      <td>premium unleaded (required)</td>\n",
       "      <td>230.0</td>\n",
       "      <td>6.0</td>\n",
       "      <td>MANUAL</td>\n",
       "      <td>rear wheel drive</td>\n",
       "      <td>2.0</td>\n",
       "      <td>Luxury</td>\n",
       "      <td>Compact</td>\n",
       "      <td>Convertible</td>\n",
       "      <td>28</td>\n",
       "      <td>18</td>\n",
       "      <td>3916</td>\n",
       "      <td>34500</td>\n",
       "    </tr>\n",
       "  </tbody>\n",
       "</table>\n",
       "</div>"
      ],
      "text/plain": [
       "  Make       Model  Year             Engine Fuel Type  Engine HP  \\\n",
       "0  BMW  1 Series M  2011  premium unleaded (required)      335.0   \n",
       "1  BMW    1 Series  2011  premium unleaded (required)      300.0   \n",
       "2  BMW    1 Series  2011  premium unleaded (required)      300.0   \n",
       "3  BMW    1 Series  2011  premium unleaded (required)      230.0   \n",
       "4  BMW    1 Series  2011  premium unleaded (required)      230.0   \n",
       "\n",
       "   Engine Cylinders Transmission Type     Driven_Wheels  Number of Doors  \\\n",
       "0               6.0            MANUAL  rear wheel drive              2.0   \n",
       "1               6.0            MANUAL  rear wheel drive              2.0   \n",
       "2               6.0            MANUAL  rear wheel drive              2.0   \n",
       "3               6.0            MANUAL  rear wheel drive              2.0   \n",
       "4               6.0            MANUAL  rear wheel drive              2.0   \n",
       "\n",
       "                         Market Category Vehicle Size Vehicle Style  \\\n",
       "0  Factory Tuner,Luxury,High-Performance      Compact         Coupe   \n",
       "1                     Luxury,Performance      Compact   Convertible   \n",
       "2                Luxury,High-Performance      Compact         Coupe   \n",
       "3                     Luxury,Performance      Compact         Coupe   \n",
       "4                                 Luxury      Compact   Convertible   \n",
       "\n",
       "   highway MPG  city mpg  Popularity   MSRP  \n",
       "0           26        19        3916  46135  \n",
       "1           28        19        3916  40650  \n",
       "2           28        20        3916  36350  \n",
       "3           28        18        3916  29450  \n",
       "4           28        18        3916  34500  "
      ]
     },
     "execution_count": 48,
     "metadata": {},
     "output_type": "execute_result"
    }
   ],
   "source": [
    "cars.head()"
   ]
  },
  {
   "cell_type": "markdown",
   "id": "b368908e-349a-4f43-946c-1689f68895ac",
   "metadata": {},
   "source": [
    "To easily view the data, it is recommendable to normalize them.\\\n",
    "Have a set of rules/format to make it easier to manipulate/observe these data."
   ]
  },
  {
   "cell_type": "code",
   "execution_count": 49,
   "id": "8b1be959-7252-4cef-a101-772c7c11592b",
   "metadata": {},
   "outputs": [],
   "source": [
    "cars.columns = cars.columns.str.lower().str.replace(' ', '_')"
   ]
  },
  {
   "cell_type": "code",
   "execution_count": 50,
   "id": "2c4803a3-2362-44ee-a753-aee8c5811c47",
   "metadata": {},
   "outputs": [
    {
     "data": {
      "text/html": [
       "<div>\n",
       "<style scoped>\n",
       "    .dataframe tbody tr th:only-of-type {\n",
       "        vertical-align: middle;\n",
       "    }\n",
       "\n",
       "    .dataframe tbody tr th {\n",
       "        vertical-align: top;\n",
       "    }\n",
       "\n",
       "    .dataframe thead th {\n",
       "        text-align: right;\n",
       "    }\n",
       "</style>\n",
       "<table border=\"1\" class=\"dataframe\">\n",
       "  <thead>\n",
       "    <tr style=\"text-align: right;\">\n",
       "      <th></th>\n",
       "      <th>make</th>\n",
       "      <th>model</th>\n",
       "      <th>year</th>\n",
       "      <th>engine_fuel_type</th>\n",
       "      <th>engine_hp</th>\n",
       "      <th>engine_cylinders</th>\n",
       "      <th>transmission_type</th>\n",
       "      <th>driven_wheels</th>\n",
       "      <th>number_of_doors</th>\n",
       "      <th>market_category</th>\n",
       "      <th>vehicle_size</th>\n",
       "      <th>vehicle_style</th>\n",
       "      <th>highway_mpg</th>\n",
       "      <th>city_mpg</th>\n",
       "      <th>popularity</th>\n",
       "      <th>msrp</th>\n",
       "    </tr>\n",
       "  </thead>\n",
       "  <tbody>\n",
       "    <tr>\n",
       "      <th>0</th>\n",
       "      <td>BMW</td>\n",
       "      <td>1 Series M</td>\n",
       "      <td>2011</td>\n",
       "      <td>premium unleaded (required)</td>\n",
       "      <td>335.0</td>\n",
       "      <td>6.0</td>\n",
       "      <td>MANUAL</td>\n",
       "      <td>rear wheel drive</td>\n",
       "      <td>2.0</td>\n",
       "      <td>Factory Tuner,Luxury,High-Performance</td>\n",
       "      <td>Compact</td>\n",
       "      <td>Coupe</td>\n",
       "      <td>26</td>\n",
       "      <td>19</td>\n",
       "      <td>3916</td>\n",
       "      <td>46135</td>\n",
       "    </tr>\n",
       "    <tr>\n",
       "      <th>1</th>\n",
       "      <td>BMW</td>\n",
       "      <td>1 Series</td>\n",
       "      <td>2011</td>\n",
       "      <td>premium unleaded (required)</td>\n",
       "      <td>300.0</td>\n",
       "      <td>6.0</td>\n",
       "      <td>MANUAL</td>\n",
       "      <td>rear wheel drive</td>\n",
       "      <td>2.0</td>\n",
       "      <td>Luxury,Performance</td>\n",
       "      <td>Compact</td>\n",
       "      <td>Convertible</td>\n",
       "      <td>28</td>\n",
       "      <td>19</td>\n",
       "      <td>3916</td>\n",
       "      <td>40650</td>\n",
       "    </tr>\n",
       "    <tr>\n",
       "      <th>2</th>\n",
       "      <td>BMW</td>\n",
       "      <td>1 Series</td>\n",
       "      <td>2011</td>\n",
       "      <td>premium unleaded (required)</td>\n",
       "      <td>300.0</td>\n",
       "      <td>6.0</td>\n",
       "      <td>MANUAL</td>\n",
       "      <td>rear wheel drive</td>\n",
       "      <td>2.0</td>\n",
       "      <td>Luxury,High-Performance</td>\n",
       "      <td>Compact</td>\n",
       "      <td>Coupe</td>\n",
       "      <td>28</td>\n",
       "      <td>20</td>\n",
       "      <td>3916</td>\n",
       "      <td>36350</td>\n",
       "    </tr>\n",
       "    <tr>\n",
       "      <th>3</th>\n",
       "      <td>BMW</td>\n",
       "      <td>1 Series</td>\n",
       "      <td>2011</td>\n",
       "      <td>premium unleaded (required)</td>\n",
       "      <td>230.0</td>\n",
       "      <td>6.0</td>\n",
       "      <td>MANUAL</td>\n",
       "      <td>rear wheel drive</td>\n",
       "      <td>2.0</td>\n",
       "      <td>Luxury,Performance</td>\n",
       "      <td>Compact</td>\n",
       "      <td>Coupe</td>\n",
       "      <td>28</td>\n",
       "      <td>18</td>\n",
       "      <td>3916</td>\n",
       "      <td>29450</td>\n",
       "    </tr>\n",
       "    <tr>\n",
       "      <th>4</th>\n",
       "      <td>BMW</td>\n",
       "      <td>1 Series</td>\n",
       "      <td>2011</td>\n",
       "      <td>premium unleaded (required)</td>\n",
       "      <td>230.0</td>\n",
       "      <td>6.0</td>\n",
       "      <td>MANUAL</td>\n",
       "      <td>rear wheel drive</td>\n",
       "      <td>2.0</td>\n",
       "      <td>Luxury</td>\n",
       "      <td>Compact</td>\n",
       "      <td>Convertible</td>\n",
       "      <td>28</td>\n",
       "      <td>18</td>\n",
       "      <td>3916</td>\n",
       "      <td>34500</td>\n",
       "    </tr>\n",
       "  </tbody>\n",
       "</table>\n",
       "</div>"
      ],
      "text/plain": [
       "  make       model  year             engine_fuel_type  engine_hp  \\\n",
       "0  BMW  1 Series M  2011  premium unleaded (required)      335.0   \n",
       "1  BMW    1 Series  2011  premium unleaded (required)      300.0   \n",
       "2  BMW    1 Series  2011  premium unleaded (required)      300.0   \n",
       "3  BMW    1 Series  2011  premium unleaded (required)      230.0   \n",
       "4  BMW    1 Series  2011  premium unleaded (required)      230.0   \n",
       "\n",
       "   engine_cylinders transmission_type     driven_wheels  number_of_doors  \\\n",
       "0               6.0            MANUAL  rear wheel drive              2.0   \n",
       "1               6.0            MANUAL  rear wheel drive              2.0   \n",
       "2               6.0            MANUAL  rear wheel drive              2.0   \n",
       "3               6.0            MANUAL  rear wheel drive              2.0   \n",
       "4               6.0            MANUAL  rear wheel drive              2.0   \n",
       "\n",
       "                         market_category vehicle_size vehicle_style  \\\n",
       "0  Factory Tuner,Luxury,High-Performance      Compact         Coupe   \n",
       "1                     Luxury,Performance      Compact   Convertible   \n",
       "2                Luxury,High-Performance      Compact         Coupe   \n",
       "3                     Luxury,Performance      Compact         Coupe   \n",
       "4                                 Luxury      Compact   Convertible   \n",
       "\n",
       "   highway_mpg  city_mpg  popularity   msrp  \n",
       "0           26        19        3916  46135  \n",
       "1           28        19        3916  40650  \n",
       "2           28        20        3916  36350  \n",
       "3           28        18        3916  29450  \n",
       "4           28        18        3916  34500  "
      ]
     },
     "execution_count": 50,
     "metadata": {},
     "output_type": "execute_result"
    }
   ],
   "source": [
    "cars.head()"
   ]
  },
  {
   "cell_type": "code",
   "execution_count": 51,
   "id": "e03db286-29a6-4687-a4a6-a3e641554a30",
   "metadata": {},
   "outputs": [],
   "source": [
    "# create a list of the indices (the list of columns)\n",
    "columns_with_string_values = list(cars.dtypes[cars.dtypes == 'object'].index)"
   ]
  },
  {
   "cell_type": "code",
   "execution_count": 52,
   "id": "fe66a533-aa7d-4544-98bb-5130bc0f5b6a",
   "metadata": {},
   "outputs": [],
   "source": [
    "# loop through each column and perform string manipulation on the values\n",
    "for col in columns_with_string_values:\n",
    "    cars[col] = cars[col].str.lower().str.replace(' ', '_')"
   ]
  },
  {
   "cell_type": "code",
   "execution_count": 53,
   "id": "16813690-10ce-410a-89ee-daf4037a69a0",
   "metadata": {},
   "outputs": [
    {
     "data": {
      "text/html": [
       "<div>\n",
       "<style scoped>\n",
       "    .dataframe tbody tr th:only-of-type {\n",
       "        vertical-align: middle;\n",
       "    }\n",
       "\n",
       "    .dataframe tbody tr th {\n",
       "        vertical-align: top;\n",
       "    }\n",
       "\n",
       "    .dataframe thead th {\n",
       "        text-align: right;\n",
       "    }\n",
       "</style>\n",
       "<table border=\"1\" class=\"dataframe\">\n",
       "  <thead>\n",
       "    <tr style=\"text-align: right;\">\n",
       "      <th></th>\n",
       "      <th>make</th>\n",
       "      <th>model</th>\n",
       "      <th>year</th>\n",
       "      <th>engine_fuel_type</th>\n",
       "      <th>engine_hp</th>\n",
       "      <th>engine_cylinders</th>\n",
       "      <th>transmission_type</th>\n",
       "      <th>driven_wheels</th>\n",
       "      <th>number_of_doors</th>\n",
       "      <th>market_category</th>\n",
       "      <th>vehicle_size</th>\n",
       "      <th>vehicle_style</th>\n",
       "      <th>highway_mpg</th>\n",
       "      <th>city_mpg</th>\n",
       "      <th>popularity</th>\n",
       "      <th>msrp</th>\n",
       "    </tr>\n",
       "  </thead>\n",
       "  <tbody>\n",
       "    <tr>\n",
       "      <th>0</th>\n",
       "      <td>bmw</td>\n",
       "      <td>1_series_m</td>\n",
       "      <td>2011</td>\n",
       "      <td>premium_unleaded_(required)</td>\n",
       "      <td>335.0</td>\n",
       "      <td>6.0</td>\n",
       "      <td>manual</td>\n",
       "      <td>rear_wheel_drive</td>\n",
       "      <td>2.0</td>\n",
       "      <td>factory_tuner,luxury,high-performance</td>\n",
       "      <td>compact</td>\n",
       "      <td>coupe</td>\n",
       "      <td>26</td>\n",
       "      <td>19</td>\n",
       "      <td>3916</td>\n",
       "      <td>46135</td>\n",
       "    </tr>\n",
       "    <tr>\n",
       "      <th>1</th>\n",
       "      <td>bmw</td>\n",
       "      <td>1_series</td>\n",
       "      <td>2011</td>\n",
       "      <td>premium_unleaded_(required)</td>\n",
       "      <td>300.0</td>\n",
       "      <td>6.0</td>\n",
       "      <td>manual</td>\n",
       "      <td>rear_wheel_drive</td>\n",
       "      <td>2.0</td>\n",
       "      <td>luxury,performance</td>\n",
       "      <td>compact</td>\n",
       "      <td>convertible</td>\n",
       "      <td>28</td>\n",
       "      <td>19</td>\n",
       "      <td>3916</td>\n",
       "      <td>40650</td>\n",
       "    </tr>\n",
       "    <tr>\n",
       "      <th>2</th>\n",
       "      <td>bmw</td>\n",
       "      <td>1_series</td>\n",
       "      <td>2011</td>\n",
       "      <td>premium_unleaded_(required)</td>\n",
       "      <td>300.0</td>\n",
       "      <td>6.0</td>\n",
       "      <td>manual</td>\n",
       "      <td>rear_wheel_drive</td>\n",
       "      <td>2.0</td>\n",
       "      <td>luxury,high-performance</td>\n",
       "      <td>compact</td>\n",
       "      <td>coupe</td>\n",
       "      <td>28</td>\n",
       "      <td>20</td>\n",
       "      <td>3916</td>\n",
       "      <td>36350</td>\n",
       "    </tr>\n",
       "    <tr>\n",
       "      <th>3</th>\n",
       "      <td>bmw</td>\n",
       "      <td>1_series</td>\n",
       "      <td>2011</td>\n",
       "      <td>premium_unleaded_(required)</td>\n",
       "      <td>230.0</td>\n",
       "      <td>6.0</td>\n",
       "      <td>manual</td>\n",
       "      <td>rear_wheel_drive</td>\n",
       "      <td>2.0</td>\n",
       "      <td>luxury,performance</td>\n",
       "      <td>compact</td>\n",
       "      <td>coupe</td>\n",
       "      <td>28</td>\n",
       "      <td>18</td>\n",
       "      <td>3916</td>\n",
       "      <td>29450</td>\n",
       "    </tr>\n",
       "    <tr>\n",
       "      <th>4</th>\n",
       "      <td>bmw</td>\n",
       "      <td>1_series</td>\n",
       "      <td>2011</td>\n",
       "      <td>premium_unleaded_(required)</td>\n",
       "      <td>230.0</td>\n",
       "      <td>6.0</td>\n",
       "      <td>manual</td>\n",
       "      <td>rear_wheel_drive</td>\n",
       "      <td>2.0</td>\n",
       "      <td>luxury</td>\n",
       "      <td>compact</td>\n",
       "      <td>convertible</td>\n",
       "      <td>28</td>\n",
       "      <td>18</td>\n",
       "      <td>3916</td>\n",
       "      <td>34500</td>\n",
       "    </tr>\n",
       "  </tbody>\n",
       "</table>\n",
       "</div>"
      ],
      "text/plain": [
       "  make       model  year             engine_fuel_type  engine_hp  \\\n",
       "0  bmw  1_series_m  2011  premium_unleaded_(required)      335.0   \n",
       "1  bmw    1_series  2011  premium_unleaded_(required)      300.0   \n",
       "2  bmw    1_series  2011  premium_unleaded_(required)      300.0   \n",
       "3  bmw    1_series  2011  premium_unleaded_(required)      230.0   \n",
       "4  bmw    1_series  2011  premium_unleaded_(required)      230.0   \n",
       "\n",
       "   engine_cylinders transmission_type     driven_wheels  number_of_doors  \\\n",
       "0               6.0            manual  rear_wheel_drive              2.0   \n",
       "1               6.0            manual  rear_wheel_drive              2.0   \n",
       "2               6.0            manual  rear_wheel_drive              2.0   \n",
       "3               6.0            manual  rear_wheel_drive              2.0   \n",
       "4               6.0            manual  rear_wheel_drive              2.0   \n",
       "\n",
       "                         market_category vehicle_size vehicle_style  \\\n",
       "0  factory_tuner,luxury,high-performance      compact         coupe   \n",
       "1                     luxury,performance      compact   convertible   \n",
       "2                luxury,high-performance      compact         coupe   \n",
       "3                     luxury,performance      compact         coupe   \n",
       "4                                 luxury      compact   convertible   \n",
       "\n",
       "   highway_mpg  city_mpg  popularity   msrp  \n",
       "0           26        19        3916  46135  \n",
       "1           28        19        3916  40650  \n",
       "2           28        20        3916  36350  \n",
       "3           28        18        3916  29450  \n",
       "4           28        18        3916  34500  "
      ]
     },
     "execution_count": 53,
     "metadata": {},
     "output_type": "execute_result"
    }
   ],
   "source": [
    "cars.head()"
   ]
  },
  {
   "cell_type": "markdown",
   "id": "a63c3e21-c5c5-41cc-ada5-76f487675d4e",
   "metadata": {},
   "source": [
    "We have to learn how to extract meaningful data from our dataset."
   ]
  },
  {
   "cell_type": "code",
   "execution_count": 54,
   "id": "3e2405be-15c6-4ca8-a977-5d8909804909",
   "metadata": {
    "scrolled": true
   },
   "outputs": [
    {
     "name": "stdout",
     "output_type": "stream",
     "text": [
      "Column:  make\n",
      "Type:  object\n",
      "['bmw' 'audi' 'fiat' 'mercedes-benz' 'chrysler']\n",
      "Number of unique items:  48\n",
      "\n",
      "Column:  model\n",
      "Type:  object\n",
      "['1_series_m' '1_series' '100' '124_spider' '190-class']\n",
      "Number of unique items:  914\n",
      "\n",
      "Column:  year\n",
      "Type:  int64\n",
      "[2011 2012 2013 1992 1993]\n",
      "Number of unique items:  28\n",
      "\n",
      "Column:  engine_fuel_type\n",
      "Type:  object\n",
      "['premium_unleaded_(required)' 'regular_unleaded'\n",
      " 'premium_unleaded_(recommended)' 'flex-fuel_(unleaded/e85)' 'diesel']\n",
      "Number of unique items:  10\n",
      "\n",
      "Column:  engine_hp\n",
      "Type:  float64\n",
      "[335. 300. 230. 320. 172.]\n",
      "Number of unique items:  356\n",
      "\n",
      "Column:  engine_cylinders\n",
      "Type:  float64\n",
      "[ 6.  4.  5.  8. 12.]\n",
      "Number of unique items:  9\n",
      "\n",
      "Column:  transmission_type\n",
      "Type:  object\n",
      "['manual' 'automatic' 'automated_manual' 'direct_drive' 'unknown']\n",
      "Number of unique items:  5\n",
      "\n",
      "Column:  driven_wheels\n",
      "Type:  object\n",
      "['rear_wheel_drive' 'front_wheel_drive' 'all_wheel_drive'\n",
      " 'four_wheel_drive']\n",
      "Number of unique items:  4\n",
      "\n",
      "Column:  number_of_doors\n",
      "Type:  float64\n",
      "[ 2.  4.  3. nan]\n",
      "Number of unique items:  3\n",
      "\n",
      "Column:  market_category\n",
      "Type:  object\n",
      "['factory_tuner,luxury,high-performance' 'luxury,performance'\n",
      " 'luxury,high-performance' 'luxury' 'performance']\n",
      "Number of unique items:  71\n",
      "\n",
      "Column:  vehicle_size\n",
      "Type:  object\n",
      "['compact' 'midsize' 'large']\n",
      "Number of unique items:  3\n",
      "\n",
      "Column:  vehicle_style\n",
      "Type:  object\n",
      "['coupe' 'convertible' 'sedan' 'wagon' '4dr_hatchback']\n",
      "Number of unique items:  16\n",
      "\n",
      "Column:  highway_mpg\n",
      "Type:  int64\n",
      "[26 28 27 25 24]\n",
      "Number of unique items:  59\n",
      "\n",
      "Column:  city_mpg\n",
      "Type:  int64\n",
      "[19 20 18 17 16]\n",
      "Number of unique items:  69\n",
      "\n",
      "Column:  popularity\n",
      "Type:  int64\n",
      "[3916 3105  819  617 1013]\n",
      "Number of unique items:  48\n",
      "\n",
      "Column:  msrp\n",
      "Type:  int64\n",
      "[46135 40650 36350 29450 34500]\n",
      "Number of unique items:  6049\n",
      "\n"
     ]
    }
   ],
   "source": [
    "for col in cars.columns:\n",
    "    print(\"Column: \", col)\n",
    "    print(\"Type: \", cars[col].dtype)\n",
    "    print(cars[col].unique()[:5])\n",
    "    print(\"Number of unique items: \", cars[col].nunique())\n",
    "    print()"
   ]
  },
  {
   "cell_type": "markdown",
   "id": "8393d17a-61f8-4706-aeb6-c149b9e2940a",
   "metadata": {},
   "source": [
    "Note: the popularity column uses Twitter mentions as a basis. **Popularity** == Number of mentions"
   ]
  },
  {
   "cell_type": "markdown",
   "id": "ff4f93e2-0564-438b-b52f-a40f682b2b3f",
   "metadata": {},
   "source": [
    "### Exploratory Data Analysis"
   ]
  },
  {
   "cell_type": "code",
   "execution_count": 55,
   "id": "aa183727-1246-46b8-afbb-1e9723a345ae",
   "metadata": {},
   "outputs": [],
   "source": [
    "# useful libraries for EDA\n",
    "import matplotlib.pyplot as plt\n",
    "import seaborn as sns\n",
    "\n",
    "# this line your plot outputs appear and be stored within the notebook.\n",
    "# https://stackoverflow.com/questions/43027980/purpose-of-matplotlib-inline\n",
    "%matplotlib inline"
   ]
  },
  {
   "cell_type": "code",
   "execution_count": 57,
   "id": "daa267f8-8cde-402a-8050-66d84c7b123d",
   "metadata": {},
   "outputs": [
    {
     "data": {
      "image/png": "[encoded data removed]",
      "text/plain": [
       "<Figure size 640x480 with 1 Axes>"
      ]
     },
     "metadata": {},
     "output_type": "display_data"
    }
   ],
   "source": [
    "# bins = how many bars to show\n",
    "sns.histplot(cars.msrp, bins=50)\n",
    "\n",
    "# show graph\n",
    "plt.show()"
   ]
  },
  {
   "cell_type": "markdown",
   "id": "d96525b5-7563-4462-9217-ea742dee9cd0",
   "metadata": {},
   "source": [
    "The distribution of the histogram above is called ***long tail distribution***"
   ]
  },
  {
   "cell_type": "markdown",
   "id": "60bce532-9478-49db-9c0b-e6c2b11159a3",
   "metadata": {},
   "source": [
    "Now, let's try zooming in."
   ]
  },
  {
   "cell_type": "code",
   "execution_count": 67,
   "id": "01ad1861-d507-4c3a-96ca-bde49882a8d9",
   "metadata": {},
   "outputs": [
    {
     "data": {
      "image/png": "[encoded data removed]",
      "text/plain": [
       "<Figure size 640x480 with 1 Axes>"
      ]
     },
     "metadata": {},
     "output_type": "display_data"
    }
   ],
   "source": [
    "# bins = how many bars to show\n",
    "sns.histplot(cars.msrp[cars.msrp < 1e5], bins=50)\n",
    "\n",
    "# show graph\n",
    "plt.show()"
   ]
  },
  {
   "cell_type": "markdown",
   "id": "82fcdfc7-db76-45d9-bf35-caa572ca4e47",
   "metadata": {},
   "source": [
    "Tails like this dataset would often times confuse our model.\\\n",
    "To solve this, we have to figure out a way to remove the tail. One way to do it is to use logarithms."
   ]
  },
  {
   "cell_type": "code",
   "execution_count": 68,
   "id": "28fdb4ee-c5b2-4e67-bd8e-a79196637d41",
   "metadata": {},
   "outputs": [
    {
     "data": {
      "text/plain": [
       "array([ 0.        ,  4.60517019,  9.21034037, 13.81551056])"
      ]
     },
     "execution_count": 68,
     "metadata": {},
     "output_type": "execute_result"
    }
   ],
   "source": [
    "np.log([1, 1e2, 1e4, 1e6])"
   ]
  },
  {
   "cell_type": "markdown",
   "id": "c7f8098b-91e8-4091-a014-d7fb23f53cf4",
   "metadata": {},
   "source": [
    "As seen from the result above, log allows us to close the gap. However, we might encounter some problems if there is a value of 0 in our data.\\\n",
    "This is because we cannot perform log(0)."
   ]
  },
  {
   "cell_type": "code",
   "execution_count": 69,
   "id": "472e6b09-6c0b-4d2d-a1df-18d57ae40303",
   "metadata": {},
   "outputs": [
    {
     "name": "stderr",
     "output_type": "stream",
     "text": [
      "C:\\Users\\fanta\\AppData\\Local\\Temp\\ipykernel_5880\\2933082444.py:1: RuntimeWarning: divide by zero encountered in log\n",
      "  np.log(0)\n"
     ]
    },
    {
     "data": {
      "text/plain": [
       "-inf"
      ]
     },
     "execution_count": 69,
     "metadata": {},
     "output_type": "execute_result"
    }
   ],
   "source": [
    "np.log(0)"
   ]
  },
  {
   "cell_type": "markdown",
   "id": "34780a57-a410-4273-b401-48c2f0c695ea",
   "metadata": {},
   "source": [
    "A straightforward way to fix this is to add 1 to every value.\\\n",
    "It is easy to do this with NumPy using ***.log1p()***"
   ]
  },
  {
   "cell_type": "code",
   "execution_count": 73,
   "id": "5cb80481-09ba-47db-be43-06f23b11ea5a",
   "metadata": {},
   "outputs": [
    {
     "data": {
      "text/plain": [
       "array([ 0.        ,  4.61512052,  9.21044037, 13.81551156])"
      ]
     },
     "execution_count": 73,
     "metadata": {},
     "output_type": "execute_result"
    }
   ],
   "source": [
    "np.log1p([0, 1e2, 1e4, 1e6])"
   ]
  },
  {
   "cell_type": "markdown",
   "id": "8c2b03b4-3775-44c4-b80e-d2127fae8c1b",
   "metadata": {},
   "source": [
    "Now, I'm going to try to graph it with what I've learned above."
   ]
  },
  {
   "cell_type": "code",
   "execution_count": 75,
   "id": "dc11f0e9-cf76-4f48-9c10-6e6b87c328f6",
   "metadata": {},
   "outputs": [
    {
     "data": {
      "image/png": "[encoded data removed]",
      "text/plain": [
       "<Figure size 640x480 with 1 Axes>"
      ]
     },
     "metadata": {},
     "output_type": "display_data"
    }
   ],
   "source": [
    "# bins = how many bars to show\n",
    "# plot the cars.msrp with .log + 1\n",
    "sns.histplot(np.log1p(cars.msrp), bins=50)\n",
    "plt.show()"
   ]
  },
  {
   "cell_type": "markdown",
   "id": "b9834739-8d29-4dad-a8b3-788972d45bf6",
   "metadata": {},
   "source": [
    "The long tail is now somehow gone!\n",
    "I can now see a bell curve shape in the distribution. This is called **Normal Distribution**.\\\n",
    "Models excel with these types of data distribution!"
   ]
  },
  {
   "cell_type": "markdown",
   "id": "9e3c9dd5-9b6f-42f2-b282-dc001c2f24e6",
   "metadata": {},
   "source": [
    "### Missing Values"
   ]
  },
  {
   "cell_type": "code",
   "execution_count": 80,
   "id": "977857b6-6cc9-4b49-8569-246e9c1c0842",
   "metadata": {},
   "outputs": [
    {
     "data": {
      "text/plain": [
       "make                    0\n",
       "model                   0\n",
       "year                    0\n",
       "engine_fuel_type        3\n",
       "engine_hp              69\n",
       "engine_cylinders       30\n",
       "transmission_type       0\n",
       "driven_wheels           0\n",
       "number_of_doors         6\n",
       "market_category      3742\n",
       "vehicle_size            0\n",
       "vehicle_style           0\n",
       "highway_mpg             0\n",
       "city_mpg                0\n",
       "popularity              0\n",
       "msrp                    0\n",
       "dtype: int64"
      ]
     },
     "execution_count": 80,
     "metadata": {},
     "output_type": "execute_result"
    }
   ],
   "source": [
    "cars.isnull().sum()"
   ]
  },
  {
   "cell_type": "code",
   "execution_count": null,
   "id": "29684db3-c762-43ff-8b10-42905d8270a6",
   "metadata": {},
   "outputs": [],
   "source": []
  }
 ],
 "metadata": {
  "kernelspec": {
   "display_name": "Python 3 (ipykernel)",
   "language": "python",
   "name": "python3"
  },
  "language_info": {
   "codemirror_mode": {
    "name": "ipython",
    "version": 3
   },
   "file_extension": ".py",
   "mimetype": "text/x-python",
   "name": "python",
   "nbconvert_exporter": "python",
   "pygments_lexer": "ipython3",
   "version": "3.11.9"
  }
 },
 "nbformat": 4,
 "nbformat_minor": 5
}
