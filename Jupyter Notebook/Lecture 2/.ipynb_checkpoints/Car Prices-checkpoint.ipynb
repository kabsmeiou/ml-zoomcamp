{
 "cells": [
  {
   "cell_type": "markdown",
   "id": "453e702a-9cbc-4aed-973b-9bbc679ca9d7",
   "metadata": {},
   "source": [
    "# Car Prices - Introduction to Regression"
   ]
  },
  {
   "cell_type": "code",
   "execution_count": 653,
   "id": "a8fe23aa-0cbc-4a71-bf28-dde526664c24",
   "metadata": {},
   "outputs": [],
   "source": [
    "import pandas as pd\n",
    "import numpy as np\n",
    "\n",
    "# models\n",
    "from sklearn.ensemble import RandomForestRegressor\n",
    "from sklearn.tree import DecisionTreeRegressor\n",
    "from sklearn.linear_model import Ridge\n",
    "from sklearn import linear_model\n",
    "from sklearn.linear_model import LinearRegression\n",
    "# for calculating the accuracy\n",
    "from sklearn.metrics import mean_absolute_error\n",
    "from sklearn.metrics import mean_squared_error\n",
    "# for splitting the data\n",
    "from sklearn.model_selection import train_test_split"
   ]
  },
  {
   "cell_type": "code",
   "execution_count": 2,
   "id": "fab0c727-4781-40b6-9b8c-8b1e117ab041",
   "metadata": {},
   "outputs": [],
   "source": [
    "# cars data from kaggle\n",
    "# https://www.kaggle.com/datasets/CooperUnion/cardataset\n",
    "cars = pd.read_csv(\"../../Datasets/cars/data.csv\")"
   ]
  },
  {
   "cell_type": "markdown",
   "id": "09b7ba67-258b-4bde-b4e6-6a57890d3901",
   "metadata": {},
   "source": [
    "### Data Exploration"
   ]
  },
  {
   "cell_type": "code",
   "execution_count": 3,
   "id": "67dc88aa-445b-478b-9136-125d1d65dd2a",
   "metadata": {},
   "outputs": [
    {
     "data": {
      "text/html": [
       "<div>\n",
       "<style scoped>\n",
       "    .dataframe tbody tr th:only-of-type {\n",
       "        vertical-align: middle;\n",
       "    }\n",
       "\n",
       "    .dataframe tbody tr th {\n",
       "        vertical-align: top;\n",
       "    }\n",
       "\n",
       "    .dataframe thead th {\n",
       "        text-align: right;\n",
       "    }\n",
       "</style>\n",
       "<table border=\"1\" class=\"dataframe\">\n",
       "  <thead>\n",
       "    <tr style=\"text-align: right;\">\n",
       "      <th></th>\n",
       "      <th>Make</th>\n",
       "      <th>Model</th>\n",
       "      <th>Year</th>\n",
       "      <th>Engine Fuel Type</th>\n",
       "      <th>Engine HP</th>\n",
       "      <th>Engine Cylinders</th>\n",
       "      <th>Transmission Type</th>\n",
       "      <th>Driven_Wheels</th>\n",
       "      <th>Number of Doors</th>\n",
       "      <th>Market Category</th>\n",
       "      <th>Vehicle Size</th>\n",
       "      <th>Vehicle Style</th>\n",
       "      <th>highway MPG</th>\n",
       "      <th>city mpg</th>\n",
       "      <th>Popularity</th>\n",
       "      <th>MSRP</th>\n",
       "    </tr>\n",
       "  </thead>\n",
       "  <tbody>\n",
       "    <tr>\n",
       "      <th>0</th>\n",
       "      <td>BMW</td>\n",
       "      <td>1 Series M</td>\n",
       "      <td>2011</td>\n",
       "      <td>premium unleaded (required)</td>\n",
       "      <td>335.0</td>\n",
       "      <td>6.0</td>\n",
       "      <td>MANUAL</td>\n",
       "      <td>rear wheel drive</td>\n",
       "      <td>2.0</td>\n",
       "      <td>Factory Tuner,Luxury,High-Performance</td>\n",
       "      <td>Compact</td>\n",
       "      <td>Coupe</td>\n",
       "      <td>26</td>\n",
       "      <td>19</td>\n",
       "      <td>3916</td>\n",
       "      <td>46135</td>\n",
       "    </tr>\n",
       "    <tr>\n",
       "      <th>1</th>\n",
       "      <td>BMW</td>\n",
       "      <td>1 Series</td>\n",
       "      <td>2011</td>\n",
       "      <td>premium unleaded (required)</td>\n",
       "      <td>300.0</td>\n",
       "      <td>6.0</td>\n",
       "      <td>MANUAL</td>\n",
       "      <td>rear wheel drive</td>\n",
       "      <td>2.0</td>\n",
       "      <td>Luxury,Performance</td>\n",
       "      <td>Compact</td>\n",
       "      <td>Convertible</td>\n",
       "      <td>28</td>\n",
       "      <td>19</td>\n",
       "      <td>3916</td>\n",
       "      <td>40650</td>\n",
       "    </tr>\n",
       "    <tr>\n",
       "      <th>2</th>\n",
       "      <td>BMW</td>\n",
       "      <td>1 Series</td>\n",
       "      <td>2011</td>\n",
       "      <td>premium unleaded (required)</td>\n",
       "      <td>300.0</td>\n",
       "      <td>6.0</td>\n",
       "      <td>MANUAL</td>\n",
       "      <td>rear wheel drive</td>\n",
       "      <td>2.0</td>\n",
       "      <td>Luxury,High-Performance</td>\n",
       "      <td>Compact</td>\n",
       "      <td>Coupe</td>\n",
       "      <td>28</td>\n",
       "      <td>20</td>\n",
       "      <td>3916</td>\n",
       "      <td>36350</td>\n",
       "    </tr>\n",
       "    <tr>\n",
       "      <th>3</th>\n",
       "      <td>BMW</td>\n",
       "      <td>1 Series</td>\n",
       "      <td>2011</td>\n",
       "      <td>premium unleaded (required)</td>\n",
       "      <td>230.0</td>\n",
       "      <td>6.0</td>\n",
       "      <td>MANUAL</td>\n",
       "      <td>rear wheel drive</td>\n",
       "      <td>2.0</td>\n",
       "      <td>Luxury,Performance</td>\n",
       "      <td>Compact</td>\n",
       "      <td>Coupe</td>\n",
       "      <td>28</td>\n",
       "      <td>18</td>\n",
       "      <td>3916</td>\n",
       "      <td>29450</td>\n",
       "    </tr>\n",
       "    <tr>\n",
       "      <th>4</th>\n",
       "      <td>BMW</td>\n",
       "      <td>1 Series</td>\n",
       "      <td>2011</td>\n",
       "      <td>premium unleaded (required)</td>\n",
       "      <td>230.0</td>\n",
       "      <td>6.0</td>\n",
       "      <td>MANUAL</td>\n",
       "      <td>rear wheel drive</td>\n",
       "      <td>2.0</td>\n",
       "      <td>Luxury</td>\n",
       "      <td>Compact</td>\n",
       "      <td>Convertible</td>\n",
       "      <td>28</td>\n",
       "      <td>18</td>\n",
       "      <td>3916</td>\n",
       "      <td>34500</td>\n",
       "    </tr>\n",
       "  </tbody>\n",
       "</table>\n",
       "</div>"
      ],
      "text/plain": [
       "  Make       Model  Year             Engine Fuel Type  Engine HP  \\\n",
       "0  BMW  1 Series M  2011  premium unleaded (required)      335.0   \n",
       "1  BMW    1 Series  2011  premium unleaded (required)      300.0   \n",
       "2  BMW    1 Series  2011  premium unleaded (required)      300.0   \n",
       "3  BMW    1 Series  2011  premium unleaded (required)      230.0   \n",
       "4  BMW    1 Series  2011  premium unleaded (required)      230.0   \n",
       "\n",
       "   Engine Cylinders Transmission Type     Driven_Wheels  Number of Doors  \\\n",
       "0               6.0            MANUAL  rear wheel drive              2.0   \n",
       "1               6.0            MANUAL  rear wheel drive              2.0   \n",
       "2               6.0            MANUAL  rear wheel drive              2.0   \n",
       "3               6.0            MANUAL  rear wheel drive              2.0   \n",
       "4               6.0            MANUAL  rear wheel drive              2.0   \n",
       "\n",
       "                         Market Category Vehicle Size Vehicle Style  \\\n",
       "0  Factory Tuner,Luxury,High-Performance      Compact         Coupe   \n",
       "1                     Luxury,Performance      Compact   Convertible   \n",
       "2                Luxury,High-Performance      Compact         Coupe   \n",
       "3                     Luxury,Performance      Compact         Coupe   \n",
       "4                                 Luxury      Compact   Convertible   \n",
       "\n",
       "   highway MPG  city mpg  Popularity   MSRP  \n",
       "0           26        19        3916  46135  \n",
       "1           28        19        3916  40650  \n",
       "2           28        20        3916  36350  \n",
       "3           28        18        3916  29450  \n",
       "4           28        18        3916  34500  "
      ]
     },
     "execution_count": 3,
     "metadata": {},
     "output_type": "execute_result"
    }
   ],
   "source": [
    "cars.head()"
   ]
  },
  {
   "cell_type": "code",
   "execution_count": 4,
   "id": "c739e509-3294-4dd9-a2c1-a6d430e079f7",
   "metadata": {},
   "outputs": [
    {
     "data": {
      "text/plain": [
       "Make                 11914\n",
       "Model                11914\n",
       "Year                 11914\n",
       "Engine Fuel Type     11911\n",
       "Engine HP            11845\n",
       "Engine Cylinders     11884\n",
       "Transmission Type    11914\n",
       "Driven_Wheels        11914\n",
       "Number of Doors      11908\n",
       "Market Category       8172\n",
       "Vehicle Size         11914\n",
       "Vehicle Style        11914\n",
       "highway MPG          11914\n",
       "city mpg             11914\n",
       "Popularity           11914\n",
       "MSRP                 11914\n",
       "dtype: int64"
      ]
     },
     "execution_count": 4,
     "metadata": {},
     "output_type": "execute_result"
    }
   ],
   "source": [
    "# since im getting an error when it comes to splitting the data,\n",
    "# there could be an error where my y doesnt match the size of X\n",
    "cars.count()"
   ]
  },
  {
   "cell_type": "code",
   "execution_count": 5,
   "id": "92a66c62-01b4-4035-899f-9baaafce6632",
   "metadata": {},
   "outputs": [
    {
     "data": {
      "text/plain": [
       "Index(['Make', 'Model', 'Year', 'Engine Fuel Type', 'Engine HP',\n",
       "       'Engine Cylinders', 'Transmission Type', 'Driven_Wheels',\n",
       "       'Number of Doors', 'Market Category', 'Vehicle Size', 'Vehicle Style',\n",
       "       'highway MPG', 'city mpg', 'Popularity', 'MSRP'],\n",
       "      dtype='object')"
      ]
     },
     "execution_count": 5,
     "metadata": {},
     "output_type": "execute_result"
    }
   ],
   "source": [
    "cars.columns"
   ]
  },
  {
   "cell_type": "code",
   "execution_count": 6,
   "id": "90faba4b-c8fc-4334-9bf3-9d4feac47cc1",
   "metadata": {},
   "outputs": [
    {
     "data": {
      "text/plain": [
       "Make                    0\n",
       "Model                   0\n",
       "Year                    0\n",
       "Engine Fuel Type        3\n",
       "Engine HP              69\n",
       "Engine Cylinders       30\n",
       "Transmission Type       0\n",
       "Driven_Wheels           0\n",
       "Number of Doors         6\n",
       "Market Category      3742\n",
       "Vehicle Size            0\n",
       "Vehicle Style           0\n",
       "highway MPG             0\n",
       "city mpg                0\n",
       "Popularity              0\n",
       "MSRP                    0\n",
       "dtype: int64"
      ]
     },
     "execution_count": 6,
     "metadata": {},
     "output_type": "execute_result"
    }
   ],
   "source": [
    "cars.isnull().sum()"
   ]
  },
  {
   "cell_type": "code",
   "execution_count": 7,
   "id": "11b9773c-581d-462b-9f41-8e21905ffdc2",
   "metadata": {},
   "outputs": [],
   "source": [
    "cars.columns = cars.columns.str.lower()"
   ]
  },
  {
   "cell_type": "markdown",
   "id": "ae2d0278-64cc-4d81-b1c9-e4218643f86e",
   "metadata": {},
   "source": [
    "### Data Cleaning"
   ]
  },
  {
   "cell_type": "markdown",
   "id": "b6e97e32-1bd4-4eff-b3f8-1a7a4905f495",
   "metadata": {},
   "source": [
    "Since one of the features I want to use has null values, I need to fill it up first..."
   ]
  },
  {
   "cell_type": "code",
   "execution_count": 8,
   "id": "c746d29b-a38d-4731-8950-bbf507edb429",
   "metadata": {},
   "outputs": [
    {
     "data": {
      "text/html": [
       "<div>\n",
       "<style scoped>\n",
       "    .dataframe tbody tr th:only-of-type {\n",
       "        vertical-align: middle;\n",
       "    }\n",
       "\n",
       "    .dataframe tbody tr th {\n",
       "        vertical-align: top;\n",
       "    }\n",
       "\n",
       "    .dataframe thead th {\n",
       "        text-align: right;\n",
       "    }\n",
       "</style>\n",
       "<table border=\"1\" class=\"dataframe\">\n",
       "  <thead>\n",
       "    <tr style=\"text-align: right;\">\n",
       "      <th></th>\n",
       "      <th>make</th>\n",
       "      <th>model</th>\n",
       "      <th>year</th>\n",
       "      <th>engine fuel type</th>\n",
       "      <th>engine hp</th>\n",
       "      <th>engine cylinders</th>\n",
       "      <th>transmission type</th>\n",
       "      <th>driven_wheels</th>\n",
       "      <th>number of doors</th>\n",
       "      <th>market category</th>\n",
       "      <th>vehicle size</th>\n",
       "      <th>vehicle style</th>\n",
       "      <th>highway mpg</th>\n",
       "      <th>city mpg</th>\n",
       "      <th>popularity</th>\n",
       "      <th>msrp</th>\n",
       "    </tr>\n",
       "  </thead>\n",
       "  <tbody>\n",
       "    <tr>\n",
       "      <th>539</th>\n",
       "      <td>FIAT</td>\n",
       "      <td>500e</td>\n",
       "      <td>2015</td>\n",
       "      <td>electric</td>\n",
       "      <td>NaN</td>\n",
       "      <td>0.0</td>\n",
       "      <td>DIRECT_DRIVE</td>\n",
       "      <td>front wheel drive</td>\n",
       "      <td>2.0</td>\n",
       "      <td>Hatchback</td>\n",
       "      <td>Compact</td>\n",
       "      <td>2dr Hatchback</td>\n",
       "      <td>108</td>\n",
       "      <td>122</td>\n",
       "      <td>819</td>\n",
       "      <td>31800</td>\n",
       "    </tr>\n",
       "    <tr>\n",
       "      <th>540</th>\n",
       "      <td>FIAT</td>\n",
       "      <td>500e</td>\n",
       "      <td>2016</td>\n",
       "      <td>electric</td>\n",
       "      <td>NaN</td>\n",
       "      <td>0.0</td>\n",
       "      <td>DIRECT_DRIVE</td>\n",
       "      <td>front wheel drive</td>\n",
       "      <td>2.0</td>\n",
       "      <td>Hatchback</td>\n",
       "      <td>Compact</td>\n",
       "      <td>2dr Hatchback</td>\n",
       "      <td>103</td>\n",
       "      <td>121</td>\n",
       "      <td>819</td>\n",
       "      <td>31800</td>\n",
       "    </tr>\n",
       "    <tr>\n",
       "      <th>541</th>\n",
       "      <td>FIAT</td>\n",
       "      <td>500e</td>\n",
       "      <td>2017</td>\n",
       "      <td>electric</td>\n",
       "      <td>NaN</td>\n",
       "      <td>0.0</td>\n",
       "      <td>DIRECT_DRIVE</td>\n",
       "      <td>front wheel drive</td>\n",
       "      <td>2.0</td>\n",
       "      <td>Hatchback</td>\n",
       "      <td>Compact</td>\n",
       "      <td>2dr Hatchback</td>\n",
       "      <td>103</td>\n",
       "      <td>121</td>\n",
       "      <td>819</td>\n",
       "      <td>31800</td>\n",
       "    </tr>\n",
       "    <tr>\n",
       "      <th>2905</th>\n",
       "      <td>Lincoln</td>\n",
       "      <td>Continental</td>\n",
       "      <td>2017</td>\n",
       "      <td>premium unleaded (recommended)</td>\n",
       "      <td>NaN</td>\n",
       "      <td>6.0</td>\n",
       "      <td>AUTOMATIC</td>\n",
       "      <td>all wheel drive</td>\n",
       "      <td>4.0</td>\n",
       "      <td>Luxury</td>\n",
       "      <td>Large</td>\n",
       "      <td>Sedan</td>\n",
       "      <td>25</td>\n",
       "      <td>17</td>\n",
       "      <td>61</td>\n",
       "      <td>55915</td>\n",
       "    </tr>\n",
       "    <tr>\n",
       "      <th>2906</th>\n",
       "      <td>Lincoln</td>\n",
       "      <td>Continental</td>\n",
       "      <td>2017</td>\n",
       "      <td>premium unleaded (recommended)</td>\n",
       "      <td>NaN</td>\n",
       "      <td>6.0</td>\n",
       "      <td>AUTOMATIC</td>\n",
       "      <td>front wheel drive</td>\n",
       "      <td>4.0</td>\n",
       "      <td>Luxury</td>\n",
       "      <td>Large</td>\n",
       "      <td>Sedan</td>\n",
       "      <td>27</td>\n",
       "      <td>18</td>\n",
       "      <td>61</td>\n",
       "      <td>62915</td>\n",
       "    </tr>\n",
       "    <tr>\n",
       "      <th>...</th>\n",
       "      <td>...</td>\n",
       "      <td>...</td>\n",
       "      <td>...</td>\n",
       "      <td>...</td>\n",
       "      <td>...</td>\n",
       "      <td>...</td>\n",
       "      <td>...</td>\n",
       "      <td>...</td>\n",
       "      <td>...</td>\n",
       "      <td>...</td>\n",
       "      <td>...</td>\n",
       "      <td>...</td>\n",
       "      <td>...</td>\n",
       "      <td>...</td>\n",
       "      <td>...</td>\n",
       "      <td>...</td>\n",
       "    </tr>\n",
       "    <tr>\n",
       "      <th>9850</th>\n",
       "      <td>Kia</td>\n",
       "      <td>Soul EV</td>\n",
       "      <td>2015</td>\n",
       "      <td>electric</td>\n",
       "      <td>NaN</td>\n",
       "      <td>0.0</td>\n",
       "      <td>DIRECT_DRIVE</td>\n",
       "      <td>front wheel drive</td>\n",
       "      <td>4.0</td>\n",
       "      <td>NaN</td>\n",
       "      <td>Compact</td>\n",
       "      <td>Wagon</td>\n",
       "      <td>92</td>\n",
       "      <td>120</td>\n",
       "      <td>1720</td>\n",
       "      <td>35700</td>\n",
       "    </tr>\n",
       "    <tr>\n",
       "      <th>9851</th>\n",
       "      <td>Kia</td>\n",
       "      <td>Soul EV</td>\n",
       "      <td>2015</td>\n",
       "      <td>electric</td>\n",
       "      <td>NaN</td>\n",
       "      <td>0.0</td>\n",
       "      <td>DIRECT_DRIVE</td>\n",
       "      <td>front wheel drive</td>\n",
       "      <td>4.0</td>\n",
       "      <td>NaN</td>\n",
       "      <td>Compact</td>\n",
       "      <td>Wagon</td>\n",
       "      <td>92</td>\n",
       "      <td>120</td>\n",
       "      <td>1720</td>\n",
       "      <td>33700</td>\n",
       "    </tr>\n",
       "    <tr>\n",
       "      <th>9852</th>\n",
       "      <td>Kia</td>\n",
       "      <td>Soul EV</td>\n",
       "      <td>2016</td>\n",
       "      <td>electric</td>\n",
       "      <td>NaN</td>\n",
       "      <td>0.0</td>\n",
       "      <td>DIRECT_DRIVE</td>\n",
       "      <td>front wheel drive</td>\n",
       "      <td>4.0</td>\n",
       "      <td>NaN</td>\n",
       "      <td>Compact</td>\n",
       "      <td>Wagon</td>\n",
       "      <td>92</td>\n",
       "      <td>120</td>\n",
       "      <td>1720</td>\n",
       "      <td>33950</td>\n",
       "    </tr>\n",
       "    <tr>\n",
       "      <th>9853</th>\n",
       "      <td>Kia</td>\n",
       "      <td>Soul EV</td>\n",
       "      <td>2016</td>\n",
       "      <td>electric</td>\n",
       "      <td>NaN</td>\n",
       "      <td>0.0</td>\n",
       "      <td>DIRECT_DRIVE</td>\n",
       "      <td>front wheel drive</td>\n",
       "      <td>4.0</td>\n",
       "      <td>NaN</td>\n",
       "      <td>Compact</td>\n",
       "      <td>Wagon</td>\n",
       "      <td>92</td>\n",
       "      <td>120</td>\n",
       "      <td>1720</td>\n",
       "      <td>31950</td>\n",
       "    </tr>\n",
       "    <tr>\n",
       "      <th>9854</th>\n",
       "      <td>Kia</td>\n",
       "      <td>Soul EV</td>\n",
       "      <td>2016</td>\n",
       "      <td>electric</td>\n",
       "      <td>NaN</td>\n",
       "      <td>0.0</td>\n",
       "      <td>DIRECT_DRIVE</td>\n",
       "      <td>front wheel drive</td>\n",
       "      <td>4.0</td>\n",
       "      <td>NaN</td>\n",
       "      <td>Compact</td>\n",
       "      <td>Wagon</td>\n",
       "      <td>92</td>\n",
       "      <td>120</td>\n",
       "      <td>1720</td>\n",
       "      <td>35950</td>\n",
       "    </tr>\n",
       "  </tbody>\n",
       "</table>\n",
       "<p>69 rows × 16 columns</p>\n",
       "</div>"
      ],
      "text/plain": [
       "         make        model  year                engine fuel type  engine hp  \\\n",
       "539      FIAT         500e  2015                        electric        NaN   \n",
       "540      FIAT         500e  2016                        electric        NaN   \n",
       "541      FIAT         500e  2017                        electric        NaN   \n",
       "2905  Lincoln  Continental  2017  premium unleaded (recommended)        NaN   \n",
       "2906  Lincoln  Continental  2017  premium unleaded (recommended)        NaN   \n",
       "...       ...          ...   ...                             ...        ...   \n",
       "9850      Kia      Soul EV  2015                        electric        NaN   \n",
       "9851      Kia      Soul EV  2015                        electric        NaN   \n",
       "9852      Kia      Soul EV  2016                        electric        NaN   \n",
       "9853      Kia      Soul EV  2016                        electric        NaN   \n",
       "9854      Kia      Soul EV  2016                        electric        NaN   \n",
       "\n",
       "      engine cylinders transmission type      driven_wheels  number of doors  \\\n",
       "539                0.0      DIRECT_DRIVE  front wheel drive              2.0   \n",
       "540                0.0      DIRECT_DRIVE  front wheel drive              2.0   \n",
       "541                0.0      DIRECT_DRIVE  front wheel drive              2.0   \n",
       "2905               6.0         AUTOMATIC    all wheel drive              4.0   \n",
       "2906               6.0         AUTOMATIC  front wheel drive              4.0   \n",
       "...                ...               ...                ...              ...   \n",
       "9850               0.0      DIRECT_DRIVE  front wheel drive              4.0   \n",
       "9851               0.0      DIRECT_DRIVE  front wheel drive              4.0   \n",
       "9852               0.0      DIRECT_DRIVE  front wheel drive              4.0   \n",
       "9853               0.0      DIRECT_DRIVE  front wheel drive              4.0   \n",
       "9854               0.0      DIRECT_DRIVE  front wheel drive              4.0   \n",
       "\n",
       "     market category vehicle size  vehicle style  highway mpg  city mpg  \\\n",
       "539        Hatchback      Compact  2dr Hatchback          108       122   \n",
       "540        Hatchback      Compact  2dr Hatchback          103       121   \n",
       "541        Hatchback      Compact  2dr Hatchback          103       121   \n",
       "2905          Luxury        Large          Sedan           25        17   \n",
       "2906          Luxury        Large          Sedan           27        18   \n",
       "...              ...          ...            ...          ...       ...   \n",
       "9850             NaN      Compact          Wagon           92       120   \n",
       "9851             NaN      Compact          Wagon           92       120   \n",
       "9852             NaN      Compact          Wagon           92       120   \n",
       "9853             NaN      Compact          Wagon           92       120   \n",
       "9854             NaN      Compact          Wagon           92       120   \n",
       "\n",
       "      popularity   msrp  \n",
       "539          819  31800  \n",
       "540          819  31800  \n",
       "541          819  31800  \n",
       "2905          61  55915  \n",
       "2906          61  62915  \n",
       "...          ...    ...  \n",
       "9850        1720  35700  \n",
       "9851        1720  33700  \n",
       "9852        1720  33950  \n",
       "9853        1720  31950  \n",
       "9854        1720  35950  \n",
       "\n",
       "[69 rows x 16 columns]"
      ]
     },
     "execution_count": 8,
     "metadata": {},
     "output_type": "execute_result"
    }
   ],
   "source": [
    "cars[cars['engine hp'].isnull()]"
   ]
  },
  {
   "cell_type": "markdown",
   "id": "0f0a32ff-d146-4bb0-846a-6106ad08fc63",
   "metadata": {},
   "source": [
    "I'll try filling it out with the mode."
   ]
  },
  {
   "cell_type": "code",
   "execution_count": 9,
   "id": "ea7191fe-6203-48d5-8a5c-31a5a5570a40",
   "metadata": {},
   "outputs": [
    {
     "name": "stdout",
     "output_type": "stream",
     "text": [
      "200.0\n"
     ]
    }
   ],
   "source": [
    "mode = cars['engine hp'].mode()[0]\n",
    "print(mode)"
   ]
  },
  {
   "cell_type": "code",
   "execution_count": 10,
   "id": "4c51d45d-c2d6-4f0a-835e-de3f991d8bc5",
   "metadata": {},
   "outputs": [
    {
     "data": {
      "text/plain": [
       "0        335.0\n",
       "1        300.0\n",
       "2        300.0\n",
       "3        230.0\n",
       "4        230.0\n",
       "         ...  \n",
       "11909    300.0\n",
       "11910    300.0\n",
       "11911    300.0\n",
       "11912    300.0\n",
       "11913    221.0\n",
       "Name: engine hp, Length: 11914, dtype: float64"
      ]
     },
     "execution_count": 10,
     "metadata": {},
     "output_type": "execute_result"
    }
   ],
   "source": [
    "# i think this doesnt overwrite the dataframe cars?\n",
    "cars['engine hp'].fillna(mode)"
   ]
  },
  {
   "cell_type": "code",
   "execution_count": 11,
   "id": "8ca28cdd-0a78-4f49-991f-d0c3c4e309d5",
   "metadata": {},
   "outputs": [
    {
     "data": {
      "text/plain": [
       "make                 11914\n",
       "model                11914\n",
       "year                 11914\n",
       "engine fuel type     11911\n",
       "engine hp            11845\n",
       "engine cylinders     11884\n",
       "transmission type    11914\n",
       "driven_wheels        11914\n",
       "number of doors      11908\n",
       "market category       8172\n",
       "vehicle size         11914\n",
       "vehicle style        11914\n",
       "highway mpg          11914\n",
       "city mpg             11914\n",
       "popularity           11914\n",
       "msrp                 11914\n",
       "dtype: int64"
      ]
     },
     "execution_count": 11,
     "metadata": {},
     "output_type": "execute_result"
    }
   ],
   "source": [
    "cars.count()"
   ]
  },
  {
   "cell_type": "markdown",
   "id": "5a7cf424-e0d7-4533-a439-11e38d762f1f",
   "metadata": {},
   "source": [
    "Turns out the error I'm encountering when splitting the data is because of the 'engine hp' count that doesn't match the msrp count.\\\n",
    "I need to overwrite 'engine hp' to fix that with the fillna() call I did."
   ]
  },
  {
   "cell_type": "code",
   "execution_count": 12,
   "id": "b01ea4cf-ce03-43ee-adf7-bf2ccb017ed1",
   "metadata": {},
   "outputs": [],
   "source": [
    "# overwrite\n",
    "cars['engine hp'] = cars['engine hp'].fillna(mode)\n",
    "# cars['engine hp'] = cars['engine hp'].fillna(0) # what if i try 0?"
   ]
  },
  {
   "cell_type": "markdown",
   "id": "4c5fd99e-6485-400b-bae0-b120f001d072",
   "metadata": {},
   "source": [
    "Now I'll check if the count is the same now"
   ]
  },
  {
   "cell_type": "code",
   "execution_count": 13,
   "id": "af9cf1aa-4362-4ede-b1af-2c0d7bf49716",
   "metadata": {},
   "outputs": [
    {
     "data": {
      "text/plain": [
       "make                 11914\n",
       "model                11914\n",
       "year                 11914\n",
       "engine fuel type     11911\n",
       "engine hp            11914\n",
       "engine cylinders     11884\n",
       "transmission type    11914\n",
       "driven_wheels        11914\n",
       "number of doors      11908\n",
       "market category       8172\n",
       "vehicle size         11914\n",
       "vehicle style        11914\n",
       "highway mpg          11914\n",
       "city mpg             11914\n",
       "popularity           11914\n",
       "msrp                 11914\n",
       "dtype: int64"
      ]
     },
     "execution_count": 13,
     "metadata": {},
     "output_type": "execute_result"
    }
   ],
   "source": [
    "cars.count()"
   ]
  },
  {
   "cell_type": "markdown",
   "id": "45ecbc95-f2c1-48c9-a4bd-df65406356b1",
   "metadata": {},
   "source": [
    "I just found out I have to convert non-numerical data into numerical ones for a regressor model.\\\n",
    "I need to find out the sizes first cause it seems easier to figure out."
   ]
  },
  {
   "cell_type": "code",
   "execution_count": 14,
   "id": "4c787b83-8cb3-405a-bdc2-e2d6dd4bd38f",
   "metadata": {},
   "outputs": [
    {
     "data": {
      "text/plain": [
       "array(['Compact', 'Midsize', 'Large'], dtype=object)"
      ]
     },
     "execution_count": 14,
     "metadata": {},
     "output_type": "execute_result"
    }
   ],
   "source": [
    "cars['vehicle size'].unique()"
   ]
  },
  {
   "cell_type": "markdown",
   "id": "bd344687-1665-483b-8e63-c3bae069dd6e",
   "metadata": {},
   "source": [
    "I can probably set **compact = 1, midsize = 2, and large = 3**"
   ]
  },
  {
   "cell_type": "code",
   "execution_count": 15,
   "id": "2abc2448-1427-43bf-9af0-bb59129e3e8a",
   "metadata": {},
   "outputs": [],
   "source": [
    "# vehicle sizes dictionary\n",
    "size_mapping = {'Compact': 1, 'Midsize': 2, 'Large': 3}\n",
    "# mapping the vehicle sizes\n",
    "cars['vehicle size'] = cars['vehicle size'].map(size_mapping)"
   ]
  },
  {
   "cell_type": "code",
   "execution_count": 16,
   "id": "f23a747d-335f-4da7-b7de-6441a8ef4c68",
   "metadata": {},
   "outputs": [
    {
     "data": {
      "text/plain": [
       "0        1\n",
       "1        1\n",
       "2        1\n",
       "3        1\n",
       "4        1\n",
       "        ..\n",
       "11909    2\n",
       "11910    2\n",
       "11911    2\n",
       "11912    2\n",
       "11913    2\n",
       "Name: vehicle size, Length: 11914, dtype: int64"
      ]
     },
     "execution_count": 16,
     "metadata": {},
     "output_type": "execute_result"
    }
   ],
   "source": [
    "# confirming if it was a success\n",
    "cars['vehicle size']"
   ]
  },
  {
   "cell_type": "markdown",
   "id": "c28917f8-225a-4298-8cfd-228408a201fb",
   "metadata": {},
   "source": [
    "It worked! lessened the mean absolute error for about 300~ msrp"
   ]
  },
  {
   "cell_type": "markdown",
   "id": "a746d6f0-8923-4294-a58d-addea5ebefdb",
   "metadata": {},
   "source": [
    "Now, I want to deal with the brand.\\\n",
    "I'm thinking of considering the popularity."
   ]
  },
  {
   "cell_type": "code",
   "execution_count": 17,
   "id": "fadb2090-6caf-4795-986e-b27719be875f",
   "metadata": {},
   "outputs": [
    {
     "data": {
      "text/html": [
       "<div>\n",
       "<style scoped>\n",
       "    .dataframe tbody tr th:only-of-type {\n",
       "        vertical-align: middle;\n",
       "    }\n",
       "\n",
       "    .dataframe tbody tr th {\n",
       "        vertical-align: top;\n",
       "    }\n",
       "\n",
       "    .dataframe thead th {\n",
       "        text-align: right;\n",
       "    }\n",
       "</style>\n",
       "<table border=\"1\" class=\"dataframe\">\n",
       "  <thead>\n",
       "    <tr style=\"text-align: right;\">\n",
       "      <th></th>\n",
       "      <th>model</th>\n",
       "      <th>msrp</th>\n",
       "    </tr>\n",
       "  </thead>\n",
       "  <tbody>\n",
       "    <tr>\n",
       "      <th>11362</th>\n",
       "      <td>Veyron 16.4</td>\n",
       "      <td>2065902</td>\n",
       "    </tr>\n",
       "    <tr>\n",
       "      <th>11364</th>\n",
       "      <td>Veyron 16.4</td>\n",
       "      <td>1705769</td>\n",
       "    </tr>\n",
       "    <tr>\n",
       "      <th>8486</th>\n",
       "      <td>Reventon</td>\n",
       "      <td>1500000</td>\n",
       "    </tr>\n",
       "    <tr>\n",
       "      <th>11363</th>\n",
       "      <td>Veyron 16.4</td>\n",
       "      <td>1500000</td>\n",
       "    </tr>\n",
       "    <tr>\n",
       "      <th>6351</th>\n",
       "      <td>Landaulet</td>\n",
       "      <td>1382750</td>\n",
       "    </tr>\n",
       "    <tr>\n",
       "      <th>...</th>\n",
       "      <td>...</td>\n",
       "      <td>...</td>\n",
       "    </tr>\n",
       "    <tr>\n",
       "      <th>4425</th>\n",
       "      <td>Expo</td>\n",
       "      <td>2000</td>\n",
       "    </tr>\n",
       "    <tr>\n",
       "      <th>4424</th>\n",
       "      <td>Expo</td>\n",
       "      <td>2000</td>\n",
       "    </tr>\n",
       "    <tr>\n",
       "      <th>4423</th>\n",
       "      <td>Expo</td>\n",
       "      <td>2000</td>\n",
       "    </tr>\n",
       "    <tr>\n",
       "      <th>4422</th>\n",
       "      <td>Expo</td>\n",
       "      <td>2000</td>\n",
       "    </tr>\n",
       "    <tr>\n",
       "      <th>9108</th>\n",
       "      <td>Sephia</td>\n",
       "      <td>2000</td>\n",
       "    </tr>\n",
       "  </tbody>\n",
       "</table>\n",
       "<p>11914 rows × 2 columns</p>\n",
       "</div>"
      ],
      "text/plain": [
       "             model     msrp\n",
       "11362  Veyron 16.4  2065902\n",
       "11364  Veyron 16.4  1705769\n",
       "8486      Reventon  1500000\n",
       "11363  Veyron 16.4  1500000\n",
       "6351     Landaulet  1382750\n",
       "...            ...      ...\n",
       "4425          Expo     2000\n",
       "4424          Expo     2000\n",
       "4423          Expo     2000\n",
       "4422          Expo     2000\n",
       "9108        Sephia     2000\n",
       "\n",
       "[11914 rows x 2 columns]"
      ]
     },
     "execution_count": 17,
     "metadata": {},
     "output_type": "execute_result"
    }
   ],
   "source": [
    "cars[['model', 'msrp']].sort_values(by='msrp', ascending=False)"
   ]
  },
  {
   "cell_type": "markdown",
   "id": "29ed2f7f-ceb1-48f1-8a85-7c63d4dcf25d",
   "metadata": {},
   "source": [
    "I thought of adding 'popularity' in the features and it somehow lessened MAE.\\\n",
    "But can I really rely on such a parameter? I should probably scrap it because popular cars can be cheap/expensive. Likewise, unpopular cars can be cheap/expensive as well!"
   ]
  },
  {
   "cell_type": "markdown",
   "id": "9deba7c0-9ff2-4f9d-b17a-aaf8bc473e47",
   "metadata": {},
   "source": [
    "## Applying New Learnings"
   ]
  },
  {
   "cell_type": "markdown",
   "id": "015a8667-b121-4a87-977c-1c04ed3258e1",
   "metadata": {},
   "source": [
    "Good news, we can actually perform logarithmic operations on the target data to get rid of the annoying tail in the distribution of prices.\\\n",
    "The tail causes confusion to our model somehow."
   ]
  },
  {
   "cell_type": "code",
   "execution_count": 18,
   "id": "2c19b83e-7180-477f-99b1-b87a7cafe2cc",
   "metadata": {},
   "outputs": [],
   "source": [
    "# transform with log\n",
    "log_transformed_prices = np.log1p(cars['msrp'])"
   ]
  },
  {
   "cell_type": "code",
   "execution_count": 19,
   "id": "9ad633b0-8c59-46bb-8296-cb747fcad8d3",
   "metadata": {},
   "outputs": [
    {
     "data": {
      "text/plain": [
       "8117      7.601402\n",
       "744       7.601402\n",
       "745       7.601402\n",
       "746       7.601402\n",
       "747       7.601402\n",
       "           ...    \n",
       "6351     14.139586\n",
       "11363    14.220976\n",
       "8486     14.220976\n",
       "11364    14.349527\n",
       "11362    14.541078\n",
       "Name: msrp, Length: 11914, dtype: float64"
      ]
     },
     "execution_count": 19,
     "metadata": {},
     "output_type": "execute_result"
    }
   ],
   "source": [
    "# overwrite our dataframe\n",
    "cars['msrp'] = log_transformed_prices\n",
    "cars['msrp'].sort_values()"
   ]
  },
  {
   "cell_type": "markdown",
   "id": "5cd0b929-e782-4e72-989b-3771f9dd9514",
   "metadata": {},
   "source": [
    "Another learning about the conversion of categorical variables to informative data for the model!!"
   ]
  },
  {
   "cell_type": "code",
   "execution_count": 120,
   "id": "2d014a4c-1783-4a6d-bf63-f4ecce498490",
   "metadata": {},
   "outputs": [],
   "source": [
    "cars['compact'] = (cars['vehicle size'] == 1).astype('int')\n",
    "cars['midsize'] = (cars['vehicle size'] == 2).astype('int')\n",
    "cars['large'] = (cars['vehicle size'] == 3).astype('int')"
   ]
  },
  {
   "cell_type": "code",
   "execution_count": 196,
   "id": "dc350375-df6e-48f3-b40a-2e0447442536",
   "metadata": {},
   "outputs": [],
   "source": [
    "del cars['compact']\n",
    "del cars['midsize']\n",
    "del cars['large'] "
   ]
  },
  {
   "cell_type": "markdown",
   "id": "77379d91-a741-4665-af84-323e3f55cb3f",
   "metadata": {},
   "source": [
    "Now, I can add the newly added columns to my features for the model."
   ]
  },
  {
   "cell_type": "code",
   "execution_count": 172,
   "id": "2cf74e2b-3b01-4560-9048-f9da0c1779cf",
   "metadata": {},
   "outputs": [
    {
     "data": {
      "text/plain": [
       "3"
      ]
     },
     "execution_count": 172,
     "metadata": {},
     "output_type": "execute_result"
    }
   ],
   "source": [
    "cars['number of doors'].nunique()"
   ]
  },
  {
   "cell_type": "code",
   "execution_count": 173,
   "id": "683dfc3a-6af5-4e36-9747-b7ac6285fbba",
   "metadata": {},
   "outputs": [],
   "source": [
    "cars['doors_2'] = (cars['number of doors'] == 2).astype('int')\n",
    "cars['doors_3'] = (cars['number of doors'] == 3).astype('int')\n",
    "cars['doors_4'] = (cars['number of doors'] == 4).astype('int')"
   ]
  },
  {
   "cell_type": "code",
   "execution_count": 197,
   "id": "dfdaed75-5add-40ba-a20a-db10f743ae3c",
   "metadata": {},
   "outputs": [
    {
     "data": {
      "text/html": [
       "<div>\n",
       "<style scoped>\n",
       "    .dataframe tbody tr th:only-of-type {\n",
       "        vertical-align: middle;\n",
       "    }\n",
       "\n",
       "    .dataframe tbody tr th {\n",
       "        vertical-align: top;\n",
       "    }\n",
       "\n",
       "    .dataframe thead th {\n",
       "        text-align: right;\n",
       "    }\n",
       "</style>\n",
       "<table border=\"1\" class=\"dataframe\">\n",
       "  <thead>\n",
       "    <tr style=\"text-align: right;\">\n",
       "      <th></th>\n",
       "      <th>make</th>\n",
       "      <th>model</th>\n",
       "      <th>year</th>\n",
       "      <th>engine fuel type</th>\n",
       "      <th>engine hp</th>\n",
       "      <th>engine cylinders</th>\n",
       "      <th>transmission type</th>\n",
       "      <th>driven_wheels</th>\n",
       "      <th>number of doors</th>\n",
       "      <th>market category</th>\n",
       "      <th>vehicle size</th>\n",
       "      <th>vehicle style</th>\n",
       "      <th>highway mpg</th>\n",
       "      <th>city mpg</th>\n",
       "      <th>popularity</th>\n",
       "      <th>msrp</th>\n",
       "      <th>doors_2</th>\n",
       "      <th>doors_3</th>\n",
       "      <th>doors_4</th>\n",
       "    </tr>\n",
       "  </thead>\n",
       "  <tbody>\n",
       "    <tr>\n",
       "      <th>0</th>\n",
       "      <td>BMW</td>\n",
       "      <td>1 Series M</td>\n",
       "      <td>2011</td>\n",
       "      <td>premium unleaded (required)</td>\n",
       "      <td>335.0</td>\n",
       "      <td>6.0</td>\n",
       "      <td>MANUAL</td>\n",
       "      <td>rear wheel drive</td>\n",
       "      <td>2.0</td>\n",
       "      <td>Factory Tuner,Luxury,High-Performance</td>\n",
       "      <td>1</td>\n",
       "      <td>Coupe</td>\n",
       "      <td>26</td>\n",
       "      <td>19</td>\n",
       "      <td>3916</td>\n",
       "      <td>10.739349</td>\n",
       "      <td>1</td>\n",
       "      <td>0</td>\n",
       "      <td>0</td>\n",
       "    </tr>\n",
       "    <tr>\n",
       "      <th>1</th>\n",
       "      <td>BMW</td>\n",
       "      <td>1 Series</td>\n",
       "      <td>2011</td>\n",
       "      <td>premium unleaded (required)</td>\n",
       "      <td>300.0</td>\n",
       "      <td>6.0</td>\n",
       "      <td>MANUAL</td>\n",
       "      <td>rear wheel drive</td>\n",
       "      <td>2.0</td>\n",
       "      <td>Luxury,Performance</td>\n",
       "      <td>1</td>\n",
       "      <td>Convertible</td>\n",
       "      <td>28</td>\n",
       "      <td>19</td>\n",
       "      <td>3916</td>\n",
       "      <td>10.612779</td>\n",
       "      <td>1</td>\n",
       "      <td>0</td>\n",
       "      <td>0</td>\n",
       "    </tr>\n",
       "    <tr>\n",
       "      <th>2</th>\n",
       "      <td>BMW</td>\n",
       "      <td>1 Series</td>\n",
       "      <td>2011</td>\n",
       "      <td>premium unleaded (required)</td>\n",
       "      <td>300.0</td>\n",
       "      <td>6.0</td>\n",
       "      <td>MANUAL</td>\n",
       "      <td>rear wheel drive</td>\n",
       "      <td>2.0</td>\n",
       "      <td>Luxury,High-Performance</td>\n",
       "      <td>1</td>\n",
       "      <td>Coupe</td>\n",
       "      <td>28</td>\n",
       "      <td>20</td>\n",
       "      <td>3916</td>\n",
       "      <td>10.500977</td>\n",
       "      <td>1</td>\n",
       "      <td>0</td>\n",
       "      <td>0</td>\n",
       "    </tr>\n",
       "  </tbody>\n",
       "</table>\n",
       "</div>"
      ],
      "text/plain": [
       "  make       model  year             engine fuel type  engine hp  \\\n",
       "0  BMW  1 Series M  2011  premium unleaded (required)      335.0   \n",
       "1  BMW    1 Series  2011  premium unleaded (required)      300.0   \n",
       "2  BMW    1 Series  2011  premium unleaded (required)      300.0   \n",
       "\n",
       "   engine cylinders transmission type     driven_wheels  number of doors  \\\n",
       "0               6.0            MANUAL  rear wheel drive              2.0   \n",
       "1               6.0            MANUAL  rear wheel drive              2.0   \n",
       "2               6.0            MANUAL  rear wheel drive              2.0   \n",
       "\n",
       "                         market category  vehicle size vehicle style  \\\n",
       "0  Factory Tuner,Luxury,High-Performance             1         Coupe   \n",
       "1                     Luxury,Performance             1   Convertible   \n",
       "2                Luxury,High-Performance             1         Coupe   \n",
       "\n",
       "   highway mpg  city mpg  popularity       msrp  doors_2  doors_3  doors_4  \n",
       "0           26        19        3916  10.739349        1        0        0  \n",
       "1           28        19        3916  10.612779        1        0        0  \n",
       "2           28        20        3916  10.500977        1        0        0  "
      ]
     },
     "execution_count": 197,
     "metadata": {},
     "output_type": "execute_result"
    }
   ],
   "source": [
    "cars.head(3)"
   ]
  },
  {
   "cell_type": "code",
   "execution_count": 198,
   "id": "57d1d88d-777d-43f4-a808-c1acd0205656",
   "metadata": {},
   "outputs": [],
   "source": [
    "del cars['doors_2']\n",
    "del cars['doors_3']\n",
    "del cars['doors_4']"
   ]
  },
  {
   "cell_type": "code",
   "execution_count": 546,
   "id": "2417e7af-2bbd-482e-a1b2-d838028a5518",
   "metadata": {},
   "outputs": [],
   "source": [
    "brands = list(cars.make.value_counts().head().index)"
   ]
  },
  {
   "cell_type": "code",
   "execution_count": 547,
   "id": "75afdabb-94da-4adc-89b6-6f0e2ce7b43a",
   "metadata": {},
   "outputs": [
    {
     "data": {
      "text/plain": [
       "['Chevrolet', 'Ford', 'Volkswagen', 'Toyota', 'Dodge']"
      ]
     },
     "execution_count": 547,
     "metadata": {},
     "output_type": "execute_result"
    }
   ],
   "source": [
    "brands"
   ]
  },
  {
   "cell_type": "code",
   "execution_count": 548,
   "id": "d69aa03a-96e7-45d7-b48a-a1bf157b7e0e",
   "metadata": {},
   "outputs": [
    {
     "data": {
      "text/plain": [
       "make                  object\n",
       "model                 object\n",
       "year                   int64\n",
       "engine fuel type      object\n",
       "engine hp            float64\n",
       "engine cylinders     float64\n",
       "transmission type     object\n",
       "driven_wheels         object\n",
       "number of doors      float64\n",
       "market category       object\n",
       "vehicle size           int64\n",
       "vehicle style         object\n",
       "highway mpg            int64\n",
       "city mpg               int64\n",
       "popularity             int64\n",
       "msrp                 float64\n",
       "dtype: object"
      ]
     },
     "execution_count": 548,
     "metadata": {},
     "output_type": "execute_result"
    }
   ],
   "source": [
    "cars.dtypes"
   ]
  },
  {
   "cell_type": "markdown",
   "id": "e5f3daa7-5675-4284-a3d8-2c55c6aa6b91",
   "metadata": {},
   "source": [
    "I want to have a list of the categorical variables to perform conversion on them the way I did with brands"
   ]
  },
  {
   "cell_type": "code",
   "execution_count": 559,
   "id": "73adab77-3178-4b10-b01c-ba3c630b6e24",
   "metadata": {},
   "outputs": [],
   "source": [
    "categorical_variables = [\n",
    "    'make', 'model', 'engine fuel type', 'driven_wheels',\n",
    "    'vehicle style', 'transmission type'\n",
    "]"
   ]
  },
  {
   "cell_type": "code",
   "execution_count": 560,
   "id": "fd46cea8-603e-49f3-bea2-22f88ef16897",
   "metadata": {},
   "outputs": [],
   "source": [
    "categories = {}\n",
    "\n",
    "for c in categorical_variables:\n",
    "    categories[c] = list(cars[c].value_counts().head().index)"
   ]
  },
  {
   "cell_type": "code",
   "execution_count": 561,
   "id": "5d616fd4-cba3-4c57-94cc-77b0bb063fd8",
   "metadata": {},
   "outputs": [
    {
     "data": {
      "text/plain": [
       "{'make': ['Chevrolet', 'Ford', 'Volkswagen', 'Toyota', 'Dodge'],\n",
       " 'model': ['Silverado 1500',\n",
       "  'Tundra',\n",
       "  'F-150',\n",
       "  'Sierra 1500',\n",
       "  'Beetle Convertible'],\n",
       " 'engine fuel type': ['regular unleaded',\n",
       "  'premium unleaded (required)',\n",
       "  'premium unleaded (recommended)',\n",
       "  'flex-fuel (unleaded/E85)',\n",
       "  'diesel'],\n",
       " 'driven_wheels': ['front wheel drive',\n",
       "  'rear wheel drive',\n",
       "  'all wheel drive',\n",
       "  'four wheel drive'],\n",
       " 'vehicle style': ['Sedan',\n",
       "  '4dr SUV',\n",
       "  'Coupe',\n",
       "  'Convertible',\n",
       "  '4dr Hatchback'],\n",
       " 'transmission type': ['AUTOMATIC',\n",
       "  'MANUAL',\n",
       "  'AUTOMATED_MANUAL',\n",
       "  'DIRECT_DRIVE',\n",
       "  'UNKNOWN']}"
      ]
     },
     "execution_count": 561,
     "metadata": {},
     "output_type": "execute_result"
    }
   ],
   "source": [
    "categories"
   ]
  },
  {
   "cell_type": "markdown",
   "id": "a6e4970d-a75b-4295-9f4c-90aebd748b51",
   "metadata": {},
   "source": [
    "### Using matplotlib"
   ]
  },
  {
   "cell_type": "code",
   "execution_count": 562,
   "id": "549b6d40-40f1-49a7-80e4-4805b46193ca",
   "metadata": {},
   "outputs": [],
   "source": [
    "import matplotlib.pyplot as plt\n",
    "import seaborn as sns\n",
    "\n",
    "%matplotlib inline"
   ]
  },
  {
   "cell_type": "code",
   "execution_count": 563,
   "id": "74e9523d-2d11-4ac3-9322-cc9210044aad",
   "metadata": {},
   "outputs": [
    {
     "data": {
      "image/png": "[encoded data removed]",
      "text/plain": [
       "<Figure size 640x480 with 1 Axes>"
      ]
     },
     "metadata": {},
     "output_type": "display_data"
    }
   ],
   "source": [
    "sns.histplot(cars.msrp, bins=50)\n",
    "plt.show()"
   ]
  },
  {
   "cell_type": "markdown",
   "id": "3f5ed84e-98cf-4c01-a298-d658d4def708",
   "metadata": {},
   "source": [
    "### Choosing Features and training data"
   ]
  },
  {
   "cell_type": "code",
   "execution_count": 564,
   "id": "6a07d9f9-046f-4d43-90e9-5b6c952a1195",
   "metadata": {},
   "outputs": [
    {
     "name": "stdout",
     "output_type": "stream",
     "text": [
      "<class 'pandas.core.frame.DataFrame'>\n",
      "RangeIndex: 5 entries, 0 to 4\n",
      "Data columns (total 16 columns):\n",
      " #   Column             Non-Null Count  Dtype  \n",
      "---  ------             --------------  -----  \n",
      " 0   make               5 non-null      object \n",
      " 1   model              5 non-null      object \n",
      " 2   year               5 non-null      int64  \n",
      " 3   engine fuel type   5 non-null      object \n",
      " 4   engine hp          5 non-null      float64\n",
      " 5   engine cylinders   5 non-null      float64\n",
      " 6   transmission type  5 non-null      object \n",
      " 7   driven_wheels      5 non-null      object \n",
      " 8   number of doors    5 non-null      float64\n",
      " 9   market category    5 non-null      object \n",
      " 10  vehicle size       5 non-null      int64  \n",
      " 11  vehicle style      5 non-null      object \n",
      " 12  highway mpg        5 non-null      int64  \n",
      " 13  city mpg           5 non-null      int64  \n",
      " 14  popularity         5 non-null      int64  \n",
      " 15  msrp               5 non-null      float64\n",
      "dtypes: float64(4), int64(5), object(7)\n",
      "memory usage: 772.0+ bytes\n"
     ]
    }
   ],
   "source": [
    "cars.head().info()"
   ]
  },
  {
   "cell_type": "code",
   "execution_count": 255,
   "id": "e8c3c620-ddaa-4516-9731-91b34693d331",
   "metadata": {},
   "outputs": [],
   "source": [
    "X = cars\n",
    "y = cars.msrp"
   ]
  },
  {
   "cell_type": "markdown",
   "id": "039afe2b-1fd8-4464-9ae8-1c7050a65e75",
   "metadata": {},
   "source": [
    "Confirming shapes..."
   ]
  },
  {
   "cell_type": "code",
   "execution_count": 257,
   "id": "73beed2b-f22e-4e60-ae3e-d0945b65bacd",
   "metadata": {},
   "outputs": [
    {
     "data": {
      "text/plain": [
       "(11914, 16)"
      ]
     },
     "execution_count": 257,
     "metadata": {},
     "output_type": "execute_result"
    }
   ],
   "source": [
    "cars.values.shape"
   ]
  },
  {
   "cell_type": "code",
   "execution_count": 258,
   "id": "443c40b3-1948-4a33-9f69-d7f073a659e1",
   "metadata": {},
   "outputs": [
    {
     "data": {
      "text/plain": [
       "(11914,)"
      ]
     },
     "execution_count": 258,
     "metadata": {},
     "output_type": "execute_result"
    }
   ],
   "source": [
    "y.shape"
   ]
  },
  {
   "cell_type": "markdown",
   "id": "30e18fea-d49e-4ec1-8c9e-b73f45c9e51e",
   "metadata": {},
   "source": [
    "### Splitting Data"
   ]
  },
  {
   "cell_type": "code",
   "execution_count": 637,
   "id": "7c92b730-68fa-4627-b743-763348c71048",
   "metadata": {},
   "outputs": [],
   "source": [
    "# split the data into 60% training and 40% temporary (validation + testing)\n",
    "train_X, tmp_X, train_y, tmp_y = train_test_split(X, y, test_size=0.4, random_state=1)\n",
    "\n",
    "# further split the temporary data into 20% validation and 20% testing\n",
    "val_X, test_X, val_y, test_y = train_test_split(tmp_X, tmp_y, test_size=0.5, random_state=1)"
   ]
  },
  {
   "cell_type": "markdown",
   "id": "fb64d91d-4ba7-4eaa-a40f-43775fdf8515",
   "metadata": {},
   "source": [
    "After lecture 2.4, I learned to drop irrelevant values like the indices before training the model.\\\n",
    "Shuffling was also recommended but train_test_split already does that."
   ]
  },
  {
   "cell_type": "code",
   "execution_count": 638,
   "id": "cb4cc371-a8c5-40dc-ad32-ab1c63ea59e5",
   "metadata": {},
   "outputs": [],
   "source": [
    "train_y = train_y.values\n",
    "val_y = val_y.values\n",
    "test_y = test_y.values"
   ]
  },
  {
   "cell_type": "markdown",
   "id": "5a523e24-fb94-4c0e-8916-3a4a5538e87f",
   "metadata": {},
   "source": [
    "### Training"
   ]
  },
  {
   "cell_type": "code",
   "execution_count": 639,
   "id": "7a6d5664-a681-4842-bb99-45366131a783",
   "metadata": {},
   "outputs": [],
   "source": [
    "# feature list\n",
    "base = [\n",
    "    'year', 'engine hp', 'engine cylinders', \n",
    "    'highway mpg', 'city mpg', 'vehicle size', \n",
    "    'popularity',\n",
    "]"
   ]
  },
  {
   "cell_type": "code",
   "execution_count": 640,
   "id": "7a9eed1f-2f56-42f7-b571-6924e5044fc4",
   "metadata": {},
   "outputs": [],
   "source": [
    "def prepare_X(df):\n",
    "    # work with the copies\n",
    "    df = df.copy()\n",
    "    features = base.copy()\n",
    "\n",
    "    # modify year as age\n",
    "    df['year'] = 2017 - df['year']\n",
    "\n",
    "    # number of doors \n",
    "    for v in [2, 3, 4]:\n",
    "        df['doors_%s' % v] = (df['number of doors'] == v).astype('int')\n",
    "        features.append('doors_%s' % v)\n",
    "\n",
    "    # categorical variables\n",
    "    for c, values in categories.items():\n",
    "        for v in values:\n",
    "            df[('%s_%s' % (c, v)).lower()] = (df[c] == v).astype('int')\n",
    "            features.append(('%s_%s' % (c, v)).lower())\n",
    "                             \n",
    "    # return as numpy array\n",
    "    XX = df[features].fillna(0)\n",
    "    return XX.values"
   ]
  },
  {
   "cell_type": "code",
   "execution_count": 641,
   "id": "19694345-4b2f-48aa-8bb8-3e705237bb0d",
   "metadata": {},
   "outputs": [],
   "source": [
    "X_train = prepare_X(train_X)"
   ]
  },
  {
   "cell_type": "code",
   "execution_count": 642,
   "id": "e27ef360-b2a0-400f-815f-0fb382ed8c97",
   "metadata": {},
   "outputs": [
    {
     "data": {
      "text/plain": [
       "array([[  1., 173.,   4., ...,   0.,   0.,   0.],\n",
       "       [  0.,  66.,   0., ...,   0.,   1.,   0.],\n",
       "       [  3., 450.,   8., ...,   1.,   0.,   0.],\n",
       "       ...,\n",
       "       [ 20., 150.,   4., ...,   0.,   0.,   0.],\n",
       "       [  8., 164.,   4., ...,   0.,   0.,   0.],\n",
       "       [ 14., 255.,   6., ...,   0.,   0.,   0.]])"
      ]
     },
     "execution_count": 642,
     "metadata": {},
     "output_type": "execute_result"
    }
   ],
   "source": [
    "X_train"
   ]
  },
  {
   "cell_type": "code",
   "execution_count": 700,
   "id": "0b446a1c-0def-4d00-a5b9-43f43fb42fe9",
   "metadata": {},
   "outputs": [
    {
     "data": {
      "text/html": [
       "<style>#sk-container-id-69 {\n",
       "  /* Definition of color scheme common for light and dark mode */\n",
       "  --sklearn-color-text: black;\n",
       "  --sklearn-color-line: gray;\n",
       "  /* Definition of color scheme for unfitted estimators */\n",
       "  --sklearn-color-unfitted-level-0: #fff5e6;\n",
       "  --sklearn-color-unfitted-level-1: #f6e4d2;\n",
       "  --sklearn-color-unfitted-level-2: #ffe0b3;\n",
       "  --sklearn-color-unfitted-level-3: chocolate;\n",
       "  /* Definition of color scheme for fitted estimators */\n",
       "  --sklearn-color-fitted-level-0: #f0f8ff;\n",
       "  --sklearn-color-fitted-level-1: #d4ebff;\n",
       "  --sklearn-color-fitted-level-2: #b3dbfd;\n",
       "  --sklearn-color-fitted-level-3: cornflowerblue;\n",
       "\n",
       "  /* Specific color for light theme */\n",
       "  --sklearn-color-text-on-default-background: var(--sg-text-color, var(--theme-code-foreground, var(--jp-content-font-color1, black)));\n",
       "  --sklearn-color-background: var(--sg-background-color, var(--theme-background, var(--jp-layout-color0, white)));\n",
       "  --sklearn-color-border-box: var(--sg-text-color, var(--theme-code-foreground, var(--jp-content-font-color1, black)));\n",
       "  --sklearn-color-icon: #696969;\n",
       "\n",
       "  @media (prefers-color-scheme: dark) {\n",
       "    /* Redefinition of color scheme for dark theme */\n",
       "    --sklearn-color-text-on-default-background: var(--sg-text-color, var(--theme-code-foreground, var(--jp-content-font-color1, white)));\n",
       "    --sklearn-color-background: var(--sg-background-color, var(--theme-background, var(--jp-layout-color0, #111)));\n",
       "    --sklearn-color-border-box: var(--sg-text-color, var(--theme-code-foreground, var(--jp-content-font-color1, white)));\n",
       "    --sklearn-color-icon: #878787;\n",
       "  }\n",
       "}\n",
       "\n",
       "#sk-container-id-69 {\n",
       "  color: var(--sklearn-color-text);\n",
       "}\n",
       "\n",
       "#sk-container-id-69 pre {\n",
       "  padding: 0;\n",
       "}\n",
       "\n",
       "#sk-container-id-69 input.sk-hidden--visually {\n",
       "  border: 0;\n",
       "  clip: rect(1px 1px 1px 1px);\n",
       "  clip: rect(1px, 1px, 1px, 1px);\n",
       "  height: 1px;\n",
       "  margin: -1px;\n",
       "  overflow: hidden;\n",
       "  padding: 0;\n",
       "  position: absolute;\n",
       "  width: 1px;\n",
       "}\n",
       "\n",
       "#sk-container-id-69 div.sk-dashed-wrapped {\n",
       "  border: 1px dashed var(--sklearn-color-line);\n",
       "  margin: 0 0.4em 0.5em 0.4em;\n",
       "  box-sizing: border-box;\n",
       "  padding-bottom: 0.4em;\n",
       "  background-color: var(--sklearn-color-background);\n",
       "}\n",
       "\n",
       "#sk-container-id-69 div.sk-container {\n",
       "  /* jupyter's `normalize.less` sets `[hidden] { display: none; }`\n",
       "     but bootstrap.min.css set `[hidden] { display: none !important; }`\n",
       "     so we also need the `!important` here to be able to override the\n",
       "     default hidden behavior on the sphinx rendered scikit-learn.org.\n",
       "     See: https://github.com/scikit-learn/scikit-learn/issues/21755 */\n",
       "  display: inline-block !important;\n",
       "  position: relative;\n",
       "}\n",
       "\n",
       "#sk-container-id-69 div.sk-text-repr-fallback {\n",
       "  display: none;\n",
       "}\n",
       "\n",
       "div.sk-parallel-item,\n",
       "div.sk-serial,\n",
       "div.sk-item {\n",
       "  /* draw centered vertical line to link estimators */\n",
       "  background-image: linear-gradient(var(--sklearn-color-text-on-default-background), var(--sklearn-color-text-on-default-background));\n",
       "  background-size: 2px 100%;\n",
       "  background-repeat: no-repeat;\n",
       "  background-position: center center;\n",
       "}\n",
       "\n",
       "/* Parallel-specific style estimator block */\n",
       "\n",
       "#sk-container-id-69 div.sk-parallel-item::after {\n",
       "  content: \"\";\n",
       "  width: 100%;\n",
       "  border-bottom: 2px solid var(--sklearn-color-text-on-default-background);\n",
       "  flex-grow: 1;\n",
       "}\n",
       "\n",
       "#sk-container-id-69 div.sk-parallel {\n",
       "  display: flex;\n",
       "  align-items: stretch;\n",
       "  justify-content: center;\n",
       "  background-color: var(--sklearn-color-background);\n",
       "  position: relative;\n",
       "}\n",
       "\n",
       "#sk-container-id-69 div.sk-parallel-item {\n",
       "  display: flex;\n",
       "  flex-direction: column;\n",
       "}\n",
       "\n",
       "#sk-container-id-69 div.sk-parallel-item:first-child::after {\n",
       "  align-self: flex-end;\n",
       "  width: 50%;\n",
       "}\n",
       "\n",
       "#sk-container-id-69 div.sk-parallel-item:last-child::after {\n",
       "  align-self: flex-start;\n",
       "  width: 50%;\n",
       "}\n",
       "\n",
       "#sk-container-id-69 div.sk-parallel-item:only-child::after {\n",
       "  width: 0;\n",
       "}\n",
       "\n",
       "/* Serial-specific style estimator block */\n",
       "\n",
       "#sk-container-id-69 div.sk-serial {\n",
       "  display: flex;\n",
       "  flex-direction: column;\n",
       "  align-items: center;\n",
       "  background-color: var(--sklearn-color-background);\n",
       "  padding-right: 1em;\n",
       "  padding-left: 1em;\n",
       "}\n",
       "\n",
       "\n",
       "/* Toggleable style: style used for estimator/Pipeline/ColumnTransformer box that is\n",
       "clickable and can be expanded/collapsed.\n",
       "- Pipeline and ColumnTransformer use this feature and define the default style\n",
       "- Estimators will overwrite some part of the style using the `sk-estimator` class\n",
       "*/\n",
       "\n",
       "/* Pipeline and ColumnTransformer style (default) */\n",
       "\n",
       "#sk-container-id-69 div.sk-toggleable {\n",
       "  /* Default theme specific background. It is overwritten whether we have a\n",
       "  specific estimator or a Pipeline/ColumnTransformer */\n",
       "  background-color: var(--sklearn-color-background);\n",
       "}\n",
       "\n",
       "/* Toggleable label */\n",
       "#sk-container-id-69 label.sk-toggleable__label {\n",
       "  cursor: pointer;\n",
       "  display: block;\n",
       "  width: 100%;\n",
       "  margin-bottom: 0;\n",
       "  padding: 0.5em;\n",
       "  box-sizing: border-box;\n",
       "  text-align: center;\n",
       "}\n",
       "\n",
       "#sk-container-id-69 label.sk-toggleable__label-arrow:before {\n",
       "  /* Arrow on the left of the label */\n",
       "  content: \"▸\";\n",
       "  float: left;\n",
       "  margin-right: 0.25em;\n",
       "  color: var(--sklearn-color-icon);\n",
       "}\n",
       "\n",
       "#sk-container-id-69 label.sk-toggleable__label-arrow:hover:before {\n",
       "  color: var(--sklearn-color-text);\n",
       "}\n",
       "\n",
       "/* Toggleable content - dropdown */\n",
       "\n",
       "#sk-container-id-69 div.sk-toggleable__content {\n",
       "  max-height: 0;\n",
       "  max-width: 0;\n",
       "  overflow: hidden;\n",
       "  text-align: left;\n",
       "  /* unfitted */\n",
       "  background-color: var(--sklearn-color-unfitted-level-0);\n",
       "}\n",
       "\n",
       "#sk-container-id-69 div.sk-toggleable__content.fitted {\n",
       "  /* fitted */\n",
       "  background-color: var(--sklearn-color-fitted-level-0);\n",
       "}\n",
       "\n",
       "#sk-container-id-69 div.sk-toggleable__content pre {\n",
       "  margin: 0.2em;\n",
       "  border-radius: 0.25em;\n",
       "  color: var(--sklearn-color-text);\n",
       "  /* unfitted */\n",
       "  background-color: var(--sklearn-color-unfitted-level-0);\n",
       "}\n",
       "\n",
       "#sk-container-id-69 div.sk-toggleable__content.fitted pre {\n",
       "  /* unfitted */\n",
       "  background-color: var(--sklearn-color-fitted-level-0);\n",
       "}\n",
       "\n",
       "#sk-container-id-69 input.sk-toggleable__control:checked~div.sk-toggleable__content {\n",
       "  /* Expand drop-down */\n",
       "  max-height: 200px;\n",
       "  max-width: 100%;\n",
       "  overflow: auto;\n",
       "}\n",
       "\n",
       "#sk-container-id-69 input.sk-toggleable__control:checked~label.sk-toggleable__label-arrow:before {\n",
       "  content: \"▾\";\n",
       "}\n",
       "\n",
       "/* Pipeline/ColumnTransformer-specific style */\n",
       "\n",
       "#sk-container-id-69 div.sk-label input.sk-toggleable__control:checked~label.sk-toggleable__label {\n",
       "  color: var(--sklearn-color-text);\n",
       "  background-color: var(--sklearn-color-unfitted-level-2);\n",
       "}\n",
       "\n",
       "#sk-container-id-69 div.sk-label.fitted input.sk-toggleable__control:checked~label.sk-toggleable__label {\n",
       "  background-color: var(--sklearn-color-fitted-level-2);\n",
       "}\n",
       "\n",
       "/* Estimator-specific style */\n",
       "\n",
       "/* Colorize estimator box */\n",
       "#sk-container-id-69 div.sk-estimator input.sk-toggleable__control:checked~label.sk-toggleable__label {\n",
       "  /* unfitted */\n",
       "  background-color: var(--sklearn-color-unfitted-level-2);\n",
       "}\n",
       "\n",
       "#sk-container-id-69 div.sk-estimator.fitted input.sk-toggleable__control:checked~label.sk-toggleable__label {\n",
       "  /* fitted */\n",
       "  background-color: var(--sklearn-color-fitted-level-2);\n",
       "}\n",
       "\n",
       "#sk-container-id-69 div.sk-label label.sk-toggleable__label,\n",
       "#sk-container-id-69 div.sk-label label {\n",
       "  /* The background is the default theme color */\n",
       "  color: var(--sklearn-color-text-on-default-background);\n",
       "}\n",
       "\n",
       "/* On hover, darken the color of the background */\n",
       "#sk-container-id-69 div.sk-label:hover label.sk-toggleable__label {\n",
       "  color: var(--sklearn-color-text);\n",
       "  background-color: var(--sklearn-color-unfitted-level-2);\n",
       "}\n",
       "\n",
       "/* Label box, darken color on hover, fitted */\n",
       "#sk-container-id-69 div.sk-label.fitted:hover label.sk-toggleable__label.fitted {\n",
       "  color: var(--sklearn-color-text);\n",
       "  background-color: var(--sklearn-color-fitted-level-2);\n",
       "}\n",
       "\n",
       "/* Estimator label */\n",
       "\n",
       "#sk-container-id-69 div.sk-label label {\n",
       "  font-family: monospace;\n",
       "  font-weight: bold;\n",
       "  display: inline-block;\n",
       "  line-height: 1.2em;\n",
       "}\n",
       "\n",
       "#sk-container-id-69 div.sk-label-container {\n",
       "  text-align: center;\n",
       "}\n",
       "\n",
       "/* Estimator-specific */\n",
       "#sk-container-id-69 div.sk-estimator {\n",
       "  font-family: monospace;\n",
       "  border: 1px dotted var(--sklearn-color-border-box);\n",
       "  border-radius: 0.25em;\n",
       "  box-sizing: border-box;\n",
       "  margin-bottom: 0.5em;\n",
       "  /* unfitted */\n",
       "  background-color: var(--sklearn-color-unfitted-level-0);\n",
       "}\n",
       "\n",
       "#sk-container-id-69 div.sk-estimator.fitted {\n",
       "  /* fitted */\n",
       "  background-color: var(--sklearn-color-fitted-level-0);\n",
       "}\n",
       "\n",
       "/* on hover */\n",
       "#sk-container-id-69 div.sk-estimator:hover {\n",
       "  /* unfitted */\n",
       "  background-color: var(--sklearn-color-unfitted-level-2);\n",
       "}\n",
       "\n",
       "#sk-container-id-69 div.sk-estimator.fitted:hover {\n",
       "  /* fitted */\n",
       "  background-color: var(--sklearn-color-fitted-level-2);\n",
       "}\n",
       "\n",
       "/* Specification for estimator info (e.g. \"i\" and \"?\") */\n",
       "\n",
       "/* Common style for \"i\" and \"?\" */\n",
       "\n",
       ".sk-estimator-doc-link,\n",
       "a:link.sk-estimator-doc-link,\n",
       "a:visited.sk-estimator-doc-link {\n",
       "  float: right;\n",
       "  font-size: smaller;\n",
       "  line-height: 1em;\n",
       "  font-family: monospace;\n",
       "  background-color: var(--sklearn-color-background);\n",
       "  border-radius: 1em;\n",
       "  height: 1em;\n",
       "  width: 1em;\n",
       "  text-decoration: none !important;\n",
       "  margin-left: 1ex;\n",
       "  /* unfitted */\n",
       "  border: var(--sklearn-color-unfitted-level-1) 1pt solid;\n",
       "  color: var(--sklearn-color-unfitted-level-1);\n",
       "}\n",
       "\n",
       ".sk-estimator-doc-link.fitted,\n",
       "a:link.sk-estimator-doc-link.fitted,\n",
       "a:visited.sk-estimator-doc-link.fitted {\n",
       "  /* fitted */\n",
       "  border: var(--sklearn-color-fitted-level-1) 1pt solid;\n",
       "  color: var(--sklearn-color-fitted-level-1);\n",
       "}\n",
       "\n",
       "/* On hover */\n",
       "div.sk-estimator:hover .sk-estimator-doc-link:hover,\n",
       ".sk-estimator-doc-link:hover,\n",
       "div.sk-label-container:hover .sk-estimator-doc-link:hover,\n",
       ".sk-estimator-doc-link:hover {\n",
       "  /* unfitted */\n",
       "  background-color: var(--sklearn-color-unfitted-level-3);\n",
       "  color: var(--sklearn-color-background);\n",
       "  text-decoration: none;\n",
       "}\n",
       "\n",
       "div.sk-estimator.fitted:hover .sk-estimator-doc-link.fitted:hover,\n",
       ".sk-estimator-doc-link.fitted:hover,\n",
       "div.sk-label-container:hover .sk-estimator-doc-link.fitted:hover,\n",
       ".sk-estimator-doc-link.fitted:hover {\n",
       "  /* fitted */\n",
       "  background-color: var(--sklearn-color-fitted-level-3);\n",
       "  color: var(--sklearn-color-background);\n",
       "  text-decoration: none;\n",
       "}\n",
       "\n",
       "/* Span, style for the box shown on hovering the info icon */\n",
       ".sk-estimator-doc-link span {\n",
       "  display: none;\n",
       "  z-index: 9999;\n",
       "  position: relative;\n",
       "  font-weight: normal;\n",
       "  right: .2ex;\n",
       "  padding: .5ex;\n",
       "  margin: .5ex;\n",
       "  width: min-content;\n",
       "  min-width: 20ex;\n",
       "  max-width: 50ex;\n",
       "  color: var(--sklearn-color-text);\n",
       "  box-shadow: 2pt 2pt 4pt #999;\n",
       "  /* unfitted */\n",
       "  background: var(--sklearn-color-unfitted-level-0);\n",
       "  border: .5pt solid var(--sklearn-color-unfitted-level-3);\n",
       "}\n",
       "\n",
       ".sk-estimator-doc-link.fitted span {\n",
       "  /* fitted */\n",
       "  background: var(--sklearn-color-fitted-level-0);\n",
       "  border: var(--sklearn-color-fitted-level-3);\n",
       "}\n",
       "\n",
       ".sk-estimator-doc-link:hover span {\n",
       "  display: block;\n",
       "}\n",
       "\n",
       "/* \"?\"-specific style due to the `<a>` HTML tag */\n",
       "\n",
       "#sk-container-id-69 a.estimator_doc_link {\n",
       "  float: right;\n",
       "  font-size: 1rem;\n",
       "  line-height: 1em;\n",
       "  font-family: monospace;\n",
       "  background-color: var(--sklearn-color-background);\n",
       "  border-radius: 1rem;\n",
       "  height: 1rem;\n",
       "  width: 1rem;\n",
       "  text-decoration: none;\n",
       "  /* unfitted */\n",
       "  color: var(--sklearn-color-unfitted-level-1);\n",
       "  border: var(--sklearn-color-unfitted-level-1) 1pt solid;\n",
       "}\n",
       "\n",
       "#sk-container-id-69 a.estimator_doc_link.fitted {\n",
       "  /* fitted */\n",
       "  border: var(--sklearn-color-fitted-level-1) 1pt solid;\n",
       "  color: var(--sklearn-color-fitted-level-1);\n",
       "}\n",
       "\n",
       "/* On hover */\n",
       "#sk-container-id-69 a.estimator_doc_link:hover {\n",
       "  /* unfitted */\n",
       "  background-color: var(--sklearn-color-unfitted-level-3);\n",
       "  color: var(--sklearn-color-background);\n",
       "  text-decoration: none;\n",
       "}\n",
       "\n",
       "#sk-container-id-69 a.estimator_doc_link.fitted:hover {\n",
       "  /* fitted */\n",
       "  background-color: var(--sklearn-color-fitted-level-3);\n",
       "}\n",
       "</style><div id=\"sk-container-id-69\" class=\"sk-top-container\"><div class=\"sk-text-repr-fallback\"><pre>RandomForestRegressor(random_state=1)</pre><b>In a Jupyter environment, please rerun this cell to show the HTML representation or trust the notebook. <br />On GitHub, the HTML representation is unable to render, please try loading this page with nbviewer.org.</b></div><div class=\"sk-container\" hidden><div class=\"sk-item\"><div class=\"sk-estimator fitted sk-toggleable\"><input class=\"sk-toggleable__control sk-hidden--visually\" id=\"sk-estimator-id-69\" type=\"checkbox\" checked><label for=\"sk-estimator-id-69\" class=\"sk-toggleable__label fitted sk-toggleable__label-arrow fitted\">&nbsp;&nbsp;RandomForestRegressor<a class=\"sk-estimator-doc-link fitted\" rel=\"noreferrer\" target=\"_blank\" href=\"https://scikit-learn.org/1.5/modules/generated/sklearn.ensemble.RandomForestRegressor.html\">?<span>Documentation for RandomForestRegressor</span></a><span class=\"sk-estimator-doc-link fitted\">i<span>Fitted</span></span></label><div class=\"sk-toggleable__content fitted\"><pre>RandomForestRegressor(random_state=1)</pre></div> </div></div></div></div>"
      ],
      "text/plain": [
       "RandomForestRegressor(random_state=1)"
      ]
     },
     "execution_count": 700,
     "metadata": {},
     "output_type": "execute_result"
    }
   ],
   "source": [
    "rf_model = RandomForestRegressor(random_state=1)\n",
    "rf_model.fit(X_train, train_y)"
   ]
  },
  {
   "cell_type": "code",
   "execution_count": 701,
   "id": "91997e35-9604-405c-85b5-3c4ff3c6839d",
   "metadata": {},
   "outputs": [],
   "source": [
    "### test accuracy using validation data\n",
    "# prepare validation X\n",
    "val = prepare_X(val_X)\n",
    "rf_val_predictions = rf_model.predict(val)\n",
    "# convert log transformed predictions\n",
    "# dont forget to subtract 1 because we added 1 with log operations earlier.\n",
    "rf_val =  np.expm1(rf_val_predictions)\n",
    "# comparison\n",
    "rf_val_mae = mean_absolute_error(rf_val, np.expm1(val_y))"
   ]
  },
  {
   "cell_type": "code",
   "execution_count": 702,
   "id": "9439a3d5-477a-49a5-99ab-ff88498777ce",
   "metadata": {},
   "outputs": [
    {
     "name": "stdout",
     "output_type": "stream",
     "text": [
      "3764.682364283295\n"
     ]
    }
   ],
   "source": [
    "print(rf_val_mae)"
   ]
  },
  {
   "cell_type": "code",
   "execution_count": 703,
   "id": "397cce37-1f86-4a83-90be-d72df25d41e0",
   "metadata": {},
   "outputs": [
    {
     "data": {
      "image/png": "[encoded data removed]",
      "text/plain": [
       "<Figure size 640x480 with 1 Axes>"
      ]
     },
     "metadata": {},
     "output_type": "display_data"
    }
   ],
   "source": [
    "sns.histplot(rf_val_predictions, bins=50, color='red', alpha=0.5)\n",
    "sns.histplot(val_y, bins=50, color='blue', alpha=0.5)\n",
    "plt.show()"
   ]
  },
  {
   "cell_type": "markdown",
   "id": "f7762800-4fcc-4931-b488-663bb620785b",
   "metadata": {},
   "source": [
    "I just learned about **Root Mean Squared Error** - another way to assess the model's accuracy!\n",
    "I'll be using it for "
   ]
  },
  {
   "cell_type": "code",
   "execution_count": 704,
   "id": "6d8fba53-8fe8-491f-b267-1ec8ede51bfe",
   "metadata": {},
   "outputs": [],
   "source": [
    "def rmse(prediction, target):\n",
    "    squared_error = np.square(prediction - target)\n",
    "    mean_squared_error = np.mean(squared_error)\n",
    "    return np.sqrt(mean_squared_error)"
   ]
  },
  {
   "cell_type": "code",
   "execution_count": 705,
   "id": "a6965575-2f27-4da4-aeb9-7f3e7a9e1271",
   "metadata": {},
   "outputs": [
    {
     "data": {
      "text/plain": [
       "0.1128"
      ]
     },
     "execution_count": 705,
     "metadata": {},
     "output_type": "execute_result"
    }
   ],
   "source": [
    "rmse(rf_val_predictions, val_y).round(4)"
   ]
  },
  {
   "cell_type": "code",
   "execution_count": null,
   "id": "5c8635c8-09ea-4b19-838e-100b6fcf567f",
   "metadata": {},
   "outputs": [],
   "source": []
  }
 ],
 "metadata": {
  "kernelspec": {
   "display_name": "Python 3 (ipykernel)",
   "language": "python",
   "name": "python3"
  },
  "language_info": {
   "codemirror_mode": {
    "name": "ipython",
    "version": 3
   },
   "file_extension": ".py",
   "mimetype": "text/x-python",
   "name": "python",
   "nbconvert_exporter": "python",
   "pygments_lexer": "ipython3",
   "version": "3.11.9"
  }
 },
 "nbformat": 4,
 "nbformat_minor": 5
}
