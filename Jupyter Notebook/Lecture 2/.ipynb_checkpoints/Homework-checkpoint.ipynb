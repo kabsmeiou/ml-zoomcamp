{
 "cells": [
  {
   "cell_type": "markdown",
   "id": "a8b0f556-1b97-4108-9b80-4b9adaa1dd56",
   "metadata": {},
   "source": [
    "# Machine Learning Zoomcamp - Homework 2"
   ]
  },
  {
   "cell_type": "markdown",
   "id": "d36a3860-32a7-4003-88ed-663f50e63820",
   "metadata": {},
   "source": [
    "### Notebook by: Christian Vincent D. Cabral"
   ]
  },
  {
   "cell_type": "markdown",
   "id": "175b9ea2-cac9-4f99-860e-8e877483b59e",
   "metadata": {},
   "source": [
    "```\n",
    "Create a regression model for predicting the Final Price of the *laptops* dataset.\n",
    "```"
   ]
  },
  {
   "cell_type": "code",
   "execution_count": 392,
   "id": "62b0a06c-be78-411b-92f8-ed12f7f21406",
   "metadata": {},
   "outputs": [],
   "source": [
    "import pandas as pd\n",
    "import numpy as np\n",
    "\n",
    "import matplotlib.pyplot as plt\n",
    "import seaborn as sns\n",
    "%matplotlib inline"
   ]
  },
  {
   "cell_type": "code",
   "execution_count": 393,
   "id": "280d8ef4-912f-40be-bca9-ce4914fbc546",
   "metadata": {},
   "outputs": [],
   "source": [
    "df = pd.read_csv(\"../../Datasets/laptops/laptops.csv\")"
   ]
  },
  {
   "cell_type": "code",
   "execution_count": 394,
   "id": "88b1b5dd-0f7f-44c2-a432-f91cc7762d9b",
   "metadata": {},
   "outputs": [
    {
     "data": {
      "text/html": [
       "<div>\n",
       "<style scoped>\n",
       "    .dataframe tbody tr th:only-of-type {\n",
       "        vertical-align: middle;\n",
       "    }\n",
       "\n",
       "    .dataframe tbody tr th {\n",
       "        vertical-align: top;\n",
       "    }\n",
       "\n",
       "    .dataframe thead th {\n",
       "        text-align: right;\n",
       "    }\n",
       "</style>\n",
       "<table border=\"1\" class=\"dataframe\">\n",
       "  <thead>\n",
       "    <tr style=\"text-align: right;\">\n",
       "      <th></th>\n",
       "      <th>Laptop</th>\n",
       "      <th>Status</th>\n",
       "      <th>Brand</th>\n",
       "      <th>Model</th>\n",
       "      <th>CPU</th>\n",
       "      <th>RAM</th>\n",
       "      <th>Storage</th>\n",
       "      <th>Storage type</th>\n",
       "      <th>GPU</th>\n",
       "      <th>Screen</th>\n",
       "      <th>Touch</th>\n",
       "      <th>Final Price</th>\n",
       "    </tr>\n",
       "  </thead>\n",
       "  <tbody>\n",
       "    <tr>\n",
       "      <th>0</th>\n",
       "      <td>ASUS ExpertBook B1 B1502CBA-EJ0436X Intel Core...</td>\n",
       "      <td>New</td>\n",
       "      <td>Asus</td>\n",
       "      <td>ExpertBook</td>\n",
       "      <td>Intel Core i5</td>\n",
       "      <td>8</td>\n",
       "      <td>512</td>\n",
       "      <td>SSD</td>\n",
       "      <td>NaN</td>\n",
       "      <td>15.6</td>\n",
       "      <td>No</td>\n",
       "      <td>1009.00</td>\n",
       "    </tr>\n",
       "    <tr>\n",
       "      <th>1</th>\n",
       "      <td>Alurin Go Start Intel Celeron N4020/8GB/256GB ...</td>\n",
       "      <td>New</td>\n",
       "      <td>Alurin</td>\n",
       "      <td>Go</td>\n",
       "      <td>Intel Celeron</td>\n",
       "      <td>8</td>\n",
       "      <td>256</td>\n",
       "      <td>SSD</td>\n",
       "      <td>NaN</td>\n",
       "      <td>15.6</td>\n",
       "      <td>No</td>\n",
       "      <td>299.00</td>\n",
       "    </tr>\n",
       "    <tr>\n",
       "      <th>2</th>\n",
       "      <td>ASUS ExpertBook B1 B1502CBA-EJ0424X Intel Core...</td>\n",
       "      <td>New</td>\n",
       "      <td>Asus</td>\n",
       "      <td>ExpertBook</td>\n",
       "      <td>Intel Core i3</td>\n",
       "      <td>8</td>\n",
       "      <td>256</td>\n",
       "      <td>SSD</td>\n",
       "      <td>NaN</td>\n",
       "      <td>15.6</td>\n",
       "      <td>No</td>\n",
       "      <td>789.00</td>\n",
       "    </tr>\n",
       "    <tr>\n",
       "      <th>3</th>\n",
       "      <td>MSI Katana GF66 12UC-082XES Intel Core i7-1270...</td>\n",
       "      <td>New</td>\n",
       "      <td>MSI</td>\n",
       "      <td>Katana</td>\n",
       "      <td>Intel Core i7</td>\n",
       "      <td>16</td>\n",
       "      <td>1000</td>\n",
       "      <td>SSD</td>\n",
       "      <td>RTX 3050</td>\n",
       "      <td>15.6</td>\n",
       "      <td>No</td>\n",
       "      <td>1199.00</td>\n",
       "    </tr>\n",
       "    <tr>\n",
       "      <th>4</th>\n",
       "      <td>HP 15S-FQ5085NS Intel Core i5-1235U/16GB/512GB...</td>\n",
       "      <td>New</td>\n",
       "      <td>HP</td>\n",
       "      <td>15S</td>\n",
       "      <td>Intel Core i5</td>\n",
       "      <td>16</td>\n",
       "      <td>512</td>\n",
       "      <td>SSD</td>\n",
       "      <td>NaN</td>\n",
       "      <td>15.6</td>\n",
       "      <td>No</td>\n",
       "      <td>669.01</td>\n",
       "    </tr>\n",
       "  </tbody>\n",
       "</table>\n",
       "</div>"
      ],
      "text/plain": [
       "                                              Laptop Status   Brand  \\\n",
       "0  ASUS ExpertBook B1 B1502CBA-EJ0436X Intel Core...    New    Asus   \n",
       "1  Alurin Go Start Intel Celeron N4020/8GB/256GB ...    New  Alurin   \n",
       "2  ASUS ExpertBook B1 B1502CBA-EJ0424X Intel Core...    New    Asus   \n",
       "3  MSI Katana GF66 12UC-082XES Intel Core i7-1270...    New     MSI   \n",
       "4  HP 15S-FQ5085NS Intel Core i5-1235U/16GB/512GB...    New      HP   \n",
       "\n",
       "        Model            CPU  RAM  Storage Storage type       GPU  Screen  \\\n",
       "0  ExpertBook  Intel Core i5    8      512          SSD       NaN    15.6   \n",
       "1          Go  Intel Celeron    8      256          SSD       NaN    15.6   \n",
       "2  ExpertBook  Intel Core i3    8      256          SSD       NaN    15.6   \n",
       "3      Katana  Intel Core i7   16     1000          SSD  RTX 3050    15.6   \n",
       "4         15S  Intel Core i5   16      512          SSD       NaN    15.6   \n",
       "\n",
       "  Touch  Final Price  \n",
       "0    No      1009.00  \n",
       "1    No       299.00  \n",
       "2    No       789.00  \n",
       "3    No      1199.00  \n",
       "4    No       669.01  "
      ]
     },
     "execution_count": 394,
     "metadata": {},
     "output_type": "execute_result"
    }
   ],
   "source": [
    "df.head()"
   ]
  },
  {
   "cell_type": "markdown",
   "id": "5a337c30-c481-4703-a271-0a71bcf1c2e9",
   "metadata": {},
   "source": [
    "### Normalization"
   ]
  },
  {
   "cell_type": "code",
   "execution_count": 395,
   "id": "dca10c2f-16af-4819-bd0c-4c77dd46fbbd",
   "metadata": {},
   "outputs": [],
   "source": [
    "# convert column names to lower case\n",
    "# and replace whitespaces(' ') with underscores('_')\n",
    "df.columns = df.columns.str.lower().str.replace(' ', '_')"
   ]
  },
  {
   "cell_type": "markdown",
   "id": "54289565-3a17-4003-a42e-bc41e244a4d8",
   "metadata": {},
   "source": [
    "### Features"
   ]
  },
  {
   "cell_type": "code",
   "execution_count": 396,
   "id": "c39dfb87-3095-4598-a621-cb154ead4628",
   "metadata": {},
   "outputs": [],
   "source": [
    "# use only ram, storage, screen, and final_price\n",
    "features = ['ram', 'storage', 'screen', 'final_price']\n",
    "X = df[features]\n",
    "y = df['final_price'].values"
   ]
  },
  {
   "cell_type": "code",
   "execution_count": 397,
   "id": "66f769d2-af88-43c2-b44d-087cc3d657ad",
   "metadata": {},
   "outputs": [
    {
     "data": {
      "text/plain": [
       "29"
      ]
     },
     "execution_count": 397,
     "metadata": {},
     "output_type": "execute_result"
    }
   ],
   "source": [
    "X['screen'].nunique()"
   ]
  },
  {
   "cell_type": "markdown",
   "id": "1280e1c7-8b9a-4685-a472-516c97eae20c",
   "metadata": {},
   "source": [
    "### Exploratory Data Analysis"
   ]
  },
  {
   "cell_type": "markdown",
   "id": "bd2f64fa-d4dc-4b36-b57a-e448a2982ed8",
   "metadata": {},
   "source": [
    "### Question 2\n",
    "```\n",
    "What's the median (50% percentile) for variable 'ram'?\n",
    "```"
   ]
  },
  {
   "cell_type": "code",
   "execution_count": 398,
   "id": "5eb36575-a21c-48f5-adb8-39be8487b9ee",
   "metadata": {},
   "outputs": [
    {
     "data": {
      "text/html": [
       "<div>\n",
       "<style scoped>\n",
       "    .dataframe tbody tr th:only-of-type {\n",
       "        vertical-align: middle;\n",
       "    }\n",
       "\n",
       "    .dataframe tbody tr th {\n",
       "        vertical-align: top;\n",
       "    }\n",
       "\n",
       "    .dataframe thead th {\n",
       "        text-align: right;\n",
       "    }\n",
       "</style>\n",
       "<table border=\"1\" class=\"dataframe\">\n",
       "  <thead>\n",
       "    <tr style=\"text-align: right;\">\n",
       "      <th></th>\n",
       "      <th>ram</th>\n",
       "      <th>storage</th>\n",
       "      <th>screen</th>\n",
       "      <th>final_price</th>\n",
       "    </tr>\n",
       "  </thead>\n",
       "  <tbody>\n",
       "    <tr>\n",
       "      <th>count</th>\n",
       "      <td>2160.000000</td>\n",
       "      <td>2160.000000</td>\n",
       "      <td>2156.000000</td>\n",
       "      <td>2160.000000</td>\n",
       "    </tr>\n",
       "    <tr>\n",
       "      <th>mean</th>\n",
       "      <td>15.413889</td>\n",
       "      <td>596.294444</td>\n",
       "      <td>15.168112</td>\n",
       "      <td>1312.638509</td>\n",
       "    </tr>\n",
       "    <tr>\n",
       "      <th>std</th>\n",
       "      <td>9.867815</td>\n",
       "      <td>361.220506</td>\n",
       "      <td>1.203329</td>\n",
       "      <td>911.475417</td>\n",
       "    </tr>\n",
       "    <tr>\n",
       "      <th>min</th>\n",
       "      <td>4.000000</td>\n",
       "      <td>0.000000</td>\n",
       "      <td>10.100000</td>\n",
       "      <td>201.050000</td>\n",
       "    </tr>\n",
       "    <tr>\n",
       "      <th>25%</th>\n",
       "      <td>8.000000</td>\n",
       "      <td>256.000000</td>\n",
       "      <td>14.000000</td>\n",
       "      <td>661.082500</td>\n",
       "    </tr>\n",
       "    <tr>\n",
       "      <th>50%</th>\n",
       "      <td>16.000000</td>\n",
       "      <td>512.000000</td>\n",
       "      <td>15.600000</td>\n",
       "      <td>1031.945000</td>\n",
       "    </tr>\n",
       "    <tr>\n",
       "      <th>75%</th>\n",
       "      <td>16.000000</td>\n",
       "      <td>1000.000000</td>\n",
       "      <td>15.600000</td>\n",
       "      <td>1708.970000</td>\n",
       "    </tr>\n",
       "    <tr>\n",
       "      <th>max</th>\n",
       "      <td>128.000000</td>\n",
       "      <td>4000.000000</td>\n",
       "      <td>18.000000</td>\n",
       "      <td>7150.470000</td>\n",
       "    </tr>\n",
       "  </tbody>\n",
       "</table>\n",
       "</div>"
      ],
      "text/plain": [
       "               ram      storage       screen  final_price\n",
       "count  2160.000000  2160.000000  2156.000000  2160.000000\n",
       "mean     15.413889   596.294444    15.168112  1312.638509\n",
       "std       9.867815   361.220506     1.203329   911.475417\n",
       "min       4.000000     0.000000    10.100000   201.050000\n",
       "25%       8.000000   256.000000    14.000000   661.082500\n",
       "50%      16.000000   512.000000    15.600000  1031.945000\n",
       "75%      16.000000  1000.000000    15.600000  1708.970000\n",
       "max     128.000000  4000.000000    18.000000  7150.470000"
      ]
     },
     "execution_count": 398,
     "metadata": {},
     "output_type": "execute_result"
    }
   ],
   "source": [
    "X.describe()"
   ]
  },
  {
   "cell_type": "code",
   "execution_count": 399,
   "id": "ac25a88e-7f16-4e1b-a5ea-d07cc0772738",
   "metadata": {},
   "outputs": [
    {
     "data": {
      "image/png": "[encoded data removed]",
      "text/plain": [
       "<Figure size 640x480 with 1 Axes>"
      ]
     },
     "metadata": {},
     "output_type": "display_data"
    }
   ],
   "source": [
    "sns.histplot(y, bins=50)\n",
    "plt.show()"
   ]
  },
  {
   "cell_type": "code",
   "execution_count": 400,
   "id": "f73f15f7-8eac-4890-964c-00c11b2e1ec1",
   "metadata": {},
   "outputs": [],
   "source": [
    "# y = np.log1p(y)"
   ]
  },
  {
   "cell_type": "code",
   "execution_count": 401,
   "id": "f8974843-b6ea-4e5d-9345-6071abced4df",
   "metadata": {},
   "outputs": [],
   "source": [
    "# sns.histplot(y, bins=50)\n",
    "# plt.show()"
   ]
  },
  {
   "cell_type": "code",
   "execution_count": 402,
   "id": "9975a11c-a32f-4e3d-9d96-8e37168e7c7b",
   "metadata": {},
   "outputs": [
    {
     "data": {
      "text/plain": [
       "ram              int64\n",
       "storage          int64\n",
       "screen         float64\n",
       "final_price    float64\n",
       "dtype: object"
      ]
     },
     "execution_count": 402,
     "metadata": {},
     "output_type": "execute_result"
    }
   ],
   "source": [
    "X.dtypes"
   ]
  },
  {
   "cell_type": "markdown",
   "id": "45fcc61c-5eb5-4d42-bad3-ceb0dfb4da6d",
   "metadata": {},
   "source": [
    "### Question 1\n",
    "```\n",
    "There's one column with missing values. What is it?\n",
    "```"
   ]
  },
  {
   "cell_type": "code",
   "execution_count": 403,
   "id": "9dee93fc-8dd5-4324-9671-182c571679c7",
   "metadata": {},
   "outputs": [
    {
     "data": {
      "text/plain": [
       "ram            0\n",
       "storage        0\n",
       "screen         4\n",
       "final_price    0\n",
       "dtype: int64"
      ]
     },
     "execution_count": 403,
     "metadata": {},
     "output_type": "execute_result"
    }
   ],
   "source": [
    "X.isnull().sum()"
   ]
  },
  {
   "cell_type": "markdown",
   "id": "038bd81f-c166-47ff-87a3-eb3573c38207",
   "metadata": {},
   "source": [
    "### Splitting the dataset"
   ]
  },
  {
   "cell_type": "code",
   "execution_count": 404,
   "id": "f90deb46-3834-42b6-831b-6691e2c09740",
   "metadata": {},
   "outputs": [
    {
     "data": {
      "text/plain": [
       "(1296, 432, 432)"
      ]
     },
     "execution_count": 404,
     "metadata": {},
     "output_type": "execute_result"
    }
   ],
   "source": [
    "n = len(df)\n",
    "# 60, 20, 20 allocation \n",
    "validation_size = int(n * 0.2)\n",
    "test_size = validation_size # same size as validation set\n",
    "train_size = n - validation_size - test_size\n",
    "assert n == train_size + test_size + validation_size\n",
    "train_size, test_size, validation_size"
   ]
  },
  {
   "cell_type": "code",
   "execution_count": 405,
   "id": "5350e7da-d92d-4988-b2e4-5a1ca7d19f4b",
   "metadata": {},
   "outputs": [],
   "source": [
    "indices = np.arange(n)\n",
    "# shuffle indices after setting a seed to make it reproducible\n",
    "np.random.seed(42)\n",
    "shuffled_indices = np.random.shuffle(indices)"
   ]
  },
  {
   "cell_type": "code",
   "execution_count": 406,
   "id": "070c040a-e99f-4b90-9499-13f7e3306297",
   "metadata": {},
   "outputs": [],
   "source": [
    "train_X = X.iloc[indices[:train_size]]\n",
    "val_X = X.iloc[indices[train_size: train_size + validation_size]]\n",
    "test_X = X.iloc[indices[train_size + validation_size: n]]\n",
    "assert len(train_X) + len(val_X) + len(test_X) == n"
   ]
  },
  {
   "cell_type": "code",
   "execution_count": 407,
   "id": "610fd213-3d30-4c7b-8de3-76dcd9aeaf50",
   "metadata": {},
   "outputs": [],
   "source": [
    "train_y = train_X['final_price'].values\n",
    "val_y = val_X['final_price'].values\n",
    "test_y = test_X['final_price'].values"
   ]
  },
  {
   "cell_type": "code",
   "execution_count": 408,
   "id": "4fc24d15-94de-44d3-ae68-c9153746cd34",
   "metadata": {},
   "outputs": [
    {
     "data": {
      "text/html": [
       "<div>\n",
       "<style scoped>\n",
       "    .dataframe tbody tr th:only-of-type {\n",
       "        vertical-align: middle;\n",
       "    }\n",
       "\n",
       "    .dataframe tbody tr th {\n",
       "        vertical-align: top;\n",
       "    }\n",
       "\n",
       "    .dataframe thead th {\n",
       "        text-align: right;\n",
       "    }\n",
       "</style>\n",
       "<table border=\"1\" class=\"dataframe\">\n",
       "  <thead>\n",
       "    <tr style=\"text-align: right;\">\n",
       "      <th></th>\n",
       "      <th>ram</th>\n",
       "      <th>storage</th>\n",
       "      <th>screen</th>\n",
       "      <th>final_price</th>\n",
       "    </tr>\n",
       "  </thead>\n",
       "  <tbody>\n",
       "    <tr>\n",
       "      <th>2079</th>\n",
       "      <td>32</td>\n",
       "      <td>1000</td>\n",
       "      <td>15.6</td>\n",
       "      <td>1123.29</td>\n",
       "    </tr>\n",
       "    <tr>\n",
       "      <th>668</th>\n",
       "      <td>4</td>\n",
       "      <td>64</td>\n",
       "      <td>14.1</td>\n",
       "      <td>201.05</td>\n",
       "    </tr>\n",
       "    <tr>\n",
       "      <th>2073</th>\n",
       "      <td>32</td>\n",
       "      <td>1000</td>\n",
       "      <td>14.0</td>\n",
       "      <td>997.74</td>\n",
       "    </tr>\n",
       "    <tr>\n",
       "      <th>1113</th>\n",
       "      <td>16</td>\n",
       "      <td>512</td>\n",
       "      <td>13.3</td>\n",
       "      <td>1016.00</td>\n",
       "    </tr>\n",
       "    <tr>\n",
       "      <th>788</th>\n",
       "      <td>32</td>\n",
       "      <td>1000</td>\n",
       "      <td>16.0</td>\n",
       "      <td>2739.00</td>\n",
       "    </tr>\n",
       "  </tbody>\n",
       "</table>\n",
       "</div>"
      ],
      "text/plain": [
       "      ram  storage  screen  final_price\n",
       "2079   32     1000    15.6      1123.29\n",
       "668     4       64    14.1       201.05\n",
       "2073   32     1000    14.0       997.74\n",
       "1113   16      512    13.3      1016.00\n",
       "788    32     1000    16.0      2739.00"
      ]
     },
     "execution_count": 408,
     "metadata": {},
     "output_type": "execute_result"
    }
   ],
   "source": [
    "train_X.head()"
   ]
  },
  {
   "cell_type": "code",
   "execution_count": 409,
   "id": "4fb98088-2c61-45bb-8d64-65c305e5da2a",
   "metadata": {},
   "outputs": [],
   "source": [
    "train_X = train_X.reset_index(drop=True)\n",
    "val_X = val_X.reset_index(drop=True)\n",
    "test_X = test_X.reset_index(drop=True)"
   ]
  },
  {
   "cell_type": "code",
   "execution_count": 410,
   "id": "7865c43f-379c-4ef6-bf89-1ad07e56f8e9",
   "metadata": {},
   "outputs": [
    {
     "data": {
      "text/html": [
       "<div>\n",
       "<style scoped>\n",
       "    .dataframe tbody tr th:only-of-type {\n",
       "        vertical-align: middle;\n",
       "    }\n",
       "\n",
       "    .dataframe tbody tr th {\n",
       "        vertical-align: top;\n",
       "    }\n",
       "\n",
       "    .dataframe thead th {\n",
       "        text-align: right;\n",
       "    }\n",
       "</style>\n",
       "<table border=\"1\" class=\"dataframe\">\n",
       "  <thead>\n",
       "    <tr style=\"text-align: right;\">\n",
       "      <th></th>\n",
       "      <th>ram</th>\n",
       "      <th>storage</th>\n",
       "      <th>screen</th>\n",
       "      <th>final_price</th>\n",
       "    </tr>\n",
       "  </thead>\n",
       "  <tbody>\n",
       "    <tr>\n",
       "      <th>0</th>\n",
       "      <td>32</td>\n",
       "      <td>1000</td>\n",
       "      <td>15.6</td>\n",
       "      <td>1123.29</td>\n",
       "    </tr>\n",
       "    <tr>\n",
       "      <th>1</th>\n",
       "      <td>4</td>\n",
       "      <td>64</td>\n",
       "      <td>14.1</td>\n",
       "      <td>201.05</td>\n",
       "    </tr>\n",
       "    <tr>\n",
       "      <th>2</th>\n",
       "      <td>32</td>\n",
       "      <td>1000</td>\n",
       "      <td>14.0</td>\n",
       "      <td>997.74</td>\n",
       "    </tr>\n",
       "    <tr>\n",
       "      <th>3</th>\n",
       "      <td>16</td>\n",
       "      <td>512</td>\n",
       "      <td>13.3</td>\n",
       "      <td>1016.00</td>\n",
       "    </tr>\n",
       "    <tr>\n",
       "      <th>4</th>\n",
       "      <td>32</td>\n",
       "      <td>1000</td>\n",
       "      <td>16.0</td>\n",
       "      <td>2739.00</td>\n",
       "    </tr>\n",
       "  </tbody>\n",
       "</table>\n",
       "</div>"
      ],
      "text/plain": [
       "   ram  storage  screen  final_price\n",
       "0   32     1000    15.6      1123.29\n",
       "1    4       64    14.1       201.05\n",
       "2   32     1000    14.0       997.74\n",
       "3   16      512    13.3      1016.00\n",
       "4   32     1000    16.0      2739.00"
      ]
     },
     "execution_count": 410,
     "metadata": {},
     "output_type": "execute_result"
    }
   ],
   "source": [
    "train_X.head()"
   ]
  },
  {
   "cell_type": "markdown",
   "id": "06d1cd35-14de-49c0-8561-ab370b136835",
   "metadata": {},
   "source": [
    "### Question 3\n",
    "```\n",
    "We need to deal with missing values for the column from Q1.\n",
    "We have two options: fill it with 0 or with the mean of this variable.\n",
    "Try both options. For each, train a linear regression model without regularization using the code from the lessons.\n",
    "For computing the mean, use the training only!\n",
    "Use the validation dataset to evaluate the models and compare the RMSE of each option.\n",
    "Round the RMSE scores to 2 decimal digits using round(score, 2)\n",
    "Which option gives better RMSE?\n",
    "```"
   ]
  },
  {
   "cell_type": "code",
   "execution_count": 411,
   "id": "8feddec3-5ff9-4e66-bee9-551b44d7c86d",
   "metadata": {},
   "outputs": [
    {
     "data": {
      "text/plain": [
       "15.163534416086618"
      ]
     },
     "execution_count": 411,
     "metadata": {},
     "output_type": "execute_result"
    }
   ],
   "source": [
    "screen_mean_value = train_X['screen'].mean()\n",
    "screen_mean_value"
   ]
  },
  {
   "cell_type": "code",
   "execution_count": 412,
   "id": "da45ead9-2c5c-4d49-9086-34e0d4e0d9c8",
   "metadata": {},
   "outputs": [],
   "source": [
    "def prepare_X_zero(df):\n",
    "    df = df.copy()\n",
    "    df['screen'] = df['screen'].fillna(0)\n",
    "    del df['final_price']\n",
    "    return df.values"
   ]
  },
  {
   "cell_type": "code",
   "execution_count": 413,
   "id": "3b11a6f6-d610-4f8b-a4a9-3038c7b02f61",
   "metadata": {},
   "outputs": [],
   "source": [
    "def prepare_X_mean(df):\n",
    "    df = df.copy()\n",
    "    df['screen'] = df['screen'].fillna(screen_mode_value)\n",
    "    del df['final_price']\n",
    "    return df.values"
   ]
  },
  {
   "cell_type": "code",
   "execution_count": 414,
   "id": "7cafe907-6014-4a47-8e03-117ce4272b9d",
   "metadata": {},
   "outputs": [],
   "source": [
    "# rmse function\n",
    "def rmse(prediction, target):\n",
    "    squared_error = np.square(prediction - target)\n",
    "    mean_squared_error = np.mean(squared_error)\n",
    "    return np.sqrt(mean_squared_error)"
   ]
  },
  {
   "cell_type": "code",
   "execution_count": 415,
   "id": "fadbda58-dae1-4b3c-bad3-343448667e9b",
   "metadata": {},
   "outputs": [],
   "source": [
    "def train_linear_regression(XX, y, r=0):\n",
    "    # for bias term, add another column consisting of ones\n",
    "    ones = np.ones(XX.shape[0])\n",
    "    XX = np.column_stack([ones, XX])\n",
    "    \n",
    "    XTX = (XX.T.dot(XX))\n",
    "    XTX = XTX + np.eye(XTX.shape[0]) * r\n",
    "    xtx_inverse = np.linalg.inv(XTX)\n",
    "    w = xtx_inverse.dot(XX.T).dot(y)\n",
    "    return w[0], w[1:]"
   ]
  },
  {
   "cell_type": "code",
   "execution_count": 416,
   "id": "2250b429-18e4-4031-a7c4-33277fe42a09",
   "metadata": {},
   "outputs": [],
   "source": [
    "# g(xi) = w0 + w1 * xi1 + w2 * xi2 + w3 * xi3\n",
    "def linear_regression(xi, w):\n",
    "    prediction = xi.dot(w)\n",
    "    return prediction"
   ]
  },
  {
   "cell_type": "code",
   "execution_count": 417,
   "id": "cd289e85-2dcd-4c96-b543-c3e22c97f777",
   "metadata": {},
   "outputs": [
    {
     "data": {
      "text/plain": [
       "(array([[  32. , 1000. ,   15.6],\n",
       "        [   4. ,   64. ,   14.1],\n",
       "        [  32. , 1000. ,   14. ],\n",
       "        ...,\n",
       "        [  16. ,  512. ,   15.6],\n",
       "        [  16. ,  512. ,   14. ],\n",
       "        [  16. ,  512. ,   14. ]]),\n",
       " array([1123.29,  201.05,  997.74, ..., 1059.  , 1671.  , 1056.  ]))"
      ]
     },
     "execution_count": 417,
     "metadata": {},
     "output_type": "execute_result"
    }
   ],
   "source": [
    "# checking data\n",
    "prepare_X_zero(train_X), train_y"
   ]
  },
  {
   "cell_type": "code",
   "execution_count": 418,
   "id": "37b0884d-63ed-42f9-bf8a-9006beefe0bd",
   "metadata": {},
   "outputs": [],
   "source": [
    "w0, w = train_linear_regression(prepare_X_zero(train_X), train_y, r=0)\n",
    "ww0, ww = train_linear_regression(prepare_X_mean(train_X), train_y, r=0)"
   ]
  },
  {
   "cell_type": "code",
   "execution_count": 419,
   "id": "a34f076d-b2aa-4a59-9dd1-277de1fca86a",
   "metadata": {},
   "outputs": [
    {
     "name": "stdout",
     "output_type": "stream",
     "text": [
      "676.8954853003158 [ 43.70681555   0.86506867 -36.10399833]\n",
      "806.1511465459004 [ 43.90529785   0.87108659 -44.98437098]\n"
     ]
    }
   ],
   "source": [
    "print(w0, w)\n",
    "print(ww0, ww)"
   ]
  },
  {
   "cell_type": "code",
   "execution_count": 420,
   "id": "1f468b49-7760-4710-8c30-612f369d6404",
   "metadata": {},
   "outputs": [
    {
     "data": {
      "text/plain": [
       "597.36"
      ]
     },
     "execution_count": 420,
     "metadata": {},
     "output_type": "execute_result"
    }
   ],
   "source": [
    "rmse(linear_regression(prepare_X_zero(val_X), w) + w0, val_y).round(2)"
   ]
  },
  {
   "cell_type": "code",
   "execution_count": 421,
   "id": "8773d70a-1c41-4d5e-8396-acd44d26e0ad",
   "metadata": {},
   "outputs": [
    {
     "data": {
      "text/plain": [
       "599.61"
      ]
     },
     "execution_count": 421,
     "metadata": {},
     "output_type": "execute_result"
    }
   ],
   "source": [
    "rmse(linear_regression(prepare_X_mean(val_X), w) + w0, val_y).round(2)"
   ]
  },
  {
   "cell_type": "markdown",
   "id": "92531c73-a74c-4a9d-a0ca-407f2f203cc5",
   "metadata": {},
   "source": [
    "### Question 4\n",
    "```\n",
    "Now let's train a regularized linear regression.\n",
    "For this question, fill the NAs with 0.\n",
    "Try different values of r from this list: [0, 0.01, 0.1, 1, 5, 10, 100].\n",
    "Use RMSE to evaluate the model on the validation dataset.\n",
    "Round the RMSE scores to 2 decimal digits.\n",
    "Which r gives the best RMSE?\n",
    "```"
   ]
  },
  {
   "cell_type": "code",
   "execution_count": 424,
   "id": "3aee0036-4ba7-43f0-89ed-7cfa2f05e23f",
   "metadata": {},
   "outputs": [
    {
     "data": {
      "text/plain": [
       "[597.36, 597.21, 597.12, 597.06, 597.03, 597.01, 597.01]"
      ]
     },
     "execution_count": 424,
     "metadata": {},
     "output_type": "execute_result"
    }
   ],
   "source": [
    "r_list = [0, 0.01, 0.1, 1, 5, 10, 100]\n",
    "rmse_list = []\n",
    "for r in range(len(r_list)):\n",
    "    w0, w = train_linear_regression(prepare_X_zero(train_X), train_y, r=r)\n",
    "    rmse_list.append(rmse(linear_regression(prepare_X_zero(val_X), w) + w0, val_y).round(2))\n",
    "rmse_list"
   ]
  },
  {
   "cell_type": "markdown",
   "id": "33ce4fbc-0b21-4398-b11c-7b9a33ec51e5",
   "metadata": {},
   "source": [
    "### Question 5\n",
    "```\n",
    "We used seed 42 for splitting the data. Let's find out how selecting the seed influences our score.\n",
    "Try different seed values: [0, 1, 2, 3, 4, 5, 6, 7, 8, 9].\n",
    "For each seed, do the train/validation/test split with 60%/20%/20% distribution.\n",
    "Fill the missing values with 0 and train a model without regularization.\n",
    "For each seed, evaluate the model on the validation dataset and collect the RMSE scores.\n",
    "What's the standard deviation of all the scores? To compute the standard deviation, use np.std.\n",
    "Round the result to 3 decimal digits (round(std, 3))\n",
    "```"
   ]
  },
  {
   "cell_type": "code",
   "execution_count": 426,
   "id": "9d0ddb47-be70-47db-b56b-e5639d60e1d1",
   "metadata": {},
   "outputs": [
    {
     "data": {
      "text/plain": [
       "([565.4520868771021,\n",
       "  636.7985423056731,\n",
       "  588.9558697907959,\n",
       "  597.814892001252,\n",
       "  571.9627915111035,\n",
       "  573.2383256618948,\n",
       "  647.3438328407192,\n",
       "  550.4398184485984,\n",
       "  587.3335036169941,\n",
       "  576.1017929433116],\n",
       " 29.176)"
      ]
     },
     "execution_count": 426,
     "metadata": {},
     "output_type": "execute_result"
    }
   ],
   "source": [
    "seeds = [0, 1, 2, 3, 4, 5, 6, 7, 8, 9]\n",
    "scores = []\n",
    "\n",
    "for seed in seeds:\n",
    "    indices = np.arange(n)\n",
    "    np.random.seed(seed)\n",
    "    shuffled_indices = np.random.shuffle(indices)\n",
    "    \n",
    "    # assigning features\n",
    "    train_X = X.iloc[indices[:train_size]]\n",
    "    val_X = X.iloc[indices[train_size: train_size + validation_size]]\n",
    "    test_X = X.iloc[indices[train_size + validation_size: n]]\n",
    "    assert len(train_X) + len(val_X) + len(test_X) == n\n",
    "    train_X = train_X.reset_index(drop=True)\n",
    "    val_X = val_X.reset_index(drop=True)\n",
    "    test_X = test_X.reset_index(drop=True)\n",
    "    \n",
    "    # target values\n",
    "    train_y = train_X['final_price'].values\n",
    "    val_y = val_X['final_price'].values\n",
    "    test_y = test_X['final_price'].values\n",
    "\n",
    "    w0, w = train_linear_regression(prepare_X_zero(train_X), train_y, r=0)\n",
    "    scores.append(rmse(linear_regression(prepare_X_zero(val_X), w) + w0, val_y))\n",
    "\n",
    "scores, np.std(scores).round(3)"
   ]
  },
  {
   "cell_type": "markdown",
   "id": "e32abe2c-44e6-411e-8fa0-054120d9cfc3",
   "metadata": {},
   "source": [
    "### Question 6\n",
    "```\n",
    "Split the dataset like previously, use seed 9.\n",
    "Combine train and validation datasets.\n",
    "Fill the missing values with 0 and train a model with r=0.001.\n",
    "What's the RMSE on the test dataset?\n",
    "```"
   ]
  },
  {
   "cell_type": "code",
   "execution_count": 427,
   "id": "28c7443c-c939-4fa7-b76e-b17fd497745d",
   "metadata": {},
   "outputs": [
    {
     "data": {
      "text/plain": [
       "576.1019598779088"
      ]
     },
     "execution_count": 427,
     "metadata": {},
     "output_type": "execute_result"
    }
   ],
   "source": [
    "indices = np.arange(n)\n",
    "np.random.seed(9)\n",
    "shuffled_indices = np.random.shuffle(indices)\n",
    "\n",
    "# assigning features\n",
    "train_X = X.iloc[indices[:train_size]]\n",
    "val_X = X.iloc[indices[train_size: train_size + validation_size]]\n",
    "test_X = X.iloc[indices[train_size + validation_size: n]]\n",
    "assert len(train_X) + len(val_X) + len(test_X) == n\n",
    "train_X = train_X.reset_index(drop=True)\n",
    "val_X = val_X.reset_index(drop=True)\n",
    "test_X = test_X.reset_index(drop=True)\n",
    "\n",
    "# target values\n",
    "train_y = train_X['final_price'].values\n",
    "val_y = val_X['final_price'].values\n",
    "test_y = test_X['final_price'].values\n",
    "\n",
    "w0, w = train_linear_regression(prepare_X_zero(train_X), train_y, r=0.001)\n",
    "rmse(linear_regression(prepare_X_zero(val_X), w) + w0, val_y)"
   ]
  },
  {
   "cell_type": "code",
   "execution_count": 429,
   "id": "2428d3a5-0ab2-4198-9918-ba1b7a57fea9",
   "metadata": {},
   "outputs": [],
   "source": [
    "# combine train and val data\n",
    "full_X = pd.concat([train_X, val_X])\n",
    "full_y = np.concatenate([train_y, val_y])"
   ]
  },
  {
   "cell_type": "code",
   "execution_count": 430,
   "id": "de154713-8c12-487e-b866-a1df8f17a097",
   "metadata": {},
   "outputs": [
    {
     "data": {
      "text/plain": [
       "(1728, 1728)"
      ]
     },
     "execution_count": 430,
     "metadata": {},
     "output_type": "execute_result"
    }
   ],
   "source": [
    "len(full_X), len(full_y)"
   ]
  },
  {
   "cell_type": "code",
   "execution_count": 431,
   "id": "6c5f387a-b7a2-4274-9ce2-7b229b7c61f4",
   "metadata": {},
   "outputs": [
    {
     "data": {
      "text/plain": [
       "608.6099822049533"
      ]
     },
     "execution_count": 431,
     "metadata": {},
     "output_type": "execute_result"
    }
   ],
   "source": [
    "w0, w = train_linear_regression(prepare_X_zero(full_X), full_y, r=0.001)\n",
    "rmse(linear_regression(prepare_X_zero(test_X), w) + w0, test_y)"
   ]
  }
 ],
 "metadata": {
  "kernelspec": {
   "display_name": "Python 3 (ipykernel)",
   "language": "python",
   "name": "python3"
  },
  "language_info": {
   "codemirror_mode": {
    "name": "ipython",
    "version": 3
   },
   "file_extension": ".py",
   "mimetype": "text/x-python",
   "name": "python",
   "nbconvert_exporter": "python",
   "pygments_lexer": "ipython3",
   "version": "3.11.9"
  }
 },
 "nbformat": 4,
 "nbformat_minor": 5
}
