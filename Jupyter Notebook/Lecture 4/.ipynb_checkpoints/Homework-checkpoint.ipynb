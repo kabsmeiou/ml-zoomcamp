{
 "cells": [
  {
   "cell_type": "code",
   "execution_count": 41,
   "id": "0a5021c0-4c55-4bfd-807d-e0dda9cdd758",
   "metadata": {},
   "outputs": [
    {
     "data": {
      "text/html": [
       "<div>\n",
       "<style scoped>\n",
       "    .dataframe tbody tr th:only-of-type {\n",
       "        vertical-align: middle;\n",
       "    }\n",
       "\n",
       "    .dataframe tbody tr th {\n",
       "        vertical-align: top;\n",
       "    }\n",
       "\n",
       "    .dataframe thead th {\n",
       "        text-align: right;\n",
       "    }\n",
       "</style>\n",
       "<table border=\"1\" class=\"dataframe\">\n",
       "  <thead>\n",
       "    <tr style=\"text-align: right;\">\n",
       "      <th></th>\n",
       "      <th>0</th>\n",
       "      <th>1</th>\n",
       "      <th>2</th>\n",
       "      <th>3</th>\n",
       "      <th>4</th>\n",
       "    </tr>\n",
       "  </thead>\n",
       "  <tbody>\n",
       "    <tr>\n",
       "      <th>age</th>\n",
       "      <td>58</td>\n",
       "      <td>44</td>\n",
       "      <td>33</td>\n",
       "      <td>47</td>\n",
       "      <td>33</td>\n",
       "    </tr>\n",
       "    <tr>\n",
       "      <th>job</th>\n",
       "      <td>management</td>\n",
       "      <td>technician</td>\n",
       "      <td>entrepreneur</td>\n",
       "      <td>blue-collar</td>\n",
       "      <td>unknown</td>\n",
       "    </tr>\n",
       "    <tr>\n",
       "      <th>marital</th>\n",
       "      <td>married</td>\n",
       "      <td>single</td>\n",
       "      <td>married</td>\n",
       "      <td>married</td>\n",
       "      <td>single</td>\n",
       "    </tr>\n",
       "    <tr>\n",
       "      <th>education</th>\n",
       "      <td>tertiary</td>\n",
       "      <td>secondary</td>\n",
       "      <td>secondary</td>\n",
       "      <td>unknown</td>\n",
       "      <td>unknown</td>\n",
       "    </tr>\n",
       "    <tr>\n",
       "      <th>default</th>\n",
       "      <td>no</td>\n",
       "      <td>no</td>\n",
       "      <td>no</td>\n",
       "      <td>no</td>\n",
       "      <td>no</td>\n",
       "    </tr>\n",
       "    <tr>\n",
       "      <th>balance</th>\n",
       "      <td>2143</td>\n",
       "      <td>29</td>\n",
       "      <td>2</td>\n",
       "      <td>1506</td>\n",
       "      <td>1</td>\n",
       "    </tr>\n",
       "    <tr>\n",
       "      <th>housing</th>\n",
       "      <td>yes</td>\n",
       "      <td>yes</td>\n",
       "      <td>yes</td>\n",
       "      <td>yes</td>\n",
       "      <td>no</td>\n",
       "    </tr>\n",
       "    <tr>\n",
       "      <th>loan</th>\n",
       "      <td>no</td>\n",
       "      <td>no</td>\n",
       "      <td>yes</td>\n",
       "      <td>no</td>\n",
       "      <td>no</td>\n",
       "    </tr>\n",
       "    <tr>\n",
       "      <th>contact</th>\n",
       "      <td>unknown</td>\n",
       "      <td>unknown</td>\n",
       "      <td>unknown</td>\n",
       "      <td>unknown</td>\n",
       "      <td>unknown</td>\n",
       "    </tr>\n",
       "    <tr>\n",
       "      <th>day</th>\n",
       "      <td>5</td>\n",
       "      <td>5</td>\n",
       "      <td>5</td>\n",
       "      <td>5</td>\n",
       "      <td>5</td>\n",
       "    </tr>\n",
       "    <tr>\n",
       "      <th>month</th>\n",
       "      <td>may</td>\n",
       "      <td>may</td>\n",
       "      <td>may</td>\n",
       "      <td>may</td>\n",
       "      <td>may</td>\n",
       "    </tr>\n",
       "    <tr>\n",
       "      <th>duration</th>\n",
       "      <td>261</td>\n",
       "      <td>151</td>\n",
       "      <td>76</td>\n",
       "      <td>92</td>\n",
       "      <td>198</td>\n",
       "    </tr>\n",
       "    <tr>\n",
       "      <th>campaign</th>\n",
       "      <td>1</td>\n",
       "      <td>1</td>\n",
       "      <td>1</td>\n",
       "      <td>1</td>\n",
       "      <td>1</td>\n",
       "    </tr>\n",
       "    <tr>\n",
       "      <th>pdays</th>\n",
       "      <td>-1</td>\n",
       "      <td>-1</td>\n",
       "      <td>-1</td>\n",
       "      <td>-1</td>\n",
       "      <td>-1</td>\n",
       "    </tr>\n",
       "    <tr>\n",
       "      <th>previous</th>\n",
       "      <td>0</td>\n",
       "      <td>0</td>\n",
       "      <td>0</td>\n",
       "      <td>0</td>\n",
       "      <td>0</td>\n",
       "    </tr>\n",
       "    <tr>\n",
       "      <th>poutcome</th>\n",
       "      <td>unknown</td>\n",
       "      <td>unknown</td>\n",
       "      <td>unknown</td>\n",
       "      <td>unknown</td>\n",
       "      <td>unknown</td>\n",
       "    </tr>\n",
       "    <tr>\n",
       "      <th>y</th>\n",
       "      <td>0</td>\n",
       "      <td>0</td>\n",
       "      <td>0</td>\n",
       "      <td>0</td>\n",
       "      <td>0</td>\n",
       "    </tr>\n",
       "  </tbody>\n",
       "</table>\n",
       "</div>"
      ],
      "text/plain": [
       "                    0           1             2            3        4\n",
       "age                58          44            33           47       33\n",
       "job        management  technician  entrepreneur  blue-collar  unknown\n",
       "marital       married      single       married      married   single\n",
       "education    tertiary   secondary     secondary      unknown  unknown\n",
       "default            no          no            no           no       no\n",
       "balance          2143          29             2         1506        1\n",
       "housing           yes         yes           yes          yes       no\n",
       "loan               no          no           yes           no       no\n",
       "contact       unknown     unknown       unknown      unknown  unknown\n",
       "day                 5           5             5            5        5\n",
       "month             may         may           may          may      may\n",
       "duration          261         151            76           92      198\n",
       "campaign            1           1             1            1        1\n",
       "pdays              -1          -1            -1           -1       -1\n",
       "previous            0           0             0            0        0\n",
       "poutcome      unknown     unknown       unknown      unknown  unknown\n",
       "y                   0           0             0            0        0"
      ]
     },
     "execution_count": 41,
     "metadata": {},
     "output_type": "execute_result"
    }
   ],
   "source": [
    "import pandas as pd\n",
    "import numpy as np\n",
    "\n",
    "# according to documentation, sep parameter is ',' by default\n",
    "# since the columns in the csv file is separated by ';', set sep=';'\n",
    "df = pd.read_csv(\"../../Datasets/bank/bank-full.csv\", sep=';')\n",
    "df.y = (df.y == 'yes').astype(int)\n",
    "df.head().T"
   ]
  },
  {
   "cell_type": "code",
   "execution_count": 42,
   "id": "8a0b3673-eb55-4117-9ac8-8d36a4af6482",
   "metadata": {},
   "outputs": [],
   "source": [
    "# all columns without default\n",
    "cols = ['age', 'job', 'marital', 'education', 'balance',\n",
    "'housing', 'contact', 'day', 'month', 'duration', 'campaign', 'pdays',\n",
    "'previous', 'poutcome', 'y']\n",
    "\n",
    "df = df[cols]"
   ]
  },
  {
   "cell_type": "markdown",
   "id": "1c5c1990-e7a4-4e37-9eb1-b8b051890ab3",
   "metadata": {},
   "source": [
    "Split the data into 3 parts: train/validation/test with 60%/20%/20% distribution. Use train_test_split function for that with random_state=1"
   ]
  },
  {
   "cell_type": "code",
   "execution_count": 45,
   "id": "d7df4ff3-90fe-4c2d-af97-1ac722cf76cb",
   "metadata": {},
   "outputs": [],
   "source": [
    "from sklearn.model_selection import train_test_split\n",
    "\n",
    "# 60 20 20 split\n",
    "df_train_full, df_val = train_test_split(df, test_size=0.2, random_state=1)\n",
    "df_train, df_test = train_test_split(df_train_full, test_size=len(df_val), random_state=1)\n",
    "assert (len(df_train) + len(df_test) + len(df_val)) == len(df)\n",
    "assert len(df_test) == len(df_val)\n",
    "\n",
    "# # extract y from dataset\n",
    "y_train = df_train.y.values\n",
    "y_val = df_val.y.values\n",
    "\n",
    "del df_train['y']\n",
    "del df_val['y']"
   ]
  },
  {
   "cell_type": "markdown",
   "id": "be3db302-f538-45dc-a475-36630055d246",
   "metadata": {},
   "source": [
    "### Question 1: ROC AUC feature importance"
   ]
  },
  {
   "cell_type": "markdown",
   "id": "55846e6d-1d7f-4120-9671-bec53aa5df27",
   "metadata": {},
   "source": [
    "ROC AUC could also be used to evaluate feature importance of numerical variables.\n",
    "\n",
    "Let's do that\n",
    "\n",
    "For each numerical variable, use it as score (aka prediction) and compute the AUC with the y variable as ground truth.\\\n",
    "Use the training dataset for that\\\n",
    "If your AUC is < 0.5, invert this variable by putting \"-\" in front\n",
    "\n",
    "(e.g. -df_train['engine_hp'])\n",
    "\n",
    "AUC can go below 0.5 if the variable is negatively correlated with the target variable. You can change the direction of the correlation by negating this variable - then negative correlation becomes positive.\n",
    "\n",
    "Which numerical variable (among the following 4) has the highest AUC?\n",
    "```\n",
    "balance\n",
    "day\n",
    "duration\n",
    "previous\n",
    "```"
   ]
  },
  {
   "cell_type": "code",
   "execution_count": 46,
   "id": "aa3c3175-e944-4aaa-bffd-b0b4389ffa63",
   "metadata": {},
   "outputs": [
    {
     "data": {
      "text/html": [
       "<style type=\"text/css\">\n",
       "#T_d8218_row0_col1 {\n",
       "  background-color: #fde725;\n",
       "  color: #000000;\n",
       "}\n",
       "#T_d8218_row1_col1 {\n",
       "  background-color: #33638d;\n",
       "  color: #f1f1f1;\n",
       "}\n",
       "#T_d8218_row2_col1 {\n",
       "  background-color: #375b8d;\n",
       "  color: #f1f1f1;\n",
       "}\n",
       "#T_d8218_row3_col1 {\n",
       "  background-color: #38598c;\n",
       "  color: #f1f1f1;\n",
       "}\n",
       "#T_d8218_row4_col1 {\n",
       "  background-color: #3f4889;\n",
       "  color: #f1f1f1;\n",
       "}\n",
       "#T_d8218_row5_col1 {\n",
       "  background-color: #481769;\n",
       "  color: #f1f1f1;\n",
       "}\n",
       "#T_d8218_row6_col1 {\n",
       "  background-color: #440154;\n",
       "  color: #f1f1f1;\n",
       "}\n",
       "</style>\n",
       "<table id=\"T_d8218\">\n",
       "  <thead>\n",
       "    <tr>\n",
       "      <th class=\"blank level0\" >&nbsp;</th>\n",
       "      <th id=\"T_d8218_level0_col0\" class=\"col_heading level0 col0\" >Column</th>\n",
       "      <th id=\"T_d8218_level0_col1\" class=\"col_heading level0 col1\" >Score</th>\n",
       "    </tr>\n",
       "  </thead>\n",
       "  <tbody>\n",
       "    <tr>\n",
       "      <th id=\"T_d8218_level0_row0\" class=\"row_heading level0 row0\" >3</th>\n",
       "      <td id=\"T_d8218_row0_col0\" class=\"data row0 col0\" >duration</td>\n",
       "      <td id=\"T_d8218_row0_col1\" class=\"data row0 col1\" >0.807596</td>\n",
       "    </tr>\n",
       "    <tr>\n",
       "      <th id=\"T_d8218_level0_row1\" class=\"row_heading level0 row1\" >6</th>\n",
       "      <td id=\"T_d8218_row1_col0\" class=\"data row1 col0\" >previous</td>\n",
       "      <td id=\"T_d8218_row1_col1\" class=\"data row1 col1\" >0.602303</td>\n",
       "    </tr>\n",
       "    <tr>\n",
       "      <th id=\"T_d8218_level0_row2\" class=\"row_heading level0 row2\" >5</th>\n",
       "      <td id=\"T_d8218_row2_col0\" class=\"data row2 col0\" >pdays</td>\n",
       "      <td id=\"T_d8218_row2_col1\" class=\"data row2 col1\" >0.593224</td>\n",
       "    </tr>\n",
       "    <tr>\n",
       "      <th id=\"T_d8218_level0_row3\" class=\"row_heading level0 row3\" >1</th>\n",
       "      <td id=\"T_d8218_row3_col0\" class=\"data row3 col0\" >balance</td>\n",
       "      <td id=\"T_d8218_row3_col1\" class=\"data row3 col1\" >0.590061</td>\n",
       "    </tr>\n",
       "    <tr>\n",
       "      <th id=\"T_d8218_level0_row4\" class=\"row_heading level0 row4\" >4</th>\n",
       "      <td id=\"T_d8218_row4_col0\" class=\"data row4 col0\" >campaign</td>\n",
       "      <td id=\"T_d8218_row4_col1\" class=\"data row4 col1\" >0.572334</td>\n",
       "    </tr>\n",
       "    <tr>\n",
       "      <th id=\"T_d8218_level0_row5\" class=\"row_heading level0 row5\" >2</th>\n",
       "      <td id=\"T_d8218_row5_col0\" class=\"data row5 col0\" >day</td>\n",
       "      <td id=\"T_d8218_row5_col1\" class=\"data row5 col1\" >0.526520</td>\n",
       "    </tr>\n",
       "    <tr>\n",
       "      <th id=\"T_d8218_level0_row6\" class=\"row_heading level0 row6\" >0</th>\n",
       "      <td id=\"T_d8218_row6_col0\" class=\"data row6 col0\" >age</td>\n",
       "      <td id=\"T_d8218_row6_col1\" class=\"data row6 col1\" >0.507855</td>\n",
       "    </tr>\n",
       "  </tbody>\n",
       "</table>\n"
      ],
      "text/plain": [
       "<pandas.io.formats.style.Styler at 0x2b920aab950>"
      ]
     },
     "execution_count": 46,
     "metadata": {},
     "output_type": "execute_result"
    }
   ],
   "source": [
    "from sklearn.metrics import roc_auc_score\n",
    "# get numerical dtypes\n",
    "numerical_var = df_train.select_dtypes('number').columns\n",
    "num_auc_scores = []\n",
    "for col in numerical_var:\n",
    "    # get auc score of current column\n",
    "    current_score = roc_auc_score(df.y.values,df[col].values)\n",
    "    # if less then 0.5 then invert values\n",
    "    if current_score < 0.5:\n",
    "        current_score = roc_auc_score(df.y.values, -df[col].values)\n",
    "    # store in num_auc_scores\n",
    "    num_auc_scores.append((col, current_score))\n",
    "    \n",
    "pd.DataFrame(num_auc_scores, columns=[\"Column\", \"Score\"]).sort_values(by=\"Score\", ascending=False).style.background_gradient('viridis')"
   ]
  },
  {
   "cell_type": "markdown",
   "id": "80662296-ed69-451e-9db5-a6e164ba934f",
   "metadata": {},
   "source": [
    "**Answer:** *duration*"
   ]
  },
  {
   "cell_type": "markdown",
   "id": "df78ef56-d9b1-42d1-b5c7-e9c17b9c8ab0",
   "metadata": {},
   "source": [
    "### Question 2: Training the model"
   ]
  },
  {
   "cell_type": "markdown",
   "id": "0d263058-53ab-4527-ab47-5a74e094d3a0",
   "metadata": {},
   "source": [
    "Apply one-hot-encoding using DictVectorizer and train the logistic regression with these parameters:\n",
    "\n",
    "```\n",
    "LogisticRegression(solver='liblinear', C=1.0, max_iter=1000)\n",
    "```"
   ]
  },
  {
   "cell_type": "code",
   "execution_count": 88,
   "id": "adfa7ede-12da-451f-b209-1ee53c80ead8",
   "metadata": {},
   "outputs": [
    {
     "data": {
      "text/plain": [
       "0.907"
      ]
     },
     "execution_count": 88,
     "metadata": {},
     "output_type": "execute_result"
    }
   ],
   "source": [
    "from sklearn.feature_extraction import DictVectorizer\n",
    "from sklearn.linear_model import LogisticRegression\n",
    "\n",
    "# initialize dictvectorizer\n",
    "dv = DictVectorizer(sparse=False)\n",
    "\n",
    "# convert to dictionary\n",
    "train_dicts = df_train.to_dict(orient='records')\n",
    "val_dicts = df_val.to_dict(orient='records')\n",
    "\n",
    "# transform (one hot encoding)\n",
    "X_train = dv.fit_transform(train_dicts)\n",
    "X_val = dv.transform(val_dicts)\n",
    "\n",
    "# training the model\n",
    "model = LogisticRegression(solver='liblinear', C=1.0, max_iter=1000)\n",
    "model.fit(X_train, y_train)\n",
    "\n",
    "# predictions\n",
    "y_preds = model.predict_proba(X_val)[:,1]\n",
    "np.round(roc_auc_score(y_val, y_preds), 3)"
   ]
  },
  {
   "cell_type": "markdown",
   "id": "eef01d66-6dc1-4a22-b245-926439477cce",
   "metadata": {},
   "source": [
    "**Answer:** *0.907*"
   ]
  },
  {
   "cell_type": "markdown",
   "id": "7dae7d60-bb4a-4566-87ae-27903006cdfc",
   "metadata": {},
   "source": [
    "### Question 3: Precision and Recall"
   ]
  },
  {
   "cell_type": "markdown",
   "id": "b72d6c12-fa0d-4f8c-8843-7bd326bdb6af",
   "metadata": {},
   "source": [
    "Now let's compute precision and recall for our model.\n",
    "```\n",
    "Evaluate the model on all thresholds from 0.0 to 1.0 with step 0.01\n",
    "For each threshold, compute precision and recall\n",
    "Plot them\n",
    "```"
   ]
  },
  {
   "cell_type": "code",
   "execution_count": 89,
   "id": "d077d076-f01e-4576-a240-734488f7c6f8",
   "metadata": {},
   "outputs": [],
   "source": [
    "def get_confusion_table_results(prediction_values, actual_values):\n",
    "    tp = ((prediction_values == 1) & (actual_values == 1)).sum()\n",
    "    tn = ((prediction_values == 0) & (actual_values == 0)).sum()\n",
    "    fp = ((prediction_values == 1) & (actual_values == 0)).sum()\n",
    "    fn = ((prediction_values == 0) & (actual_values == 1)).sum()\n",
    "    return tp, tn, fp, fn"
   ]
  },
  {
   "cell_type": "code",
   "execution_count": 90,
   "id": "868162d1-71be-4eb5-a67e-17e6131f5849",
   "metadata": {},
   "outputs": [
    {
     "name": "stderr",
     "output_type": "stream",
     "text": [
      "C:\\Users\\fanta\\AppData\\Local\\Temp\\ipykernel_3604\\181614006.py:15: RuntimeWarning: invalid value encountered in scalar divide\n",
      "  prc_score = tp / (tp + fp)\n"
     ]
    },
    {
     "data": {
      "image/png": "[encoded data removed]",
      "text/plain": [
       "<Figure size 800x600 with 1 Axes>"
      ]
     },
     "metadata": {},
     "output_type": "display_data"
    }
   ],
   "source": [
    "from sklearn.metrics import precision_score, recall_score\n",
    "import matplotlib.pyplot as plt\n",
    "# thresholds from 0 to 1 with spaces of 0.01\n",
    "thresholds = np.linspace(0, 1, 101)\n",
    "prc_scores = []\n",
    "rcs_scores = []\n",
    "\n",
    "for t in thresholds:\n",
    "    predictions = (y_preds >= t).astype(int)\n",
    "    # get confusion table\n",
    "    tp, tn, fp, fn = get_confusion_table_results(predictions, y_val)\n",
    "    # zero_division=0 to resolve the warning\n",
    "    # prc_score = precision_score(y_val, predictions, zero_division=0)\n",
    "    # rcs_score = recall_score(y_val, predictions)\n",
    "    prc_score = tp / (tp + fp)\n",
    "    rcs_score = tp / (tp + fn)\n",
    "    prc_scores.append(prc_score)\n",
    "    rcs_scores.append(rcs_score)\n",
    "\n",
    "# plot graph\n",
    "plt.figure(figsize=(8, 6))\n",
    "plt.plot(thresholds, prc_scores, label='Precision', marker='o')\n",
    "plt.plot(thresholds, rcs_scores, label='Recall', marker='o')\n",
    "plt.xlabel('Threshold')\n",
    "plt.ylabel('Score')\n",
    "plt.title('Precision and Recall vs. Threshold')\n",
    "plt.grid(True)\n",
    "plt.legend()\n",
    "plt.show()"
   ]
  },
  {
   "cell_type": "markdown",
   "id": "4ac8a1b1-022f-42e3-b880-9a7721a45dea",
   "metadata": {},
   "source": [
    "**Answer:** *~0.25 - 0.3*"
   ]
  },
  {
   "cell_type": "markdown",
   "id": "4532b717-3d30-485f-a414-4646a3894357",
   "metadata": {},
   "source": [
    "### Question 4: F1 score"
   ]
  },
  {
   "cell_type": "markdown",
   "id": "dfa1b930-76c8-499e-a0f5-785efd8a73f2",
   "metadata": {},
   "source": [
    "Precision and recall are conflicting - when one grows, the other goes down. That's why they are often combined into the F1 score - a metrics that takes into account both\n",
    "```\n",
    "This is the formula for computing F1:\n",
    "    2*P*R / P+R\n",
    "```\n",
    "Where P  is precision and R is recall.\n",
    "\n",
    "Let's compute F1 for all thresholds from 0.0 to 1.0 with increment 0.01"
   ]
  },
  {
   "cell_type": "code",
   "execution_count": 91,
   "id": "8a11567f-ca5e-466b-a07d-2c50ff74e970",
   "metadata": {},
   "outputs": [
    {
     "name": "stderr",
     "output_type": "stream",
     "text": [
      "C:\\Users\\fanta\\AppData\\Local\\Temp\\ipykernel_3604\\2100665332.py:9: RuntimeWarning: invalid value encountered in scalar divide\n",
      "  P = tp / (tp + fp)\n"
     ]
    },
    {
     "data": {
      "text/html": [
       "<style type=\"text/css\">\n",
       "#T_40a9c_row0_col1 {\n",
       "  background-color: #fde725;\n",
       "  color: #000000;\n",
       "}\n",
       "#T_40a9c_row1_col1 {\n",
       "  background-color: #efe51c;\n",
       "  color: #000000;\n",
       "}\n",
       "#T_40a9c_row2_col1 {\n",
       "  background-color: #eae51a;\n",
       "  color: #000000;\n",
       "}\n",
       "#T_40a9c_row3_col1 {\n",
       "  background-color: #56c667;\n",
       "  color: #000000;\n",
       "}\n",
       "#T_40a9c_row4_col1 {\n",
       "  background-color: #34b679;\n",
       "  color: #f1f1f1;\n",
       "}\n",
       "#T_40a9c_row5_col1 {\n",
       "  background-color: #29af7f;\n",
       "  color: #f1f1f1;\n",
       "}\n",
       "#T_40a9c_row6_col1 {\n",
       "  background-color: #25848e;\n",
       "  color: #f1f1f1;\n",
       "}\n",
       "#T_40a9c_row7_col1 {\n",
       "  background-color: #365d8d;\n",
       "  color: #f1f1f1;\n",
       "}\n",
       "#T_40a9c_row8_col1 {\n",
       "  background-color: #404688;\n",
       "  color: #f1f1f1;\n",
       "}\n",
       "#T_40a9c_row9_col1 {\n",
       "  background-color: #440154;\n",
       "  color: #f1f1f1;\n",
       "}\n",
       "</style>\n",
       "<table id=\"T_40a9c\">\n",
       "  <thead>\n",
       "    <tr>\n",
       "      <th class=\"blank level0\" >&nbsp;</th>\n",
       "      <th id=\"T_40a9c_level0_col0\" class=\"col_heading level0 col0\" >threshold</th>\n",
       "      <th id=\"T_40a9c_level0_col1\" class=\"col_heading level0 col1\" >f1_score</th>\n",
       "    </tr>\n",
       "  </thead>\n",
       "  <tbody>\n",
       "    <tr>\n",
       "      <th id=\"T_40a9c_level0_row0\" class=\"row_heading level0 row0\" >0</th>\n",
       "      <td id=\"T_40a9c_row0_col0\" class=\"data row0 col0\" >0.220000</td>\n",
       "      <td id=\"T_40a9c_row0_col1\" class=\"data row0 col1\" >0.580892</td>\n",
       "    </tr>\n",
       "    <tr>\n",
       "      <th id=\"T_40a9c_level0_row1\" class=\"row_heading level0 row1\" >1</th>\n",
       "      <td id=\"T_40a9c_row1_col0\" class=\"data row1 col0\" >0.210000</td>\n",
       "      <td id=\"T_40a9c_row1_col1\" class=\"data row1 col1\" >0.580699</td>\n",
       "    </tr>\n",
       "    <tr>\n",
       "      <th id=\"T_40a9c_level0_row2\" class=\"row_heading level0 row2\" >2</th>\n",
       "      <td id=\"T_40a9c_row2_col0\" class=\"data row2 col0\" >0.200000</td>\n",
       "      <td id=\"T_40a9c_row2_col1\" class=\"data row2 col1\" >0.580619</td>\n",
       "    </tr>\n",
       "    <tr>\n",
       "      <th id=\"T_40a9c_level0_row3\" class=\"row_heading level0 row3\" >3</th>\n",
       "      <td id=\"T_40a9c_row3_col0\" class=\"data row3 col0\" >0.180000</td>\n",
       "      <td id=\"T_40a9c_row3_col1\" class=\"data row3 col1\" >0.578743</td>\n",
       "    </tr>\n",
       "    <tr>\n",
       "      <th id=\"T_40a9c_level0_row4\" class=\"row_heading level0 row4\" >4</th>\n",
       "      <td id=\"T_40a9c_row4_col0\" class=\"data row4 col0\" >0.230000</td>\n",
       "      <td id=\"T_40a9c_row4_col1\" class=\"data row4 col1\" >0.578125</td>\n",
       "    </tr>\n",
       "    <tr>\n",
       "      <th id=\"T_40a9c_level0_row5\" class=\"row_heading level0 row5\" >5</th>\n",
       "      <td id=\"T_40a9c_row5_col0\" class=\"data row5 col0\" >0.240000</td>\n",
       "      <td id=\"T_40a9c_row5_col1\" class=\"data row5 col1\" >0.577876</td>\n",
       "    </tr>\n",
       "    <tr>\n",
       "      <th id=\"T_40a9c_level0_row6\" class=\"row_heading level0 row6\" >6</th>\n",
       "      <td id=\"T_40a9c_row6_col0\" class=\"data row6 col0\" >0.190000</td>\n",
       "      <td id=\"T_40a9c_row6_col1\" class=\"data row6 col1\" >0.576405</td>\n",
       "    </tr>\n",
       "    <tr>\n",
       "      <th id=\"T_40a9c_level0_row7\" class=\"row_heading level0 row7\" >7</th>\n",
       "      <td id=\"T_40a9c_row7_col0\" class=\"data row7 col0\" >0.170000</td>\n",
       "      <td id=\"T_40a9c_row7_col1\" class=\"data row7 col1\" >0.575094</td>\n",
       "    </tr>\n",
       "    <tr>\n",
       "      <th id=\"T_40a9c_level0_row8\" class=\"row_heading level0 row8\" >8</th>\n",
       "      <td id=\"T_40a9c_row8_col0\" class=\"data row8 col0\" >0.260000</td>\n",
       "      <td id=\"T_40a9c_row8_col1\" class=\"data row8 col1\" >0.574439</td>\n",
       "    </tr>\n",
       "    <tr>\n",
       "      <th id=\"T_40a9c_level0_row9\" class=\"row_heading level0 row9\" >9</th>\n",
       "      <td id=\"T_40a9c_row9_col0\" class=\"data row9 col0\" >0.250000</td>\n",
       "      <td id=\"T_40a9c_row9_col1\" class=\"data row9 col1\" >0.572715</td>\n",
       "    </tr>\n",
       "  </tbody>\n",
       "</table>\n"
      ],
      "text/plain": [
       "<pandas.io.formats.style.Styler at 0x2b92fa7bcd0>"
      ]
     },
     "execution_count": 91,
     "metadata": {},
     "output_type": "execute_result"
    }
   ],
   "source": [
    "f1_scores = []\n",
    "for t in thresholds:\n",
    "    predictions = (y_preds >= t).astype(int)\n",
    "    # get confusion table\n",
    "    tp, tn, fp, fn = get_confusion_table_results(predictions, y_val)\n",
    "    # zero_division=0 to resolve the warning\n",
    "    # prc_score = precision_score(y_val, predictions, zero_division=0)\n",
    "    # rcs_score = recall_score(y_val, predictions)\n",
    "    P = tp / (tp + fp)\n",
    "    R = tp / (tp + fn)\n",
    "    f1 = (2*P*R) / (P+R)\n",
    "    f1_scores.append((t, f1))\n",
    "\n",
    "top_f1s = pd.DataFrame(f1_scores, columns=['threshold', 'f1_score']).sort_values(by='f1_score', ascending=False, ignore_index=True).head(10)\n",
    "top_f1s.style.background_gradient(subset=['f1_score'], cmap='viridis')"
   ]
  },
  {
   "cell_type": "markdown",
   "id": "1063b8fd-06f6-4ed2-a6f9-c5ccac4769e4",
   "metadata": {},
   "source": [
    "**Answer:** *0.22*"
   ]
  },
  {
   "cell_type": "markdown",
   "id": "c9f686eb-7109-4d08-baa1-88bf1b6aa824",
   "metadata": {},
   "source": [
    "### Question 5: 5-Fold CV"
   ]
  },
  {
   "cell_type": "markdown",
   "id": "421da16f-bff9-49de-88d6-1e8d2ec4c389",
   "metadata": {},
   "source": [
    "Use the KFold class from Scikit-Learn to evaluate our model on 5 different folds:\n",
    "```\n",
    "KFold(n_splits=5, shuffle=True, random_state=1)\n",
    "```\n",
    "\n",
    "```\n",
    "1. Iterate over different folds of df_full_train\n",
    "2. Split the data into train and validation\n",
    "3. Train the model on train with these parameters: LogisticRegression(solver='liblinear', C=1.0, max_iter=1000)\n",
    "4. Use AUC to evaluate the model on validation\n",
    "```"
   ]
  },
  {
   "cell_type": "code",
   "execution_count": 110,
   "id": "ae2c1d2a-2c83-4e95-bb4a-70ba15e804d8",
   "metadata": {},
   "outputs": [
    {
     "data": {
      "text/plain": [
       "([0.9000379998658827,\n",
       "  0.8990203131901406,\n",
       "  0.9111601569466737,\n",
       "  0.9080148800731584,\n",
       "  0.91199007106869],\n",
       " 0.00549216538339563)"
      ]
     },
     "execution_count": 110,
     "metadata": {},
     "output_type": "execute_result"
    }
   ],
   "source": [
    "from sklearn.model_selection import KFold\n",
    "\n",
    "kfold = KFold(n_splits=5, shuffle=True, random_state=1)\n",
    "k_auc_scores = []\n",
    "for i, (train_idx, test_idx) in enumerate(kfold.split(df_train_full)):    \n",
    "    # get data sets\n",
    "    k_train = df_train_full.iloc[train_idx]\n",
    "    k_test = df_train_full.iloc[test_idx]\n",
    "\n",
    "    # extract y\n",
    "    k_train_y = k_train.y.values\n",
    "    k_test_y = k_test.y.values\n",
    "    del k_train['y']\n",
    "    del k_test['y']\n",
    "    \n",
    "    # one hot encoding\n",
    "    KX_train = kdv.transform(k_train.to_dict(orient='records'))\n",
    "    KX_test = kdv.transform(k_test.to_dict(orient='records'))\n",
    "\n",
    "    # train and test\n",
    "    kmodel = LogisticRegression(solver='liblinear', C=1.0, max_iter=1000)\n",
    "    kmodel.fit(KX_train, k_train_y)\n",
    "    k_preds = kmodel.predict_proba(KX_test)[:,1]\n",
    "    k_auc_scores.append(roc_auc_score(k_test_y, k_preds))\n",
    "\n",
    "k_auc_scores, np.std(k_auc_scores)"
   ]
  },
  {
   "cell_type": "markdown",
   "id": "e5373e97-2b7c-4816-a61b-990ea0b28e82",
   "metadata": {},
   "source": [
    "**Answer:** *0.00549216538339563*"
   ]
  },
  {
   "cell_type": "markdown",
   "id": "58370bf4-ee59-460a-a4fa-caa02818777e",
   "metadata": {},
   "source": [
    "### Question 6: Hyperparameter Tuning"
   ]
  },
  {
   "cell_type": "markdown",
   "id": "57fc8d56-e813-4af3-96fc-00665154e1a6",
   "metadata": {},
   "source": [
    "Now let's use 5-Fold cross-validation to find the best parameter C\n",
    "```\n",
    "Iterate over the following C values: [0.000001, 0.001, 1]\n",
    "Initialize KFold with the same parameters as previously\n",
    "Use these parameters for the model: LogisticRegression(solver='liblinear', C=C, max_iter=1000)\n",
    "Compute the mean score as well as the std (round the mean and std to 3 decimal digits)\n",
    "```"
   ]
  },
  {
   "cell_type": "code",
   "execution_count": 112,
   "id": "93b3a356-2000-40df-99f3-1242c4a64a97",
   "metadata": {},
   "outputs": [
    {
     "name": "stdout",
     "output_type": "stream",
     "text": [
      "Mean AUC 1e-06: 0.7014445869766514\n",
      "Standard Deviation: 0.009444095099939862\n",
      "Mean AUC 0.001: 0.8611122834072911\n",
      "Standard Deviation: 0.00702549578424966\n",
      "Mean AUC 1: 0.906044684228909\n",
      "Standard Deviation: 0.00549216538339563\n"
     ]
    }
   ],
   "source": [
    "# test hyperparameters(tuning)\n",
    "for C in [0.000001, 0.001, 1]:\n",
    "    c_auc_scores = []\n",
    "    for i, (train_idx, test_idx) in enumerate(kfold.split(df_train_full)):    \n",
    "        # get data sets\n",
    "        k_train = df_train_full.iloc[train_idx]\n",
    "        k_test = df_train_full.iloc[test_idx]\n",
    "    \n",
    "        # extract y\n",
    "        k_train_y = k_train.y.values\n",
    "        k_test_y = k_test.y.values\n",
    "        del k_train['y']\n",
    "        del k_test['y']\n",
    "        \n",
    "        # one hot encoding\n",
    "        KX_train = kdv.transform(k_train.to_dict(orient='records'))\n",
    "        KX_test = kdv.transform(k_test.to_dict(orient='records'))\n",
    "    \n",
    "        # train and test\n",
    "        kmodel = LogisticRegression(solver='liblinear', C=C, max_iter=1000)\n",
    "        kmodel.fit(KX_train, k_train_y)\n",
    "        k_preds = kmodel.predict_proba(KX_test)[:,1]\n",
    "        c_auc_scores.append(roc_auc_score(k_test_y, k_preds))\n",
    "        \n",
    "    print(f\"Mean AUC {C}: {np.mean(c_auc_scores)}\\nStandard Deviation: {np.std(c_auc_scores)}\") "
   ]
  },
  {
   "cell_type": "markdown",
   "id": "92c2dc9f-76ca-406e-aad7-5a25da9072ae",
   "metadata": {},
   "source": [
    "**Answer:** *Mean AUC 1: 0.906044684228909\n",
    "Standard Deviation: 0.00549216538339563*"
   ]
  }
 ],
 "metadata": {
  "kernelspec": {
   "display_name": "Python 3 (ipykernel)",
   "language": "python",
   "name": "python3"
  },
  "language_info": {
   "codemirror_mode": {
    "name": "ipython",
    "version": 3
   },
   "file_extension": ".py",
   "mimetype": "text/x-python",
   "name": "python",
   "nbconvert_exporter": "python",
   "pygments_lexer": "ipython3",
   "version": "3.11.9"
  }
 },
 "nbformat": 4,
 "nbformat_minor": 5
}
