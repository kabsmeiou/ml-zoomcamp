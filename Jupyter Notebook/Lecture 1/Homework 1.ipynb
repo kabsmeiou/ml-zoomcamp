{
 "cells": [
  {
   "cell_type": "markdown",
   "id": "0d55215c-9db2-45c0-8bb9-6eb921f07a5e",
   "metadata": {},
   "source": [
    "# Homework 1"
   ]
  },
  {
   "cell_type": "markdown",
   "id": "fdc29b80-34a3-4190-b0c0-a1e4c649b335",
   "metadata": {},
   "source": [
    "### Setting up"
   ]
  },
  {
   "cell_type": "code",
   "execution_count": 1,
   "id": "30bd36f9-49ee-4e35-abe6-2951c3c3c408",
   "metadata": {},
   "outputs": [],
   "source": [
    "import pandas as pd\n",
    "import numpy as np"
   ]
  },
  {
   "cell_type": "markdown",
   "id": "b1ed6115-c92f-4d56-b116-40e2e3c92786",
   "metadata": {},
   "source": [
    "Check pandas version"
   ]
  },
  {
   "cell_type": "code",
   "execution_count": 2,
   "id": "e8325fb1-98fb-4ede-97b4-c7820cd5bacd",
   "metadata": {},
   "outputs": [
    {
     "data": {
      "text/plain": [
       "'2.2.2'"
      ]
     },
     "execution_count": 2,
     "metadata": {},
     "output_type": "execute_result"
    }
   ],
   "source": [
    "pd.__version__"
   ]
  },
  {
   "cell_type": "markdown",
   "id": "42c16b79-6cf3-4273-8f5a-d5b726134957",
   "metadata": {},
   "source": [
    "import the dataset ***laptops.csv***"
   ]
  },
  {
   "cell_type": "code",
   "execution_count": 3,
   "id": "186e3a9a-c2ec-4e33-b03b-807745fdd529",
   "metadata": {},
   "outputs": [],
   "source": [
    "laptops = pd.read_csv(\"../../Datasets/laptops/laptops.csv\")"
   ]
  },
  {
   "cell_type": "code",
   "execution_count": 4,
   "id": "57fcf2a1-4361-4813-ae78-d8c275637240",
   "metadata": {},
   "outputs": [
    {
     "data": {
      "text/html": [
       "<div>\n",
       "<style scoped>\n",
       "    .dataframe tbody tr th:only-of-type {\n",
       "        vertical-align: middle;\n",
       "    }\n",
       "\n",
       "    .dataframe tbody tr th {\n",
       "        vertical-align: top;\n",
       "    }\n",
       "\n",
       "    .dataframe thead th {\n",
       "        text-align: right;\n",
       "    }\n",
       "</style>\n",
       "<table border=\"1\" class=\"dataframe\">\n",
       "  <thead>\n",
       "    <tr style=\"text-align: right;\">\n",
       "      <th></th>\n",
       "      <th>Laptop</th>\n",
       "      <th>Status</th>\n",
       "      <th>Brand</th>\n",
       "      <th>Model</th>\n",
       "      <th>CPU</th>\n",
       "      <th>RAM</th>\n",
       "      <th>Storage</th>\n",
       "      <th>Storage type</th>\n",
       "      <th>GPU</th>\n",
       "      <th>Screen</th>\n",
       "      <th>Touch</th>\n",
       "      <th>Final Price</th>\n",
       "    </tr>\n",
       "  </thead>\n",
       "  <tbody>\n",
       "    <tr>\n",
       "      <th>0</th>\n",
       "      <td>ASUS ExpertBook B1 B1502CBA-EJ0436X Intel Core...</td>\n",
       "      <td>New</td>\n",
       "      <td>Asus</td>\n",
       "      <td>ExpertBook</td>\n",
       "      <td>Intel Core i5</td>\n",
       "      <td>8</td>\n",
       "      <td>512</td>\n",
       "      <td>SSD</td>\n",
       "      <td>NaN</td>\n",
       "      <td>15.6</td>\n",
       "      <td>No</td>\n",
       "      <td>1009.00</td>\n",
       "    </tr>\n",
       "    <tr>\n",
       "      <th>1</th>\n",
       "      <td>Alurin Go Start Intel Celeron N4020/8GB/256GB ...</td>\n",
       "      <td>New</td>\n",
       "      <td>Alurin</td>\n",
       "      <td>Go</td>\n",
       "      <td>Intel Celeron</td>\n",
       "      <td>8</td>\n",
       "      <td>256</td>\n",
       "      <td>SSD</td>\n",
       "      <td>NaN</td>\n",
       "      <td>15.6</td>\n",
       "      <td>No</td>\n",
       "      <td>299.00</td>\n",
       "    </tr>\n",
       "    <tr>\n",
       "      <th>2</th>\n",
       "      <td>ASUS ExpertBook B1 B1502CBA-EJ0424X Intel Core...</td>\n",
       "      <td>New</td>\n",
       "      <td>Asus</td>\n",
       "      <td>ExpertBook</td>\n",
       "      <td>Intel Core i3</td>\n",
       "      <td>8</td>\n",
       "      <td>256</td>\n",
       "      <td>SSD</td>\n",
       "      <td>NaN</td>\n",
       "      <td>15.6</td>\n",
       "      <td>No</td>\n",
       "      <td>789.00</td>\n",
       "    </tr>\n",
       "    <tr>\n",
       "      <th>3</th>\n",
       "      <td>MSI Katana GF66 12UC-082XES Intel Core i7-1270...</td>\n",
       "      <td>New</td>\n",
       "      <td>MSI</td>\n",
       "      <td>Katana</td>\n",
       "      <td>Intel Core i7</td>\n",
       "      <td>16</td>\n",
       "      <td>1000</td>\n",
       "      <td>SSD</td>\n",
       "      <td>RTX 3050</td>\n",
       "      <td>15.6</td>\n",
       "      <td>No</td>\n",
       "      <td>1199.00</td>\n",
       "    </tr>\n",
       "    <tr>\n",
       "      <th>4</th>\n",
       "      <td>HP 15S-FQ5085NS Intel Core i5-1235U/16GB/512GB...</td>\n",
       "      <td>New</td>\n",
       "      <td>HP</td>\n",
       "      <td>15S</td>\n",
       "      <td>Intel Core i5</td>\n",
       "      <td>16</td>\n",
       "      <td>512</td>\n",
       "      <td>SSD</td>\n",
       "      <td>NaN</td>\n",
       "      <td>15.6</td>\n",
       "      <td>No</td>\n",
       "      <td>669.01</td>\n",
       "    </tr>\n",
       "  </tbody>\n",
       "</table>\n",
       "</div>"
      ],
      "text/plain": [
       "                                              Laptop Status   Brand  \\\n",
       "0  ASUS ExpertBook B1 B1502CBA-EJ0436X Intel Core...    New    Asus   \n",
       "1  Alurin Go Start Intel Celeron N4020/8GB/256GB ...    New  Alurin   \n",
       "2  ASUS ExpertBook B1 B1502CBA-EJ0424X Intel Core...    New    Asus   \n",
       "3  MSI Katana GF66 12UC-082XES Intel Core i7-1270...    New     MSI   \n",
       "4  HP 15S-FQ5085NS Intel Core i5-1235U/16GB/512GB...    New      HP   \n",
       "\n",
       "        Model            CPU  RAM  Storage Storage type       GPU  Screen  \\\n",
       "0  ExpertBook  Intel Core i5    8      512          SSD       NaN    15.6   \n",
       "1          Go  Intel Celeron    8      256          SSD       NaN    15.6   \n",
       "2  ExpertBook  Intel Core i3    8      256          SSD       NaN    15.6   \n",
       "3      Katana  Intel Core i7   16     1000          SSD  RTX 3050    15.6   \n",
       "4         15S  Intel Core i5   16      512          SSD       NaN    15.6   \n",
       "\n",
       "  Touch  Final Price  \n",
       "0    No      1009.00  \n",
       "1    No       299.00  \n",
       "2    No       789.00  \n",
       "3    No      1199.00  \n",
       "4    No       669.01  "
      ]
     },
     "execution_count": 4,
     "metadata": {},
     "output_type": "execute_result"
    }
   ],
   "source": [
    "laptops.head()"
   ]
  },
  {
   "cell_type": "markdown",
   "id": "a381d4fa-fdc7-4caf-954c-b8556e955b5c",
   "metadata": {},
   "source": [
    "### Homework"
   ]
  },
  {
   "cell_type": "code",
   "execution_count": 5,
   "id": "19f333eb-ddbf-4bfb-9078-6aae28f09b1f",
   "metadata": {},
   "outputs": [
    {
     "data": {
      "text/plain": [
       "Laptop          2160\n",
       "Status          2160\n",
       "Brand           2160\n",
       "Model           2160\n",
       "CPU             2160\n",
       "RAM             2160\n",
       "Storage         2160\n",
       "Storage type    2118\n",
       "GPU              789\n",
       "Screen          2156\n",
       "Touch           2160\n",
       "Final Price     2160\n",
       "dtype: int64"
      ]
     },
     "execution_count": 5,
     "metadata": {},
     "output_type": "execute_result"
    }
   ],
   "source": [
    "laptops.count()"
   ]
  },
  {
   "cell_type": "markdown",
   "id": "0b70707e-5766-4cbf-bdf4-bd9a29e05b35",
   "metadata": {},
   "source": [
    "I want to confirm the number of values in *GPU*.\\\n",
    "The code below is how I thought of doing it."
   ]
  },
  {
   "cell_type": "code",
   "execution_count": 6,
   "id": "73fc84da-8b2f-4294-8a36-4dac224221fc",
   "metadata": {},
   "outputs": [
    {
     "data": {
      "text/plain": [
       "2160"
      ]
     },
     "execution_count": 6,
     "metadata": {},
     "output_type": "execute_result"
    }
   ],
   "source": [
    "# count number of null values and add to the count of values\n",
    "laptops['GPU'].isnull().sum() + laptops['GPU'].count()"
   ]
  },
  {
   "cell_type": "markdown",
   "id": "b83d96f0-e608-4bf6-b42a-d9b61417112c",
   "metadata": {},
   "source": [
    "To find the laptop brands. I think ***.unique()*** function should work"
   ]
  },
  {
   "cell_type": "code",
   "execution_count": 7,
   "id": "25f29ab1-a89c-4f6b-88ba-cf5a5aca145a",
   "metadata": {},
   "outputs": [],
   "source": [
    "# features list\n",
    "features = laptops.columns"
   ]
  },
  {
   "cell_type": "markdown",
   "id": "a2c3a471-3e33-4d69-84f5-cc60294d8527",
   "metadata": {},
   "source": [
    "I decided to create a list of features so that I won't have to type the string every single time. I just need to type in the index\n"
   ]
  },
  {
   "cell_type": "code",
   "execution_count": 8,
   "id": "d5c2c2b5-4f78-4a1d-8f74-15ea6639c71d",
   "metadata": {},
   "outputs": [
    {
     "data": {
      "text/plain": [
       "array(['Asus', 'Alurin', 'MSI', 'HP', 'Lenovo', 'Medion', 'Acer', 'Apple',\n",
       "       'Razer', 'Gigabyte', 'Dell', 'LG', 'Samsung', 'PcCom', 'Microsoft',\n",
       "       'Primux', 'Prixton', 'Dynabook Toshiba', 'Thomson', 'Denver',\n",
       "       'Deep Gaming', 'Vant', 'Innjoo', 'Jetwing', 'Millenium', 'Realme',\n",
       "       'Toshiba'], dtype=object)"
      ]
     },
     "execution_count": 8,
     "metadata": {},
     "output_type": "execute_result"
    }
   ],
   "source": [
    "laptops[features[2]].unique()"
   ]
  },
  {
   "cell_type": "markdown",
   "id": "f485e8a1-5397-4c14-84de-caeaef1bc606",
   "metadata": {},
   "source": [
    "It seems that ***.unique()*** only returns the array of unique values. Since it is an array, we can probably use the ***.size*** method"
   ]
  },
  {
   "cell_type": "code",
   "execution_count": 9,
   "id": "e24d5a58-8e0a-4a06-86f3-ad58ec12d97c",
   "metadata": {},
   "outputs": [
    {
     "data": {
      "text/plain": [
       "27"
      ]
     },
     "execution_count": 9,
     "metadata": {},
     "output_type": "execute_result"
    }
   ],
   "source": [
    "laptops[features[2]].unique().size"
   ]
  },
  {
   "cell_type": "markdown",
   "id": "7cb790ec-1afd-4e08-938b-331f615f5be3",
   "metadata": {},
   "source": [
    "Wait, I want to make sure that there are no unique values but somehow the strings doesn't match because of casing.\\\n",
    "For that, i can try using ***.lower()*** first before counting the unique values."
   ]
  },
  {
   "cell_type": "code",
   "execution_count": 10,
   "id": "0a359977-69d4-4c9b-8be9-9be8b54b87ab",
   "metadata": {},
   "outputs": [
    {
     "data": {
      "text/plain": [
       "27"
      ]
     },
     "execution_count": 10,
     "metadata": {},
     "output_type": "execute_result"
    }
   ],
   "source": [
    "laptops[features[2]].str.lower().unique().size"
   ]
  },
  {
   "cell_type": "markdown",
   "id": "b1590184-6f51-4323-b283-efcaa19289e6",
   "metadata": {},
   "source": [
    "Cool. So there are only **27** brands in this DataFrame."
   ]
  },
  {
   "cell_type": "markdown",
   "id": "13713a19-56d9-40b5-9df1-793f431f0495",
   "metadata": {},
   "source": [
    "Now we are asked to find how many columns have missing values. I can definitely use ***.isnull()*** for this.\\\n",
    "From the looks of it, there's only 1 column with missing values. I'm gonna have to confirm it first."
   ]
  },
  {
   "cell_type": "code",
   "execution_count": 11,
   "id": "54f1e87a-1ada-4fbc-8b94-a8ef1c26c3b8",
   "metadata": {},
   "outputs": [
    {
     "data": {
      "text/plain": [
       "Laptop             0\n",
       "Status             0\n",
       "Brand              0\n",
       "Model              0\n",
       "CPU                0\n",
       "RAM                0\n",
       "Storage            0\n",
       "Storage type      42\n",
       "GPU             1371\n",
       "Screen             4\n",
       "Touch              0\n",
       "Final Price        0\n",
       "dtype: int64"
      ]
     },
     "execution_count": 11,
     "metadata": {},
     "output_type": "execute_result"
    }
   ],
   "source": [
    "# laptops.isnull().sum() > 0\n",
    "laptops.isnull().sum()"
   ]
  },
  {
   "cell_type": "markdown",
   "id": "ea6386e4-80ad-4df0-8ff3-1b389f3728fa",
   "metadata": {},
   "source": [
    "Turns out there's three."
   ]
  },
  {
   "cell_type": "markdown",
   "id": "f3352efe-14fd-4826-9892-54bac29fca0c",
   "metadata": {},
   "source": [
    "How about finding the maximum final price of Dell notebooks in the dataset?\\\n",
    "I think some filtering is needed for this. It goes like:\n",
    "```\n",
    "SELECT\n",
    "    max('Screen')\n",
    "FROM\n",
    "    laptops\n",
    "WHERE\n",
    "    BRAND='DELL'\n",
    "```"
   ]
  },
  {
   "cell_type": "code",
   "execution_count": 24,
   "id": "92857a4d-f435-4a8f-86cc-8f5b1974938f",
   "metadata": {},
   "outputs": [
    {
     "data": {
      "text/plain": [
       "array(['Vostro', 'Latitude', 'XPS', 'Precision'], dtype=object)"
      ]
     },
     "execution_count": 24,
     "metadata": {},
     "output_type": "execute_result"
    }
   ],
   "source": [
    "laptops[laptops['Brand'] == 'Dell'].Model.unique()"
   ]
  },
  {
   "cell_type": "markdown",
   "id": "255bc3f4-8a36-4056-bcf6-e254058fc995",
   "metadata": {},
   "source": [
    "Ok, that works but it's not enough to get our answer since we need the maximum final price."
   ]
  },
  {
   "cell_type": "code",
   "execution_count": 26,
   "id": "5d566a1d-0c7f-4173-92db-c4ba2c082ffc",
   "metadata": {},
   "outputs": [
    {
     "data": {
      "text/plain": [
       "3936.0"
      ]
     },
     "execution_count": 26,
     "metadata": {},
     "output_type": "execute_result"
    }
   ],
   "source": [
    "# since our code above returns another dataframe, we can index it again\n",
    "# then add .max() to get the maximum value in it.\n",
    "max(laptops[laptops['Brand'] == 'Dell']['Final Price'].values)"
   ]
  },
  {
   "cell_type": "markdown",
   "id": "cc3eb10f-8330-412c-9826-8d17611e665c",
   "metadata": {},
   "source": [
    "Next, we have to do the following:\n",
    "```\n",
    "1. Find the median value of Screen column in the dataset.\n",
    "2. Next, calculate the most frequent value of the same Screen column.\n",
    "3. Use fillna method to fill the missing values in Screen column with the most frequent value from the previous step.\n",
    "4. Now, calculate the median value of Screen once again.\n",
    "```"
   ]
  },
  {
   "cell_type": "markdown",
   "id": "9c7425b6-6e08-4b88-8800-3891f8626f56",
   "metadata": {},
   "source": [
    "```\n",
    "1. Find the median value of Screen column in the dataset.\n",
    "```\n",
    "To do this, maybe there is a median() function?"
   ]
  },
  {
   "cell_type": "code",
   "execution_count": 14,
   "id": "7ea2a112-3ccb-40ca-aa4b-89dd7458c7e9",
   "metadata": {},
   "outputs": [
    {
     "data": {
      "text/plain": [
       "15.6"
      ]
     },
     "execution_count": 14,
     "metadata": {},
     "output_type": "execute_result"
    }
   ],
   "source": [
    "laptops['Screen'].median()"
   ]
  },
  {
   "cell_type": "markdown",
   "id": "e8f621b2-4066-431b-b24d-45df589a4036",
   "metadata": {},
   "source": [
    "For #2, maybe there is also a mode() function?"
   ]
  },
  {
   "cell_type": "code",
   "execution_count": 15,
   "id": "46bf74fb-7640-4bfc-b50f-5f183dc1b69c",
   "metadata": {},
   "outputs": [
    {
     "name": "stdout",
     "output_type": "stream",
     "text": [
      "0    15.6\n",
      "Name: Screen, dtype: float64\n",
      "1\n"
     ]
    }
   ],
   "source": [
    "print(laptops['Screen'].mode())\n",
    "print(laptops['Screen'].mode().size)"
   ]
  },
  {
   "cell_type": "markdown",
   "id": "e00a767f-5e0f-4936-9fd4-963fded61d18",
   "metadata": {},
   "source": [
    "Weird, why does it show \"0 15.6\"?"
   ]
  },
  {
   "cell_type": "code",
   "execution_count": 16,
   "id": "8b2c5c2b-15e9-4bca-bd4f-30256d6a8d9c",
   "metadata": {},
   "outputs": [
    {
     "name": "stdout",
     "output_type": "stream",
     "text": [
      "     0     1      2       3\n",
      "0  8.0  15.6  512.0  1009.0\n"
     ]
    }
   ],
   "source": [
    "# https://pandas.pydata.org/docs/reference/api/pandas.DataFrame.mode.html\n",
    "# after checking it, seems like 0 is an axis?\n",
    "# I wanna try something\n",
    "print(laptops.mode(axis='columns', numeric_only=True).head(1))"
   ]
  },
  {
   "cell_type": "markdown",
   "id": "df27efbd-8bb5-4d08-a189-709ce1e0148d",
   "metadata": {},
   "source": [
    "I see! so it is an axis."
   ]
  },
  {
   "cell_type": "markdown",
   "id": "e51f4518-5c77-45db-a2ef-3c75aaafd964",
   "metadata": {},
   "source": [
    "For #3, I want to first see what fillna does"
   ]
  },
  {
   "cell_type": "code",
   "execution_count": 17,
   "id": "cc46f746-3ddd-4d8f-8cd6-f2b059e296b5",
   "metadata": {
    "scrolled": true
   },
   "outputs": [
    {
     "name": "stdout",
     "output_type": "stream",
     "text": [
      "Help on method fillna in module pandas.core.generic:\n",
      "\n",
      "fillna(value: 'Hashable | Mapping | Series | DataFrame | None' = None, *, method: 'FillnaOptions | None' = None, axis: 'Axis | None' = None, inplace: 'bool_t' = False, limit: 'int | None' = None, downcast: 'dict | None | lib.NoDefault' = <no_default>) -> 'Self | None' method of pandas.core.frame.DataFrame instance\n",
      "    Fill NA/NaN values using the specified method.\n",
      "    \n",
      "    Parameters\n",
      "    ----------\n",
      "    value : scalar, dict, Series, or DataFrame\n",
      "        Value to use to fill holes (e.g. 0), alternately a\n",
      "        dict/Series/DataFrame of values specifying which value to use for\n",
      "        each index (for a Series) or column (for a DataFrame).  Values not\n",
      "        in the dict/Series/DataFrame will not be filled. This value cannot\n",
      "        be a list.\n",
      "    method : {'backfill', 'bfill', 'ffill', None}, default None\n",
      "        Method to use for filling holes in reindexed Series:\n",
      "    \n",
      "        * ffill: propagate last valid observation forward to next valid.\n",
      "        * backfill / bfill: use next valid observation to fill gap.\n",
      "    \n",
      "        .. deprecated:: 2.1.0\n",
      "            Use ffill or bfill instead.\n",
      "    \n",
      "    axis : {0 or 'index'} for Series, {0 or 'index', 1 or 'columns'} for DataFrame\n",
      "        Axis along which to fill missing values. For `Series`\n",
      "        this parameter is unused and defaults to 0.\n",
      "    inplace : bool, default False\n",
      "        If True, fill in-place. Note: this will modify any\n",
      "        other views on this object (e.g., a no-copy slice for a column in a\n",
      "        DataFrame).\n",
      "    limit : int, default None\n",
      "        If method is specified, this is the maximum number of consecutive\n",
      "        NaN values to forward/backward fill. In other words, if there is\n",
      "        a gap with more than this number of consecutive NaNs, it will only\n",
      "        be partially filled. If method is not specified, this is the\n",
      "        maximum number of entries along the entire axis where NaNs will be\n",
      "        filled. Must be greater than 0 if not None.\n",
      "    downcast : dict, default is None\n",
      "        A dict of item->dtype of what to downcast if possible,\n",
      "        or the string 'infer' which will try to downcast to an appropriate\n",
      "        equal type (e.g. float64 to int64 if possible).\n",
      "    \n",
      "        .. deprecated:: 2.2.0\n",
      "    \n",
      "    Returns\n",
      "    -------\n",
      "    Series/DataFrame or None\n",
      "        Object with missing values filled or None if ``inplace=True``.\n",
      "    \n",
      "    See Also\n",
      "    --------\n",
      "    ffill : Fill values by propagating the last valid observation to next valid.\n",
      "    bfill : Fill values by using the next valid observation to fill the gap.\n",
      "    interpolate : Fill NaN values using interpolation.\n",
      "    reindex : Conform object to new index.\n",
      "    asfreq : Convert TimeSeries to specified frequency.\n",
      "    \n",
      "    Examples\n",
      "    --------\n",
      "    >>> df = pd.DataFrame([[np.nan, 2, np.nan, 0],\n",
      "    ...                    [3, 4, np.nan, 1],\n",
      "    ...                    [np.nan, np.nan, np.nan, np.nan],\n",
      "    ...                    [np.nan, 3, np.nan, 4]],\n",
      "    ...                   columns=list(\"ABCD\"))\n",
      "    >>> df\n",
      "         A    B   C    D\n",
      "    0  NaN  2.0 NaN  0.0\n",
      "    1  3.0  4.0 NaN  1.0\n",
      "    2  NaN  NaN NaN  NaN\n",
      "    3  NaN  3.0 NaN  4.0\n",
      "    \n",
      "    Replace all NaN elements with 0s.\n",
      "    \n",
      "    >>> df.fillna(0)\n",
      "         A    B    C    D\n",
      "    0  0.0  2.0  0.0  0.0\n",
      "    1  3.0  4.0  0.0  1.0\n",
      "    2  0.0  0.0  0.0  0.0\n",
      "    3  0.0  3.0  0.0  4.0\n",
      "    \n",
      "    Replace all NaN elements in column 'A', 'B', 'C', and 'D', with 0, 1,\n",
      "    2, and 3 respectively.\n",
      "    \n",
      "    >>> values = {\"A\": 0, \"B\": 1, \"C\": 2, \"D\": 3}\n",
      "    >>> df.fillna(value=values)\n",
      "         A    B    C    D\n",
      "    0  0.0  2.0  2.0  0.0\n",
      "    1  3.0  4.0  2.0  1.0\n",
      "    2  0.0  1.0  2.0  3.0\n",
      "    3  0.0  3.0  2.0  4.0\n",
      "    \n",
      "    Only replace the first NaN element.\n",
      "    \n",
      "    >>> df.fillna(value=values, limit=1)\n",
      "         A    B    C    D\n",
      "    0  0.0  2.0  2.0  0.0\n",
      "    1  3.0  4.0  NaN  1.0\n",
      "    2  NaN  1.0  NaN  3.0\n",
      "    3  NaN  3.0  NaN  4.0\n",
      "    \n",
      "    When filling using a DataFrame, replacement happens along\n",
      "    the same column names and same indices\n",
      "    \n",
      "    >>> df2 = pd.DataFrame(np.zeros((4, 4)), columns=list(\"ABCE\"))\n",
      "    >>> df.fillna(df2)\n",
      "         A    B    C    D\n",
      "    0  0.0  2.0  0.0  0.0\n",
      "    1  3.0  4.0  0.0  1.0\n",
      "    2  0.0  0.0  0.0  NaN\n",
      "    3  0.0  3.0  0.0  4.0\n",
      "    \n",
      "    Note that column D is not affected since it is not present in df2.\n",
      "\n"
     ]
    }
   ],
   "source": [
    "help(laptops.fillna)"
   ]
  },
  {
   "cell_type": "markdown",
   "id": "e91afc30-fa3d-404b-9c15-0f361de8c4a3",
   "metadata": {},
   "source": [
    "What would happen if I pass the result of .mode() as a parameter?"
   ]
  },
  {
   "cell_type": "code",
   "execution_count": 18,
   "id": "ee5dcc82-250d-4707-a00c-6b2c9ede7d50",
   "metadata": {},
   "outputs": [],
   "source": [
    "# get first element of mode\n",
    "mode = laptops['Screen'].mode()[0]\n",
    "# fill up null values and overwrite laptops\n",
    "laptops['Screen'] = laptops['Screen'].fillna(mode)"
   ]
  },
  {
   "cell_type": "code",
   "execution_count": 19,
   "id": "349e59bb-993e-4cb5-a3e1-41c4b724276f",
   "metadata": {},
   "outputs": [
    {
     "data": {
      "text/plain": [
       "Laptop          2160\n",
       "Status          2160\n",
       "Brand           2160\n",
       "Model           2160\n",
       "CPU             2160\n",
       "RAM             2160\n",
       "Storage         2160\n",
       "Storage type    2118\n",
       "GPU              789\n",
       "Screen          2160\n",
       "Touch           2160\n",
       "Final Price     2160\n",
       "dtype: int64"
      ]
     },
     "execution_count": 19,
     "metadata": {},
     "output_type": "execute_result"
    }
   ],
   "source": [
    "laptops.count()"
   ]
  },
  {
   "cell_type": "markdown",
   "id": "3c8e1671-3530-402f-b3aa-8ae75f0253ce",
   "metadata": {},
   "source": [
    "Seems like it worked but what I need is to see if the median changed after that operation.\\\n",
    "I can just add ***.median()*** again to that line of code"
   ]
  },
  {
   "cell_type": "code",
   "execution_count": 20,
   "id": "55921b03-083e-4f29-8bc4-ce42703e1725",
   "metadata": {},
   "outputs": [
    {
     "data": {
      "text/plain": [
       "15.6"
      ]
     },
     "execution_count": 20,
     "metadata": {},
     "output_type": "execute_result"
    }
   ],
   "source": [
    "laptops['Screen'].median()"
   ]
  },
  {
   "cell_type": "markdown",
   "id": "a187c6cb-73bd-4b1e-a353-80efe3f22e44",
   "metadata": {},
   "source": [
    "It didn't change!"
   ]
  },
  {
   "cell_type": "markdown",
   "id": "de9717d7-903a-4b74-807b-58364f763404",
   "metadata": {},
   "source": [
    "Alright, for the last task, we have this:\n",
    "```\n",
    "1. Select all the \"Innjoo\" laptops from the dataset.\n",
    "2. Select only columns RAM, Storage, Screen.\n",
    "3. Get the underlying NumPy array. Let's call it X.\n",
    "4. Compute matrix-matrix multiplication between the transpose of X and X. To get the transpose, use X.T. Let's call the result XTX.\n",
    "5. Compute the inverse of XTX.\n",
    "6. Create an array y with values [1100, 1300, 800, 900, 1000, 1100].\n",
    "7. Multiply the inverse of XTX with the transpose of X, and then multiply the result by y. Call the result w.\n",
    "8. What's the sum of all the elements of the result?\n",
    "```"
   ]
  },
  {
   "cell_type": "code",
   "execution_count": 21,
   "id": "d2084661-4a9a-41db-8587-f3efb6680e8b",
   "metadata": {},
   "outputs": [
    {
     "data": {
      "text/plain": [
       "'91.30'"
      ]
     },
     "execution_count": 21,
     "metadata": {},
     "output_type": "execute_result"
    }
   ],
   "source": [
    "## select all the \"Innjoo\" laptops from the dataset.\n",
    "innjoo_dataset = laptops[laptops['Brand'] == \"Innjoo\"]\n",
    "\n",
    "## select only columns RAM, Storage\n",
    "features = ['RAM', 'Storage', 'Screen']\n",
    "\n",
    "## get the underlying NumPy array and call it X\n",
    "X = innjoo_dataset[features].values\n",
    "\n",
    "## matrix-matrix multiplication between the transpose of X and X\n",
    "# assign transpose to XT\n",
    "XT = X.T\n",
    "# multiply matrices and assign to XTX\n",
    "XTX = XT.dot(X)\n",
    "\n",
    "## compute for the inverse of XTX\n",
    "XTX_inv = np.linalg.inv(XTX)\n",
    "\n",
    "## create an array y with values [1100, 1300, 800, 900, 1000, 1100]\n",
    "y = [1100, 1300, 800, 900, 1000, 1100]\n",
    "\n",
    "## multiply the inverse of XTX with the transpose of X\n",
    "UV = XTX_inv.dot(XT)\n",
    "    \n",
    "## and then multiply the result by y. Assign to 'w'\n",
    "w = UV.dot(y)\n",
    "\n",
    "# display sum of w rounded to 2 with 2 decimal places\n",
    "\"{:.2f}\".format(w.sum().round(2))"
   ]
  }
 ],
 "metadata": {
  "kernelspec": {
   "display_name": "Python 3 (ipykernel)",
   "language": "python",
   "name": "python3"
  },
  "language_info": {
   "codemirror_mode": {
    "name": "ipython",
    "version": 3
   },
   "file_extension": ".py",
   "mimetype": "text/x-python",
   "name": "python",
   "nbconvert_exporter": "python",
   "pygments_lexer": "ipython3",
   "version": "3.11.9"
  }
 },
 "nbformat": 4,
 "nbformat_minor": 5
}
